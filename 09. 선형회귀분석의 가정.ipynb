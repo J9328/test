{
 "cells": [
  {
   "cell_type": "markdown",
   "id": "8b865722",
   "metadata": {},
   "source": [
    "# 09. 선형회귀분석의 가정"
   ]
  },
  {
   "cell_type": "markdown",
   "id": "47f5c41a",
   "metadata": {},
   "source": [
    "선형회귀모형이 성립되기 위해서는 몇가지 통계적 가정이 필요.    \n",
    "회귀모형의 가정을 확인하여 주어진 데이터가 가정을 잘 충족시키고 있는지 확인하여 가설검정이 제대로 이루어졌는지 확인.   \n",
    "이러한 과정을 일반적으로 잔차분석이라 함.   \n",
    "\n",
    "## 1. 선형회귀 분석의 가정\n",
    "\n",
    "회귀모형의 가정들이 적합한지 확인하는 과정을 통해 선형회귀분석을 통한 가설검정이 제대로 이루어졌는지 확인 가능\n",
    "\n",
    "선형회귀모형.    \n",
    "$$Y = \\beta X + \\epsilon, \\epsilon \\sim N(0, I \\sigma ^2)$$\n",
    "\n",
    "최소제곱법에 의한 회귀계수 추정량.   \n",
    "$$\\hat \\beta = (X^\\prime X)^{-1} X^\\prime y$$\n",
    "\n",
    "\n",
    "선형회귀분석 가정     \n",
    "참고) https://kkokkilkon.tistory.com/175\n",
    "\n",
    "1. $E(\\epsilon_i) = 0$ (선형성)\n",
    "2. $Var(\\epsilon_i) = \\sigma ^2$ (등분산성)\n",
    "3. $\\epsilon_i$는 서로 독립임 (독립성)\n",
    "4. $\\epsilon_i$는 모든 i에 대해 정규분포를 따름(정규성)   \n",
    "\n",
    "**선형회귀 모형에서 가정한 오차의 정규성, 입력성, 등분산성이 성립되어야 함**    \n",
    "**이러한 오차의 가정에 대한 검토는 잔차라고 하는** $y$ **와** $\\hat y$ **간의 차이를 통해서 확인 할 수 있음.** \n",
    "\n",
    "\n",
    "### 모형의 선형성\n",
    "- 자료의 산점도를 그려보거나 선형회귀모형을 적합한 후에 잔차를 각 설명변수 또는 반응변수에 대해 그려봄으로써 추측할 수 있음.    \n",
    "\n",
    "- 회귀직선모형의 타당성과 오차의 등분산성 성립 시 설명변수에 대한 잔차 산점도 또는 반응변수에 대한 잔차 산점도에서 잔차는 0을 중심으로 랜덤하게 나타남.  \n",
    "\n",
    "\n",
    "### 오차항의 정규성  \n",
    "- 오차항의 확률분포가 정규분포에서 많이 벗어나는 경우는 정규성을 가정한 가설검정 등의 추론을 할 수 없음.  \n",
    "\n",
    "- 오차항의 정규성 점검방법: 잔차들에 대해 분위수 대 분위수 그림(Q-Q plot) $\\rightarrow$ Q-Q plot의 형태가 45도 기울기의 직선 근처에 있으면 정규성을 크게 벗어나지 않는다고 판단.   \n",
    "- Shapiro-Wilks 검정 등의 검정통계량을 통해서도 오차항의 정규성 확인 가능.  \n",
    "\n",
    "\n",
    "### 오차항의 독립성\n",
    "- 오차항의 독립성을 만족하지 않으면 앞 시점의 오차가 뒷 시점의 오차에 영향으 ㄹ주기 때문에 입력변수가 출력변수에 미치는 영향을 제대로 파악할 수 없음.  \n",
    "\n",
    "- 오차항의 독립성을 확인하기 위해서 연속적인 잔차의 쌍($e_{i-1}, e_i$)들의 산점도를 그려서 특별한 경향이 나타나지 않으면 \"독립\"이라고 판단함.   \n",
    "\n",
    "- Durbin-Watson 검정과 같은 검정통계량을 통해서도 오차항의 독립성을 확인할 수 있음.   \n",
    "\n",
    "\n",
    "### 오차항의 등분산성  \n",
    "- 선형회귀분석에 의해 예측된 값이 어떻든지, 모든 값들에 대하여 잔차의 분산은 동일하다고 가정.   \n",
    "\n",
    "- 오차항의 등분산성도 모형의 선형성과 마찬가지로 예측값과 잔차의 경향선을 그렸을 때 그 형태가 수평선에 가까운, 특별한 경향을 가지지 않을 때 오차항의 등분산성을 만족한다고 판단함.   \n",
    "\n"
   ]
  },
  {
   "cell_type": "markdown",
   "id": "82615e09",
   "metadata": {},
   "source": [
    "## 2. 선형회귀모형의 가정 확인하기"
   ]
  },
  {
   "cell_type": "markdown",
   "id": "f17be875",
   "metadata": {},
   "source": [
    "### 2-1. 상관분석\n",
    "corr()함수를 사용할 경우 p-value 확인 불가능. \n",
    "주로 피어슨 상관분석과 스피어만 순위상관분석 등을 사용. \n",
    "\n",
    "> from scipy.stats import pearsonr, spearmanr\n",
    "\n",
    "> pearsonr([변수명1, 변수명2])\n",
    "\n",
    "> spearmanr([변수명1, 변수명2])\n",
    "\n",
    "상관분석 결과를 히트맵을 이용해 시각화하여 확인.  \n",
    "\n",
    "> import seaborn as sns\n",
    "\n",
    "> sns.heatmap(데이터프레인.corr(method=\"pearson\"), annot=True/False, cmap='색상', vmin=-1, vmax=1)\n",
    "\n",
    "\n",
    "### 2-2. 모형의 선형성 확인\n",
    "선형모형에 의해 예측된 결과값과 잔차 비교를 통해서 확인.   \n",
    "예측된 결과값(X축)과 잔차(Y축)을 그렸을 때 경향선이 0의 값을 중심으로 직선의 형태로 나타나야 함.   \n",
    "경향선이 0의 값을 중심으로 크게 벗어나 있다면 모형은 선형성이 없다고 판단.   \n",
    "\n",
    "\n",
    "seaborn 모듈의 regplot()함수를 이용해 산점도를 그려 확인 가능. \n",
    "\n",
    "> import matplotlib.pyplot as plt\n",
    "\n",
    "> import seaborn as sns\n",
    "\n",
    "> sns.regplot(예측값, 잔차, line_kws={'color':'red'})\n",
    "\n",
    "> plt.plot([예측값 최소값, 예측값 최대값], [0,0], '--', color='grey')\n",
    "\n",
    "\n",
    "### 2-3. 잔차의 정규성\n",
    "Q-Q plot: 검정하고자 하는 분포의 분위수의 값을 이용하여 확인하는 방법으로 산점도가 직선의 형태로 나타날 때 정규분포를 따른다고 판단. \n",
    "\n",
    "> from scipy.stats import zscore, probplot\n",
    "\n",
    "> import matplotlib.pyplot as plt\n",
    "\n",
    "> import seaborn as sns\n",
    "\n",
    "> 객체명 = zscore(잔차); (x, y),_ = probplot(객체명)\n",
    "\n",
    "probplot(객체명)에는 Q-Q plot을 그리기 위한 값인 분위수 값과 표준화 잔차값만 객체명을 각각 지정하여 할당.  \n",
    "\n",
    "> sns.scatterplot(x,y)\n",
    "\n",
    "> plt.plot([-3,3],[-3,3]), '--', color='grey')\n",
    "\n",
    "plt.plot를 이용하여 Q-Q plot을 통한 정규성을 판단하기 위한 보조선 생성\n",
    "\n",
    "\n",
    "### 2-4. 잔차의 등분산성\n",
    "선형회귀분석에 의해 예측된 값이 모든 값들에 대하여 잔차의 분산은 동일하다는 가정.  \n",
    "예측값에 따른 잔차 변화를 시각화하여 확인 $\\rightarrow$ 예측값과 잔차의 경향선이 수평선에 가까울수록 잔차의 등분산성 만족. \n",
    "\n",
    "> from scipy.stats import zscore, probplot\n",
    "\n",
    "> import seaborn as sns\n",
    "\n",
    "> from numpy import sqrt, abs\n",
    "\n",
    "> sns.regplot(예측값, sqrt(abs(zscore(잔차)), line_kws={'color':'red'})\n",
    "\n",
    "\n",
    "### 2-5. 잔차의 입력성  \n",
    "회귀모형을 적합시킨 결과에서 Durbin-Watson값으로 확인가능.  \n",
    "Durbin-Watson값 확인은 statsmodels.formula.api모듈의 ols().fit()함수를 통해 나타난 결과에서 확인할 수 있음.  \n",
    "\n",
    "\n",
    "### 2-6. 선형회귀분석 가정 확인예제\n",
    "acceleration을 예측하기 위한 displacement, horsepower, weight를 사용한 회귀모형의 잔차분석\n"
   ]
  },
  {
   "cell_type": "code",
   "execution_count": 1,
   "id": "9ecd4592",
   "metadata": {},
   "outputs": [],
   "source": [
    "import seaborn as sns"
   ]
  },
  {
   "cell_type": "code",
   "execution_count": 2,
   "id": "312c284a",
   "metadata": {},
   "outputs": [],
   "source": [
    "df = sns.load_dataset('mpg')"
   ]
  },
  {
   "cell_type": "code",
   "execution_count": 3,
   "id": "4204ec57",
   "metadata": {},
   "outputs": [
    {
     "name": "stdout",
     "output_type": "stream",
     "text": [
      "<class 'pandas.core.frame.DataFrame'>\n",
      "RangeIndex: 398 entries, 0 to 397\n",
      "Data columns (total 9 columns):\n",
      " #   Column        Non-Null Count  Dtype  \n",
      "---  ------        --------------  -----  \n",
      " 0   mpg           398 non-null    float64\n",
      " 1   cylinders     398 non-null    int64  \n",
      " 2   displacement  398 non-null    float64\n",
      " 3   horsepower    392 non-null    float64\n",
      " 4   weight        398 non-null    int64  \n",
      " 5   acceleration  398 non-null    float64\n",
      " 6   model_year    398 non-null    int64  \n",
      " 7   origin        398 non-null    object \n",
      " 8   name          398 non-null    object \n",
      "dtypes: float64(4), int64(3), object(2)\n",
      "memory usage: 28.1+ KB\n"
     ]
    }
   ],
   "source": [
    "df.info()"
   ]
  },
  {
   "cell_type": "markdown",
   "id": "9f26149f",
   "metadata": {},
   "source": [
    "horsepower에서 결측값이 있는 것으로 확인되므로 dropna()함수를 써서 결측값을 제거"
   ]
  },
  {
   "cell_type": "code",
   "execution_count": 4,
   "id": "3cd1b82c",
   "metadata": {},
   "outputs": [],
   "source": [
    "df = df.dropna(subset=['horsepower'], how='any', axis=0)"
   ]
  },
  {
   "cell_type": "code",
   "execution_count": 5,
   "id": "f6bc8d07",
   "metadata": {},
   "outputs": [
    {
     "name": "stdout",
     "output_type": "stream",
     "text": [
      "<class 'pandas.core.frame.DataFrame'>\n",
      "Int64Index: 392 entries, 0 to 397\n",
      "Data columns (total 9 columns):\n",
      " #   Column        Non-Null Count  Dtype  \n",
      "---  ------        --------------  -----  \n",
      " 0   mpg           392 non-null    float64\n",
      " 1   cylinders     392 non-null    int64  \n",
      " 2   displacement  392 non-null    float64\n",
      " 3   horsepower    392 non-null    float64\n",
      " 4   weight        392 non-null    int64  \n",
      " 5   acceleration  392 non-null    float64\n",
      " 6   model_year    392 non-null    int64  \n",
      " 7   origin        392 non-null    object \n",
      " 8   name          392 non-null    object \n",
      "dtypes: float64(4), int64(3), object(2)\n",
      "memory usage: 30.6+ KB\n"
     ]
    }
   ],
   "source": [
    "df.info()"
   ]
  },
  {
   "cell_type": "code",
   "execution_count": 6,
   "id": "ce6834b8",
   "metadata": {},
   "outputs": [],
   "source": [
    "from statsmodels.formula.api import ols"
   ]
  },
  {
   "cell_type": "code",
   "execution_count": 7,
   "id": "ffc73085",
   "metadata": {},
   "outputs": [],
   "source": [
    "formula = 'acceleration ~ displacement + horsepower + weight'\n",
    "result = ols(formula = formula, data = df).fit()"
   ]
  },
  {
   "cell_type": "code",
   "execution_count": 8,
   "id": "3b901a90",
   "metadata": {},
   "outputs": [
    {
     "data": {
      "text/html": [
       "<table class=\"simpletable\">\n",
       "<caption>OLS Regression Results</caption>\n",
       "<tr>\n",
       "  <th>Dep. Variable:</th>      <td>acceleration</td>   <th>  R-squared:         </th> <td>   0.616</td>\n",
       "</tr>\n",
       "<tr>\n",
       "  <th>Model:</th>                   <td>OLS</td>       <th>  Adj. R-squared:    </th> <td>   0.613</td>\n",
       "</tr>\n",
       "<tr>\n",
       "  <th>Method:</th>             <td>Least Squares</td>  <th>  F-statistic:       </th> <td>   207.4</td>\n",
       "</tr>\n",
       "<tr>\n",
       "  <th>Date:</th>             <td>Sun, 05 Jun 2022</td> <th>  Prob (F-statistic):</th> <td>3.04e-80</td>\n",
       "</tr>\n",
       "<tr>\n",
       "  <th>Time:</th>                 <td>11:18:20</td>     <th>  Log-Likelihood:    </th> <td> -766.01</td>\n",
       "</tr>\n",
       "<tr>\n",
       "  <th>No. Observations:</th>      <td>   392</td>      <th>  AIC:               </th> <td>   1540.</td>\n",
       "</tr>\n",
       "<tr>\n",
       "  <th>Df Residuals:</th>          <td>   388</td>      <th>  BIC:               </th> <td>   1556.</td>\n",
       "</tr>\n",
       "<tr>\n",
       "  <th>Df Model:</th>              <td>     3</td>      <th>                     </th>     <td> </td>   \n",
       "</tr>\n",
       "<tr>\n",
       "  <th>Covariance Type:</th>      <td>nonrobust</td>    <th>                     </th>     <td> </td>   \n",
       "</tr>\n",
       "</table>\n",
       "<table class=\"simpletable\">\n",
       "<tr>\n",
       "        <td></td>          <th>coef</th>     <th>std err</th>      <th>t</th>      <th>P>|t|</th>  <th>[0.025</th>    <th>0.975]</th>  \n",
       "</tr>\n",
       "<tr>\n",
       "  <th>Intercept</th>    <td>   17.0729</td> <td>    0.484</td> <td>   35.276</td> <td> 0.000</td> <td>   16.121</td> <td>   18.024</td>\n",
       "</tr>\n",
       "<tr>\n",
       "  <th>displacement</th> <td>   -0.0100</td> <td>    0.003</td> <td>   -3.763</td> <td> 0.000</td> <td>   -0.015</td> <td>   -0.005</td>\n",
       "</tr>\n",
       "<tr>\n",
       "  <th>horsepower</th>   <td>   -0.0835</td> <td>    0.005</td> <td>  -16.108</td> <td> 0.000</td> <td>   -0.094</td> <td>   -0.073</td>\n",
       "</tr>\n",
       "<tr>\n",
       "  <th>weight</th>       <td>    0.0031</td> <td>    0.000</td> <td>   10.652</td> <td> 0.000</td> <td>    0.003</td> <td>    0.004</td>\n",
       "</tr>\n",
       "</table>\n",
       "<table class=\"simpletable\">\n",
       "<tr>\n",
       "  <th>Omnibus:</th>       <td>48.170</td> <th>  Durbin-Watson:     </th> <td>   1.687</td>\n",
       "</tr>\n",
       "<tr>\n",
       "  <th>Prob(Omnibus):</th> <td> 0.000</td> <th>  Jarque-Bera (JB):  </th> <td>  69.724</td>\n",
       "</tr>\n",
       "<tr>\n",
       "  <th>Skew:</th>          <td> 0.819</td> <th>  Prob(JB):          </th> <td>7.24e-16</td>\n",
       "</tr>\n",
       "<tr>\n",
       "  <th>Kurtosis:</th>      <td> 4.259</td> <th>  Cond. No.          </th> <td>1.73e+04</td>\n",
       "</tr>\n",
       "</table><br/><br/>Notes:<br/>[1] Standard Errors assume that the covariance matrix of the errors is correctly specified.<br/>[2] The condition number is large, 1.73e+04. This might indicate that there are<br/>strong multicollinearity or other numerical problems."
      ],
      "text/plain": [
       "<class 'statsmodels.iolib.summary.Summary'>\n",
       "\"\"\"\n",
       "                            OLS Regression Results                            \n",
       "==============================================================================\n",
       "Dep. Variable:           acceleration   R-squared:                       0.616\n",
       "Model:                            OLS   Adj. R-squared:                  0.613\n",
       "Method:                 Least Squares   F-statistic:                     207.4\n",
       "Date:                Sun, 05 Jun 2022   Prob (F-statistic):           3.04e-80\n",
       "Time:                        11:18:20   Log-Likelihood:                -766.01\n",
       "No. Observations:                 392   AIC:                             1540.\n",
       "Df Residuals:                     388   BIC:                             1556.\n",
       "Df Model:                           3                                         \n",
       "Covariance Type:            nonrobust                                         \n",
       "================================================================================\n",
       "                   coef    std err          t      P>|t|      [0.025      0.975]\n",
       "--------------------------------------------------------------------------------\n",
       "Intercept       17.0729      0.484     35.276      0.000      16.121      18.024\n",
       "displacement    -0.0100      0.003     -3.763      0.000      -0.015      -0.005\n",
       "horsepower      -0.0835      0.005    -16.108      0.000      -0.094      -0.073\n",
       "weight           0.0031      0.000     10.652      0.000       0.003       0.004\n",
       "==============================================================================\n",
       "Omnibus:                       48.170   Durbin-Watson:                   1.687\n",
       "Prob(Omnibus):                  0.000   Jarque-Bera (JB):               69.724\n",
       "Skew:                           0.819   Prob(JB):                     7.24e-16\n",
       "Kurtosis:                       4.259   Cond. No.                     1.73e+04\n",
       "==============================================================================\n",
       "\n",
       "Notes:\n",
       "[1] Standard Errors assume that the covariance matrix of the errors is correctly specified.\n",
       "[2] The condition number is large, 1.73e+04. This might indicate that there are\n",
       "strong multicollinearity or other numerical problems.\n",
       "\"\"\""
      ]
     },
     "execution_count": 8,
     "metadata": {},
     "output_type": "execute_result"
    }
   ],
   "source": [
    "result.summary()"
   ]
  },
  {
   "cell_type": "markdown",
   "id": "2ca941e3",
   "metadata": {},
   "source": [
    "결과를 확인해보면 Durbin-Watson값이 1.687로 나타나 잔차의 입력성을 확인할 수 있음.  \n",
    "Durbin-Watson의 통계량은 보통 d라고 한다. 이 d값은 0에서 4까지의 값을 갖게되며, 일반적으로 2에 가까울수록 자기상관이 존재하지 않는 것으로 판정한다.   \n",
    "쉽게 말해 2에 가까울수록 잔차의 독립성 가정을 만족하는 것이다. 앞에서 나온 1.687은 잔차의 독립성 가정을 만족하는 수준이라는 것을 추측해 볼 수 있다.  \n",
    "반면 0에 가까운 값이나 4에 가까운 값이 나오면 오차항(잔차) 사이에 상관이 존재한다는 뜻이므로 분석결과로 나온 검정치는 타당성이 떨어진다고 볼 수 있다.  "
   ]
  },
  {
   "cell_type": "code",
   "execution_count": 9,
   "id": "f8c7cdce",
   "metadata": {},
   "outputs": [],
   "source": [
    "import matplotlib.pyplot as plt"
   ]
  },
  {
   "cell_type": "code",
   "execution_count": 10,
   "id": "6493898d",
   "metadata": {},
   "outputs": [],
   "source": [
    "mpg_pred = result.predict(df[['displacement', 'horsepower', 'weight']])\n",
    "residual = df['acceleration'] - mpg_pred"
   ]
  },
  {
   "cell_type": "code",
   "execution_count": 11,
   "id": "0399843e",
   "metadata": {},
   "outputs": [
    {
     "data": {
      "text/plain": [
       "0   -1.896614\n",
       "1    0.377654\n",
       "2   -0.906892\n",
       "3   -0.038026\n",
       "4   -2.442524\n",
       "dtype: float64"
      ]
     },
     "execution_count": 11,
     "metadata": {},
     "output_type": "execute_result"
    }
   ],
   "source": [
    "residual.head()"
   ]
  },
  {
   "cell_type": "code",
   "execution_count": 12,
   "id": "bfc9dc5c",
   "metadata": {},
   "outputs": [
    {
     "name": "stderr",
     "output_type": "stream",
     "text": [
      "/Users/junhoahn/opt/anaconda3/lib/python3.9/site-packages/seaborn/_decorators.py:36: FutureWarning: Pass the following variables as keyword args: x, y. From version 0.12, the only valid positional argument will be `data`, and passing other arguments without an explicit keyword will result in an error or misinterpretation.\n",
      "  warnings.warn(\n"
     ]
    },
    {
     "data": {
      "image/png": "[encoded data removed]",
      "text/plain": [
       "<Figure size 432x288 with 1 Axes>"
      ]
     },
     "metadata": {
      "needs_background": "light"
     },
     "output_type": "display_data"
    }
   ],
   "source": [
    "sns.regplot(mpg_pred, residual, line_kws={'color':'red'})\n",
    "plt.plot([mpg_pred.min(), mpg_pred.max()],[0,0],'--', color='grey')\n",
    "plt.show()"
   ]
  },
  {
   "cell_type": "markdown",
   "id": "7f2e8b20",
   "metadata": {},
   "source": [
    "0에 가까운 추세를 보이고 있는 것을 봐서 모형의 선형성 가정을 만족한다고 볼 수 있음"
   ]
  },
  {
   "cell_type": "code",
   "execution_count": 13,
   "id": "992b4af8",
   "metadata": {},
   "outputs": [],
   "source": [
    "from scipy.stats import zscore, probplot"
   ]
  },
  {
   "cell_type": "code",
   "execution_count": 14,
   "id": "801b2dd4",
   "metadata": {},
   "outputs": [],
   "source": [
    "sr = zscore(residual)\n",
    "(x, y), _ = probplot(sr)"
   ]
  },
  {
   "cell_type": "code",
   "execution_count": 15,
   "id": "e71a75be",
   "metadata": {},
   "outputs": [
    {
     "name": "stderr",
     "output_type": "stream",
     "text": [
      "/Users/junhoahn/opt/anaconda3/lib/python3.9/site-packages/seaborn/_decorators.py:36: FutureWarning: Pass the following variables as keyword args: x, y. From version 0.12, the only valid positional argument will be `data`, and passing other arguments without an explicit keyword will result in an error or misinterpretation.\n",
      "  warnings.warn(\n"
     ]
    },
    {
     "data": {
      "image/png": "[encoded data removed]",
      "text/plain": [
       "<Figure size 432x288 with 1 Axes>"
      ]
     },
     "metadata": {
      "needs_background": "light"
     },
     "output_type": "display_data"
    }
   ],
   "source": [
    "sns.scatterplot(x,y)\n",
    "plt.plot([-3,3],[-3,3],'--',color='grey')\n",
    "plt.show()"
   ]
  },
  {
   "cell_type": "markdown",
   "id": "95b1459a",
   "metadata": {},
   "source": [
    "Q-Q plot 결과 양끝이 벗어난 것을 봐서 잔차의 정규성 가정이 만족되지 않는다고 설명되어 있으나 주관적인 판단으로 보여짐.  "
   ]
  },
  {
   "cell_type": "code",
   "execution_count": 16,
   "id": "c505a83f",
   "metadata": {},
   "outputs": [],
   "source": [
    "from scipy.stats import shapiro"
   ]
  },
  {
   "cell_type": "code",
   "execution_count": 17,
   "id": "80f5d78d",
   "metadata": {},
   "outputs": [
    {
     "data": {
      "text/plain": [
       "ShapiroResult(statistic=0.96277916431427, pvalue=2.024077083717657e-08)"
      ]
     },
     "execution_count": 17,
     "metadata": {},
     "output_type": "execute_result"
    }
   ],
   "source": [
    "shapiro(residual)"
   ]
  },
  {
   "cell_type": "markdown",
   "id": "5d53284d",
   "metadata": {},
   "source": [
    "shapiro test 결과 p-value < 0.05로 귀무가설(H0: 표본의 모집단이 정규성을 가진다. 정규분포를 따른다.)을 기각하여 정규성을 가지지 못한 것으로 볼 수 있다.  "
   ]
  },
  {
   "cell_type": "code",
   "execution_count": 18,
   "id": "c2155b54",
   "metadata": {},
   "outputs": [],
   "source": [
    "from numpy import sqrt, abs"
   ]
  },
  {
   "cell_type": "code",
   "execution_count": 19,
   "id": "324040b6",
   "metadata": {},
   "outputs": [
    {
     "name": "stderr",
     "output_type": "stream",
     "text": [
      "/Users/junhoahn/opt/anaconda3/lib/python3.9/site-packages/seaborn/_decorators.py:36: FutureWarning: Pass the following variables as keyword args: x, y. From version 0.12, the only valid positional argument will be `data`, and passing other arguments without an explicit keyword will result in an error or misinterpretation.\n",
      "  warnings.warn(\n"
     ]
    },
    {
     "data": {
      "text/plain": [
       "<AxesSubplot:>"
      ]
     },
     "execution_count": 19,
     "metadata": {},
     "output_type": "execute_result"
    },
    {
     "data": {
      "image/png": "[encoded data removed]",
      "text/plain": [
       "<Figure size 432x288 with 1 Axes>"
      ]
     },
     "metadata": {
      "needs_background": "light"
     },
     "output_type": "display_data"
    }
   ],
   "source": [
    "sns.regplot(mpg_pred, sqrt(abs(sr)), line_kws={'color':'red'})"
   ]
  },
  {
   "cell_type": "markdown",
   "id": "9c96a25c",
   "metadata": {},
   "source": [
    "모형의 등분산성을 확인한 결과, 경향선이 수평선 형태로 나타나 잔차의 등분산성 만족함을 확인할 수 있다.  "
   ]
  },
  {
   "cell_type": "code",
   "execution_count": 20,
   "id": "e6704978",
   "metadata": {},
   "outputs": [
    {
     "data": {
      "text/plain": [
       "<AxesSubplot:>"
      ]
     },
     "execution_count": 20,
     "metadata": {},
     "output_type": "execute_result"
    },
    {
     "data": {
      "image/png": "[encoded data removed]",
      "text/plain": [
       "<Figure size 576x360 with 2 Axes>"
      ]
     },
     "metadata": {
      "needs_background": "light"
     },
     "output_type": "display_data"
    }
   ],
   "source": [
    "plt.rcParams['figure.figsize']=(8,5)\n",
    "sns.heatmap(df[['acceleration', 'displacement', 'horsepower', 'weight']].corr(method='pearson'),annot = True, cmap = 'Greens', vmin = -1, vmax = 1)"
   ]
  },
  {
   "cell_type": "markdown",
   "id": "56ba6c5b",
   "metadata": {},
   "source": [
    "## 실습\n",
    "### [과제8] \n",
    "부리길이(bill_length_mm)와 부리두께(bill_depth_mm)를 통해 펭귄의 몸무게(body_mass_g)를 예측하는 선형회귀모형의 잔차를 분석"
   ]
  },
  {
   "cell_type": "markdown",
   "id": "596ac97d",
   "metadata": {},
   "source": [
    "### [과제9] 선형회귀모형의 잔차분석\n",
    "1. 데이터 로드 및 결측값 제거\n",
    "2. 선형회귀분석과 잔차의 입력성 확인\n",
    "3. regplot()함수를 통해 모형의 선형성 확인\n",
    "4. Q-Q plot을 통해 잔차의 정규성 확인\n",
    "5. regplot()함수를 통해 모형의 등분산성 확인\n",
    "6. 투입변수간의 상관관계를 heatmap으로 시각화"
   ]
  },
  {
   "cell_type": "markdown",
   "id": "ff1adcfb",
   "metadata": {},
   "source": [
    "#### 데이터 로드 및 결측값 제거"
   ]
  },
  {
   "cell_type": "code",
   "execution_count": 21,
   "id": "6daae0f9",
   "metadata": {},
   "outputs": [],
   "source": [
    "df = sns.load_dataset('penguins')"
   ]
  },
  {
   "cell_type": "code",
   "execution_count": 22,
   "id": "897b3453",
   "metadata": {},
   "outputs": [
    {
     "name": "stdout",
     "output_type": "stream",
     "text": [
      "<class 'pandas.core.frame.DataFrame'>\n",
      "RangeIndex: 344 entries, 0 to 343\n",
      "Data columns (total 7 columns):\n",
      " #   Column             Non-Null Count  Dtype  \n",
      "---  ------             --------------  -----  \n",
      " 0   species            344 non-null    object \n",
      " 1   island             344 non-null    object \n",
      " 2   bill_length_mm     342 non-null    float64\n",
      " 3   bill_depth_mm      342 non-null    float64\n",
      " 4   flipper_length_mm  342 non-null    float64\n",
      " 5   body_mass_g        342 non-null    float64\n",
      " 6   sex                333 non-null    object \n",
      "dtypes: float64(4), object(3)\n",
      "memory usage: 18.9+ KB\n"
     ]
    }
   ],
   "source": [
    "df.info()"
   ]
  },
  {
   "cell_type": "code",
   "execution_count": 23,
   "id": "691e955e",
   "metadata": {},
   "outputs": [],
   "source": [
    "df = df.dropna(subset=['body_mass_g'], how='any', axis=0)"
   ]
  },
  {
   "cell_type": "code",
   "execution_count": 24,
   "id": "28e2b9e9",
   "metadata": {},
   "outputs": [
    {
     "name": "stdout",
     "output_type": "stream",
     "text": [
      "<class 'pandas.core.frame.DataFrame'>\n",
      "Int64Index: 342 entries, 0 to 343\n",
      "Data columns (total 7 columns):\n",
      " #   Column             Non-Null Count  Dtype  \n",
      "---  ------             --------------  -----  \n",
      " 0   species            342 non-null    object \n",
      " 1   island             342 non-null    object \n",
      " 2   bill_length_mm     342 non-null    float64\n",
      " 3   bill_depth_mm      342 non-null    float64\n",
      " 4   flipper_length_mm  342 non-null    float64\n",
      " 5   body_mass_g        342 non-null    float64\n",
      " 6   sex                333 non-null    object \n",
      "dtypes: float64(4), object(3)\n",
      "memory usage: 21.4+ KB\n"
     ]
    }
   ],
   "source": [
    "df.info()"
   ]
  },
  {
   "cell_type": "markdown",
   "id": "39f9f64a",
   "metadata": {},
   "source": [
    "#### 선형회귀분석과 잔차의 입력성 확인"
   ]
  },
  {
   "cell_type": "code",
   "execution_count": 25,
   "id": "ed1f3b30",
   "metadata": {},
   "outputs": [],
   "source": [
    "formula = 'body_mass_g ~ bill_length_mm + bill_depth_mm'\n",
    "result = ols(formula = formula, data = df).fit()"
   ]
  },
  {
   "cell_type": "code",
   "execution_count": 26,
   "id": "80b0b5d3",
   "metadata": {},
   "outputs": [
    {
     "data": {
      "text/html": [
       "<table class=\"simpletable\">\n",
       "<caption>OLS Regression Results</caption>\n",
       "<tr>\n",
       "  <th>Dep. Variable:</th>       <td>body_mass_g</td>   <th>  R-squared:         </th> <td>   0.471</td>\n",
       "</tr>\n",
       "<tr>\n",
       "  <th>Model:</th>                   <td>OLS</td>       <th>  Adj. R-squared:    </th> <td>   0.468</td>\n",
       "</tr>\n",
       "<tr>\n",
       "  <th>Method:</th>             <td>Least Squares</td>  <th>  F-statistic:       </th> <td>   150.8</td>\n",
       "</tr>\n",
       "<tr>\n",
       "  <th>Date:</th>             <td>Sun, 05 Jun 2022</td> <th>  Prob (F-statistic):</th> <td>1.40e-47</td>\n",
       "</tr>\n",
       "<tr>\n",
       "  <th>Time:</th>                 <td>11:18:21</td>     <th>  Log-Likelihood:    </th> <td> -2662.9</td>\n",
       "</tr>\n",
       "<tr>\n",
       "  <th>No. Observations:</th>      <td>   342</td>      <th>  AIC:               </th> <td>   5332.</td>\n",
       "</tr>\n",
       "<tr>\n",
       "  <th>Df Residuals:</th>          <td>   339</td>      <th>  BIC:               </th> <td>   5343.</td>\n",
       "</tr>\n",
       "<tr>\n",
       "  <th>Df Model:</th>              <td>     2</td>      <th>                     </th>     <td> </td>   \n",
       "</tr>\n",
       "<tr>\n",
       "  <th>Covariance Type:</th>      <td>nonrobust</td>    <th>                     </th>     <td> </td>   \n",
       "</tr>\n",
       "</table>\n",
       "<table class=\"simpletable\">\n",
       "<tr>\n",
       "         <td></td>           <th>coef</th>     <th>std err</th>      <th>t</th>      <th>P>|t|</th>  <th>[0.025</th>    <th>0.975]</th>  \n",
       "</tr>\n",
       "<tr>\n",
       "  <th>Intercept</th>      <td> 3343.1359</td> <td>  429.912</td> <td>    7.776</td> <td> 0.000</td> <td> 2497.504</td> <td> 4188.768</td>\n",
       "</tr>\n",
       "<tr>\n",
       "  <th>bill_length_mm</th> <td>   75.2808</td> <td>    5.971</td> <td>   12.608</td> <td> 0.000</td> <td>   63.537</td> <td>   87.025</td>\n",
       "</tr>\n",
       "<tr>\n",
       "  <th>bill_depth_mm</th>  <td> -142.7226</td> <td>   16.507</td> <td>   -8.646</td> <td> 0.000</td> <td> -175.191</td> <td> -110.254</td>\n",
       "</tr>\n",
       "</table>\n",
       "<table class=\"simpletable\">\n",
       "<tr>\n",
       "  <th>Omnibus:</th>       <td> 2.548</td> <th>  Durbin-Watson:     </th> <td>   1.806</td>\n",
       "</tr>\n",
       "<tr>\n",
       "  <th>Prob(Omnibus):</th> <td> 0.280</td> <th>  Jarque-Bera (JB):  </th> <td>   2.019</td>\n",
       "</tr>\n",
       "<tr>\n",
       "  <th>Skew:</th>          <td> 0.001</td> <th>  Prob(JB):          </th> <td>   0.364</td>\n",
       "</tr>\n",
       "<tr>\n",
       "  <th>Kurtosis:</th>      <td> 2.624</td> <th>  Cond. No.          </th> <td>    645.</td>\n",
       "</tr>\n",
       "</table><br/><br/>Notes:<br/>[1] Standard Errors assume that the covariance matrix of the errors is correctly specified."
      ],
      "text/plain": [
       "<class 'statsmodels.iolib.summary.Summary'>\n",
       "\"\"\"\n",
       "                            OLS Regression Results                            \n",
       "==============================================================================\n",
       "Dep. Variable:            body_mass_g   R-squared:                       0.471\n",
       "Model:                            OLS   Adj. R-squared:                  0.468\n",
       "Method:                 Least Squares   F-statistic:                     150.8\n",
       "Date:                Sun, 05 Jun 2022   Prob (F-statistic):           1.40e-47\n",
       "Time:                        11:18:21   Log-Likelihood:                -2662.9\n",
       "No. Observations:                 342   AIC:                             5332.\n",
       "Df Residuals:                     339   BIC:                             5343.\n",
       "Df Model:                           2                                         \n",
       "Covariance Type:            nonrobust                                         \n",
       "==================================================================================\n",
       "                     coef    std err          t      P>|t|      [0.025      0.975]\n",
       "----------------------------------------------------------------------------------\n",
       "Intercept       3343.1359    429.912      7.776      0.000    2497.504    4188.768\n",
       "bill_length_mm    75.2808      5.971     12.608      0.000      63.537      87.025\n",
       "bill_depth_mm   -142.7226     16.507     -8.646      0.000    -175.191    -110.254\n",
       "==============================================================================\n",
       "Omnibus:                        2.548   Durbin-Watson:                   1.806\n",
       "Prob(Omnibus):                  0.280   Jarque-Bera (JB):                2.019\n",
       "Skew:                           0.001   Prob(JB):                        0.364\n",
       "Kurtosis:                       2.624   Cond. No.                         645.\n",
       "==============================================================================\n",
       "\n",
       "Notes:\n",
       "[1] Standard Errors assume that the covariance matrix of the errors is correctly specified.\n",
       "\"\"\""
      ]
     },
     "execution_count": 26,
     "metadata": {},
     "output_type": "execute_result"
    }
   ],
   "source": [
    "result.summary()"
   ]
  },
  {
   "cell_type": "markdown",
   "id": "dc88ef9e",
   "metadata": {},
   "source": [
    "결과를 확인해보면 Durbin-Watson값이 1.807로 2에 가까우므로 잔차의 입력성을 확인할 수 있음."
   ]
  },
  {
   "cell_type": "markdown",
   "id": "a361ed12",
   "metadata": {},
   "source": [
    "#### regplot()함수를 통해 모형의 선형성 확인"
   ]
  },
  {
   "cell_type": "code",
   "execution_count": 27,
   "id": "7dc5ece7",
   "metadata": {},
   "outputs": [],
   "source": [
    "body_mass_g_pred = result.predict(df[['bill_length_mm', 'bill_depth_mm']])\n",
    "residual = df['body_mass_g'] - body_mass_g_pred"
   ]
  },
  {
   "cell_type": "code",
   "execution_count": 28,
   "id": "916ed629",
   "metadata": {},
   "outputs": [
    {
     "data": {
      "text/plain": [
       "0    132.297588\n",
       "1    -33.354170\n",
       "2   -557.945238\n",
       "4     98.605129\n",
       "5    288.414442\n",
       "dtype: float64"
      ]
     },
     "execution_count": 28,
     "metadata": {},
     "output_type": "execute_result"
    }
   ],
   "source": [
    "residual.head()"
   ]
  },
  {
   "cell_type": "code",
   "execution_count": 29,
   "id": "f0a5560c",
   "metadata": {},
   "outputs": [
    {
     "name": "stderr",
     "output_type": "stream",
     "text": [
      "/Users/junhoahn/opt/anaconda3/lib/python3.9/site-packages/seaborn/_decorators.py:36: FutureWarning: Pass the following variables as keyword args: x, y. From version 0.12, the only valid positional argument will be `data`, and passing other arguments without an explicit keyword will result in an error or misinterpretation.\n",
      "  warnings.warn(\n"
     ]
    },
    {
     "data": {
      "image/png": "[encoded data removed]",
      "text/plain": [
       "<Figure size 576x360 with 1 Axes>"
      ]
     },
     "metadata": {
      "needs_background": "light"
     },
     "output_type": "display_data"
    }
   ],
   "source": [
    "sns.regplot(body_mass_g_pred, residual, line_kws = {'color':'red'})\n",
    "plt.plot([body_mass_g_pred.min(), body_mass_g_pred.max()],[0,0],'--',color='grey')\n",
    "plt.show()"
   ]
  },
  {
   "cell_type": "markdown",
   "id": "64898bba",
   "metadata": {},
   "source": [
    "regplot으로 그려본 예측값-잔차의 경향선이 수평선을 나타나내므로 선형성이 확보되었다고 볼 수 있음"
   ]
  },
  {
   "cell_type": "markdown",
   "id": "874cff4a",
   "metadata": {},
   "source": [
    "#### Q-Q plot을 통해 잔차의 정규성 확인"
   ]
  },
  {
   "cell_type": "code",
   "execution_count": 30,
   "id": "f3f9fed6",
   "metadata": {},
   "outputs": [
    {
     "data": {
      "text/plain": [
       "0    0.227116\n",
       "1   -0.057259\n",
       "2   -0.957829\n",
       "4    0.169276\n",
       "5    0.495123\n",
       "dtype: float64"
      ]
     },
     "execution_count": 30,
     "metadata": {},
     "output_type": "execute_result"
    }
   ],
   "source": [
    "sr = zscore(residual)\n",
    "sr.head()"
   ]
  },
  {
   "cell_type": "markdown",
   "id": "dfd5257f",
   "metadata": {},
   "source": [
    "선형모형에 의한 잔차값을 zscore()함수에 대입해 표준화 잔차값을 구한 후 probplot()함수에 대입하여 분위수 값과 표준화 잔차값을 차례로 확인"
   ]
  },
  {
   "cell_type": "code",
   "execution_count": 31,
   "id": "e79260c8",
   "metadata": {},
   "outputs": [
    {
     "data": {
      "text/plain": [
       "((array([-2.87428861, -2.58179863, -2.41650269, -2.29887341, -2.20643084,\n",
       "         -2.12970996, -2.06379366, -2.00578676, -1.9538351 , -1.9066769 ,\n",
       "         -1.86341316, -1.82337986, -1.78607203, -1.75109635, -1.71814027,\n",
       "         -1.68695111, -1.65732161, -1.6290795 , -1.60208005, -1.5762004 ,\n",
       "         -1.55133532, -1.52739401, -1.5042975 , -1.48197667, -1.4603707 ,\n",
       "         -1.43942573, -1.41909385, -1.39933224, -1.38010248, -1.36136993,\n",
       "         -1.34310329, -1.32527412, -1.30785655, -1.29082696, -1.2741637 ,\n",
       "         -1.25784691, -1.24185831, -1.22618102, -1.21079944, -1.19569911,\n",
       "         -1.18086661, -1.16628945, -1.151956  , -1.13785538, -1.12397745,\n",
       "         -1.11031268, -1.09685215, -1.08358747, -1.07051076, -1.05761459,\n",
       "         -1.04489196, -1.03233625, -1.01994121, -1.00770093, -0.99560978,\n",
       "         -0.98366247, -0.97185394, -0.9601794 , -0.94863427, -0.93721423,\n",
       "         -0.92591512, -0.91473301, -0.90366412, -0.89270486, -0.88185178,\n",
       "         -0.87110159, -0.86045115, -0.84989742, -0.83943751, -0.82906866,\n",
       "         -0.81878818, -0.80859352, -0.79848221, -0.78845188, -0.77850026,\n",
       "         -0.76862515, -0.75882443, -0.74909606, -0.73943808, -0.72984858,\n",
       "         -0.72032573, -0.71086777, -0.70147296, -0.69213967, -0.68286629,\n",
       "         -0.67365126, -0.66449308, -0.6553903 , -0.64634151, -0.63734533,\n",
       "         -0.62840044, -0.61950555, -0.6106594 , -0.60186079, -0.59310853,\n",
       "         -0.58440146, -0.57573848, -0.56711849, -0.55854044, -0.55000329,\n",
       "         -0.54150604, -0.53304771, -0.52462734, -0.51624402, -0.50789681,\n",
       "         -0.49958485, -0.49130726, -0.48306319, -0.47485183, -0.46667237,\n",
       "         -0.458524  , -0.45040597, -0.44231751, -0.43425789, -0.42622638,\n",
       "         -0.41822227, -0.41024486, -0.40229348, -0.39436745, -0.38646612,\n",
       "         -0.37858884, -0.37073499, -0.36290394, -0.35509508, -0.34730781,\n",
       "         -0.33954155, -0.33179571, -0.32406974, -0.31636305, -0.30867511,\n",
       "         -0.30100538, -0.2933533 , -0.28571837, -0.27810006, -0.27049785,\n",
       "         -0.26291125, -0.25533974, -0.24778285, -0.24024008, -0.23271095,\n",
       "         -0.225195  , -0.21769174, -0.21020072, -0.20272147, -0.19525355,\n",
       "         -0.18779651, -0.18034989, -0.17291326, -0.16548617, -0.15806821,\n",
       "         -0.15065894, -0.14325792, -0.13586475, -0.12847899, -0.12110024,\n",
       "         -0.11372807, -0.10636208, -0.09900185, -0.09164699, -0.08429708,\n",
       "         -0.07695172, -0.06961051, -0.06227305, -0.05493894, -0.04760778,\n",
       "         -0.04027919, -0.03295275, -0.02562809, -0.01830479, -0.01098248,\n",
       "         -0.00366076,  0.00366076,  0.01098248,  0.01830479,  0.02562809,\n",
       "          0.03295275,  0.04027919,  0.04760778,  0.05493894,  0.06227305,\n",
       "          0.06961051,  0.07695172,  0.08429708,  0.09164699,  0.09900185,\n",
       "          0.10636208,  0.11372807,  0.12110024,  0.12847899,  0.13586475,\n",
       "          0.14325792,  0.15065894,  0.15806821,  0.16548617,  0.17291326,\n",
       "          0.18034989,  0.18779651,  0.19525355,  0.20272147,  0.21020072,\n",
       "          0.21769174,  0.225195  ,  0.23271095,  0.24024008,  0.24778285,\n",
       "          0.25533974,  0.26291125,  0.27049785,  0.27810006,  0.28571837,\n",
       "          0.2933533 ,  0.30100538,  0.30867511,  0.31636305,  0.32406974,\n",
       "          0.33179571,  0.33954155,  0.34730781,  0.35509508,  0.36290394,\n",
       "          0.37073499,  0.37858884,  0.38646612,  0.39436745,  0.40229348,\n",
       "          0.41024486,  0.41822227,  0.42622638,  0.43425789,  0.44231751,\n",
       "          0.45040597,  0.458524  ,  0.46667237,  0.47485183,  0.48306319,\n",
       "          0.49130726,  0.49958485,  0.50789681,  0.51624402,  0.52462734,\n",
       "          0.53304771,  0.54150604,  0.55000329,  0.55854044,  0.56711849,\n",
       "          0.57573848,  0.58440146,  0.59310853,  0.60186079,  0.6106594 ,\n",
       "          0.61950555,  0.62840044,  0.63734533,  0.64634151,  0.6553903 ,\n",
       "          0.66449308,  0.67365126,  0.68286629,  0.69213967,  0.70147296,\n",
       "          0.71086777,  0.72032573,  0.72984858,  0.73943808,  0.74909606,\n",
       "          0.75882443,  0.76862515,  0.77850026,  0.78845188,  0.79848221,\n",
       "          0.80859352,  0.81878818,  0.82906866,  0.83943751,  0.84989742,\n",
       "          0.86045115,  0.87110159,  0.88185178,  0.89270486,  0.90366412,\n",
       "          0.91473301,  0.92591512,  0.93721423,  0.94863427,  0.9601794 ,\n",
       "          0.97185394,  0.98366247,  0.99560978,  1.00770093,  1.01994121,\n",
       "          1.03233625,  1.04489196,  1.05761459,  1.07051076,  1.08358747,\n",
       "          1.09685215,  1.11031268,  1.12397745,  1.13785538,  1.151956  ,\n",
       "          1.16628945,  1.18086661,  1.19569911,  1.21079944,  1.22618102,\n",
       "          1.24185831,  1.25784691,  1.2741637 ,  1.29082696,  1.30785655,\n",
       "          1.32527412,  1.34310329,  1.36136993,  1.38010248,  1.39933224,\n",
       "          1.41909385,  1.43942573,  1.4603707 ,  1.48197667,  1.5042975 ,\n",
       "          1.52739401,  1.55133532,  1.5762004 ,  1.60208005,  1.6290795 ,\n",
       "          1.65732161,  1.68695111,  1.71814027,  1.75109635,  1.78607203,\n",
       "          1.82337986,  1.86341316,  1.9066769 ,  1.9538351 ,  2.00578676,\n",
       "          2.06379366,  2.12970996,  2.20643084,  2.29887341,  2.41650269,\n",
       "          2.58179863,  2.87428861]),\n",
       "  array([-3.09798849, -2.52177533, -2.27647686, -2.23375353, -2.22913095,\n",
       "         -1.9913286 , -1.95637529, -1.93409946, -1.92051613, -1.88255757,\n",
       "         -1.72359984, -1.67431898, -1.65839021, -1.62747126, -1.6226221 ,\n",
       "         -1.5839899 , -1.54319489, -1.49643668, -1.47869393, -1.47205916,\n",
       "         -1.46422367, -1.44568785, -1.42478385, -1.41226747, -1.39871688,\n",
       "         -1.38899246, -1.36100664, -1.35441126, -1.3536765 , -1.34412753,\n",
       "         -1.30388518, -1.29331604, -1.25581399, -1.24505764, -1.24198462,\n",
       "         -1.23241955, -1.23004418, -1.22636019, -1.22269513, -1.21402873,\n",
       "         -1.2094417 , -1.17295776, -1.16447627, -1.15659857, -1.15613977,\n",
       "         -1.14137235, -1.11985403, -1.09705727, -1.09401263, -1.09370829,\n",
       "         -1.08937395, -1.07555404, -1.07201276, -1.06647769, -1.0585867 ,\n",
       "         -1.0472777 , -1.03962712, -1.0226475 , -1.00353293, -1.0021872 ,\n",
       "         -1.00174349, -0.97332444, -0.96630811, -0.95782891, -0.95759005,\n",
       "         -0.94796332, -0.94563069, -0.93890589, -0.90791098, -0.88774173,\n",
       "         -0.87682376, -0.87079433, -0.85501773, -0.85397481, -0.84755334,\n",
       "         -0.8465769 , -0.82766233, -0.8190637 , -0.817608  , -0.80635066,\n",
       "         -0.80453232, -0.79988417, -0.797717  , -0.79564598, -0.78545612,\n",
       "         -0.78461139, -0.76941738, -0.74457107, -0.73757084, -0.73505049,\n",
       "         -0.72803032, -0.68603841, -0.68543307, -0.67983023, -0.67232746,\n",
       "         -0.6424187 , -0.64136631, -0.63840608, -0.6299256 , -0.62567795,\n",
       "         -0.62095385, -0.61216239, -0.61058343, -0.60685288, -0.60168327,\n",
       "         -0.59649474, -0.59217087, -0.57007177, -0.56777954, -0.56585686,\n",
       "         -0.55686719, -0.54836242, -0.53711736, -0.52620757, -0.51578012,\n",
       "         -0.51363851, -0.51295978, -0.51198616, -0.51169128, -0.51064043,\n",
       "         -0.50303434, -0.50181623, -0.49838056, -0.48599079, -0.47109293,\n",
       "         -0.44745527, -0.43909986, -0.43838838, -0.43668947, -0.39731741,\n",
       "         -0.37847725, -0.35938596, -0.3345793 , -0.31969346, -0.30373093,\n",
       "         -0.28205433, -0.28001706, -0.26561791, -0.25305933, -0.20454161,\n",
       "         -0.19897253, -0.1821369 , -0.18046126, -0.17629903, -0.16269805,\n",
       "         -0.16139171, -0.14476374, -0.13224225, -0.13010729, -0.11044569,\n",
       "         -0.10777879, -0.106653  , -0.08480531, -0.08327749, -0.07872422,\n",
       "         -0.07578572, -0.07414666, -0.06786354, -0.05725936, -0.0539242 ,\n",
       "         -0.05232351, -0.05094887, -0.04507443, -0.03373167, -0.0276222 ,\n",
       "         -0.01579736, -0.0085217 , -0.00630389, -0.00586401,  0.00460564,\n",
       "          0.00802366,  0.01995847,  0.03141683,  0.04217445,  0.04232662,\n",
       "          0.04367234,  0.0448659 ,  0.04595767,  0.04617761,  0.0577554 ,\n",
       "          0.06836904,  0.07107941,  0.0758608 ,  0.07705053,  0.08303494,\n",
       "          0.08766416,  0.09546128,  0.09692644,  0.11238924,  0.14360025,\n",
       "          0.14582471,  0.14847779,  0.149889  ,  0.15053935,  0.15166514,\n",
       "          0.16927619,  0.18679517,  0.19141877,  0.19143386,  0.20258788,\n",
       "          0.20878558,  0.21092437,  0.22179451,  0.22711629,  0.24385705,\n",
       "          0.24601476,  0.24811416,  0.24838295,  0.24909724,  0.25418962,\n",
       "          0.27725978,  0.29504192,  0.29712624,  0.30100178,  0.3125118 ,\n",
       "          0.31446467,  0.33357744,  0.34597285,  0.36115177,  0.36659298,\n",
       "          0.38260461,  0.43757271,  0.43853123,  0.44370929,  0.46925198,\n",
       "          0.47203729,  0.4951233 ,  0.49923669,  0.50983422,  0.5180523 ,\n",
       "          0.51897425,  0.53594441,  0.53976165,  0.54192499,  0.54614272,\n",
       "          0.55829746,  0.5633571 ,  0.56853516,  0.58316142,  0.60909131,\n",
       "          0.60977722,  0.63934763,  0.64761736,  0.65422784,  0.65437055,\n",
       "          0.66749891,  0.67004382,  0.67275419,  0.71232727,  0.72550346,\n",
       "          0.75797861,  0.76313594,  0.76582739,  0.76683094,  0.7894474 ,\n",
       "          0.79394875,  0.7963525 ,  0.8044514 ,  0.81191862,  0.81423514,\n",
       "          0.81535274,  0.81780533,  0.8268533 ,  0.84901072,  0.85114413,\n",
       "          0.852552  ,  0.85304789,  0.87082057,  0.87914888,  0.88780582,\n",
       "          0.90036668,  0.9011109 ,  0.9016784 ,  0.90940519,  0.91003099,\n",
       "          0.91151406,  0.91945107,  0.92376931,  0.92774537,  0.93213036,\n",
       "          0.94181359,  0.94368078,  0.97245711,  0.97468259,  0.99010191,\n",
       "          0.99815197,  1.00060839,  1.02378852,  1.02691039,  1.03245492,\n",
       "          1.03939403,  1.04080752,  1.04804534,  1.05305613,  1.06212865,\n",
       "          1.07548259,  1.07820779,  1.091073  ,  1.09738067,  1.10290474,\n",
       "          1.10970114,  1.11277953,  1.15787284,  1.18619139,  1.21718629,\n",
       "          1.22061096,  1.23831024,  1.25138592,  1.26976574,  1.30848744,\n",
       "          1.38914094,  1.40072819,  1.45796679,  1.46513529,  1.48890722,\n",
       "          1.50778139,  1.53038149,  1.54795597,  1.55619195,  1.56527368,\n",
       "          1.57199284,  1.57800181,  1.59921015,  1.62576202,  1.62950304,\n",
       "          1.64620159,  1.64669032,  1.68808455,  1.72635537,  1.77421327,\n",
       "          1.77896474,  1.77969387,  1.78978885,  1.85709788,  1.93502055,\n",
       "          1.95085545,  1.97387651,  2.02265919,  2.22359501,  2.44190021,\n",
       "          2.51256588,  2.6520088 ])),\n",
       " (1.004571974032125, 0.0, 0.997484675318282))"
      ]
     },
     "execution_count": 31,
     "metadata": {},
     "output_type": "execute_result"
    }
   ],
   "source": [
    "(x,y),_ = probplot(sr)\n",
    "probplot(sr)"
   ]
  },
  {
   "cell_type": "code",
   "execution_count": 32,
   "id": "9a299d51",
   "metadata": {},
   "outputs": [
    {
     "data": {
      "text/plain": [
       "[<matplotlib.lines.Line2D at 0x7fcaa3523310>]"
      ]
     },
     "execution_count": 32,
     "metadata": {},
     "output_type": "execute_result"
    },
    {
     "data": {
      "image/png": "[encoded data removed]",
      "text/plain": [
       "<Figure size 576x360 with 1 Axes>"
      ]
     },
     "metadata": {
      "needs_background": "light"
     },
     "output_type": "display_data"
    }
   ],
   "source": [
    "plt.scatter(x,y)\n",
    "plt.plot([-3,3],[-3,3], '--', color='grey')"
   ]
  },
  {
   "cell_type": "markdown",
   "id": "124049ec",
   "metadata": {},
   "source": [
    "Q-Q plot이 기준선과 거의 일치한 형태로 나타나 잔차의 정규성 가정을 만족한다고 볼 수 있음"
   ]
  },
  {
   "cell_type": "code",
   "execution_count": 33,
   "id": "d2176c70",
   "metadata": {},
   "outputs": [
    {
     "data": {
      "text/plain": [
       "ShapiroResult(statistic=0.9945068359375, pvalue=0.2589772045612335)"
      ]
     },
     "execution_count": 33,
     "metadata": {},
     "output_type": "execute_result"
    }
   ],
   "source": [
    "shapiro(residual)"
   ]
  },
  {
   "cell_type": "markdown",
   "id": "982d1f47",
   "metadata": {},
   "source": [
    "shapiro test결과에서 p-value > 0.05이므로 '정규성을 가진다'는 귀무가설을 채택하므로 잔차가 정규분포임을 알 수 있다.     \n",
    "\n",
    "Wiki설명: The null-hypothesis of this test is that the population is normally distributed. Thus, if the p value is less than the chosen alpha level, then the null hypothesis is rejected and there is evidence that the data tested are not normally distributed. On the other hand, if the p value is greater than the chosen alpha level, then the null hypothesis (that the data came from a normally distributed population) can not be rejected (e.g., for an alpha level of .05, a data set with a p value of less than .05 rejects the null hypothesis that the data are from a normally distributed population)."
   ]
  },
  {
   "cell_type": "markdown",
   "id": "7d7de55b",
   "metadata": {},
   "source": [
    "#### regplot()함수를 통해 모형의 등분산성 확인"
   ]
  },
  {
   "cell_type": "code",
   "execution_count": 34,
   "id": "87902af9",
   "metadata": {},
   "outputs": [
    {
     "name": "stderr",
     "output_type": "stream",
     "text": [
      "/Users/junhoahn/opt/anaconda3/lib/python3.9/site-packages/seaborn/_decorators.py:36: FutureWarning: Pass the following variables as keyword args: x, y. From version 0.12, the only valid positional argument will be `data`, and passing other arguments without an explicit keyword will result in an error or misinterpretation.\n",
      "  warnings.warn(\n"
     ]
    },
    {
     "data": {
      "text/plain": [
       "<AxesSubplot:>"
      ]
     },
     "execution_count": 34,
     "metadata": {},
     "output_type": "execute_result"
    },
    {
     "data": {
      "image/png": "[encoded data removed]",
      "text/plain": [
       "<Figure size 576x360 with 1 Axes>"
      ]
     },
     "metadata": {
      "needs_background": "light"
     },
     "output_type": "display_data"
    }
   ],
   "source": [
    "sns.regplot(body_mass_g_pred, sqrt(abs(sr)), line_kws={'color':'red'})"
   ]
  },
  {
   "cell_type": "markdown",
   "id": "2b95828e",
   "metadata": {},
   "source": [
    "모형의 등분산성을 확인한 결과, 경향선이 약간 기울어진 형태로 나타남.  "
   ]
  },
  {
   "cell_type": "markdown",
   "id": "80325db5",
   "metadata": {},
   "source": [
    "#### 투입변수간의 상관관계를 heatmap으로 시각화"
   ]
  },
  {
   "cell_type": "code",
   "execution_count": 35,
   "id": "f0a421ef",
   "metadata": {},
   "outputs": [
    {
     "data": {
      "text/plain": [
       "<AxesSubplot:>"
      ]
     },
     "execution_count": 35,
     "metadata": {},
     "output_type": "execute_result"
    },
    {
     "data": {
      "image/png": "[encoded data removed]",
      "text/plain": [
       "<Figure size 576x360 with 2 Axes>"
      ]
     },
     "metadata": {
      "needs_background": "light"
     },
     "output_type": "display_data"
    }
   ],
   "source": [
    "plt.rcParams['figure.figsize']=(8,5)\n",
    "sns.heatmap(df[['body_mass_g','bill_length_mm','bill_depth_mm']].corr(method='pearson'), annot=True, cmap='Oranges', vmin=-1, vmax=1)"
   ]
  }
 ],
 "metadata": {
  "kernelspec": {
   "display_name": "Python 3 (ipykernel)",
   "language": "python",
   "name": "python3"
  },
  "language_info": {
   "codemirror_mode": {
    "name": "ipython",
    "version": 3
   },
   "file_extension": ".py",
   "mimetype": "text/x-python",
   "name": "python",
   "nbconvert_exporter": "python",
   "pygments_lexer": "ipython3",
   "version": "3.9.12"
  }
 },
 "nbformat": 4,
 "nbformat_minor": 5
}
