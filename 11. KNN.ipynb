{
 "cells": [
  {
   "cell_type": "markdown",
   "id": "e202f4e4",
   "metadata": {},
   "source": [
    "# 11. KNN"
   ]
  },
  {
   "cell_type": "markdown",
   "id": "e4fa0319",
   "metadata": {},
   "source": [
    "## 1. KNN의 이해\n",
    "\n",
    "주변 k개의 자료의 클래스 중 가장 많은 클래스로 특정자료의 클래스를 지정하는 방법 (Voting)  \n",
    "\n",
    "KNN 근방 분류기법에서는 K값에 따라 그 결과가 달라지므로 적절한 K값을 찾는 것이 매우 중요\n",
    "\n",
    "* 특징\n",
    "    - 추정방법, 통계적 모형, 자료변환 등이 필요없으며,\n",
    "    - 학습데이터만 있으면 되기 때문에 게으른 학습, 사례중심 학습으로 불리움.  \n",
    "    - 하지만 입력변수의 개수가 증가하면 [차원의 저주](https://modern-manual.tistory.com/4) 문제가 발생\n",
    "    \n"
   ]
  },
  {
   "cell_type": "markdown",
   "id": "a0ccd1a1",
   "metadata": {},
   "source": [
    "## 2. sklearn 모듈을 활용한 KNN"
   ]
  },
  {
   "cell_type": "code",
   "execution_count": 1,
   "id": "eff4049d",
   "metadata": {},
   "outputs": [],
   "source": [
    "import seaborn as sns"
   ]
  },
  {
   "cell_type": "code",
   "execution_count": 2,
   "id": "2cc68e08",
   "metadata": {},
   "outputs": [],
   "source": [
    "df = sns.load_dataset('iris')"
   ]
  },
  {
   "cell_type": "code",
   "execution_count": 3,
   "id": "18772587",
   "metadata": {},
   "outputs": [
    {
     "name": "stdout",
     "output_type": "stream",
     "text": [
      "<class 'pandas.core.frame.DataFrame'>\n",
      "RangeIndex: 150 entries, 0 to 149\n",
      "Data columns (total 5 columns):\n",
      " #   Column        Non-Null Count  Dtype  \n",
      "---  ------        --------------  -----  \n",
      " 0   sepal_length  150 non-null    float64\n",
      " 1   sepal_width   150 non-null    float64\n",
      " 2   petal_length  150 non-null    float64\n",
      " 3   petal_width   150 non-null    float64\n",
      " 4   species       150 non-null    object \n",
      "dtypes: float64(4), object(1)\n",
      "memory usage: 6.0+ KB\n"
     ]
    }
   ],
   "source": [
    "df.info()"
   ]
  },
  {
   "cell_type": "markdown",
   "id": "cdc32e91",
   "metadata": {},
   "source": [
    "k근방 분류기법은 출력변수의 값을 분류하여 예측하며 새로운 모형에 적용했을 때 예측성능이 떨어지는 단점이 있다.    \n",
    "\n",
    "### 2-1. Train 데이터와 Test 데이터 분할\n",
    "\n",
    "sklearn.model_selection 모듈의 train_test_split()함수 이용\n",
    "\n",
    "> from sklearn.model_selection import train_test_split\n",
    "\n",
    "> train 객체명, test 객체명 = train_test_split(데이터셋, test_size=비율, random_state=번호, stratify=출력변수)\n",
    "\n",
    "예측의 대상이 되는 출력변수에 대하여 층화추출을 통해 Train 데이터와 Test 데이터를 분류"
   ]
  },
  {
   "cell_type": "code",
   "execution_count": 4,
   "id": "d8676353",
   "metadata": {},
   "outputs": [],
   "source": [
    "from sklearn.model_selection import train_test_split"
   ]
  },
  {
   "cell_type": "code",
   "execution_count": 5,
   "id": "230f4e38",
   "metadata": {},
   "outputs": [],
   "source": [
    "train, test = train_test_split(df, test_size=0.3, random_state=1, stratify=df['species'])"
   ]
  },
  {
   "cell_type": "code",
   "execution_count": 6,
   "id": "50fd64ce",
   "metadata": {},
   "outputs": [
    {
     "data": {
      "text/html": [
       "<div>\n",
       "<style scoped>\n",
       "    .dataframe tbody tr th:only-of-type {\n",
       "        vertical-align: middle;\n",
       "    }\n",
       "\n",
       "    .dataframe tbody tr th {\n",
       "        vertical-align: top;\n",
       "    }\n",
       "\n",
       "    .dataframe thead th {\n",
       "        text-align: right;\n",
       "    }\n",
       "</style>\n",
       "<table border=\"1\" class=\"dataframe\">\n",
       "  <thead>\n",
       "    <tr style=\"text-align: right;\">\n",
       "      <th></th>\n",
       "      <th>sepal_length</th>\n",
       "      <th>sepal_width</th>\n",
       "      <th>petal_length</th>\n",
       "      <th>petal_width</th>\n",
       "      <th>species</th>\n",
       "    </tr>\n",
       "  </thead>\n",
       "  <tbody>\n",
       "    <tr>\n",
       "      <th>33</th>\n",
       "      <td>5.5</td>\n",
       "      <td>4.2</td>\n",
       "      <td>1.4</td>\n",
       "      <td>0.2</td>\n",
       "      <td>setosa</td>\n",
       "    </tr>\n",
       "    <tr>\n",
       "      <th>20</th>\n",
       "      <td>5.4</td>\n",
       "      <td>3.4</td>\n",
       "      <td>1.7</td>\n",
       "      <td>0.2</td>\n",
       "      <td>setosa</td>\n",
       "    </tr>\n",
       "    <tr>\n",
       "      <th>115</th>\n",
       "      <td>6.4</td>\n",
       "      <td>3.2</td>\n",
       "      <td>5.3</td>\n",
       "      <td>2.3</td>\n",
       "      <td>virginica</td>\n",
       "    </tr>\n",
       "    <tr>\n",
       "      <th>124</th>\n",
       "      <td>6.7</td>\n",
       "      <td>3.3</td>\n",
       "      <td>5.7</td>\n",
       "      <td>2.1</td>\n",
       "      <td>virginica</td>\n",
       "    </tr>\n",
       "    <tr>\n",
       "      <th>35</th>\n",
       "      <td>5.0</td>\n",
       "      <td>3.2</td>\n",
       "      <td>1.2</td>\n",
       "      <td>0.2</td>\n",
       "      <td>setosa</td>\n",
       "    </tr>\n",
       "  </tbody>\n",
       "</table>\n",
       "</div>"
      ],
      "text/plain": [
       "     sepal_length  sepal_width  petal_length  petal_width    species\n",
       "33            5.5          4.2           1.4          0.2     setosa\n",
       "20            5.4          3.4           1.7          0.2     setosa\n",
       "115           6.4          3.2           5.3          2.3  virginica\n",
       "124           6.7          3.3           5.7          2.1  virginica\n",
       "35            5.0          3.2           1.2          0.2     setosa"
      ]
     },
     "execution_count": 6,
     "metadata": {},
     "output_type": "execute_result"
    }
   ],
   "source": [
    "train.head()"
   ]
  },
  {
   "cell_type": "code",
   "execution_count": 7,
   "id": "06948315",
   "metadata": {},
   "outputs": [
    {
     "data": {
      "text/html": [
       "<div>\n",
       "<style scoped>\n",
       "    .dataframe tbody tr th:only-of-type {\n",
       "        vertical-align: middle;\n",
       "    }\n",
       "\n",
       "    .dataframe tbody tr th {\n",
       "        vertical-align: top;\n",
       "    }\n",
       "\n",
       "    .dataframe thead th {\n",
       "        text-align: right;\n",
       "    }\n",
       "</style>\n",
       "<table border=\"1\" class=\"dataframe\">\n",
       "  <thead>\n",
       "    <tr style=\"text-align: right;\">\n",
       "      <th></th>\n",
       "      <th>sepal_length</th>\n",
       "      <th>sepal_width</th>\n",
       "      <th>petal_length</th>\n",
       "      <th>petal_width</th>\n",
       "      <th>species</th>\n",
       "    </tr>\n",
       "  </thead>\n",
       "  <tbody>\n",
       "    <tr>\n",
       "      <th>148</th>\n",
       "      <td>6.2</td>\n",
       "      <td>3.4</td>\n",
       "      <td>5.4</td>\n",
       "      <td>2.3</td>\n",
       "      <td>virginica</td>\n",
       "    </tr>\n",
       "    <tr>\n",
       "      <th>5</th>\n",
       "      <td>5.4</td>\n",
       "      <td>3.9</td>\n",
       "      <td>1.7</td>\n",
       "      <td>0.4</td>\n",
       "      <td>setosa</td>\n",
       "    </tr>\n",
       "    <tr>\n",
       "      <th>6</th>\n",
       "      <td>4.6</td>\n",
       "      <td>3.4</td>\n",
       "      <td>1.4</td>\n",
       "      <td>0.3</td>\n",
       "      <td>setosa</td>\n",
       "    </tr>\n",
       "    <tr>\n",
       "      <th>106</th>\n",
       "      <td>4.9</td>\n",
       "      <td>2.5</td>\n",
       "      <td>4.5</td>\n",
       "      <td>1.7</td>\n",
       "      <td>virginica</td>\n",
       "    </tr>\n",
       "    <tr>\n",
       "      <th>75</th>\n",
       "      <td>6.6</td>\n",
       "      <td>3.0</td>\n",
       "      <td>4.4</td>\n",
       "      <td>1.4</td>\n",
       "      <td>versicolor</td>\n",
       "    </tr>\n",
       "  </tbody>\n",
       "</table>\n",
       "</div>"
      ],
      "text/plain": [
       "     sepal_length  sepal_width  petal_length  petal_width     species\n",
       "148           6.2          3.4           5.4          2.3   virginica\n",
       "5             5.4          3.9           1.7          0.4      setosa\n",
       "6             4.6          3.4           1.4          0.3      setosa\n",
       "106           4.9          2.5           4.5          1.7   virginica\n",
       "75            6.6          3.0           4.4          1.4  versicolor"
      ]
     },
     "execution_count": 7,
     "metadata": {},
     "output_type": "execute_result"
    }
   ],
   "source": [
    "test.head()"
   ]
  },
  {
   "cell_type": "code",
   "execution_count": 8,
   "id": "523d091b",
   "metadata": {},
   "outputs": [],
   "source": [
    "y_train=train['species']\n",
    "x_train=train[['sepal_length','sepal_width','petal_length','petal_width']]\n",
    "\n",
    "y_test=test['species']\n",
    "x_test=test[['sepal_length','sepal_width','petal_length','petal_width']]"
   ]
  },
  {
   "cell_type": "code",
   "execution_count": 9,
   "id": "538eae5f",
   "metadata": {},
   "outputs": [
    {
     "data": {
      "text/plain": [
       "33        setosa\n",
       "20        setosa\n",
       "115    virginica\n",
       "124    virginica\n",
       "35        setosa\n",
       "Name: species, dtype: object"
      ]
     },
     "execution_count": 9,
     "metadata": {},
     "output_type": "execute_result"
    }
   ],
   "source": [
    "y_train.head()"
   ]
  },
  {
   "cell_type": "code",
   "execution_count": 10,
   "id": "60184c18",
   "metadata": {},
   "outputs": [
    {
     "data": {
      "text/html": [
       "<div>\n",
       "<style scoped>\n",
       "    .dataframe tbody tr th:only-of-type {\n",
       "        vertical-align: middle;\n",
       "    }\n",
       "\n",
       "    .dataframe tbody tr th {\n",
       "        vertical-align: top;\n",
       "    }\n",
       "\n",
       "    .dataframe thead th {\n",
       "        text-align: right;\n",
       "    }\n",
       "</style>\n",
       "<table border=\"1\" class=\"dataframe\">\n",
       "  <thead>\n",
       "    <tr style=\"text-align: right;\">\n",
       "      <th></th>\n",
       "      <th>sepal_length</th>\n",
       "      <th>sepal_width</th>\n",
       "      <th>petal_length</th>\n",
       "      <th>petal_width</th>\n",
       "    </tr>\n",
       "  </thead>\n",
       "  <tbody>\n",
       "    <tr>\n",
       "      <th>33</th>\n",
       "      <td>5.5</td>\n",
       "      <td>4.2</td>\n",
       "      <td>1.4</td>\n",
       "      <td>0.2</td>\n",
       "    </tr>\n",
       "    <tr>\n",
       "      <th>20</th>\n",
       "      <td>5.4</td>\n",
       "      <td>3.4</td>\n",
       "      <td>1.7</td>\n",
       "      <td>0.2</td>\n",
       "    </tr>\n",
       "    <tr>\n",
       "      <th>115</th>\n",
       "      <td>6.4</td>\n",
       "      <td>3.2</td>\n",
       "      <td>5.3</td>\n",
       "      <td>2.3</td>\n",
       "    </tr>\n",
       "    <tr>\n",
       "      <th>124</th>\n",
       "      <td>6.7</td>\n",
       "      <td>3.3</td>\n",
       "      <td>5.7</td>\n",
       "      <td>2.1</td>\n",
       "    </tr>\n",
       "    <tr>\n",
       "      <th>35</th>\n",
       "      <td>5.0</td>\n",
       "      <td>3.2</td>\n",
       "      <td>1.2</td>\n",
       "      <td>0.2</td>\n",
       "    </tr>\n",
       "  </tbody>\n",
       "</table>\n",
       "</div>"
      ],
      "text/plain": [
       "     sepal_length  sepal_width  petal_length  petal_width\n",
       "33            5.5          4.2           1.4          0.2\n",
       "20            5.4          3.4           1.7          0.2\n",
       "115           6.4          3.2           5.3          2.3\n",
       "124           6.7          3.3           5.7          2.1\n",
       "35            5.0          3.2           1.2          0.2"
      ]
     },
     "execution_count": 10,
     "metadata": {},
     "output_type": "execute_result"
    }
   ],
   "source": [
    "x_train.head()"
   ]
  },
  {
   "cell_type": "markdown",
   "id": "15c68c46",
   "metadata": {},
   "source": [
    "### 2-2. k 근방 분류기법 실시\n",
    "\n",
    "sklearn.model_selection 모듈의 KNeighborsClassifier()함수 이용\n",
    "\n",
    "> from sklearn.neighbors import KNeighborsClassifier\n",
    "\n",
    "> KNeighborsClassifier(n_neighbors=k값, p=민콥스키 모수).fit(입력변수, 출력변수)\n",
    "\n",
    "* n_neighbors 옵션: Voting을 위한 인접한 데이터의 수인 값을 지정. \n",
    "* p 옵션: 민콥스키 모수 지정(데이터간 거리를 측정), p=1=맨하탄 거리, p=2=유클리디안 거리\n",
    "\n",
    "> 예측값: knn객체.predict(입력변수)\n",
    "\n",
    "KNeighborsClassifier().fit() 함수를 실행시킨 결과를 객체에 할당\n",
    "\n",
    "k근방 분류기법 모형평가에 사용되는 분류표, 정분류유르 평가지표를 확인하기 위하여 sklearn.metrics 모듈을 이용한다.   \n",
    "\n",
    "> from sklearn.metrics import confusion_matrix, accuracy_score, classification_report\n",
    "\n",
    "> 분류표: confusion_matrix(출력변수 예측값, 출력변수)\n",
    "\n",
    "> 정분류율: accuracy_score(출력변수, 출력변수 예측값)\n",
    "\n",
    "> 분류 예측력 평가 지표: classification_report(출력변수, 출력변수 예측값)\n",
    "\n",
    "**k근방 분류기법은 거리를 측정하여 데이터간 인접성을 판단하므로, 데이터의 단위가 매우 중요** 따라서 단위의 크기가 매우 다르면 분석결과가 좋지 않으므로 따라서 필요에 따라 입력변수의 표준화 작업이 요구됨.   \n",
    "\n",
    "> from sklearn.preporcessing import StandardScaler\n",
    "\n",
    "> 객체명=StandardScaler().fit(Train데이터 입력변수)\n",
    "\n",
    "> Train 데이터 표준화: 객체명.transform(Train 데이터 입력변수)\n",
    "\n",
    "> Test 데이터 표준화: 객체명.transform(Test 데이터 입력변수)\n",
    "\n",
    "표준화한 결과가 크게 차이 나지 않는다면, 모형해석의 용이성 때문에 표준화하지 않은 결과를 사용.   \n",
    "\n"
   ]
  },
  {
   "cell_type": "code",
   "execution_count": 11,
   "id": "85dc4a53",
   "metadata": {},
   "outputs": [],
   "source": [
    "from sklearn.neighbors import KNeighborsClassifier"
   ]
  },
  {
   "cell_type": "code",
   "execution_count": 12,
   "id": "b62d295c",
   "metadata": {},
   "outputs": [],
   "source": [
    "knn = KNeighborsClassifier(n_neighbors=5, p=2).fit(x_train, y_train) # p=2 유클리디안 거리"
   ]
  },
  {
   "cell_type": "code",
   "execution_count": 13,
   "id": "12ce0b9c",
   "metadata": {},
   "outputs": [],
   "source": [
    "y_train_pred = knn.predict(x_train)"
   ]
  },
  {
   "cell_type": "code",
   "execution_count": 14,
   "id": "6ad79b7e",
   "metadata": {},
   "outputs": [],
   "source": [
    "from sklearn.metrics import confusion_matrix, accuracy_score, classification_report"
   ]
  },
  {
   "cell_type": "code",
   "execution_count": 15,
   "id": "e489bb15",
   "metadata": {},
   "outputs": [
    {
     "data": {
      "text/plain": [
       "array([[35,  0,  0],\n",
       "       [ 0, 33,  0],\n",
       "       [ 0,  2, 35]])"
      ]
     },
     "execution_count": 15,
     "metadata": {},
     "output_type": "execute_result"
    }
   ],
   "source": [
    "confusion_matrix(y_train_pred, y_train)"
   ]
  },
  {
   "cell_type": "code",
   "execution_count": 16,
   "id": "5c0c4224",
   "metadata": {},
   "outputs": [
    {
     "data": {
      "text/plain": [
       "0.9809523809523809"
      ]
     },
     "execution_count": 16,
     "metadata": {},
     "output_type": "execute_result"
    }
   ],
   "source": [
    "accuracy_score(y_train_pred, y_train)"
   ]
  },
  {
   "cell_type": "code",
   "execution_count": 17,
   "id": "27217b44",
   "metadata": {},
   "outputs": [],
   "source": [
    "knn_report = classification_report(y_train, y_train_pred)"
   ]
  },
  {
   "cell_type": "code",
   "execution_count": 18,
   "id": "5b41fa0b",
   "metadata": {},
   "outputs": [
    {
     "name": "stdout",
     "output_type": "stream",
     "text": [
      "              precision    recall  f1-score   support\n",
      "\n",
      "      setosa       1.00      1.00      1.00        35\n",
      "  versicolor       1.00      0.94      0.97        35\n",
      "   virginica       0.95      1.00      0.97        35\n",
      "\n",
      "    accuracy                           0.98       105\n",
      "   macro avg       0.98      0.98      0.98       105\n",
      "weighted avg       0.98      0.98      0.98       105\n",
      "\n"
     ]
    }
   ],
   "source": [
    "print(knn_report)"
   ]
  },
  {
   "cell_type": "code",
   "execution_count": 19,
   "id": "85d035be",
   "metadata": {},
   "outputs": [],
   "source": [
    "y_test_pred = knn.predict(x_test)"
   ]
  },
  {
   "cell_type": "code",
   "execution_count": 20,
   "id": "285ddf25",
   "metadata": {},
   "outputs": [
    {
     "data": {
      "text/plain": [
       "array([[15,  0,  0],\n",
       "       [ 0, 15,  1],\n",
       "       [ 0,  0, 14]])"
      ]
     },
     "execution_count": 20,
     "metadata": {},
     "output_type": "execute_result"
    }
   ],
   "source": [
    "confusion_matrix(y_test_pred, y_test)"
   ]
  },
  {
   "cell_type": "code",
   "execution_count": 21,
   "id": "11aaa5d2",
   "metadata": {},
   "outputs": [
    {
     "data": {
      "text/plain": [
       "0.9777777777777777"
      ]
     },
     "execution_count": 21,
     "metadata": {},
     "output_type": "execute_result"
    }
   ],
   "source": [
    "accuracy_score(y_test_pred, y_test)"
   ]
  },
  {
   "cell_type": "code",
   "execution_count": 22,
   "id": "40463cc8",
   "metadata": {},
   "outputs": [],
   "source": [
    "knn_report1 = classification_report(y_test, y_test_pred)"
   ]
  },
  {
   "cell_type": "code",
   "execution_count": 23,
   "id": "50faa45f",
   "metadata": {},
   "outputs": [
    {
     "name": "stdout",
     "output_type": "stream",
     "text": [
      "              precision    recall  f1-score   support\n",
      "\n",
      "      setosa       1.00      1.00      1.00        15\n",
      "  versicolor       0.94      1.00      0.97        15\n",
      "   virginica       1.00      0.93      0.97        15\n",
      "\n",
      "    accuracy                           0.98        45\n",
      "   macro avg       0.98      0.98      0.98        45\n",
      "weighted avg       0.98      0.98      0.98        45\n",
      "\n"
     ]
    }
   ],
   "source": [
    "print(knn_report1)"
   ]
  },
  {
   "cell_type": "markdown",
   "id": "3b6ee01f",
   "metadata": {},
   "source": [
    "#### 입력변수 표준화"
   ]
  },
  {
   "cell_type": "code",
   "execution_count": 24,
   "id": "1cf4de09",
   "metadata": {},
   "outputs": [],
   "source": [
    "from sklearn.preprocessing import StandardScaler"
   ]
  },
  {
   "cell_type": "code",
   "execution_count": 25,
   "id": "454b5f79",
   "metadata": {},
   "outputs": [],
   "source": [
    "# '.fit()' computes the mean and std to be used for later scaling\n",
    "sc = StandardScaler().fit(x_train)"
   ]
  },
  {
   "cell_type": "markdown",
   "id": "56082f61",
   "metadata": {},
   "source": [
    "표준화를 위한 평균과 표준편차를 계산한 결과를 sc객체에 할당"
   ]
  },
  {
   "cell_type": "code",
   "execution_count": 26,
   "id": "2bf17e78",
   "metadata": {},
   "outputs": [],
   "source": [
    "x_train_std = sc.transform(x_train)"
   ]
  },
  {
   "cell_type": "code",
   "execution_count": 27,
   "id": "a0069ea3",
   "metadata": {},
   "outputs": [],
   "source": [
    "x_test_std = sc.transform(x_test)"
   ]
  },
  {
   "cell_type": "code",
   "execution_count": 28,
   "id": "09e3b8f0",
   "metadata": {},
   "outputs": [],
   "source": [
    "from sklearn.neighbors import KNeighborsClassifier"
   ]
  },
  {
   "cell_type": "code",
   "execution_count": 29,
   "id": "8b8c169c",
   "metadata": {},
   "outputs": [],
   "source": [
    "knn1=KNeighborsClassifier(n_neighbors=5, p=2).fit(x_train_std, y_train)"
   ]
  },
  {
   "cell_type": "code",
   "execution_count": 30,
   "id": "c339d8ef",
   "metadata": {},
   "outputs": [],
   "source": [
    "y_train_std_pred = knn1.predict(x_train_std)"
   ]
  },
  {
   "cell_type": "code",
   "execution_count": 31,
   "id": "bf9a4532",
   "metadata": {},
   "outputs": [
    {
     "data": {
      "text/plain": [
       "array([[35,  0,  0],\n",
       "       [ 0, 33,  2],\n",
       "       [ 0,  2, 33]])"
      ]
     },
     "execution_count": 31,
     "metadata": {},
     "output_type": "execute_result"
    }
   ],
   "source": [
    "confusion_matrix(y_train_std_pred, y_train)"
   ]
  },
  {
   "cell_type": "code",
   "execution_count": 32,
   "id": "de2d48de",
   "metadata": {},
   "outputs": [
    {
     "data": {
      "text/plain": [
       "0.9619047619047619"
      ]
     },
     "execution_count": 32,
     "metadata": {},
     "output_type": "execute_result"
    }
   ],
   "source": [
    "accuracy_score(y_train_std_pred, y_train)"
   ]
  },
  {
   "cell_type": "code",
   "execution_count": 33,
   "id": "ecdcf663",
   "metadata": {},
   "outputs": [],
   "source": [
    "y_test_std_pred = knn1.predict(x_test_std)"
   ]
  },
  {
   "cell_type": "code",
   "execution_count": 34,
   "id": "ea0e57df",
   "metadata": {},
   "outputs": [
    {
     "data": {
      "text/plain": [
       "array([[15,  0,  0],\n",
       "       [ 0, 13,  1],\n",
       "       [ 0,  2, 14]])"
      ]
     },
     "execution_count": 34,
     "metadata": {},
     "output_type": "execute_result"
    }
   ],
   "source": [
    "confusion_matrix(y_test_std_pred, y_test)"
   ]
  },
  {
   "cell_type": "code",
   "execution_count": 35,
   "id": "2eb75a5f",
   "metadata": {
    "scrolled": true
   },
   "outputs": [
    {
     "data": {
      "text/plain": [
       "0.9333333333333333"
      ]
     },
     "execution_count": 35,
     "metadata": {},
     "output_type": "execute_result"
    }
   ],
   "source": [
    "accuracy_score(y_test_std_pred, y_test)"
   ]
  },
  {
   "cell_type": "code",
   "execution_count": 36,
   "id": "eb02d957",
   "metadata": {},
   "outputs": [],
   "source": [
    "knn1_report1 = classification_report(y_test, y_test_std_pred)"
   ]
  },
  {
   "cell_type": "code",
   "execution_count": 37,
   "id": "4588fd1c",
   "metadata": {},
   "outputs": [
    {
     "name": "stdout",
     "output_type": "stream",
     "text": [
      "              precision    recall  f1-score   support\n",
      "\n",
      "      setosa       1.00      1.00      1.00        15\n",
      "  versicolor       0.93      0.87      0.90        15\n",
      "   virginica       0.88      0.93      0.90        15\n",
      "\n",
      "    accuracy                           0.93        45\n",
      "   macro avg       0.93      0.93      0.93        45\n",
      "weighted avg       0.93      0.93      0.93        45\n",
      "\n"
     ]
    }
   ],
   "source": [
    "print(knn1_report1)"
   ]
  },
  {
   "cell_type": "markdown",
   "id": "e60159e2",
   "metadata": {},
   "source": [
    "## 실습\n",
    "\n",
    "### [과제11] k근방 분류기법의 실습\n",
    "\n",
    "seaborn모듈의 penguins데이터에서 species를 예측하기 위해 bill_length_mm, bill_depth_mm, flipper_length_mm, body_mass_g을 사용한 k근방 분류기법을 실시"
   ]
  },
  {
   "cell_type": "code",
   "execution_count": 38,
   "id": "d0652dd9",
   "metadata": {},
   "outputs": [],
   "source": [
    "df = sns.load_dataset('penguins')"
   ]
  },
  {
   "cell_type": "code",
   "execution_count": 39,
   "id": "a6972dc8",
   "metadata": {},
   "outputs": [
    {
     "name": "stdout",
     "output_type": "stream",
     "text": [
      "<class 'pandas.core.frame.DataFrame'>\n",
      "RangeIndex: 344 entries, 0 to 343\n",
      "Data columns (total 7 columns):\n",
      " #   Column             Non-Null Count  Dtype  \n",
      "---  ------             --------------  -----  \n",
      " 0   species            344 non-null    object \n",
      " 1   island             344 non-null    object \n",
      " 2   bill_length_mm     342 non-null    float64\n",
      " 3   bill_depth_mm      342 non-null    float64\n",
      " 4   flipper_length_mm  342 non-null    float64\n",
      " 5   body_mass_g        342 non-null    float64\n",
      " 6   sex                333 non-null    object \n",
      "dtypes: float64(4), object(3)\n",
      "memory usage: 18.9+ KB\n"
     ]
    }
   ],
   "source": [
    "df.info()"
   ]
  },
  {
   "cell_type": "code",
   "execution_count": 40,
   "id": "149ebce5",
   "metadata": {},
   "outputs": [],
   "source": [
    "df = df.dropna(subset=['species', 'bill_length_mm','bill_depth_mm','flipper_length_mm','body_mass_g'], \n",
    "               how='any', axis=0)"
   ]
  },
  {
   "cell_type": "code",
   "execution_count": 41,
   "id": "08c7662c",
   "metadata": {},
   "outputs": [
    {
     "name": "stdout",
     "output_type": "stream",
     "text": [
      "<class 'pandas.core.frame.DataFrame'>\n",
      "Int64Index: 342 entries, 0 to 343\n",
      "Data columns (total 7 columns):\n",
      " #   Column             Non-Null Count  Dtype  \n",
      "---  ------             --------------  -----  \n",
      " 0   species            342 non-null    object \n",
      " 1   island             342 non-null    object \n",
      " 2   bill_length_mm     342 non-null    float64\n",
      " 3   bill_depth_mm      342 non-null    float64\n",
      " 4   flipper_length_mm  342 non-null    float64\n",
      " 5   body_mass_g        342 non-null    float64\n",
      " 6   sex                333 non-null    object \n",
      "dtypes: float64(4), object(3)\n",
      "memory usage: 21.4+ KB\n"
     ]
    }
   ],
   "source": [
    "df.info()"
   ]
  },
  {
   "cell_type": "code",
   "execution_count": 42,
   "id": "65850939",
   "metadata": {},
   "outputs": [],
   "source": [
    "train, test = train_test_split(df, test_size=0.3, random_state=1, stratify=df['species'])"
   ]
  },
  {
   "cell_type": "code",
   "execution_count": 43,
   "id": "c775de37",
   "metadata": {},
   "outputs": [],
   "source": [
    "y_train = train['species']\n",
    "X_train = train[['bill_length_mm','bill_depth_mm','flipper_length_mm','body_mass_g']]\n",
    "\n",
    "y_test = test['species']\n",
    "X_test = test[['bill_length_mm','bill_depth_mm','flipper_length_mm','body_mass_g']]"
   ]
  },
  {
   "cell_type": "code",
   "execution_count": 44,
   "id": "7c7c2a21",
   "metadata": {},
   "outputs": [
    {
     "data": {
      "text/html": [
       "<div>\n",
       "<style scoped>\n",
       "    .dataframe tbody tr th:only-of-type {\n",
       "        vertical-align: middle;\n",
       "    }\n",
       "\n",
       "    .dataframe tbody tr th {\n",
       "        vertical-align: top;\n",
       "    }\n",
       "\n",
       "    .dataframe thead th {\n",
       "        text-align: right;\n",
       "    }\n",
       "</style>\n",
       "<table border=\"1\" class=\"dataframe\">\n",
       "  <thead>\n",
       "    <tr style=\"text-align: right;\">\n",
       "      <th></th>\n",
       "      <th>bill_length_mm</th>\n",
       "      <th>bill_depth_mm</th>\n",
       "      <th>flipper_length_mm</th>\n",
       "      <th>body_mass_g</th>\n",
       "    </tr>\n",
       "  </thead>\n",
       "  <tbody>\n",
       "    <tr>\n",
       "      <th>99</th>\n",
       "      <td>43.2</td>\n",
       "      <td>18.5</td>\n",
       "      <td>192.0</td>\n",
       "      <td>4100.0</td>\n",
       "    </tr>\n",
       "    <tr>\n",
       "      <th>188</th>\n",
       "      <td>47.6</td>\n",
       "      <td>18.3</td>\n",
       "      <td>195.0</td>\n",
       "      <td>3850.0</td>\n",
       "    </tr>\n",
       "    <tr>\n",
       "      <th>81</th>\n",
       "      <td>42.9</td>\n",
       "      <td>17.6</td>\n",
       "      <td>196.0</td>\n",
       "      <td>4700.0</td>\n",
       "    </tr>\n",
       "    <tr>\n",
       "      <th>133</th>\n",
       "      <td>37.5</td>\n",
       "      <td>18.5</td>\n",
       "      <td>199.0</td>\n",
       "      <td>4475.0</td>\n",
       "    </tr>\n",
       "    <tr>\n",
       "      <th>100</th>\n",
       "      <td>35.0</td>\n",
       "      <td>17.9</td>\n",
       "      <td>192.0</td>\n",
       "      <td>3725.0</td>\n",
       "    </tr>\n",
       "  </tbody>\n",
       "</table>\n",
       "</div>"
      ],
      "text/plain": [
       "     bill_length_mm  bill_depth_mm  flipper_length_mm  body_mass_g\n",
       "99             43.2           18.5              192.0       4100.0\n",
       "188            47.6           18.3              195.0       3850.0\n",
       "81             42.9           17.6              196.0       4700.0\n",
       "133            37.5           18.5              199.0       4475.0\n",
       "100            35.0           17.9              192.0       3725.0"
      ]
     },
     "execution_count": 44,
     "metadata": {},
     "output_type": "execute_result"
    }
   ],
   "source": [
    "X_train.head()"
   ]
  },
  {
   "cell_type": "code",
   "execution_count": 45,
   "id": "bc552e22",
   "metadata": {},
   "outputs": [
    {
     "data": {
      "text/plain": [
       "99        Adelie\n",
       "188    Chinstrap\n",
       "81        Adelie\n",
       "133       Adelie\n",
       "100       Adelie\n",
       "Name: species, dtype: object"
      ]
     },
     "execution_count": 45,
     "metadata": {},
     "output_type": "execute_result"
    }
   ],
   "source": [
    "y_train.head()"
   ]
  },
  {
   "cell_type": "code",
   "execution_count": 46,
   "id": "7f0bbbe9",
   "metadata": {},
   "outputs": [],
   "source": [
    "knn = KNeighborsClassifier(n_neighbors=3, p=2).fit(X_train, y_train)"
   ]
  },
  {
   "cell_type": "code",
   "execution_count": 47,
   "id": "674e589e",
   "metadata": {},
   "outputs": [],
   "source": [
    "y_train_pred = knn.predict(X_train)"
   ]
  },
  {
   "cell_type": "code",
   "execution_count": 48,
   "id": "51a98569",
   "metadata": {},
   "outputs": [
    {
     "data": {
      "text/plain": [
       "array([[100,  15,   4],\n",
       "       [  2,  29,   1],\n",
       "       [  4,   3,  81]])"
      ]
     },
     "execution_count": 48,
     "metadata": {},
     "output_type": "execute_result"
    }
   ],
   "source": [
    "confusion_matrix(y_train_pred, y_train)"
   ]
  },
  {
   "cell_type": "code",
   "execution_count": 49,
   "id": "7ddef1ab",
   "metadata": {},
   "outputs": [
    {
     "data": {
      "text/plain": [
       "0.8786610878661087"
      ]
     },
     "execution_count": 49,
     "metadata": {},
     "output_type": "execute_result"
    }
   ],
   "source": [
    "accuracy_score(y_train_pred, y_train)"
   ]
  },
  {
   "cell_type": "code",
   "execution_count": 50,
   "id": "abb7633b",
   "metadata": {},
   "outputs": [],
   "source": [
    "knn_report = classification_report(y_train, y_train_pred)"
   ]
  },
  {
   "cell_type": "code",
   "execution_count": 51,
   "id": "d06c20e6",
   "metadata": {},
   "outputs": [
    {
     "name": "stdout",
     "output_type": "stream",
     "text": [
      "              precision    recall  f1-score   support\n",
      "\n",
      "      Adelie       0.84      0.94      0.89       106\n",
      "   Chinstrap       0.91      0.62      0.73        47\n",
      "      Gentoo       0.92      0.94      0.93        86\n",
      "\n",
      "    accuracy                           0.88       239\n",
      "   macro avg       0.89      0.83      0.85       239\n",
      "weighted avg       0.88      0.88      0.87       239\n",
      "\n"
     ]
    }
   ],
   "source": [
    "print(knn_report)"
   ]
  },
  {
   "cell_type": "code",
   "execution_count": 52,
   "id": "4a0960f8",
   "metadata": {},
   "outputs": [],
   "source": [
    "y_test_pred = knn.predict(X_test)"
   ]
  },
  {
   "cell_type": "code",
   "execution_count": 53,
   "id": "2b53af51",
   "metadata": {},
   "outputs": [
    {
     "data": {
      "text/plain": [
       "array([[42, 16,  3],\n",
       "       [ 1,  4,  1],\n",
       "       [ 2,  1, 33]])"
      ]
     },
     "execution_count": 53,
     "metadata": {},
     "output_type": "execute_result"
    }
   ],
   "source": [
    "confusion_matrix(y_test_pred, y_test)"
   ]
  },
  {
   "cell_type": "code",
   "execution_count": 54,
   "id": "dc3b2f1f",
   "metadata": {},
   "outputs": [
    {
     "data": {
      "text/plain": [
       "0.7669902912621359"
      ]
     },
     "execution_count": 54,
     "metadata": {},
     "output_type": "execute_result"
    }
   ],
   "source": [
    "accuracy_score(y_test_pred, y_test)"
   ]
  },
  {
   "cell_type": "code",
   "execution_count": 55,
   "id": "6148300b",
   "metadata": {},
   "outputs": [],
   "source": [
    "knn_report1 = classification_report(y_test, y_test_pred)"
   ]
  },
  {
   "cell_type": "code",
   "execution_count": 56,
   "id": "29f422b7",
   "metadata": {},
   "outputs": [
    {
     "name": "stdout",
     "output_type": "stream",
     "text": [
      "              precision    recall  f1-score   support\n",
      "\n",
      "      Adelie       0.69      0.93      0.79        45\n",
      "   Chinstrap       0.67      0.19      0.30        21\n",
      "      Gentoo       0.92      0.89      0.90        37\n",
      "\n",
      "    accuracy                           0.77       103\n",
      "   macro avg       0.76      0.67      0.66       103\n",
      "weighted avg       0.77      0.77      0.73       103\n",
      "\n"
     ]
    }
   ],
   "source": [
    "print(knn_report1)"
   ]
  },
  {
   "cell_type": "code",
   "execution_count": 57,
   "id": "22637b37",
   "metadata": {},
   "outputs": [],
   "source": [
    "sc = StandardScaler().fit(X_train)"
   ]
  },
  {
   "cell_type": "code",
   "execution_count": 58,
   "id": "1e25ed4a",
   "metadata": {},
   "outputs": [],
   "source": [
    "X_train_std = sc.transform(X_train)"
   ]
  },
  {
   "cell_type": "code",
   "execution_count": 59,
   "id": "552ab604",
   "metadata": {},
   "outputs": [],
   "source": [
    "X_test_std = sc.transform(X_test)"
   ]
  },
  {
   "cell_type": "code",
   "execution_count": 60,
   "id": "ccff6fac",
   "metadata": {},
   "outputs": [],
   "source": [
    "knn1=KNeighborsClassifier(n_neighbors=3, p=2).fit(X_train_std, y_train)"
   ]
  },
  {
   "cell_type": "code",
   "execution_count": 61,
   "id": "75c461c6",
   "metadata": {},
   "outputs": [],
   "source": [
    "y_train_std_pred = knn1.predict(X_train_std)"
   ]
  },
  {
   "cell_type": "code",
   "execution_count": 62,
   "id": "6ac75eca",
   "metadata": {},
   "outputs": [
    {
     "data": {
      "text/plain": [
       "array([[106,   1,   0],\n",
       "       [  0,  46,   0],\n",
       "       [  0,   0,  86]])"
      ]
     },
     "execution_count": 62,
     "metadata": {},
     "output_type": "execute_result"
    }
   ],
   "source": [
    "confusion_matrix(y_train_std_pred, y_train)"
   ]
  },
  {
   "cell_type": "code",
   "execution_count": 63,
   "id": "0ec7ac92",
   "metadata": {},
   "outputs": [
    {
     "data": {
      "text/plain": [
       "0.99581589958159"
      ]
     },
     "execution_count": 63,
     "metadata": {},
     "output_type": "execute_result"
    }
   ],
   "source": [
    "accuracy_score(y_train_std_pred, y_train)"
   ]
  },
  {
   "cell_type": "code",
   "execution_count": 64,
   "id": "b3481786",
   "metadata": {},
   "outputs": [],
   "source": [
    "knn1_report = classification_report(y_train, y_train_std_pred)"
   ]
  },
  {
   "cell_type": "code",
   "execution_count": 65,
   "id": "e8acf749",
   "metadata": {
    "scrolled": true
   },
   "outputs": [
    {
     "name": "stdout",
     "output_type": "stream",
     "text": [
      "              precision    recall  f1-score   support\n",
      "\n",
      "      Adelie       0.99      1.00      1.00       106\n",
      "   Chinstrap       1.00      0.98      0.99        47\n",
      "      Gentoo       1.00      1.00      1.00        86\n",
      "\n",
      "    accuracy                           1.00       239\n",
      "   macro avg       1.00      0.99      0.99       239\n",
      "weighted avg       1.00      1.00      1.00       239\n",
      "\n"
     ]
    }
   ],
   "source": [
    "print(knn1_report)"
   ]
  },
  {
   "cell_type": "markdown",
   "id": "c085ce98",
   "metadata": {},
   "source": [
    "표준화하기 전보다 훨씬 더 정확한 결과가 나오는 것을 확인할 수 있음"
   ]
  },
  {
   "cell_type": "code",
   "execution_count": 66,
   "id": "ab32d8c1",
   "metadata": {},
   "outputs": [],
   "source": [
    "y_test_std_pred = knn1.predict(X_test_std)"
   ]
  },
  {
   "cell_type": "code",
   "execution_count": 67,
   "id": "e4ee832e",
   "metadata": {},
   "outputs": [
    {
     "data": {
      "text/plain": [
       "array([[44,  2,  0],\n",
       "       [ 1, 19,  0],\n",
       "       [ 0,  0, 37]])"
      ]
     },
     "execution_count": 67,
     "metadata": {},
     "output_type": "execute_result"
    }
   ],
   "source": [
    "confusion_matrix(y_test_std_pred, y_test)"
   ]
  },
  {
   "cell_type": "code",
   "execution_count": 68,
   "id": "0ee3f75c",
   "metadata": {},
   "outputs": [
    {
     "data": {
      "text/plain": [
       "0.970873786407767"
      ]
     },
     "execution_count": 68,
     "metadata": {},
     "output_type": "execute_result"
    }
   ],
   "source": [
    "accuracy_score(y_test_std_pred, y_test)"
   ]
  },
  {
   "cell_type": "code",
   "execution_count": 69,
   "id": "2ac23c36",
   "metadata": {},
   "outputs": [],
   "source": [
    "knn1_report1 = classification_report(y_test, y_test_std_pred)"
   ]
  },
  {
   "cell_type": "code",
   "execution_count": 70,
   "id": "5819788a",
   "metadata": {
    "scrolled": true
   },
   "outputs": [
    {
     "name": "stdout",
     "output_type": "stream",
     "text": [
      "              precision    recall  f1-score   support\n",
      "\n",
      "      Adelie       0.96      0.98      0.97        45\n",
      "   Chinstrap       0.95      0.90      0.93        21\n",
      "      Gentoo       1.00      1.00      1.00        37\n",
      "\n",
      "    accuracy                           0.97       103\n",
      "   macro avg       0.97      0.96      0.96       103\n",
      "weighted avg       0.97      0.97      0.97       103\n",
      "\n"
     ]
    }
   ],
   "source": [
    "print(knn1_report1)"
   ]
  },
  {
   "cell_type": "markdown",
   "id": "e9b01ba7",
   "metadata": {},
   "source": [
    "표준화를 실시한 후 knn기법을 사용하는 것이 더 효과적임."
   ]
  }
 ],
 "metadata": {
  "kernelspec": {
   "display_name": "Python 3 (ipykernel)",
   "language": "python",
   "name": "python3"
  },
  "language_info": {
   "codemirror_mode": {
    "name": "ipython",
    "version": 3
   },
   "file_extension": ".py",
   "mimetype": "text/x-python",
   "name": "python",
   "nbconvert_exporter": "python",
   "pygments_lexer": "ipython3",
   "version": "3.9.12"
  }
 },
 "nbformat": 4,
 "nbformat_minor": 5
}
