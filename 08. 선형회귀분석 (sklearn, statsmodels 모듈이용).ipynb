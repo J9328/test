{
 "cells": [
  {
   "cell_type": "markdown",
   "id": "75fa903c",
   "metadata": {},
   "source": [
    "# 08. 선형회귀분석\n",
    "\n",
    "t-검정, 카이제곱검정, ANOVA는 집단 간의 특성값의 차이를 비교하는 목적임.  \n",
    "두 변수간의 인과관계를 파악하기 위한 대표적인 방법이 선형회귀분석임.    \n",
    "\n",
    "선형회귀분석: 독립변수 X와 종속변수 Y간의 일정한 선형적 상관관계 모델링하여 독립변수 X의 변화에 따른 종속변수 Y의 값을 통계적으로 예측.   "
   ]
  },
  {
   "cell_type": "markdown",
   "id": "c8676a5a",
   "metadata": {},
   "source": [
    "## 1. 누락데이터 확인 및 치환\n",
    "\n",
    "### 1-1. 선형회귀분석\n",
    "\n",
    "변수 간의 인과관계를 확인하기 위한 통계적 분석방법 중 하나   \n",
    "\n",
    "**총제곱합(SST) = 회귀제곱합(SSR) + 오차제곱합(SSE)**\n",
    "\n",
    "- 총제곱합(SST): 전체적인 출력변수의 값들의 변동의 크기. \n",
    "- 회귀제곱합(SSR): 선형회귀모형에 의해 설명되는 부분의 변동의 크기. \n",
    "- 오차제곱합(SSE): 오차들에 의한 변동의 크기.\n",
    "\n",
    "만약 주어진 자료가 선형회귀모형에 적합하다고 한다면 선형회귀모형으로 설명되는 SSR부분이 SST의 대부분을 차지하게 될 것.   \n",
    "따라서 선형회귀모델이 얼마나 적합한지는 총제곱합(SST) 중 회귀제곱합(SSR)이 얼마나 차지하고 있는지를 통해 판단할 수 있음.  \n",
    "\n",
    "이를 결정계수($R^2$)로 판단할 수 있음. \n",
    "\n",
    "> $R^2 = \\frac{SSR}{SST} = 1 - \\frac{SSE}{SST}$\n",
    "\n",
    "\n",
    "귀무가설($H_0 : \\beta_0 = \\beta_1 = \\beta_2 = \\dots = \\beta_p = 0$)을 기각/채택하기 위한 검정통계량은 MSR과 MSE의 비($\\frac{MSR}{MSE}$)를 통해 구할 수 있다."
   ]
  },
  {
   "cell_type": "markdown",
   "id": "9fda253a",
   "metadata": {},
   "source": [
    "## 2. sklearn모듈을 활용한 선형회귀분석\n",
    "\n",
    "### 2-1. overfitting문제\n",
    "- 주어진 데이터 100%를 활용해 모형 적합 시 예측성능이 떨어지는 원인\n",
    "- 모델이 주어진 데이터에 너무 과적합되도록 학습한 나머지 조금이라도 벗어난 데이터에 대해 예측률이 현저하게 떨어지는 현상\n",
    "\n",
    "#### 교차검증\n",
    "주어진 데이터를 Train데이터와 Test데이터로 분할\n",
    "\n",
    "> from sklearn.model_selection import train_test_split\n",
    "\n",
    "> train 객체명, test 객체명 = train_test_split(데이터셋, test_size=비율, random_state=번호)\n",
    "\n",
    "\n",
    "#### 선형회귀분석\n",
    "Train 데이터를 활용하여 선형회귀분석 수행  \n",
    "\n",
    "> from sklearn.linear_model import LinearRegression\n",
    "\n",
    "> LinearRegression().fit(입력변수, 출력변수) \n",
    "\n",
    "* 분석결과가 따로 화면에 나타나지 않고 분석이 실시되었다는 의미로 LinearRegression()이라는 메시지만 출력됨.  \n",
    "\n",
    "* 결과를 확인하기 위해서는 분석이 수행된 결과를 다른 객체에 할당한 후 이를 다양한 함수에 활용하여 결과를 확인해야 함. \n",
    "\n",
    "* LinearRegression().fit()함수를 실행시킨 결과를 객체에 할당\n",
    "\n",
    "    - 결정계수: 회귀모형객체.score(입력변수, 출력변수)  \n",
    "    - 회귀절편: 회귀모형객체.intercept_  \n",
    "    - 기울기: 회귀모형객체.coef_  \n",
    "    - 모형예측값: 회귀모형객체.predict(입력변수)  \n",
    "\n",
    "#### 모형평가를 위한 예측값\n",
    "모형 평가에 사용되는 평균제곱오차(MSE)와 평균절대오차(MAE), 결정계수($R^2$)출력\n",
    "\n",
    "> from sklearn.metrics import mean_squared_error, mean_absolute_error, r2_score  \n",
    "\n",
    "> MSE: mean_squared_error(출력변수, 출력변수 예측값) \n",
    "\n",
    "> MAE: mean_absolute_error(출력변수, 출력변수 예측값)  \n",
    "\n",
    "> 결정계수: r2_score(출력변수, 출력변수 예측값)\n",
    "\n",
    "#### 선형회귀분석 예제\n",
    "seaborn 모듈의 mpg 데이터셋을 이용하여 acceleration 예측을 위해 displacement, horsepower, weight를 사용. "
   ]
  },
  {
   "cell_type": "code",
   "execution_count": 1,
   "id": "dcac9fdc",
   "metadata": {},
   "outputs": [],
   "source": [
    "import seaborn as sns"
   ]
  },
  {
   "cell_type": "code",
   "execution_count": 2,
   "id": "40c56099",
   "metadata": {},
   "outputs": [],
   "source": [
    "df = sns.load_dataset('mpg')"
   ]
  },
  {
   "cell_type": "code",
   "execution_count": 3,
   "id": "35820e17",
   "metadata": {},
   "outputs": [
    {
     "name": "stdout",
     "output_type": "stream",
     "text": [
      "<class 'pandas.core.frame.DataFrame'>\n",
      "RangeIndex: 398 entries, 0 to 397\n",
      "Data columns (total 9 columns):\n",
      " #   Column        Non-Null Count  Dtype  \n",
      "---  ------        --------------  -----  \n",
      " 0   mpg           398 non-null    float64\n",
      " 1   cylinders     398 non-null    int64  \n",
      " 2   displacement  398 non-null    float64\n",
      " 3   horsepower    392 non-null    float64\n",
      " 4   weight        398 non-null    int64  \n",
      " 5   acceleration  398 non-null    float64\n",
      " 6   model_year    398 non-null    int64  \n",
      " 7   origin        398 non-null    object \n",
      " 8   name          398 non-null    object \n",
      "dtypes: float64(4), int64(3), object(2)\n",
      "memory usage: 28.1+ KB\n"
     ]
    }
   ],
   "source": [
    "df.info()"
   ]
  },
  {
   "cell_type": "markdown",
   "id": "d3f378c9",
   "metadata": {},
   "source": [
    "자료 확인 결과 horsepower에서 결측치 발견"
   ]
  },
  {
   "cell_type": "code",
   "execution_count": 4,
   "id": "ebb08609",
   "metadata": {},
   "outputs": [],
   "source": [
    "df = df.dropna(subset=['horsepower'], how='any', axis=0)"
   ]
  },
  {
   "cell_type": "code",
   "execution_count": 5,
   "id": "350babaf",
   "metadata": {},
   "outputs": [
    {
     "name": "stdout",
     "output_type": "stream",
     "text": [
      "<class 'pandas.core.frame.DataFrame'>\n",
      "Int64Index: 392 entries, 0 to 397\n",
      "Data columns (total 9 columns):\n",
      " #   Column        Non-Null Count  Dtype  \n",
      "---  ------        --------------  -----  \n",
      " 0   mpg           392 non-null    float64\n",
      " 1   cylinders     392 non-null    int64  \n",
      " 2   displacement  392 non-null    float64\n",
      " 3   horsepower    392 non-null    float64\n",
      " 4   weight        392 non-null    int64  \n",
      " 5   acceleration  392 non-null    float64\n",
      " 6   model_year    392 non-null    int64  \n",
      " 7   origin        392 non-null    object \n",
      " 8   name          392 non-null    object \n",
      "dtypes: float64(4), int64(3), object(2)\n",
      "memory usage: 30.6+ KB\n"
     ]
    }
   ],
   "source": [
    "df.info()"
   ]
  },
  {
   "cell_type": "code",
   "execution_count": 6,
   "id": "15fa8ff1",
   "metadata": {},
   "outputs": [],
   "source": [
    "from sklearn.model_selection import train_test_split"
   ]
  },
  {
   "cell_type": "code",
   "execution_count": 7,
   "id": "be05d3ea",
   "metadata": {},
   "outputs": [],
   "source": [
    "train, test = train_test_split(df, test_size=0.3, random_state=1)"
   ]
  },
  {
   "cell_type": "code",
   "execution_count": 8,
   "id": "7d8b8455",
   "metadata": {},
   "outputs": [],
   "source": [
    "x_train=train[['displacement', 'horsepower', 'weight']]\n",
    "y_train=train['acceleration']\n",
    "\n",
    "x_test=test[['displacement', 'horsepower', 'weight']]\n",
    "y_test=test['acceleration']"
   ]
  },
  {
   "cell_type": "code",
   "execution_count": 9,
   "id": "22faf210",
   "metadata": {},
   "outputs": [],
   "source": [
    "from sklearn.linear_model import LinearRegression"
   ]
  },
  {
   "cell_type": "code",
   "execution_count": 10,
   "id": "aa1e6c7d",
   "metadata": {},
   "outputs": [],
   "source": [
    "lr = LinearRegression().fit(x_train, y_train)"
   ]
  },
  {
   "cell_type": "code",
   "execution_count": 11,
   "id": "1fb4c82c",
   "metadata": {},
   "outputs": [],
   "source": [
    "r_square = lr.score(x_train, y_train)"
   ]
  },
  {
   "cell_type": "code",
   "execution_count": 12,
   "id": "8db94a4d",
   "metadata": {},
   "outputs": [
    {
     "name": "stdout",
     "output_type": "stream",
     "text": [
      "R^2: 0.6228883243680499\n"
     ]
    }
   ],
   "source": [
    "print('R^2:', r_square)"
   ]
  },
  {
   "cell_type": "code",
   "execution_count": 13,
   "id": "5fbe5e87",
   "metadata": {},
   "outputs": [
    {
     "name": "stdout",
     "output_type": "stream",
     "text": [
      "Y절편: 17.194626087262485\n"
     ]
    }
   ],
   "source": [
    "print('Y절편:', lr.intercept_)"
   ]
  },
  {
   "cell_type": "code",
   "execution_count": 14,
   "id": "5b799ed1",
   "metadata": {},
   "outputs": [
    {
     "name": "stdout",
     "output_type": "stream",
     "text": [
      "기울기: [-0.00963822 -0.09122627  0.00328734]\n"
     ]
    }
   ],
   "source": [
    "print('기울기:', lr.coef_)"
   ]
  },
  {
   "cell_type": "code",
   "execution_count": 15,
   "id": "bac737d7",
   "metadata": {},
   "outputs": [],
   "source": [
    "y_train_pred = lr.predict(x_train)"
   ]
  },
  {
   "cell_type": "code",
   "execution_count": 16,
   "id": "6bca3a98",
   "metadata": {},
   "outputs": [],
   "source": [
    "from sklearn.metrics import mean_squared_error, mean_absolute_error, r2_score"
   ]
  },
  {
   "cell_type": "code",
   "execution_count": 17,
   "id": "3c53f1f4",
   "metadata": {},
   "outputs": [
    {
     "data": {
      "text/plain": [
       "2.8722873823218"
      ]
     },
     "execution_count": 17,
     "metadata": {},
     "output_type": "execute_result"
    }
   ],
   "source": [
    "mean_squared_error(y_train, y_train_pred)"
   ]
  },
  {
   "cell_type": "code",
   "execution_count": 18,
   "id": "4844fcc6",
   "metadata": {},
   "outputs": [
    {
     "data": {
      "text/plain": [
       "1.311244761993813"
      ]
     },
     "execution_count": 18,
     "metadata": {},
     "output_type": "execute_result"
    }
   ],
   "source": [
    "mean_absolute_error(y_train, y_train_pred)"
   ]
  },
  {
   "cell_type": "code",
   "execution_count": 19,
   "id": "db70132d",
   "metadata": {},
   "outputs": [
    {
     "data": {
      "text/plain": [
       "0.6228883243680499"
      ]
     },
     "execution_count": 19,
     "metadata": {},
     "output_type": "execute_result"
    }
   ],
   "source": [
    "r2_score(y_train, y_train_pred)"
   ]
  },
  {
   "cell_type": "code",
   "execution_count": 20,
   "id": "d2ad772e",
   "metadata": {},
   "outputs": [],
   "source": [
    "import matplotlib.pyplot as plt"
   ]
  },
  {
   "cell_type": "code",
   "execution_count": 21,
   "id": "e403864b",
   "metadata": {},
   "outputs": [
    {
     "data": {
      "text/plain": [
       "<matplotlib.legend.Legend at 0x7fd730455760>"
      ]
     },
     "execution_count": 21,
     "metadata": {},
     "output_type": "execute_result"
    },
    {
     "data": {
      "image/png": "[encoded data removed]",
      "text/plain": [
       "<Figure size 720x360 with 1 Axes>"
      ]
     },
     "metadata": {
      "needs_background": "light"
     },
     "output_type": "display_data"
    }
   ],
   "source": [
    "plt.figure(figsize=(10,5))\n",
    "sns.kdeplot(y_train)\n",
    "sns.kdeplot(y_train_pred)\n",
    "plt.legend(labels=['y_train','y_train_pred'], loc='best')"
   ]
  },
  {
   "cell_type": "code",
   "execution_count": 22,
   "id": "79d780ab",
   "metadata": {},
   "outputs": [],
   "source": [
    "y_test_pred = lr.predict(x_test)"
   ]
  },
  {
   "cell_type": "code",
   "execution_count": 23,
   "id": "a0ce9e1f",
   "metadata": {},
   "outputs": [
    {
     "data": {
      "text/plain": [
       "3.0940803551294302"
      ]
     },
     "execution_count": 23,
     "metadata": {},
     "output_type": "execute_result"
    }
   ],
   "source": [
    "mean_squared_error(y_test, y_test_pred)"
   ]
  },
  {
   "cell_type": "code",
   "execution_count": 24,
   "id": "5b223f0e",
   "metadata": {},
   "outputs": [
    {
     "data": {
      "text/plain": [
       "1.2886178072796095"
      ]
     },
     "execution_count": 24,
     "metadata": {},
     "output_type": "execute_result"
    }
   ],
   "source": [
    "mean_absolute_error(y_test, y_test_pred)"
   ]
  },
  {
   "cell_type": "code",
   "execution_count": 25,
   "id": "a0282e72",
   "metadata": {},
   "outputs": [
    {
     "data": {
      "text/plain": [
       "0.5791980313385208"
      ]
     },
     "execution_count": 25,
     "metadata": {},
     "output_type": "execute_result"
    }
   ],
   "source": [
    "r2_score(y_test, y_test_pred)"
   ]
  },
  {
   "cell_type": "markdown",
   "id": "9dfbb6c0",
   "metadata": {},
   "source": [
    "## 3. statsmodels를 활용한 선형회귀분석"
   ]
  },
  {
   "cell_type": "markdown",
   "id": "7e32f21f",
   "metadata": {},
   "source": [
    "### 파이썬을 이용한 선형회귀분석\n",
    "\n",
    "**sklearn.linear_model 모듈**\n",
    "- 회귀계수 확인: O  \n",
    "- 모형의 평가지표 확인: O  \n",
    "- 입력변수들의 유의성 검정을 위한 p-value 확인: X  \n",
    "\n",
    "**sklearn.linear_model 모듈**\n",
    "- 회귀계수 확인: O\n",
    "- 모형의 평가지표 확인: O\n",
    "- 입력변수들의 유의성 검정을 위한 p-value 확인: O\n",
    "\n",
    "#### statsmodels.api 모듈의 OLS()함수\n",
    "모형식에서 절편항이 제거된 상태로 분석이 이루어짐  \n",
    "$\\rightarrow$ 절편항 분석 결과 표시를 위해 입력변수 데이터에 절편항 데이터 추가 필요. \n",
    "\n",
    "> from statsmodels.api import add_constant(입력변수)  \n",
    "\n",
    "> from statsmodels.api import OLS객체명 = OLS(출력변수, 입력변수).fit()\n",
    "\n",
    "> 모형결과: 객체명.summary()\n",
    "\n",
    "> 모형적합값: 객체명.predict(입력변수)\n",
    "\n",
    "#### statsmodels.formula.api 모듈의 ols()함수\n",
    "출력변수와 입력변수를 직접 입력하지 않고 변수이름을 활용하여 모형식을 입력한 후 선형회구분석을 실시할 수 있음. \n",
    "\n",
    "> from statsmodels.formula.api import ols \n",
    "\n",
    "> 객체명 = ols(모형식, data=데이터셋).fit()\n",
    "\n",
    "모형식에는 \"출력변수 ~ 입력변수1 + 입력변수2 + ...\" 형식으로 입력\n",
    "\n",
    "> 모형결과: 객체명.summary()\n",
    "\n",
    "> 모형적합값: 객체명.predict(입력변수)\n",
    "\n",
    "#### 선형회귀분석 예제\n",
    "Train 데이터의 입력변수 자료인 x_train과 Train 데이터의 출력변수 자료인 y_train을 각각 OLS()함수에 대입하여 선형회귀분석을 실시. "
   ]
  },
  {
   "cell_type": "code",
   "execution_count": 26,
   "id": "e6f52f74",
   "metadata": {},
   "outputs": [],
   "source": [
    "from statsmodels.api import add_constant"
   ]
  },
  {
   "cell_type": "code",
   "execution_count": 27,
   "id": "ea82715d",
   "metadata": {},
   "outputs": [],
   "source": [
    "x_train_ad = add_constant(x_train)"
   ]
  },
  {
   "cell_type": "code",
   "execution_count": 28,
   "id": "13411957",
   "metadata": {},
   "outputs": [
    {
     "data": {
      "text/html": [
       "<div>\n",
       "<style scoped>\n",
       "    .dataframe tbody tr th:only-of-type {\n",
       "        vertical-align: middle;\n",
       "    }\n",
       "\n",
       "    .dataframe tbody tr th {\n",
       "        vertical-align: top;\n",
       "    }\n",
       "\n",
       "    .dataframe thead th {\n",
       "        text-align: right;\n",
       "    }\n",
       "</style>\n",
       "<table border=\"1\" class=\"dataframe\">\n",
       "  <thead>\n",
       "    <tr style=\"text-align: right;\">\n",
       "      <th></th>\n",
       "      <th>const</th>\n",
       "      <th>displacement</th>\n",
       "      <th>horsepower</th>\n",
       "      <th>weight</th>\n",
       "    </tr>\n",
       "  </thead>\n",
       "  <tbody>\n",
       "    <tr>\n",
       "      <th>335</th>\n",
       "      <td>1.0</td>\n",
       "      <td>122.0</td>\n",
       "      <td>88.0</td>\n",
       "      <td>2500</td>\n",
       "    </tr>\n",
       "    <tr>\n",
       "      <th>397</th>\n",
       "      <td>1.0</td>\n",
       "      <td>119.0</td>\n",
       "      <td>82.0</td>\n",
       "      <td>2720</td>\n",
       "    </tr>\n",
       "    <tr>\n",
       "      <th>394</th>\n",
       "      <td>1.0</td>\n",
       "      <td>97.0</td>\n",
       "      <td>52.0</td>\n",
       "      <td>2130</td>\n",
       "    </tr>\n",
       "    <tr>\n",
       "      <th>29</th>\n",
       "      <td>1.0</td>\n",
       "      <td>97.0</td>\n",
       "      <td>88.0</td>\n",
       "      <td>2130</td>\n",
       "    </tr>\n",
       "    <tr>\n",
       "      <th>275</th>\n",
       "      <td>1.0</td>\n",
       "      <td>163.0</td>\n",
       "      <td>125.0</td>\n",
       "      <td>3140</td>\n",
       "    </tr>\n",
       "    <tr>\n",
       "      <th>...</th>\n",
       "      <td>...</td>\n",
       "      <td>...</td>\n",
       "      <td>...</td>\n",
       "      <td>...</td>\n",
       "    </tr>\n",
       "    <tr>\n",
       "      <th>205</th>\n",
       "      <td>1.0</td>\n",
       "      <td>97.0</td>\n",
       "      <td>75.0</td>\n",
       "      <td>2155</td>\n",
       "    </tr>\n",
       "    <tr>\n",
       "      <th>257</th>\n",
       "      <td>1.0</td>\n",
       "      <td>232.0</td>\n",
       "      <td>90.0</td>\n",
       "      <td>3210</td>\n",
       "    </tr>\n",
       "    <tr>\n",
       "      <th>73</th>\n",
       "      <td>1.0</td>\n",
       "      <td>307.0</td>\n",
       "      <td>130.0</td>\n",
       "      <td>4098</td>\n",
       "    </tr>\n",
       "    <tr>\n",
       "      <th>237</th>\n",
       "      <td>1.0</td>\n",
       "      <td>98.0</td>\n",
       "      <td>63.0</td>\n",
       "      <td>2051</td>\n",
       "    </tr>\n",
       "    <tr>\n",
       "      <th>38</th>\n",
       "      <td>1.0</td>\n",
       "      <td>350.0</td>\n",
       "      <td>165.0</td>\n",
       "      <td>4209</td>\n",
       "    </tr>\n",
       "  </tbody>\n",
       "</table>\n",
       "<p>274 rows × 4 columns</p>\n",
       "</div>"
      ],
      "text/plain": [
       "     const  displacement  horsepower  weight\n",
       "335    1.0         122.0        88.0    2500\n",
       "397    1.0         119.0        82.0    2720\n",
       "394    1.0          97.0        52.0    2130\n",
       "29     1.0          97.0        88.0    2130\n",
       "275    1.0         163.0       125.0    3140\n",
       "..     ...           ...         ...     ...\n",
       "205    1.0          97.0        75.0    2155\n",
       "257    1.0         232.0        90.0    3210\n",
       "73     1.0         307.0       130.0    4098\n",
       "237    1.0          98.0        63.0    2051\n",
       "38     1.0         350.0       165.0    4209\n",
       "\n",
       "[274 rows x 4 columns]"
      ]
     },
     "execution_count": 28,
     "metadata": {},
     "output_type": "execute_result"
    }
   ],
   "source": [
    "x_train_ad"
   ]
  },
  {
   "cell_type": "code",
   "execution_count": 29,
   "id": "f6325c87",
   "metadata": {},
   "outputs": [],
   "source": [
    "from statsmodels.api import OLS"
   ]
  },
  {
   "cell_type": "code",
   "execution_count": 30,
   "id": "c1e9f378",
   "metadata": {},
   "outputs": [],
   "source": [
    "result = OLS(y_train, x_train_ad).fit()"
   ]
  },
  {
   "cell_type": "code",
   "execution_count": 31,
   "id": "e3271fe2",
   "metadata": {},
   "outputs": [
    {
     "data": {
      "text/html": [
       "<table class=\"simpletable\">\n",
       "<caption>OLS Regression Results</caption>\n",
       "<tr>\n",
       "  <th>Dep. Variable:</th>      <td>acceleration</td>   <th>  R-squared:         </th> <td>   0.623</td>\n",
       "</tr>\n",
       "<tr>\n",
       "  <th>Model:</th>                   <td>OLS</td>       <th>  Adj. R-squared:    </th> <td>   0.619</td>\n",
       "</tr>\n",
       "<tr>\n",
       "  <th>Method:</th>             <td>Least Squares</td>  <th>  F-statistic:       </th> <td>   148.7</td>\n",
       "</tr>\n",
       "<tr>\n",
       "  <th>Date:</th>             <td>Wed, 01 Jun 2022</td> <th>  Prob (F-statistic):</th> <td>6.93e-57</td>\n",
       "</tr>\n",
       "<tr>\n",
       "  <th>Time:</th>                 <td>10:43:14</td>     <th>  Log-Likelihood:    </th> <td> -533.34</td>\n",
       "</tr>\n",
       "<tr>\n",
       "  <th>No. Observations:</th>      <td>   274</td>      <th>  AIC:               </th> <td>   1075.</td>\n",
       "</tr>\n",
       "<tr>\n",
       "  <th>Df Residuals:</th>          <td>   270</td>      <th>  BIC:               </th> <td>   1089.</td>\n",
       "</tr>\n",
       "<tr>\n",
       "  <th>Df Model:</th>              <td>     3</td>      <th>                     </th>     <td> </td>   \n",
       "</tr>\n",
       "<tr>\n",
       "  <th>Covariance Type:</th>      <td>nonrobust</td>    <th>                     </th>     <td> </td>   \n",
       "</tr>\n",
       "</table>\n",
       "<table class=\"simpletable\">\n",
       "<tr>\n",
       "        <td></td>          <th>coef</th>     <th>std err</th>      <th>t</th>      <th>P>|t|</th>  <th>[0.025</th>    <th>0.975]</th>  \n",
       "</tr>\n",
       "<tr>\n",
       "  <th>const</th>        <td>   17.1946</td> <td>    0.581</td> <td>   29.596</td> <td> 0.000</td> <td>   16.051</td> <td>   18.338</td>\n",
       "</tr>\n",
       "<tr>\n",
       "  <th>displacement</th> <td>   -0.0096</td> <td>    0.003</td> <td>   -3.044</td> <td> 0.003</td> <td>   -0.016</td> <td>   -0.003</td>\n",
       "</tr>\n",
       "<tr>\n",
       "  <th>horsepower</th>   <td>   -0.0912</td> <td>    0.006</td> <td>  -14.969</td> <td> 0.000</td> <td>   -0.103</td> <td>   -0.079</td>\n",
       "</tr>\n",
       "<tr>\n",
       "  <th>weight</th>       <td>    0.0033</td> <td>    0.000</td> <td>    8.984</td> <td> 0.000</td> <td>    0.003</td> <td>    0.004</td>\n",
       "</tr>\n",
       "</table>\n",
       "<table class=\"simpletable\">\n",
       "<tr>\n",
       "  <th>Omnibus:</th>       <td>38.552</td> <th>  Durbin-Watson:     </th> <td>   1.857</td>\n",
       "</tr>\n",
       "<tr>\n",
       "  <th>Prob(Omnibus):</th> <td> 0.000</td> <th>  Jarque-Bera (JB):  </th> <td>  52.410</td>\n",
       "</tr>\n",
       "<tr>\n",
       "  <th>Skew:</th>          <td> 0.924</td> <th>  Prob(JB):          </th> <td>4.16e-12</td>\n",
       "</tr>\n",
       "<tr>\n",
       "  <th>Kurtosis:</th>      <td> 4.084</td> <th>  Cond. No.          </th> <td>1.74e+04</td>\n",
       "</tr>\n",
       "</table><br/><br/>Notes:<br/>[1] Standard Errors assume that the covariance matrix of the errors is correctly specified.<br/>[2] The condition number is large, 1.74e+04. This might indicate that there are<br/>strong multicollinearity or other numerical problems."
      ],
      "text/plain": [
       "<class 'statsmodels.iolib.summary.Summary'>\n",
       "\"\"\"\n",
       "                            OLS Regression Results                            \n",
       "==============================================================================\n",
       "Dep. Variable:           acceleration   R-squared:                       0.623\n",
       "Model:                            OLS   Adj. R-squared:                  0.619\n",
       "Method:                 Least Squares   F-statistic:                     148.7\n",
       "Date:                Wed, 01 Jun 2022   Prob (F-statistic):           6.93e-57\n",
       "Time:                        10:43:14   Log-Likelihood:                -533.34\n",
       "No. Observations:                 274   AIC:                             1075.\n",
       "Df Residuals:                     270   BIC:                             1089.\n",
       "Df Model:                           3                                         \n",
       "Covariance Type:            nonrobust                                         \n",
       "================================================================================\n",
       "                   coef    std err          t      P>|t|      [0.025      0.975]\n",
       "--------------------------------------------------------------------------------\n",
       "const           17.1946      0.581     29.596      0.000      16.051      18.338\n",
       "displacement    -0.0096      0.003     -3.044      0.003      -0.016      -0.003\n",
       "horsepower      -0.0912      0.006    -14.969      0.000      -0.103      -0.079\n",
       "weight           0.0033      0.000      8.984      0.000       0.003       0.004\n",
       "==============================================================================\n",
       "Omnibus:                       38.552   Durbin-Watson:                   1.857\n",
       "Prob(Omnibus):                  0.000   Jarque-Bera (JB):               52.410\n",
       "Skew:                           0.924   Prob(JB):                     4.16e-12\n",
       "Kurtosis:                       4.084   Cond. No.                     1.74e+04\n",
       "==============================================================================\n",
       "\n",
       "Notes:\n",
       "[1] Standard Errors assume that the covariance matrix of the errors is correctly specified.\n",
       "[2] The condition number is large, 1.74e+04. This might indicate that there are\n",
       "strong multicollinearity or other numerical problems.\n",
       "\"\"\""
      ]
     },
     "execution_count": 31,
     "metadata": {},
     "output_type": "execute_result"
    }
   ],
   "source": [
    "result.summary()"
   ]
  },
  {
   "cell_type": "markdown",
   "id": "a63989e2",
   "metadata": {},
   "source": [
    "p-value(P>|t|)가 모두 0.05보다 작기 때문에 모든 계수(coef)가 유의하다는 것을 알 수 있다.  "
   ]
  },
  {
   "cell_type": "code",
   "execution_count": 32,
   "id": "ca70c382",
   "metadata": {},
   "outputs": [],
   "source": [
    "from statsmodels.formula.api import ols"
   ]
  },
  {
   "cell_type": "code",
   "execution_count": 33,
   "id": "a403136a",
   "metadata": {},
   "outputs": [],
   "source": [
    "formula = 'acceleration ~ displacement + horsepower + weight'"
   ]
  },
  {
   "cell_type": "code",
   "execution_count": 34,
   "id": "e5733822",
   "metadata": {},
   "outputs": [],
   "source": [
    "result = ols(formula = formula, data = train).fit()"
   ]
  },
  {
   "cell_type": "code",
   "execution_count": 35,
   "id": "973f4c16",
   "metadata": {},
   "outputs": [
    {
     "data": {
      "text/html": [
       "<table class=\"simpletable\">\n",
       "<caption>OLS Regression Results</caption>\n",
       "<tr>\n",
       "  <th>Dep. Variable:</th>      <td>acceleration</td>   <th>  R-squared:         </th> <td>   0.623</td>\n",
       "</tr>\n",
       "<tr>\n",
       "  <th>Model:</th>                   <td>OLS</td>       <th>  Adj. R-squared:    </th> <td>   0.619</td>\n",
       "</tr>\n",
       "<tr>\n",
       "  <th>Method:</th>             <td>Least Squares</td>  <th>  F-statistic:       </th> <td>   148.7</td>\n",
       "</tr>\n",
       "<tr>\n",
       "  <th>Date:</th>             <td>Wed, 01 Jun 2022</td> <th>  Prob (F-statistic):</th> <td>6.93e-57</td>\n",
       "</tr>\n",
       "<tr>\n",
       "  <th>Time:</th>                 <td>10:43:14</td>     <th>  Log-Likelihood:    </th> <td> -533.34</td>\n",
       "</tr>\n",
       "<tr>\n",
       "  <th>No. Observations:</th>      <td>   274</td>      <th>  AIC:               </th> <td>   1075.</td>\n",
       "</tr>\n",
       "<tr>\n",
       "  <th>Df Residuals:</th>          <td>   270</td>      <th>  BIC:               </th> <td>   1089.</td>\n",
       "</tr>\n",
       "<tr>\n",
       "  <th>Df Model:</th>              <td>     3</td>      <th>                     </th>     <td> </td>   \n",
       "</tr>\n",
       "<tr>\n",
       "  <th>Covariance Type:</th>      <td>nonrobust</td>    <th>                     </th>     <td> </td>   \n",
       "</tr>\n",
       "</table>\n",
       "<table class=\"simpletable\">\n",
       "<tr>\n",
       "        <td></td>          <th>coef</th>     <th>std err</th>      <th>t</th>      <th>P>|t|</th>  <th>[0.025</th>    <th>0.975]</th>  \n",
       "</tr>\n",
       "<tr>\n",
       "  <th>Intercept</th>    <td>   17.1946</td> <td>    0.581</td> <td>   29.596</td> <td> 0.000</td> <td>   16.051</td> <td>   18.338</td>\n",
       "</tr>\n",
       "<tr>\n",
       "  <th>displacement</th> <td>   -0.0096</td> <td>    0.003</td> <td>   -3.044</td> <td> 0.003</td> <td>   -0.016</td> <td>   -0.003</td>\n",
       "</tr>\n",
       "<tr>\n",
       "  <th>horsepower</th>   <td>   -0.0912</td> <td>    0.006</td> <td>  -14.969</td> <td> 0.000</td> <td>   -0.103</td> <td>   -0.079</td>\n",
       "</tr>\n",
       "<tr>\n",
       "  <th>weight</th>       <td>    0.0033</td> <td>    0.000</td> <td>    8.984</td> <td> 0.000</td> <td>    0.003</td> <td>    0.004</td>\n",
       "</tr>\n",
       "</table>\n",
       "<table class=\"simpletable\">\n",
       "<tr>\n",
       "  <th>Omnibus:</th>       <td>38.552</td> <th>  Durbin-Watson:     </th> <td>   1.857</td>\n",
       "</tr>\n",
       "<tr>\n",
       "  <th>Prob(Omnibus):</th> <td> 0.000</td> <th>  Jarque-Bera (JB):  </th> <td>  52.410</td>\n",
       "</tr>\n",
       "<tr>\n",
       "  <th>Skew:</th>          <td> 0.924</td> <th>  Prob(JB):          </th> <td>4.16e-12</td>\n",
       "</tr>\n",
       "<tr>\n",
       "  <th>Kurtosis:</th>      <td> 4.084</td> <th>  Cond. No.          </th> <td>1.74e+04</td>\n",
       "</tr>\n",
       "</table><br/><br/>Notes:<br/>[1] Standard Errors assume that the covariance matrix of the errors is correctly specified.<br/>[2] The condition number is large, 1.74e+04. This might indicate that there are<br/>strong multicollinearity or other numerical problems."
      ],
      "text/plain": [
       "<class 'statsmodels.iolib.summary.Summary'>\n",
       "\"\"\"\n",
       "                            OLS Regression Results                            \n",
       "==============================================================================\n",
       "Dep. Variable:           acceleration   R-squared:                       0.623\n",
       "Model:                            OLS   Adj. R-squared:                  0.619\n",
       "Method:                 Least Squares   F-statistic:                     148.7\n",
       "Date:                Wed, 01 Jun 2022   Prob (F-statistic):           6.93e-57\n",
       "Time:                        10:43:14   Log-Likelihood:                -533.34\n",
       "No. Observations:                 274   AIC:                             1075.\n",
       "Df Residuals:                     270   BIC:                             1089.\n",
       "Df Model:                           3                                         \n",
       "Covariance Type:            nonrobust                                         \n",
       "================================================================================\n",
       "                   coef    std err          t      P>|t|      [0.025      0.975]\n",
       "--------------------------------------------------------------------------------\n",
       "Intercept       17.1946      0.581     29.596      0.000      16.051      18.338\n",
       "displacement    -0.0096      0.003     -3.044      0.003      -0.016      -0.003\n",
       "horsepower      -0.0912      0.006    -14.969      0.000      -0.103      -0.079\n",
       "weight           0.0033      0.000      8.984      0.000       0.003       0.004\n",
       "==============================================================================\n",
       "Omnibus:                       38.552   Durbin-Watson:                   1.857\n",
       "Prob(Omnibus):                  0.000   Jarque-Bera (JB):               52.410\n",
       "Skew:                           0.924   Prob(JB):                     4.16e-12\n",
       "Kurtosis:                       4.084   Cond. No.                     1.74e+04\n",
       "==============================================================================\n",
       "\n",
       "Notes:\n",
       "[1] Standard Errors assume that the covariance matrix of the errors is correctly specified.\n",
       "[2] The condition number is large, 1.74e+04. This might indicate that there are\n",
       "strong multicollinearity or other numerical problems.\n",
       "\"\"\""
      ]
     },
     "execution_count": 35,
     "metadata": {},
     "output_type": "execute_result"
    }
   ],
   "source": [
    "result.summary()"
   ]
  },
  {
   "cell_type": "markdown",
   "id": "f2c48d4a",
   "metadata": {},
   "source": [
    "## 실습\n",
    "\n",
    "부리길이(bill_length_mm)와 부리두께(bill_depth_mm)를 통해 펭귄의 몸무게(body_mass_g)를 예측하는 선형회귀모형식을 검증\n",
    "\n",
    "1. 데이터셋 만들기\n",
    "2. LinearRegreesion()함수를 이용해 선형회귀분석\n",
    "3. statsmodels.api모듈의 OLS()함수를 이용해 선형회귀분석\n",
    "4. statsmodels.formula.api모듈의 ols().fit()함수를 이용해 선형회귀분석"
   ]
  },
  {
   "cell_type": "markdown",
   "id": "00754508",
   "metadata": {},
   "source": [
    "### 데이터셋 만들기"
   ]
  },
  {
   "cell_type": "code",
   "execution_count": 36,
   "id": "bf5bbe70",
   "metadata": {},
   "outputs": [],
   "source": [
    "df = sns.load_dataset('penguins')"
   ]
  },
  {
   "cell_type": "code",
   "execution_count": 37,
   "id": "ce14dc05",
   "metadata": {},
   "outputs": [
    {
     "name": "stdout",
     "output_type": "stream",
     "text": [
      "<class 'pandas.core.frame.DataFrame'>\n",
      "RangeIndex: 344 entries, 0 to 343\n",
      "Data columns (total 7 columns):\n",
      " #   Column             Non-Null Count  Dtype  \n",
      "---  ------             --------------  -----  \n",
      " 0   species            344 non-null    object \n",
      " 1   island             344 non-null    object \n",
      " 2   bill_length_mm     342 non-null    float64\n",
      " 3   bill_depth_mm      342 non-null    float64\n",
      " 4   flipper_length_mm  342 non-null    float64\n",
      " 5   body_mass_g        342 non-null    float64\n",
      " 6   sex                333 non-null    object \n",
      "dtypes: float64(4), object(3)\n",
      "memory usage: 18.9+ KB\n"
     ]
    }
   ],
   "source": [
    "df.info()"
   ]
  },
  {
   "cell_type": "code",
   "execution_count": 38,
   "id": "ccec3914",
   "metadata": {},
   "outputs": [],
   "source": [
    "df = df.dropna(subset=['bill_length_mm','bill_depth_mm','body_mass_g'], how='any', axis=0)"
   ]
  },
  {
   "cell_type": "code",
   "execution_count": 39,
   "id": "29bedbed",
   "metadata": {},
   "outputs": [
    {
     "name": "stdout",
     "output_type": "stream",
     "text": [
      "<class 'pandas.core.frame.DataFrame'>\n",
      "Int64Index: 342 entries, 0 to 343\n",
      "Data columns (total 7 columns):\n",
      " #   Column             Non-Null Count  Dtype  \n",
      "---  ------             --------------  -----  \n",
      " 0   species            342 non-null    object \n",
      " 1   island             342 non-null    object \n",
      " 2   bill_length_mm     342 non-null    float64\n",
      " 3   bill_depth_mm      342 non-null    float64\n",
      " 4   flipper_length_mm  342 non-null    float64\n",
      " 5   body_mass_g        342 non-null    float64\n",
      " 6   sex                333 non-null    object \n",
      "dtypes: float64(4), object(3)\n",
      "memory usage: 21.4+ KB\n"
     ]
    }
   ],
   "source": [
    "df.info()"
   ]
  },
  {
   "cell_type": "code",
   "execution_count": 40,
   "id": "08095813",
   "metadata": {},
   "outputs": [],
   "source": [
    "train, test = train_test_split(df, test_size=0.3, random_state=1)"
   ]
  },
  {
   "cell_type": "code",
   "execution_count": 41,
   "id": "87e82d97",
   "metadata": {},
   "outputs": [
    {
     "name": "stdout",
     "output_type": "stream",
     "text": [
      "<class 'pandas.core.frame.DataFrame'>\n",
      "Int64Index: 239 entries, 232 to 38\n",
      "Data columns (total 7 columns):\n",
      " #   Column             Non-Null Count  Dtype  \n",
      "---  ------             --------------  -----  \n",
      " 0   species            239 non-null    object \n",
      " 1   island             239 non-null    object \n",
      " 2   bill_length_mm     239 non-null    float64\n",
      " 3   bill_depth_mm      239 non-null    float64\n",
      " 4   flipper_length_mm  239 non-null    float64\n",
      " 5   body_mass_g        239 non-null    float64\n",
      " 6   sex                231 non-null    object \n",
      "dtypes: float64(4), object(3)\n",
      "memory usage: 14.9+ KB\n"
     ]
    }
   ],
   "source": [
    "train.info()"
   ]
  },
  {
   "cell_type": "code",
   "execution_count": 42,
   "id": "9357547d",
   "metadata": {},
   "outputs": [
    {
     "name": "stdout",
     "output_type": "stream",
     "text": [
      "<class 'pandas.core.frame.DataFrame'>\n",
      "Int64Index: 103 entries, 103 to 79\n",
      "Data columns (total 7 columns):\n",
      " #   Column             Non-Null Count  Dtype  \n",
      "---  ------             --------------  -----  \n",
      " 0   species            103 non-null    object \n",
      " 1   island             103 non-null    object \n",
      " 2   bill_length_mm     103 non-null    float64\n",
      " 3   bill_depth_mm      103 non-null    float64\n",
      " 4   flipper_length_mm  103 non-null    float64\n",
      " 5   body_mass_g        103 non-null    float64\n",
      " 6   sex                102 non-null    object \n",
      "dtypes: float64(4), object(3)\n",
      "memory usage: 6.4+ KB\n"
     ]
    }
   ],
   "source": [
    "test.info()"
   ]
  },
  {
   "cell_type": "code",
   "execution_count": 43,
   "id": "83a39ce2",
   "metadata": {},
   "outputs": [],
   "source": [
    "x_train=train[['bill_length_mm','bill_depth_mm']]\n",
    "y_train=train['body_mass_g']\n",
    "\n",
    "x_test=test[['bill_length_mm','bill_depth_mm']]\n",
    "y_test=test['body_mass_g']"
   ]
  },
  {
   "cell_type": "markdown",
   "id": "84e4dc11",
   "metadata": {},
   "source": [
    "### Linearregression()함수를 이용해 선형회귀분석"
   ]
  },
  {
   "cell_type": "code",
   "execution_count": 44,
   "id": "b307935f",
   "metadata": {},
   "outputs": [],
   "source": [
    "lr = LinearRegression().fit(x_train, y_train)"
   ]
  },
  {
   "cell_type": "code",
   "execution_count": 45,
   "id": "646d22ab",
   "metadata": {},
   "outputs": [
    {
     "data": {
      "text/plain": [
       "0.4693159195080788"
      ]
     },
     "execution_count": 45,
     "metadata": {},
     "output_type": "execute_result"
    }
   ],
   "source": [
    "lr.score(x_train, y_train)"
   ]
  },
  {
   "cell_type": "code",
   "execution_count": 46,
   "id": "d5d638d3",
   "metadata": {},
   "outputs": [
    {
     "data": {
      "text/plain": [
       "3315.418745221547"
      ]
     },
     "execution_count": 46,
     "metadata": {},
     "output_type": "execute_result"
    }
   ],
   "source": [
    "lr.intercept_"
   ]
  },
  {
   "cell_type": "code",
   "execution_count": 47,
   "id": "3e72b940",
   "metadata": {},
   "outputs": [
    {
     "data": {
      "text/plain": [
       "array([  72.79158574, -135.63472974])"
      ]
     },
     "execution_count": 47,
     "metadata": {},
     "output_type": "execute_result"
    }
   ],
   "source": [
    "lr.coef_"
   ]
  },
  {
   "cell_type": "code",
   "execution_count": 48,
   "id": "2ab50fca",
   "metadata": {},
   "outputs": [],
   "source": [
    "y_train_pred = lr.predict(x_train)"
   ]
  },
  {
   "cell_type": "code",
   "execution_count": 49,
   "id": "4936601f",
   "metadata": {},
   "outputs": [
    {
     "data": {
      "text/plain": [
       "313519.1726750238"
      ]
     },
     "execution_count": 49,
     "metadata": {},
     "output_type": "execute_result"
    }
   ],
   "source": [
    "mean_squared_error(y_train, y_train_pred)"
   ]
  },
  {
   "cell_type": "code",
   "execution_count": 50,
   "id": "621d23e3",
   "metadata": {},
   "outputs": [
    {
     "data": {
      "text/plain": [
       "454.76011830778106"
      ]
     },
     "execution_count": 50,
     "metadata": {},
     "output_type": "execute_result"
    }
   ],
   "source": [
    "mean_absolute_error(y_train, y_train_pred)"
   ]
  },
  {
   "cell_type": "code",
   "execution_count": 51,
   "id": "eb835232",
   "metadata": {},
   "outputs": [
    {
     "data": {
      "text/plain": [
       "0.4693159195080788"
      ]
     },
     "execution_count": 51,
     "metadata": {},
     "output_type": "execute_result"
    }
   ],
   "source": [
    "r2_score(y_train, y_train_pred)"
   ]
  },
  {
   "cell_type": "markdown",
   "id": "191c3c8a",
   "metadata": {},
   "source": [
    "test set을 이용하여 모형성능 비교"
   ]
  },
  {
   "cell_type": "code",
   "execution_count": 52,
   "id": "cdd02152",
   "metadata": {},
   "outputs": [],
   "source": [
    "y_test_pred = lr.predict(x_test)"
   ]
  },
  {
   "cell_type": "code",
   "execution_count": 53,
   "id": "e1784355",
   "metadata": {},
   "outputs": [
    {
     "data": {
      "text/plain": [
       "401534.3858332876"
      ]
     },
     "execution_count": 53,
     "metadata": {},
     "output_type": "execute_result"
    }
   ],
   "source": [
    "mean_squared_error(y_test, y_test_pred)"
   ]
  },
  {
   "cell_type": "code",
   "execution_count": 54,
   "id": "1031658d",
   "metadata": {},
   "outputs": [
    {
     "data": {
      "text/plain": [
       "530.8484192226334"
      ]
     },
     "execution_count": 54,
     "metadata": {},
     "output_type": "execute_result"
    }
   ],
   "source": [
    "mean_absolute_error(y_test, y_test_pred)"
   ]
  },
  {
   "cell_type": "code",
   "execution_count": 55,
   "id": "a8bc85d0",
   "metadata": {},
   "outputs": [
    {
     "data": {
      "text/plain": [
       "0.46955642576593093"
      ]
     },
     "execution_count": 55,
     "metadata": {},
     "output_type": "execute_result"
    }
   ],
   "source": [
    "r2_score(y_test, y_test_pred)"
   ]
  },
  {
   "cell_type": "markdown",
   "id": "4f7f392c",
   "metadata": {},
   "source": [
    "### statsmodels.api모듈의 OLS()함수를 이용해 선형회귀분석"
   ]
  },
  {
   "cell_type": "code",
   "execution_count": 56,
   "id": "dc1d0138",
   "metadata": {},
   "outputs": [],
   "source": [
    "x_train_ad = add_constant(x_train)"
   ]
  },
  {
   "cell_type": "code",
   "execution_count": 57,
   "id": "2f2bbdba",
   "metadata": {},
   "outputs": [
    {
     "name": "stdout",
     "output_type": "stream",
     "text": [
      "<class 'pandas.core.frame.DataFrame'>\n",
      "Int64Index: 239 entries, 232 to 38\n",
      "Data columns (total 3 columns):\n",
      " #   Column          Non-Null Count  Dtype  \n",
      "---  ------          --------------  -----  \n",
      " 0   const           239 non-null    float64\n",
      " 1   bill_length_mm  239 non-null    float64\n",
      " 2   bill_depth_mm   239 non-null    float64\n",
      "dtypes: float64(3)\n",
      "memory usage: 7.5 KB\n"
     ]
    }
   ],
   "source": [
    "x_train_ad.info()"
   ]
  },
  {
   "cell_type": "code",
   "execution_count": 58,
   "id": "59ba5649",
   "metadata": {},
   "outputs": [],
   "source": [
    "result = OLS(y_train, x_train_ad).fit()"
   ]
  },
  {
   "cell_type": "code",
   "execution_count": 59,
   "id": "a42e47b9",
   "metadata": {},
   "outputs": [
    {
     "data": {
      "text/html": [
       "<table class=\"simpletable\">\n",
       "<caption>OLS Regression Results</caption>\n",
       "<tr>\n",
       "  <th>Dep. Variable:</th>       <td>body_mass_g</td>   <th>  R-squared:         </th> <td>   0.469</td>\n",
       "</tr>\n",
       "<tr>\n",
       "  <th>Model:</th>                   <td>OLS</td>       <th>  Adj. R-squared:    </th> <td>   0.465</td>\n",
       "</tr>\n",
       "<tr>\n",
       "  <th>Method:</th>             <td>Least Squares</td>  <th>  F-statistic:       </th> <td>   104.4</td>\n",
       "</tr>\n",
       "<tr>\n",
       "  <th>Date:</th>             <td>Wed, 01 Jun 2022</td> <th>  Prob (F-statistic):</th> <td>3.39e-33</td>\n",
       "</tr>\n",
       "<tr>\n",
       "  <th>Time:</th>                 <td>10:43:14</td>     <th>  Log-Likelihood:    </th> <td> -1851.5</td>\n",
       "</tr>\n",
       "<tr>\n",
       "  <th>No. Observations:</th>      <td>   239</td>      <th>  AIC:               </th> <td>   3709.</td>\n",
       "</tr>\n",
       "<tr>\n",
       "  <th>Df Residuals:</th>          <td>   236</td>      <th>  BIC:               </th> <td>   3719.</td>\n",
       "</tr>\n",
       "<tr>\n",
       "  <th>Df Model:</th>              <td>     2</td>      <th>                     </th>     <td> </td>   \n",
       "</tr>\n",
       "<tr>\n",
       "  <th>Covariance Type:</th>      <td>nonrobust</td>    <th>                     </th>     <td> </td>   \n",
       "</tr>\n",
       "</table>\n",
       "<table class=\"simpletable\">\n",
       "<tr>\n",
       "         <td></td>           <th>coef</th>     <th>std err</th>      <th>t</th>      <th>P>|t|</th>  <th>[0.025</th>    <th>0.975]</th>  \n",
       "</tr>\n",
       "<tr>\n",
       "  <th>const</th>          <td> 3315.4187</td> <td>  480.805</td> <td>    6.896</td> <td> 0.000</td> <td> 2368.201</td> <td> 4262.637</td>\n",
       "</tr>\n",
       "<tr>\n",
       "  <th>bill_length_mm</th> <td>   72.7916</td> <td>    6.790</td> <td>   10.721</td> <td> 0.000</td> <td>   59.416</td> <td>   86.168</td>\n",
       "</tr>\n",
       "<tr>\n",
       "  <th>bill_depth_mm</th>  <td> -135.6347</td> <td>   18.559</td> <td>   -7.308</td> <td> 0.000</td> <td> -172.198</td> <td>  -99.072</td>\n",
       "</tr>\n",
       "</table>\n",
       "<table class=\"simpletable\">\n",
       "<tr>\n",
       "  <th>Omnibus:</th>       <td> 1.120</td> <th>  Durbin-Watson:     </th> <td>   1.785</td>\n",
       "</tr>\n",
       "<tr>\n",
       "  <th>Prob(Omnibus):</th> <td> 0.571</td> <th>  Jarque-Bera (JB):  </th> <td>   1.228</td>\n",
       "</tr>\n",
       "<tr>\n",
       "  <th>Skew:</th>          <td> 0.141</td> <th>  Prob(JB):          </th> <td>   0.541</td>\n",
       "</tr>\n",
       "<tr>\n",
       "  <th>Kurtosis:</th>      <td> 2.791</td> <th>  Cond. No.          </th> <td>    627.</td>\n",
       "</tr>\n",
       "</table><br/><br/>Notes:<br/>[1] Standard Errors assume that the covariance matrix of the errors is correctly specified."
      ],
      "text/plain": [
       "<class 'statsmodels.iolib.summary.Summary'>\n",
       "\"\"\"\n",
       "                            OLS Regression Results                            \n",
       "==============================================================================\n",
       "Dep. Variable:            body_mass_g   R-squared:                       0.469\n",
       "Model:                            OLS   Adj. R-squared:                  0.465\n",
       "Method:                 Least Squares   F-statistic:                     104.4\n",
       "Date:                Wed, 01 Jun 2022   Prob (F-statistic):           3.39e-33\n",
       "Time:                        10:43:14   Log-Likelihood:                -1851.5\n",
       "No. Observations:                 239   AIC:                             3709.\n",
       "Df Residuals:                     236   BIC:                             3719.\n",
       "Df Model:                           2                                         \n",
       "Covariance Type:            nonrobust                                         \n",
       "==================================================================================\n",
       "                     coef    std err          t      P>|t|      [0.025      0.975]\n",
       "----------------------------------------------------------------------------------\n",
       "const           3315.4187    480.805      6.896      0.000    2368.201    4262.637\n",
       "bill_length_mm    72.7916      6.790     10.721      0.000      59.416      86.168\n",
       "bill_depth_mm   -135.6347     18.559     -7.308      0.000    -172.198     -99.072\n",
       "==============================================================================\n",
       "Omnibus:                        1.120   Durbin-Watson:                   1.785\n",
       "Prob(Omnibus):                  0.571   Jarque-Bera (JB):                1.228\n",
       "Skew:                           0.141   Prob(JB):                        0.541\n",
       "Kurtosis:                       2.791   Cond. No.                         627.\n",
       "==============================================================================\n",
       "\n",
       "Notes:\n",
       "[1] Standard Errors assume that the covariance matrix of the errors is correctly specified.\n",
       "\"\"\""
      ]
     },
     "execution_count": 59,
     "metadata": {},
     "output_type": "execute_result"
    }
   ],
   "source": [
    "result.summary()"
   ]
  },
  {
   "cell_type": "markdown",
   "id": "aec0dd60",
   "metadata": {},
   "source": [
    "### statsmodels.formula.api모듈의 ols().fit()함수를 이용해 선형회귀분석"
   ]
  },
  {
   "cell_type": "code",
   "execution_count": 60,
   "id": "a1c754d6",
   "metadata": {},
   "outputs": [],
   "source": [
    "formula = 'body_mass_g ~ bill_length_mm + bill_depth_mm'"
   ]
  },
  {
   "cell_type": "code",
   "execution_count": 61,
   "id": "d802d496",
   "metadata": {},
   "outputs": [],
   "source": [
    "result = ols(formula = formula, data = train).fit()"
   ]
  },
  {
   "cell_type": "code",
   "execution_count": 62,
   "id": "abe750b3",
   "metadata": {},
   "outputs": [
    {
     "data": {
      "text/html": [
       "<table class=\"simpletable\">\n",
       "<caption>OLS Regression Results</caption>\n",
       "<tr>\n",
       "  <th>Dep. Variable:</th>       <td>body_mass_g</td>   <th>  R-squared:         </th> <td>   0.469</td>\n",
       "</tr>\n",
       "<tr>\n",
       "  <th>Model:</th>                   <td>OLS</td>       <th>  Adj. R-squared:    </th> <td>   0.465</td>\n",
       "</tr>\n",
       "<tr>\n",
       "  <th>Method:</th>             <td>Least Squares</td>  <th>  F-statistic:       </th> <td>   104.4</td>\n",
       "</tr>\n",
       "<tr>\n",
       "  <th>Date:</th>             <td>Wed, 01 Jun 2022</td> <th>  Prob (F-statistic):</th> <td>3.39e-33</td>\n",
       "</tr>\n",
       "<tr>\n",
       "  <th>Time:</th>                 <td>10:43:14</td>     <th>  Log-Likelihood:    </th> <td> -1851.5</td>\n",
       "</tr>\n",
       "<tr>\n",
       "  <th>No. Observations:</th>      <td>   239</td>      <th>  AIC:               </th> <td>   3709.</td>\n",
       "</tr>\n",
       "<tr>\n",
       "  <th>Df Residuals:</th>          <td>   236</td>      <th>  BIC:               </th> <td>   3719.</td>\n",
       "</tr>\n",
       "<tr>\n",
       "  <th>Df Model:</th>              <td>     2</td>      <th>                     </th>     <td> </td>   \n",
       "</tr>\n",
       "<tr>\n",
       "  <th>Covariance Type:</th>      <td>nonrobust</td>    <th>                     </th>     <td> </td>   \n",
       "</tr>\n",
       "</table>\n",
       "<table class=\"simpletable\">\n",
       "<tr>\n",
       "         <td></td>           <th>coef</th>     <th>std err</th>      <th>t</th>      <th>P>|t|</th>  <th>[0.025</th>    <th>0.975]</th>  \n",
       "</tr>\n",
       "<tr>\n",
       "  <th>Intercept</th>      <td> 3315.4187</td> <td>  480.805</td> <td>    6.896</td> <td> 0.000</td> <td> 2368.201</td> <td> 4262.637</td>\n",
       "</tr>\n",
       "<tr>\n",
       "  <th>bill_length_mm</th> <td>   72.7916</td> <td>    6.790</td> <td>   10.721</td> <td> 0.000</td> <td>   59.416</td> <td>   86.168</td>\n",
       "</tr>\n",
       "<tr>\n",
       "  <th>bill_depth_mm</th>  <td> -135.6347</td> <td>   18.559</td> <td>   -7.308</td> <td> 0.000</td> <td> -172.198</td> <td>  -99.072</td>\n",
       "</tr>\n",
       "</table>\n",
       "<table class=\"simpletable\">\n",
       "<tr>\n",
       "  <th>Omnibus:</th>       <td> 1.120</td> <th>  Durbin-Watson:     </th> <td>   1.785</td>\n",
       "</tr>\n",
       "<tr>\n",
       "  <th>Prob(Omnibus):</th> <td> 0.571</td> <th>  Jarque-Bera (JB):  </th> <td>   1.228</td>\n",
       "</tr>\n",
       "<tr>\n",
       "  <th>Skew:</th>          <td> 0.141</td> <th>  Prob(JB):          </th> <td>   0.541</td>\n",
       "</tr>\n",
       "<tr>\n",
       "  <th>Kurtosis:</th>      <td> 2.791</td> <th>  Cond. No.          </th> <td>    627.</td>\n",
       "</tr>\n",
       "</table><br/><br/>Notes:<br/>[1] Standard Errors assume that the covariance matrix of the errors is correctly specified."
      ],
      "text/plain": [
       "<class 'statsmodels.iolib.summary.Summary'>\n",
       "\"\"\"\n",
       "                            OLS Regression Results                            \n",
       "==============================================================================\n",
       "Dep. Variable:            body_mass_g   R-squared:                       0.469\n",
       "Model:                            OLS   Adj. R-squared:                  0.465\n",
       "Method:                 Least Squares   F-statistic:                     104.4\n",
       "Date:                Wed, 01 Jun 2022   Prob (F-statistic):           3.39e-33\n",
       "Time:                        10:43:14   Log-Likelihood:                -1851.5\n",
       "No. Observations:                 239   AIC:                             3709.\n",
       "Df Residuals:                     236   BIC:                             3719.\n",
       "Df Model:                           2                                         \n",
       "Covariance Type:            nonrobust                                         \n",
       "==================================================================================\n",
       "                     coef    std err          t      P>|t|      [0.025      0.975]\n",
       "----------------------------------------------------------------------------------\n",
       "Intercept       3315.4187    480.805      6.896      0.000    2368.201    4262.637\n",
       "bill_length_mm    72.7916      6.790     10.721      0.000      59.416      86.168\n",
       "bill_depth_mm   -135.6347     18.559     -7.308      0.000    -172.198     -99.072\n",
       "==============================================================================\n",
       "Omnibus:                        1.120   Durbin-Watson:                   1.785\n",
       "Prob(Omnibus):                  0.571   Jarque-Bera (JB):                1.228\n",
       "Skew:                           0.141   Prob(JB):                        0.541\n",
       "Kurtosis:                       2.791   Cond. No.                         627.\n",
       "==============================================================================\n",
       "\n",
       "Notes:\n",
       "[1] Standard Errors assume that the covariance matrix of the errors is correctly specified.\n",
       "\"\"\""
      ]
     },
     "execution_count": 62,
     "metadata": {},
     "output_type": "execute_result"
    }
   ],
   "source": [
    "result.summary()"
   ]
  }
 ],
 "metadata": {
  "kernelspec": {
   "display_name": "Python 3 (ipykernel)",
   "language": "python",
   "name": "python3"
  },
  "language_info": {
   "codemirror_mode": {
    "name": "ipython",
    "version": 3
   },
   "file_extension": ".py",
   "mimetype": "text/x-python",
   "name": "python",
   "nbconvert_exporter": "python",
   "pygments_lexer": "ipython3",
   "version": "3.9.12"
  }
 },
 "nbformat": 4,
 "nbformat_minor": 5
}
