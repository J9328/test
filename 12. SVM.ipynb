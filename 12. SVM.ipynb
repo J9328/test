{
 "cells": [
  {
   "cell_type": "markdown",
   "id": "97e92fea",
   "metadata": {},
   "source": [
    "# 12. SVM"
   ]
  },
  {
   "cell_type": "markdown",
   "id": "011fd236",
   "metadata": {},
   "source": [
    "예측이 정확하고 여러가지 형태의 자료에 대하여 적용이 용이함.  \n",
    "\n",
    "분류문제와 회귀문제 모두 사용가능.  \n",
    "\n",
    "**로지스틱 회귀** : 출력값에 대한 조건부 확률을 추정. \n",
    "\n",
    "**서포트 벡터 머신** : 확률을 추정하지 않고 직접 분류 결과를 예측.  \n",
    "\n",
    "## 1. SVM의 이해\n",
    "\n",
    "[참고](https://hleecaster.com/ml-svm-concept/)\n",
    "\n",
    "\n"
   ]
  },
  {
   "cell_type": "markdown",
   "id": "601f6bd1",
   "metadata": {},
   "source": [
    "## 2. sklearn 모듈을 활용한 SVM\n",
    "\n",
    "### 2-1. Train set - Test set 분할\n",
    "\n",
    "sklearn.model_selection 모듈의 train_test_split()함수 이용\n",
    "\n",
    "> from sklearn.model_selection import train_test_split\n",
    "\n",
    "> train 객체명, test 객체명 = train_test_split(데이터셋, test_size=비율, random_state=번호, stratify=출력변수)\n",
    "\n",
    "예측의 대상이 되는 출력변수에 대하여 층화추출을 통해 Train 데이터와 Test 데이터를 분류\n",
    "\n",
    "### 2-2. Train set을 활용한 SVM\n",
    "\n",
    "sklearn.svm 모듈의 SVC()함수 이용\n",
    "\n",
    "> from sklearn.svm import SVC\n",
    "\n",
    "> SVC(kernel='linear', 'rbf', 'poly', 'sigmoid', C=슬랙변수 초모수값, gamma=비선형SVM비선형성값, probability=True/False).fit(입력변수, 출력변수)\n",
    "\n",
    "* kernel 옵션\n",
    "    - 선형 SVM 또는 비선형 SVM 결정\n",
    "    - 'linear' 기본값 (선형)\n",
    "    - 'rbf' 방사형 기저함수 사용 (비선형)\n",
    "    - 'poly' p차 다항식 사용 (비선형)\n",
    "    - 'sigmoid' 시그모이드함수 사용 (비선형)\n",
    "    \n",
    "    \n",
    "* C 옵션\n",
    "    - 슬랙변수가 주어졌을 때의 초모수값 지정\n",
    "    - 실수값 입력 가능 (기본값은 1로 지정)\n",
    "    \n",
    "    \n",
    "* gamma 옵션\n",
    "    - 비선형 SVM 실시\n",
    "    - 커널함수를 rbf, poly, sigmoid로 지정하였을 때 사용\n",
    "    - 실수값 지정 가능\n",
    "    \n",
    "    \n",
    "* probability 옵션\n",
    "    - 확률추정을 활성화 할 지 여부를 지정\n",
    "    - 기본적으로 False로 지정되어 있어 확률값을 계산하지 않음\n",
    "    - predict_proba()함수를 이용하여 출력변수의 예측확률값을 확인하려면 True를 지정하여 확률값 계산\n",
    "    \n",
    "    \n",
    "> 예측값: SVM객체.predict(입력변수)\n",
    "\n",
    "> 확률값: SVM객체.proba(입력변수)\n",
    "\n",
    "\n",
    "SVM 모형 평가에 사용되는 분류표, 정분류율, 평가지표 확인\n",
    "\n",
    "> from sklearn.metrics import confusion_matrix, accuracy_score, classification_report\n",
    "\n",
    "> 분류표: confusion_matrix(출력변수 예측값, 출력변수)\n",
    "\n",
    "> 정뷴류율: accuracy_score(출력변수, 출력변수 예측값)\n",
    "\n",
    "> 분류 예측력 평가지표: classification_report(출력변수, 출력변수 예측값)\n",
    "\n",
    "### 2-3. 선형 SVM 실시"
   ]
  },
  {
   "cell_type": "code",
   "execution_count": 1,
   "id": "453dc831",
   "metadata": {},
   "outputs": [],
   "source": [
    "import seaborn as sns"
   ]
  },
  {
   "cell_type": "code",
   "execution_count": 2,
   "id": "c86ff640",
   "metadata": {},
   "outputs": [],
   "source": [
    "df = sns.load_dataset('iris')"
   ]
  },
  {
   "cell_type": "code",
   "execution_count": 3,
   "id": "e72d1ee5",
   "metadata": {},
   "outputs": [
    {
     "name": "stdout",
     "output_type": "stream",
     "text": [
      "<class 'pandas.core.frame.DataFrame'>\n",
      "RangeIndex: 150 entries, 0 to 149\n",
      "Data columns (total 5 columns):\n",
      " #   Column        Non-Null Count  Dtype  \n",
      "---  ------        --------------  -----  \n",
      " 0   sepal_length  150 non-null    float64\n",
      " 1   sepal_width   150 non-null    float64\n",
      " 2   petal_length  150 non-null    float64\n",
      " 3   petal_width   150 non-null    float64\n",
      " 4   species       150 non-null    object \n",
      "dtypes: float64(4), object(1)\n",
      "memory usage: 6.0+ KB\n"
     ]
    }
   ],
   "source": [
    "df.info()"
   ]
  },
  {
   "cell_type": "code",
   "execution_count": 4,
   "id": "1ef32d50",
   "metadata": {},
   "outputs": [],
   "source": [
    "from sklearn.model_selection import train_test_split"
   ]
  },
  {
   "cell_type": "code",
   "execution_count": 5,
   "id": "3bb168df",
   "metadata": {},
   "outputs": [],
   "source": [
    "train, test = train_test_split(df, test_size=0.3, random_state=1, stratify=df['species'])"
   ]
  },
  {
   "cell_type": "code",
   "execution_count": 6,
   "id": "1a5d7aae",
   "metadata": {},
   "outputs": [],
   "source": [
    "y_train = train['species']\n",
    "X_train = train[['sepal_length','sepal_width','petal_length','petal_width']]\n",
    "\n",
    "y_test = test['species']\n",
    "X_test = test[['sepal_length','sepal_width','petal_length','petal_width']]"
   ]
  },
  {
   "cell_type": "code",
   "execution_count": 7,
   "id": "3f8b5fed",
   "metadata": {},
   "outputs": [],
   "source": [
    "from sklearn.svm import SVC"
   ]
  },
  {
   "cell_type": "code",
   "execution_count": 8,
   "id": "02324331",
   "metadata": {},
   "outputs": [],
   "source": [
    "svm = SVC(kernel='linear', C=1.0, probability=True, random_state=1).fit(X_train, y_train)"
   ]
  },
  {
   "cell_type": "code",
   "execution_count": 9,
   "id": "3da42873",
   "metadata": {},
   "outputs": [
    {
     "data": {
      "text/plain": [
       "array([[0.97679222, 0.01152322, 0.01168456],\n",
       "       [0.93280957, 0.04645169, 0.02073874],\n",
       "       [0.01531616, 0.03733592, 0.94734792],\n",
       "       [0.00964874, 0.02514918, 0.96520208],\n",
       "       [0.96911164, 0.02044402, 0.01044434]])"
      ]
     },
     "execution_count": 9,
     "metadata": {},
     "output_type": "execute_result"
    }
   ],
   "source": [
    "svm.predict_proba(X_train)[:5]"
   ]
  },
  {
   "cell_type": "code",
   "execution_count": 10,
   "id": "d07d3c34",
   "metadata": {},
   "outputs": [],
   "source": [
    "y_train_pred = svm.predict(X_train)"
   ]
  },
  {
   "cell_type": "code",
   "execution_count": 11,
   "id": "2654dab5",
   "metadata": {},
   "outputs": [],
   "source": [
    "from sklearn.metrics import confusion_matrix, accuracy_score, classification_report"
   ]
  },
  {
   "cell_type": "code",
   "execution_count": 12,
   "id": "dc86b833",
   "metadata": {},
   "outputs": [
    {
     "data": {
      "text/plain": [
       "array([[35,  0,  0],\n",
       "       [ 0, 33,  1],\n",
       "       [ 0,  2, 34]])"
      ]
     },
     "execution_count": 12,
     "metadata": {},
     "output_type": "execute_result"
    }
   ],
   "source": [
    "confusion_matrix(y_train_pred, y_train)"
   ]
  },
  {
   "cell_type": "code",
   "execution_count": 13,
   "id": "6beb537c",
   "metadata": {},
   "outputs": [
    {
     "data": {
      "text/plain": [
       "0.9714285714285714"
      ]
     },
     "execution_count": 13,
     "metadata": {},
     "output_type": "execute_result"
    }
   ],
   "source": [
    "accuracy_score(y_train_pred, y_train)"
   ]
  },
  {
   "cell_type": "code",
   "execution_count": 14,
   "id": "105ceee6",
   "metadata": {},
   "outputs": [],
   "source": [
    "svm_report = classification_report(y_train, y_train_pred)"
   ]
  },
  {
   "cell_type": "code",
   "execution_count": 15,
   "id": "9441955c",
   "metadata": {},
   "outputs": [
    {
     "name": "stdout",
     "output_type": "stream",
     "text": [
      "              precision    recall  f1-score   support\n",
      "\n",
      "      setosa       1.00      1.00      1.00        35\n",
      "  versicolor       0.97      0.94      0.96        35\n",
      "   virginica       0.94      0.97      0.96        35\n",
      "\n",
      "    accuracy                           0.97       105\n",
      "   macro avg       0.97      0.97      0.97       105\n",
      "weighted avg       0.97      0.97      0.97       105\n",
      "\n"
     ]
    }
   ],
   "source": [
    "print(svm_report)"
   ]
  },
  {
   "cell_type": "code",
   "execution_count": 16,
   "id": "e4b9e5bc",
   "metadata": {},
   "outputs": [],
   "source": [
    "y_test_pred = svm.predict(X_test)"
   ]
  },
  {
   "cell_type": "code",
   "execution_count": 17,
   "id": "868b8b5e",
   "metadata": {},
   "outputs": [
    {
     "data": {
      "text/plain": [
       "array([[15,  0,  0],\n",
       "       [ 0, 15,  1],\n",
       "       [ 0,  0, 14]])"
      ]
     },
     "execution_count": 17,
     "metadata": {},
     "output_type": "execute_result"
    }
   ],
   "source": [
    "confusion_matrix(y_test_pred, y_test)"
   ]
  },
  {
   "cell_type": "code",
   "execution_count": 18,
   "id": "75d729e6",
   "metadata": {},
   "outputs": [
    {
     "data": {
      "text/plain": [
       "0.9777777777777777"
      ]
     },
     "execution_count": 18,
     "metadata": {},
     "output_type": "execute_result"
    }
   ],
   "source": [
    "accuracy_score(y_test_pred, y_test)"
   ]
  },
  {
   "cell_type": "code",
   "execution_count": 19,
   "id": "e2ba1a58",
   "metadata": {},
   "outputs": [],
   "source": [
    "svm_report1 = classification_report(y_test, y_test_pred)"
   ]
  },
  {
   "cell_type": "code",
   "execution_count": 20,
   "id": "761028ee",
   "metadata": {},
   "outputs": [
    {
     "name": "stdout",
     "output_type": "stream",
     "text": [
      "              precision    recall  f1-score   support\n",
      "\n",
      "      setosa       1.00      1.00      1.00        15\n",
      "  versicolor       0.94      1.00      0.97        15\n",
      "   virginica       1.00      0.93      0.97        15\n",
      "\n",
      "    accuracy                           0.98        45\n",
      "   macro avg       0.98      0.98      0.98        45\n",
      "weighted avg       0.98      0.98      0.98        45\n",
      "\n"
     ]
    }
   ],
   "source": [
    "print(svm_report1)"
   ]
  },
  {
   "cell_type": "markdown",
   "id": "8c5893b3",
   "metadata": {},
   "source": [
    "### 2-4. 비선형 SVM 실시"
   ]
  },
  {
   "cell_type": "code",
   "execution_count": 21,
   "id": "57be9c53",
   "metadata": {},
   "outputs": [],
   "source": [
    "from sklearn.svm import SVC"
   ]
  },
  {
   "cell_type": "code",
   "execution_count": 22,
   "id": "1e4d87ed",
   "metadata": {},
   "outputs": [],
   "source": [
    "svm = SVC(kernel='rbf', C=1.0, gamma=0.2, probability=True, random_state=1).fit(X_train, y_train)"
   ]
  },
  {
   "cell_type": "code",
   "execution_count": 23,
   "id": "cf78389d",
   "metadata": {},
   "outputs": [
    {
     "data": {
      "text/plain": [
       "array([[0.94025384, 0.03167803, 0.02806813],\n",
       "       [0.94990912, 0.03161942, 0.01847146],\n",
       "       [0.01358309, 0.0313825 , 0.95503441],\n",
       "       [0.0115695 , 0.01544497, 0.97298553],\n",
       "       [0.96377102, 0.01889853, 0.01733045]])"
      ]
     },
     "execution_count": 23,
     "metadata": {},
     "output_type": "execute_result"
    }
   ],
   "source": [
    "svm.predict_proba(X_train)[:5]"
   ]
  },
  {
   "cell_type": "code",
   "execution_count": 24,
   "id": "475f2a07",
   "metadata": {},
   "outputs": [],
   "source": [
    "y_train_pred = svm.predict(X_train)"
   ]
  },
  {
   "cell_type": "code",
   "execution_count": 25,
   "id": "e3a75b6a",
   "metadata": {},
   "outputs": [
    {
     "data": {
      "text/plain": [
       "array([[35,  0,  0],\n",
       "       [ 0, 33,  2],\n",
       "       [ 0,  2, 33]])"
      ]
     },
     "execution_count": 25,
     "metadata": {},
     "output_type": "execute_result"
    }
   ],
   "source": [
    "confusion_matrix(y_train_pred, y_train)"
   ]
  },
  {
   "cell_type": "code",
   "execution_count": 26,
   "id": "e2adf55b",
   "metadata": {},
   "outputs": [
    {
     "data": {
      "text/plain": [
       "0.9619047619047619"
      ]
     },
     "execution_count": 26,
     "metadata": {},
     "output_type": "execute_result"
    }
   ],
   "source": [
    "accuracy_score(y_train, y_train_pred)"
   ]
  },
  {
   "cell_type": "code",
   "execution_count": 27,
   "id": "801b3ab5",
   "metadata": {},
   "outputs": [],
   "source": [
    "svm_report2 = classification_report(y_train_pred, y_train)"
   ]
  },
  {
   "cell_type": "code",
   "execution_count": 28,
   "id": "9a256c45",
   "metadata": {},
   "outputs": [
    {
     "name": "stdout",
     "output_type": "stream",
     "text": [
      "              precision    recall  f1-score   support\n",
      "\n",
      "      setosa       1.00      1.00      1.00        35\n",
      "  versicolor       0.94      0.94      0.94        35\n",
      "   virginica       0.94      0.94      0.94        35\n",
      "\n",
      "    accuracy                           0.96       105\n",
      "   macro avg       0.96      0.96      0.96       105\n",
      "weighted avg       0.96      0.96      0.96       105\n",
      "\n"
     ]
    }
   ],
   "source": [
    "print(svm_report2)"
   ]
  },
  {
   "cell_type": "code",
   "execution_count": 29,
   "id": "1dd50f6d",
   "metadata": {},
   "outputs": [],
   "source": [
    "y_test_pred = svm.predict(X_test)"
   ]
  },
  {
   "cell_type": "code",
   "execution_count": 30,
   "id": "42430062",
   "metadata": {},
   "outputs": [
    {
     "data": {
      "text/plain": [
       "array([[15,  0,  0],\n",
       "       [ 0, 15,  1],\n",
       "       [ 0,  0, 14]])"
      ]
     },
     "execution_count": 30,
     "metadata": {},
     "output_type": "execute_result"
    }
   ],
   "source": [
    "confusion_matrix(y_test_pred, y_test)"
   ]
  },
  {
   "cell_type": "code",
   "execution_count": 31,
   "id": "7070d615",
   "metadata": {},
   "outputs": [
    {
     "data": {
      "text/plain": [
       "0.9777777777777777"
      ]
     },
     "execution_count": 31,
     "metadata": {},
     "output_type": "execute_result"
    }
   ],
   "source": [
    "accuracy_score(y_test, y_test_pred)"
   ]
  },
  {
   "cell_type": "code",
   "execution_count": 32,
   "id": "8da5b015",
   "metadata": {},
   "outputs": [],
   "source": [
    "svm_report3 = classification_report(y_test_pred, y_test)"
   ]
  },
  {
   "cell_type": "code",
   "execution_count": 33,
   "id": "ebf8a4f3",
   "metadata": {},
   "outputs": [
    {
     "name": "stdout",
     "output_type": "stream",
     "text": [
      "              precision    recall  f1-score   support\n",
      "\n",
      "      setosa       1.00      1.00      1.00        15\n",
      "  versicolor       1.00      0.94      0.97        16\n",
      "   virginica       0.93      1.00      0.97        14\n",
      "\n",
      "    accuracy                           0.98        45\n",
      "   macro avg       0.98      0.98      0.98        45\n",
      "weighted avg       0.98      0.98      0.98        45\n",
      "\n"
     ]
    }
   ],
   "source": [
    "print(svm_report3)"
   ]
  },
  {
   "cell_type": "markdown",
   "id": "cf2c7ca2",
   "metadata": {},
   "source": [
    "## 실습\n",
    "\n",
    "### [과제12] SVM 실시\n",
    "seaborn 모듈의 penguins 데이터에서 species를 예측하기 위해 bill_length_mm, bill_depth_mm, flipper_length_mm, body_mass_g을 사용한 SVM을 실시하시오.  "
   ]
  },
  {
   "cell_type": "code",
   "execution_count": 34,
   "id": "2525dbb2",
   "metadata": {},
   "outputs": [],
   "source": [
    "df = sns.load_dataset('penguins')"
   ]
  },
  {
   "cell_type": "code",
   "execution_count": 35,
   "id": "fa79cead",
   "metadata": {},
   "outputs": [
    {
     "name": "stdout",
     "output_type": "stream",
     "text": [
      "<class 'pandas.core.frame.DataFrame'>\n",
      "RangeIndex: 344 entries, 0 to 343\n",
      "Data columns (total 7 columns):\n",
      " #   Column             Non-Null Count  Dtype  \n",
      "---  ------             --------------  -----  \n",
      " 0   species            344 non-null    object \n",
      " 1   island             344 non-null    object \n",
      " 2   bill_length_mm     342 non-null    float64\n",
      " 3   bill_depth_mm      342 non-null    float64\n",
      " 4   flipper_length_mm  342 non-null    float64\n",
      " 5   body_mass_g        342 non-null    float64\n",
      " 6   sex                333 non-null    object \n",
      "dtypes: float64(4), object(3)\n",
      "memory usage: 18.9+ KB\n"
     ]
    }
   ],
   "source": [
    "df.info()"
   ]
  },
  {
   "cell_type": "code",
   "execution_count": 36,
   "id": "c036762b",
   "metadata": {},
   "outputs": [],
   "source": [
    "import pandas as pd"
   ]
  },
  {
   "cell_type": "code",
   "execution_count": 37,
   "id": "569c3999",
   "metadata": {},
   "outputs": [],
   "source": [
    "df = df.dropna(subset = ['species', 'bill_length_mm', 'bill_depth_mm', 'flipper_length_mm', 'body_mass_g'], \n",
    "               how = 'any', axis = 0)"
   ]
  },
  {
   "cell_type": "code",
   "execution_count": 38,
   "id": "5a92261c",
   "metadata": {},
   "outputs": [
    {
     "name": "stdout",
     "output_type": "stream",
     "text": [
      "<class 'pandas.core.frame.DataFrame'>\n",
      "Int64Index: 342 entries, 0 to 343\n",
      "Data columns (total 7 columns):\n",
      " #   Column             Non-Null Count  Dtype  \n",
      "---  ------             --------------  -----  \n",
      " 0   species            342 non-null    object \n",
      " 1   island             342 non-null    object \n",
      " 2   bill_length_mm     342 non-null    float64\n",
      " 3   bill_depth_mm      342 non-null    float64\n",
      " 4   flipper_length_mm  342 non-null    float64\n",
      " 5   body_mass_g        342 non-null    float64\n",
      " 6   sex                333 non-null    object \n",
      "dtypes: float64(4), object(3)\n",
      "memory usage: 21.4+ KB\n"
     ]
    }
   ],
   "source": [
    "df.info()"
   ]
  },
  {
   "cell_type": "code",
   "execution_count": 39,
   "id": "b96d27a3",
   "metadata": {},
   "outputs": [],
   "source": [
    "train, test = train_test_split(df, test_size=0.3, random_state=123, stratify=df['species'])"
   ]
  },
  {
   "cell_type": "code",
   "execution_count": 40,
   "id": "b935d292",
   "metadata": {},
   "outputs": [],
   "source": [
    "X_train = train[['bill_length_mm', 'bill_depth_mm', 'flipper_length_mm', 'body_mass_g']]\n",
    "y_train = train['species']\n",
    "\n",
    "X_test = test[['bill_length_mm', 'bill_depth_mm', 'flipper_length_mm', 'body_mass_g']]\n",
    "y_test = test['species']\n"
   ]
  },
  {
   "cell_type": "code",
   "execution_count": 41,
   "id": "fab54a10",
   "metadata": {},
   "outputs": [],
   "source": [
    "svm = SVC(kernel='linear', C=1.0, random_state=1, probability=True).fit(X_train, y_train)"
   ]
  },
  {
   "cell_type": "code",
   "execution_count": 42,
   "id": "85078808",
   "metadata": {},
   "outputs": [
    {
     "data": {
      "text/plain": [
       "array([[9.10672441e-01, 8.83934367e-02, 9.34122472e-04],\n",
       "       [1.66325528e-02, 9.16181052e-01, 6.71863952e-02],\n",
       "       [3.33436832e-02, 9.36650295e-01, 3.00060215e-02],\n",
       "       [9.93876464e-01, 5.45886358e-03, 6.64671981e-04],\n",
       "       [9.21366758e-01, 7.38168416e-02, 4.81640003e-03]])"
      ]
     },
     "execution_count": 42,
     "metadata": {},
     "output_type": "execute_result"
    }
   ],
   "source": [
    "svm.predict_proba(X_train)[:5]"
   ]
  },
  {
   "cell_type": "code",
   "execution_count": 43,
   "id": "b2ee7039",
   "metadata": {},
   "outputs": [],
   "source": [
    "y_train_pred = svm.predict(X_train)"
   ]
  },
  {
   "cell_type": "code",
   "execution_count": 44,
   "id": "e8944372",
   "metadata": {},
   "outputs": [
    {
     "data": {
      "text/plain": [
       "array([[105,   0,   0],\n",
       "       [  1,  47,   0],\n",
       "       [  0,   0,  86]])"
      ]
     },
     "execution_count": 44,
     "metadata": {},
     "output_type": "execute_result"
    }
   ],
   "source": [
    "confusion_matrix(y_train_pred, y_train)"
   ]
  },
  {
   "cell_type": "code",
   "execution_count": 45,
   "id": "a4443d45",
   "metadata": {},
   "outputs": [
    {
     "data": {
      "text/plain": [
       "0.99581589958159"
      ]
     },
     "execution_count": 45,
     "metadata": {},
     "output_type": "execute_result"
    }
   ],
   "source": [
    "accuracy_score(y_train, y_train_pred)"
   ]
  },
  {
   "cell_type": "code",
   "execution_count": 46,
   "id": "a2cf296a",
   "metadata": {},
   "outputs": [],
   "source": [
    "svm_report = classification_report(y_train, y_train_pred)"
   ]
  },
  {
   "cell_type": "code",
   "execution_count": 47,
   "id": "7529cf3c",
   "metadata": {},
   "outputs": [
    {
     "name": "stdout",
     "output_type": "stream",
     "text": [
      "              precision    recall  f1-score   support\n",
      "\n",
      "      Adelie       1.00      0.99      1.00       106\n",
      "   Chinstrap       0.98      1.00      0.99        47\n",
      "      Gentoo       1.00      1.00      1.00        86\n",
      "\n",
      "    accuracy                           1.00       239\n",
      "   macro avg       0.99      1.00      0.99       239\n",
      "weighted avg       1.00      1.00      1.00       239\n",
      "\n"
     ]
    }
   ],
   "source": [
    "print(svm_report)"
   ]
  },
  {
   "cell_type": "code",
   "execution_count": 48,
   "id": "64cedf3f",
   "metadata": {},
   "outputs": [
    {
     "data": {
      "text/plain": [
       "array([[1.54894932e-02, 9.70232681e-01, 1.42778260e-02],\n",
       "       [9.90554604e-01, 9.31702638e-03, 1.28369214e-04],\n",
       "       [2.11670916e-01, 7.28873177e-01, 5.94559069e-02],\n",
       "       [9.90392386e-01, 5.74639287e-03, 3.86122150e-03],\n",
       "       [2.18024796e-03, 9.88624224e-01, 9.19552796e-03]])"
      ]
     },
     "execution_count": 48,
     "metadata": {},
     "output_type": "execute_result"
    }
   ],
   "source": [
    "svm.predict_proba(X_test)[:5]"
   ]
  },
  {
   "cell_type": "code",
   "execution_count": 49,
   "id": "2783090c",
   "metadata": {},
   "outputs": [],
   "source": [
    "y_test_pred = svm.predict(X_test)"
   ]
  },
  {
   "cell_type": "code",
   "execution_count": 50,
   "id": "de31c5bc",
   "metadata": {},
   "outputs": [
    {
     "data": {
      "text/plain": [
       "array([[45,  0,  0],\n",
       "       [ 0, 21,  0],\n",
       "       [ 0,  0, 37]])"
      ]
     },
     "execution_count": 50,
     "metadata": {},
     "output_type": "execute_result"
    }
   ],
   "source": [
    "confusion_matrix(y_test_pred, y_test)"
   ]
  },
  {
   "cell_type": "code",
   "execution_count": 51,
   "id": "45e93804",
   "metadata": {},
   "outputs": [
    {
     "data": {
      "text/plain": [
       "1.0"
      ]
     },
     "execution_count": 51,
     "metadata": {},
     "output_type": "execute_result"
    }
   ],
   "source": [
    "accuracy_score(y_test, y_test_pred)"
   ]
  },
  {
   "cell_type": "code",
   "execution_count": 52,
   "id": "689f71e5",
   "metadata": {},
   "outputs": [],
   "source": [
    "svm_report1 = classification_report(y_test, y_test_pred)"
   ]
  },
  {
   "cell_type": "code",
   "execution_count": 53,
   "id": "8c2afced",
   "metadata": {},
   "outputs": [
    {
     "name": "stdout",
     "output_type": "stream",
     "text": [
      "              precision    recall  f1-score   support\n",
      "\n",
      "      Adelie       1.00      1.00      1.00        45\n",
      "   Chinstrap       1.00      1.00      1.00        21\n",
      "      Gentoo       1.00      1.00      1.00        37\n",
      "\n",
      "    accuracy                           1.00       103\n",
      "   macro avg       1.00      1.00      1.00       103\n",
      "weighted avg       1.00      1.00      1.00       103\n",
      "\n"
     ]
    }
   ],
   "source": [
    "print(svm_report1)"
   ]
  },
  {
   "cell_type": "code",
   "execution_count": 54,
   "id": "2289dc28",
   "metadata": {},
   "outputs": [],
   "source": [
    "svm = SVC(kernel='rbf', C=1.0, gamma=0.2, random_state=123, probability=True)"
   ]
  },
  {
   "cell_type": "code",
   "execution_count": 55,
   "id": "0e7c76cd",
   "metadata": {},
   "outputs": [
    {
     "data": {
      "text/plain": [
       "SVC(gamma=0.2, probability=True, random_state=123)"
      ]
     },
     "execution_count": 55,
     "metadata": {},
     "output_type": "execute_result"
    }
   ],
   "source": [
    "svm.fit(X_train, y_train)"
   ]
  },
  {
   "cell_type": "code",
   "execution_count": 56,
   "id": "85582cec",
   "metadata": {},
   "outputs": [
    {
     "data": {
      "text/plain": [
       "array([[0.79836388, 0.19655498, 0.00508114],\n",
       "       [0.19738927, 0.7533416 , 0.04926912],\n",
       "       [0.1952624 , 0.7561998 , 0.0485378 ],\n",
       "       [0.85898021, 0.11214959, 0.0288702 ],\n",
       "       [0.85904018, 0.11210355, 0.02885627]])"
      ]
     },
     "execution_count": 56,
     "metadata": {},
     "output_type": "execute_result"
    }
   ],
   "source": [
    "svm.predict_proba(X_train)[:5]"
   ]
  },
  {
   "cell_type": "code",
   "execution_count": 57,
   "id": "a0369265",
   "metadata": {},
   "outputs": [],
   "source": [
    "y_train_pred = svm.predict(X_train)"
   ]
  },
  {
   "cell_type": "code",
   "execution_count": 58,
   "id": "779d3bf3",
   "metadata": {},
   "outputs": [
    {
     "data": {
      "text/plain": [
       "array([[106,   1,   0],\n",
       "       [  0,  46,   0],\n",
       "       [  0,   0,  86]])"
      ]
     },
     "execution_count": 58,
     "metadata": {},
     "output_type": "execute_result"
    }
   ],
   "source": [
    "confusion_matrix(y_train_pred, y_train)"
   ]
  },
  {
   "cell_type": "code",
   "execution_count": 59,
   "id": "4fa5b194",
   "metadata": {},
   "outputs": [
    {
     "data": {
      "text/plain": [
       "0.99581589958159"
      ]
     },
     "execution_count": 59,
     "metadata": {},
     "output_type": "execute_result"
    }
   ],
   "source": [
    "accuracy_score(y_train, y_train_pred)"
   ]
  },
  {
   "cell_type": "code",
   "execution_count": 60,
   "id": "09f50b03",
   "metadata": {},
   "outputs": [],
   "source": [
    "svm_report2 = classification_report(y_train, y_train_pred)"
   ]
  },
  {
   "cell_type": "code",
   "execution_count": 61,
   "id": "c330ba83",
   "metadata": {},
   "outputs": [
    {
     "name": "stdout",
     "output_type": "stream",
     "text": [
      "              precision    recall  f1-score   support\n",
      "\n",
      "      Adelie       0.99      1.00      1.00       106\n",
      "   Chinstrap       1.00      0.98      0.99        47\n",
      "      Gentoo       1.00      1.00      1.00        86\n",
      "\n",
      "    accuracy                           1.00       239\n",
      "   macro avg       1.00      0.99      0.99       239\n",
      "weighted avg       1.00      1.00      1.00       239\n",
      "\n"
     ]
    }
   ],
   "source": [
    "print(svm_report2)"
   ]
  },
  {
   "cell_type": "code",
   "execution_count": 62,
   "id": "0e8e6094",
   "metadata": {},
   "outputs": [],
   "source": [
    "y_test_pred = svm.predict(X_test)"
   ]
  },
  {
   "cell_type": "code",
   "execution_count": 63,
   "id": "965b1e05",
   "metadata": {},
   "outputs": [
    {
     "data": {
      "text/plain": [
       "array([[45, 19, 20],\n",
       "       [ 0,  2,  0],\n",
       "       [ 0,  0, 17]])"
      ]
     },
     "execution_count": 63,
     "metadata": {},
     "output_type": "execute_result"
    }
   ],
   "source": [
    "confusion_matrix(y_test_pred, y_test)"
   ]
  },
  {
   "cell_type": "code",
   "execution_count": 64,
   "id": "5737e774",
   "metadata": {},
   "outputs": [
    {
     "data": {
      "text/plain": [
       "0.6213592233009708"
      ]
     },
     "execution_count": 64,
     "metadata": {},
     "output_type": "execute_result"
    }
   ],
   "source": [
    "accuracy_score(y_test, y_test_pred)"
   ]
  },
  {
   "cell_type": "code",
   "execution_count": 65,
   "id": "543d4b11",
   "metadata": {},
   "outputs": [],
   "source": [
    "svm_report3 = classification_report(y_test, y_test_pred)"
   ]
  },
  {
   "cell_type": "code",
   "execution_count": 66,
   "id": "eb0e2540",
   "metadata": {},
   "outputs": [
    {
     "name": "stdout",
     "output_type": "stream",
     "text": [
      "              precision    recall  f1-score   support\n",
      "\n",
      "      Adelie       0.54      1.00      0.70        45\n",
      "   Chinstrap       1.00      0.10      0.17        21\n",
      "      Gentoo       1.00      0.46      0.63        37\n",
      "\n",
      "    accuracy                           0.62       103\n",
      "   macro avg       0.85      0.52      0.50       103\n",
      "weighted avg       0.80      0.62      0.57       103\n",
      "\n"
     ]
    }
   ],
   "source": [
    "print(svm_report3)"
   ]
  },
  {
   "cell_type": "markdown",
   "id": "a56198fc",
   "metadata": {},
   "source": [
    "linear가 아닌 rbf일 때 Adelie종을 구별하는데 정확도가 크게 떨어지는 것을 알 수 있음. 즉 Train set으로 fitting한 비선형 SVM이 Overfitting 되었다는 의미이므로 정확한 값을 얻기 위해서는 옵션값을 조절해야 한다.  \n",
    "\n",
    "최적의 옵션값을 선택하는 방법은 '교차검증', 'hyperparameter tuning'등의 키워드로 검색하여 알 수 있다.  "
   ]
  }
 ],
 "metadata": {
  "kernelspec": {
   "display_name": "Python 3 (ipykernel)",
   "language": "python",
   "name": "python3"
  },
  "language_info": {
   "codemirror_mode": {
    "name": "ipython",
    "version": 3
   },
   "file_extension": ".py",
   "mimetype": "text/x-python",
   "name": "python",
   "nbconvert_exporter": "python",
   "pygments_lexer": "ipython3",
   "version": "3.9.12"
  }
 },
 "nbformat": 4,
 "nbformat_minor": 5
}
