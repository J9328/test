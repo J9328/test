{
 "cells": [
  {
   "cell_type": "markdown",
   "id": "d7ea157d",
   "metadata": {},
   "source": [
    "# 10. 로지스틱 회귀분석"
   ]
  },
  {
   "cell_type": "markdown",
   "id": "42907bb6",
   "metadata": {},
   "source": [
    "로지스틱 회귀분석은 결과가 특정분류로 나뉘기 때문에 분류 기법으로 볼 수 있음"
   ]
  },
  {
   "cell_type": "markdown",
   "id": "2828346c",
   "metadata": {},
   "source": [
    "## 1. 로지스틱 회귀분석의 이해\n",
    "로지스틱 회귀분석: 종속변수가 범주형일 경우 사용하는 회귀분석\n",
    "\n",
    "참고: https://ko.wikipedia.org/wiki/로지스틱_회귀\n",
    "\n",
    "로지스틱 회귀모형의 예측력을 평가하는 지표\n",
    "\n",
    "[Confusion Matrix](https://en.wikipedia.org/wiki/Confusion_matrix)\n",
    "\n",
    "* 1종오류: False positive  \n",
    "\n",
    "* 2종오류: False Negative  \n",
    "\n",
    "정확도(Precision) = $\\frac{TP}{TP+FP} = \\frac{TP}{PP}$  \n",
    "$\\rightarrow$ 정확도가 높다는 것은 실제 False를 True로 잘못 예측하는 False Positive 오류가 작다는 의미. \n",
    "\n",
    "\n",
    "\n",
    "재현율(Recall) = $\\frac{TP}{TP+FN} = \\frac{TP}{P}$   \n",
    "$\\rightarrow$ 재현율이 높다는 것은 실제 True를 False로 잘못 예측하는 False Negative 오류가 낮다는 의미.   \n",
    "\n",
    "\n",
    "F1지표(F1-score) = $\\frac{2 \\times Precision \\times Recall}{Precision + Recall}$    \n",
    "$\\rightarrow$ 정확도와 재현율이 균등하게 반영될 수 있도록 정확도와 재현율의 조화평균을 계산한 값으로 값이 높을수록 분류모형의 예측력이 좋다고 말할 수 있음.    "
   ]
  },
  {
   "cell_type": "markdown",
   "id": "fb0c9292",
   "metadata": {},
   "source": [
    "## 2. sklearn 모듈을 활용한 로지스틱 회귀분석"
   ]
  },
  {
   "cell_type": "markdown",
   "id": "9bbda924",
   "metadata": {},
   "source": [
    "### 2-1. 교차검증\n",
    "\n",
    "과적합 문제를 막기 위해 데이터를 Train 데이터와 Test 데이터로 분할  \n",
    "\n",
    "> from sklearn.model_selection import train_test_split\n",
    "\n",
    "> train 객체명, test 객체명 = train_test_split(데이터셋, test_size=비율, random_state=번호, stratify=출력변수)\n",
    "\n",
    "stratify argumenet를 이용하여 Train-Test set을 층화추출해야 함.  \n",
    "\n",
    "\n",
    "### 2-2. 로지스틱 회귀분석\n",
    "\n",
    "sklearn.linear_model 모듈의 LogisticRegression()함수 이용\n",
    "\n",
    "> from sklearn.linear_model import LogisticRegression\n",
    "\n",
    "> LogisticRegression(penalty='none').fit(입력변수, 출력변수)\n",
    "\n",
    "### 2-3. 로지스틱 회귀모형 결과 분석\n",
    "\n",
    "분석결과를 객체에 할당한 후 모형의절편항, 기울기항, 정분류율, 모형에 피팅된 출력변수 예측값과 확률값을 구하여 출력\n",
    "\n",
    "> 정분류율: 회귀모형 객체.score(입력변수, 출력변수)\n",
    "\n",
    "> 회귀절편: 회귀모형 객체.intercept_\n",
    "\n",
    "> 기울기: 회귀모형 객체.coef_\n",
    "\n",
    "> 출력변수 예측값: 회귀모형 객체.predict(입력변수)\n",
    "\n",
    "> 출력변수 확률값: 회귀모형 객체.predict_proba(입력변수)\n",
    "\n",
    "### 2-4. 모형평가\n",
    "\n",
    "confusion matrix 생성 후 ROC 곡선 그리기\n",
    "\n",
    "> from sklearn.metrics import confusion_matrix, accuracy_score, classification_report, roc_curve, auc\n",
    "\n",
    "> 분류표: confusion_matrix(출력변수 예측값, 출력변수)\n",
    "\n",
    "> 정분류표: accuracy_score(출력변수, 출력변수 예측값)\n",
    "\n",
    "> 분류예측력 평가지표: classification_report(출력변수, 출력변수 예측값)\n",
    "\n",
    "> fpr, tpr: roc_curve(출력변수, 출력변수 예측확률)\n",
    "\n",
    "> AUC: auc(fpr, tpr)\n",
    "\n",
    "### 2-5. 로지스틱 회귀분석 예제\n",
    "\n",
    "alive를 예측하기 위해 age, fare, who를 사용한 로지스틱 회귀분석"
   ]
  },
  {
   "cell_type": "code",
   "execution_count": 1,
   "id": "c6974333",
   "metadata": {},
   "outputs": [],
   "source": [
    "import seaborn as sns"
   ]
  },
  {
   "cell_type": "code",
   "execution_count": 2,
   "id": "69b4e861",
   "metadata": {},
   "outputs": [],
   "source": [
    "df = sns.load_dataset('titanic')"
   ]
  },
  {
   "cell_type": "code",
   "execution_count": 3,
   "id": "f0962146",
   "metadata": {},
   "outputs": [
    {
     "name": "stdout",
     "output_type": "stream",
     "text": [
      "<class 'pandas.core.frame.DataFrame'>\n",
      "RangeIndex: 891 entries, 0 to 890\n",
      "Data columns (total 15 columns):\n",
      " #   Column       Non-Null Count  Dtype   \n",
      "---  ------       --------------  -----   \n",
      " 0   survived     891 non-null    int64   \n",
      " 1   pclass       891 non-null    int64   \n",
      " 2   sex          891 non-null    object  \n",
      " 3   age          714 non-null    float64 \n",
      " 4   sibsp        891 non-null    int64   \n",
      " 5   parch        891 non-null    int64   \n",
      " 6   fare         891 non-null    float64 \n",
      " 7   embarked     889 non-null    object  \n",
      " 8   class        891 non-null    category\n",
      " 9   who          891 non-null    object  \n",
      " 10  adult_male   891 non-null    bool    \n",
      " 11  deck         203 non-null    category\n",
      " 12  embark_town  889 non-null    object  \n",
      " 13  alive        891 non-null    object  \n",
      " 14  alone        891 non-null    bool    \n",
      "dtypes: bool(2), category(2), float64(2), int64(4), object(5)\n",
      "memory usage: 80.7+ KB\n"
     ]
    }
   ],
   "source": [
    "df.info()"
   ]
  },
  {
   "cell_type": "markdown",
   "id": "9941d90e",
   "metadata": {},
   "source": [
    "데이터를 보면 age에는 결측치가 존재하므로 처리해주어야 하고, who와 alive는 문자열이므로 더미변수로 변환이 필요함.  "
   ]
  },
  {
   "cell_type": "code",
   "execution_count": 4,
   "id": "ba1500c5",
   "metadata": {},
   "outputs": [],
   "source": [
    "df = df.dropna(subset = ['alive', 'age', 'fare', 'who'], how='any', axis=0)"
   ]
  },
  {
   "cell_type": "code",
   "execution_count": 5,
   "id": "3c2fc0a4",
   "metadata": {},
   "outputs": [
    {
     "data": {
      "text/plain": [
       "man      413\n",
       "woman    218\n",
       "child     83\n",
       "Name: who, dtype: int64"
      ]
     },
     "execution_count": 5,
     "metadata": {},
     "output_type": "execute_result"
    }
   ],
   "source": [
    "df['who'].value_counts()"
   ]
  },
  {
   "cell_type": "markdown",
   "id": "b4e4f37c",
   "metadata": {},
   "source": [
    "who에는 세가지 값이 있기 때문에 child를 기준(1)으로 더미변수로 변환"
   ]
  },
  {
   "cell_type": "code",
   "execution_count": 6,
   "id": "932b3c25",
   "metadata": {},
   "outputs": [
    {
     "data": {
      "text/plain": [
       "no     424\n",
       "yes    290\n",
       "Name: alive, dtype: int64"
      ]
     },
     "execution_count": 6,
     "metadata": {},
     "output_type": "execute_result"
    }
   ],
   "source": [
    "df['alive'].value_counts()"
   ]
  },
  {
   "cell_type": "markdown",
   "id": "1fc66be6",
   "metadata": {},
   "source": [
    "alive에는 두가지 값이 있으므로 생존(yes)=1, 사망(no)=0으로 처리"
   ]
  },
  {
   "cell_type": "code",
   "execution_count": 7,
   "id": "ee75b713",
   "metadata": {},
   "outputs": [],
   "source": [
    "from sklearn.preprocessing import LabelEncoder"
   ]
  },
  {
   "cell_type": "code",
   "execution_count": 8,
   "id": "bf87ee36",
   "metadata": {},
   "outputs": [],
   "source": [
    "df['alive_1']=LabelEncoder().fit_transform(df['alive'].values)"
   ]
  },
  {
   "cell_type": "markdown",
   "id": "53794310",
   "metadata": {},
   "source": [
    "df에 alive_1이라는 열을 하나 더 만들어 alive 값을 LabelEncoder()함수를 이용하여 변환 후 추가"
   ]
  },
  {
   "cell_type": "code",
   "execution_count": 9,
   "id": "b4124183",
   "metadata": {},
   "outputs": [],
   "source": [
    "import pandas as pd"
   ]
  },
  {
   "cell_type": "code",
   "execution_count": 10,
   "id": "a448d851",
   "metadata": {},
   "outputs": [],
   "source": [
    "df1 = pd.get_dummies(df['who'], drop_first=True)"
   ]
  },
  {
   "cell_type": "code",
   "execution_count": 11,
   "id": "61e6c146",
   "metadata": {},
   "outputs": [
    {
     "data": {
      "text/html": [
       "<div>\n",
       "<style scoped>\n",
       "    .dataframe tbody tr th:only-of-type {\n",
       "        vertical-align: middle;\n",
       "    }\n",
       "\n",
       "    .dataframe tbody tr th {\n",
       "        vertical-align: top;\n",
       "    }\n",
       "\n",
       "    .dataframe thead th {\n",
       "        text-align: right;\n",
       "    }\n",
       "</style>\n",
       "<table border=\"1\" class=\"dataframe\">\n",
       "  <thead>\n",
       "    <tr style=\"text-align: right;\">\n",
       "      <th></th>\n",
       "      <th>man</th>\n",
       "      <th>woman</th>\n",
       "    </tr>\n",
       "  </thead>\n",
       "  <tbody>\n",
       "    <tr>\n",
       "      <th>0</th>\n",
       "      <td>1</td>\n",
       "      <td>0</td>\n",
       "    </tr>\n",
       "    <tr>\n",
       "      <th>1</th>\n",
       "      <td>0</td>\n",
       "      <td>1</td>\n",
       "    </tr>\n",
       "    <tr>\n",
       "      <th>2</th>\n",
       "      <td>0</td>\n",
       "      <td>1</td>\n",
       "    </tr>\n",
       "    <tr>\n",
       "      <th>3</th>\n",
       "      <td>0</td>\n",
       "      <td>1</td>\n",
       "    </tr>\n",
       "    <tr>\n",
       "      <th>4</th>\n",
       "      <td>1</td>\n",
       "      <td>0</td>\n",
       "    </tr>\n",
       "  </tbody>\n",
       "</table>\n",
       "</div>"
      ],
      "text/plain": [
       "   man  woman\n",
       "0    1      0\n",
       "1    0      1\n",
       "2    0      1\n",
       "3    0      1\n",
       "4    1      0"
      ]
     },
     "execution_count": 11,
     "metadata": {},
     "output_type": "execute_result"
    }
   ],
   "source": [
    "df1.head()"
   ]
  },
  {
   "cell_type": "markdown",
   "id": "2ac01e59",
   "metadata": {},
   "source": [
    "pandas 모듈의 get_dummies()함수를 이용하여 who열을 더미변수로 만들어 df1에 저장"
   ]
  },
  {
   "cell_type": "code",
   "execution_count": 12,
   "id": "2964eedc",
   "metadata": {},
   "outputs": [],
   "source": [
    "df = pd.concat([df, df1], axis=1)"
   ]
  },
  {
   "cell_type": "code",
   "execution_count": 13,
   "id": "74eeb8af",
   "metadata": {},
   "outputs": [
    {
     "data": {
      "text/html": [
       "<div>\n",
       "<style scoped>\n",
       "    .dataframe tbody tr th:only-of-type {\n",
       "        vertical-align: middle;\n",
       "    }\n",
       "\n",
       "    .dataframe tbody tr th {\n",
       "        vertical-align: top;\n",
       "    }\n",
       "\n",
       "    .dataframe thead th {\n",
       "        text-align: right;\n",
       "    }\n",
       "</style>\n",
       "<table border=\"1\" class=\"dataframe\">\n",
       "  <thead>\n",
       "    <tr style=\"text-align: right;\">\n",
       "      <th></th>\n",
       "      <th>survived</th>\n",
       "      <th>pclass</th>\n",
       "      <th>sex</th>\n",
       "      <th>age</th>\n",
       "      <th>sibsp</th>\n",
       "      <th>parch</th>\n",
       "      <th>fare</th>\n",
       "      <th>embarked</th>\n",
       "      <th>class</th>\n",
       "      <th>who</th>\n",
       "      <th>adult_male</th>\n",
       "      <th>deck</th>\n",
       "      <th>embark_town</th>\n",
       "      <th>alive</th>\n",
       "      <th>alone</th>\n",
       "      <th>alive_1</th>\n",
       "      <th>man</th>\n",
       "      <th>woman</th>\n",
       "    </tr>\n",
       "  </thead>\n",
       "  <tbody>\n",
       "    <tr>\n",
       "      <th>0</th>\n",
       "      <td>0</td>\n",
       "      <td>3</td>\n",
       "      <td>male</td>\n",
       "      <td>22.0</td>\n",
       "      <td>1</td>\n",
       "      <td>0</td>\n",
       "      <td>7.2500</td>\n",
       "      <td>S</td>\n",
       "      <td>Third</td>\n",
       "      <td>man</td>\n",
       "      <td>True</td>\n",
       "      <td>NaN</td>\n",
       "      <td>Southampton</td>\n",
       "      <td>no</td>\n",
       "      <td>False</td>\n",
       "      <td>0</td>\n",
       "      <td>1</td>\n",
       "      <td>0</td>\n",
       "    </tr>\n",
       "    <tr>\n",
       "      <th>1</th>\n",
       "      <td>1</td>\n",
       "      <td>1</td>\n",
       "      <td>female</td>\n",
       "      <td>38.0</td>\n",
       "      <td>1</td>\n",
       "      <td>0</td>\n",
       "      <td>71.2833</td>\n",
       "      <td>C</td>\n",
       "      <td>First</td>\n",
       "      <td>woman</td>\n",
       "      <td>False</td>\n",
       "      <td>C</td>\n",
       "      <td>Cherbourg</td>\n",
       "      <td>yes</td>\n",
       "      <td>False</td>\n",
       "      <td>1</td>\n",
       "      <td>0</td>\n",
       "      <td>1</td>\n",
       "    </tr>\n",
       "    <tr>\n",
       "      <th>2</th>\n",
       "      <td>1</td>\n",
       "      <td>3</td>\n",
       "      <td>female</td>\n",
       "      <td>26.0</td>\n",
       "      <td>0</td>\n",
       "      <td>0</td>\n",
       "      <td>7.9250</td>\n",
       "      <td>S</td>\n",
       "      <td>Third</td>\n",
       "      <td>woman</td>\n",
       "      <td>False</td>\n",
       "      <td>NaN</td>\n",
       "      <td>Southampton</td>\n",
       "      <td>yes</td>\n",
       "      <td>True</td>\n",
       "      <td>1</td>\n",
       "      <td>0</td>\n",
       "      <td>1</td>\n",
       "    </tr>\n",
       "    <tr>\n",
       "      <th>3</th>\n",
       "      <td>1</td>\n",
       "      <td>1</td>\n",
       "      <td>female</td>\n",
       "      <td>35.0</td>\n",
       "      <td>1</td>\n",
       "      <td>0</td>\n",
       "      <td>53.1000</td>\n",
       "      <td>S</td>\n",
       "      <td>First</td>\n",
       "      <td>woman</td>\n",
       "      <td>False</td>\n",
       "      <td>C</td>\n",
       "      <td>Southampton</td>\n",
       "      <td>yes</td>\n",
       "      <td>False</td>\n",
       "      <td>1</td>\n",
       "      <td>0</td>\n",
       "      <td>1</td>\n",
       "    </tr>\n",
       "    <tr>\n",
       "      <th>4</th>\n",
       "      <td>0</td>\n",
       "      <td>3</td>\n",
       "      <td>male</td>\n",
       "      <td>35.0</td>\n",
       "      <td>0</td>\n",
       "      <td>0</td>\n",
       "      <td>8.0500</td>\n",
       "      <td>S</td>\n",
       "      <td>Third</td>\n",
       "      <td>man</td>\n",
       "      <td>True</td>\n",
       "      <td>NaN</td>\n",
       "      <td>Southampton</td>\n",
       "      <td>no</td>\n",
       "      <td>True</td>\n",
       "      <td>0</td>\n",
       "      <td>1</td>\n",
       "      <td>0</td>\n",
       "    </tr>\n",
       "  </tbody>\n",
       "</table>\n",
       "</div>"
      ],
      "text/plain": [
       "   survived  pclass     sex   age  sibsp  parch     fare embarked  class  \\\n",
       "0         0       3    male  22.0      1      0   7.2500        S  Third   \n",
       "1         1       1  female  38.0      1      0  71.2833        C  First   \n",
       "2         1       3  female  26.0      0      0   7.9250        S  Third   \n",
       "3         1       1  female  35.0      1      0  53.1000        S  First   \n",
       "4         0       3    male  35.0      0      0   8.0500        S  Third   \n",
       "\n",
       "     who  adult_male deck  embark_town alive  alone  alive_1  man  woman  \n",
       "0    man        True  NaN  Southampton    no  False        0    1      0  \n",
       "1  woman       False    C    Cherbourg   yes  False        1    0      1  \n",
       "2  woman       False  NaN  Southampton   yes   True        1    0      1  \n",
       "3  woman       False    C  Southampton   yes  False        1    0      1  \n",
       "4    man        True  NaN  Southampton    no   True        0    1      0  "
      ]
     },
     "execution_count": 13,
     "metadata": {},
     "output_type": "execute_result"
    }
   ],
   "source": [
    "df.head()"
   ]
  },
  {
   "cell_type": "markdown",
   "id": "6ee900b0",
   "metadata": {},
   "source": [
    "만든 더미변수 df1을 pandas의 concat()함수를 이용하여 df에 합침"
   ]
  },
  {
   "cell_type": "code",
   "execution_count": 14,
   "id": "22b4c360",
   "metadata": {},
   "outputs": [],
   "source": [
    "from sklearn.model_selection import train_test_split"
   ]
  },
  {
   "cell_type": "code",
   "execution_count": 15,
   "id": "89060593",
   "metadata": {},
   "outputs": [],
   "source": [
    "train, test = train_test_split(df, test_size=0.3, random_state=1, stratify=df['alive_1'])"
   ]
  },
  {
   "cell_type": "code",
   "execution_count": 16,
   "id": "81c6d064",
   "metadata": {},
   "outputs": [],
   "source": [
    "y_train = train['alive_1']\n",
    "x_train = train[['age', 'fare', 'man', 'woman']]\n",
    "\n",
    "y_test = test['alive_1']\n",
    "x_test = test[['age', 'fare', 'man', 'woman']]"
   ]
  },
  {
   "cell_type": "code",
   "execution_count": 17,
   "id": "4ddea00a",
   "metadata": {},
   "outputs": [],
   "source": [
    "from sklearn.linear_model import LogisticRegression"
   ]
  },
  {
   "cell_type": "code",
   "execution_count": 18,
   "id": "f22afc5a",
   "metadata": {},
   "outputs": [],
   "source": [
    "lr = LogisticRegression(penalty='none').fit(x_train, y_train)"
   ]
  },
  {
   "cell_type": "code",
   "execution_count": 19,
   "id": "e8834901",
   "metadata": {},
   "outputs": [
    {
     "name": "stdout",
     "output_type": "stream",
     "text": [
      "회귀상수:  [0.21196612]\n"
     ]
    }
   ],
   "source": [
    "print('회귀상수: ', lr.intercept_)"
   ]
  },
  {
   "cell_type": "code",
   "execution_count": 20,
   "id": "7bd7f588",
   "metadata": {},
   "outputs": [
    {
     "name": "stdout",
     "output_type": "stream",
     "text": [
      "회귀계수:  [[-0.01092474  0.01027057 -1.76505059  0.97353757]]\n"
     ]
    }
   ],
   "source": [
    "print('회귀계수: ', lr.coef_)"
   ]
  },
  {
   "cell_type": "code",
   "execution_count": 21,
   "id": "f6493d70",
   "metadata": {},
   "outputs": [],
   "source": [
    "from numpy import exp"
   ]
  },
  {
   "cell_type": "code",
   "execution_count": 22,
   "id": "b1dd2d26",
   "metadata": {},
   "outputs": [
    {
     "name": "stdout",
     "output_type": "stream",
     "text": [
      "오즈비:  [[0.98913472 1.0103235  0.17117813 2.64729291]]\n"
     ]
    }
   ],
   "source": [
    "print('오즈비: ', exp(lr.coef_))"
   ]
  },
  {
   "cell_type": "code",
   "execution_count": 23,
   "id": "588a9a06",
   "metadata": {},
   "outputs": [
    {
     "data": {
      "text/plain": [
       "0.7835671342685371"
      ]
     },
     "execution_count": 23,
     "metadata": {},
     "output_type": "execute_result"
    }
   ],
   "source": [
    "lr.score(x_train, y_train) # 정분류율"
   ]
  },
  {
   "cell_type": "code",
   "execution_count": 24,
   "id": "0ddd2e7c",
   "metadata": {},
   "outputs": [],
   "source": [
    "y_train_pred = lr.predict(x_train)"
   ]
  },
  {
   "cell_type": "code",
   "execution_count": 25,
   "id": "fa96d4a9",
   "metadata": {},
   "outputs": [],
   "source": [
    "from sklearn.metrics import confusion_matrix, accuracy_score, classification_report"
   ]
  },
  {
   "cell_type": "code",
   "execution_count": 26,
   "id": "818a9f95",
   "metadata": {},
   "outputs": [
    {
     "data": {
      "text/plain": [
       "array([[235,  47],\n",
       "       [ 61, 156]])"
      ]
     },
     "execution_count": 26,
     "metadata": {},
     "output_type": "execute_result"
    }
   ],
   "source": [
    "confusion_matrix(y_train_pred, y_train)"
   ]
  },
  {
   "cell_type": "code",
   "execution_count": 27,
   "id": "f9ca7271",
   "metadata": {},
   "outputs": [
    {
     "data": {
      "text/plain": [
       "0.7835671342685371"
      ]
     },
     "execution_count": 27,
     "metadata": {},
     "output_type": "execute_result"
    }
   ],
   "source": [
    "accuracy_score(y_train_pred, y_train)"
   ]
  },
  {
   "cell_type": "code",
   "execution_count": 28,
   "id": "8c471f45",
   "metadata": {},
   "outputs": [],
   "source": [
    "lr_report = classification_report(y_train, y_train_pred)"
   ]
  },
  {
   "cell_type": "code",
   "execution_count": 29,
   "id": "207c7e18",
   "metadata": {},
   "outputs": [
    {
     "name": "stdout",
     "output_type": "stream",
     "text": [
      "              precision    recall  f1-score   support\n",
      "\n",
      "           0       0.83      0.79      0.81       296\n",
      "           1       0.72      0.77      0.74       203\n",
      "\n",
      "    accuracy                           0.78       499\n",
      "   macro avg       0.78      0.78      0.78       499\n",
      "weighted avg       0.79      0.78      0.78       499\n",
      "\n"
     ]
    }
   ],
   "source": [
    "print(lr_report)"
   ]
  },
  {
   "cell_type": "markdown",
   "id": "65473e0d",
   "metadata": {},
   "source": [
    "alive=0인 경우, precision, recall, f1-score는 각각 0.83, 0.79, 0.81로 나타났고,  \n",
    "alive=1인 경우, precision, recall, f1-score는 각각 0.72, 0.77, 0.74로 나타남.  "
   ]
  },
  {
   "cell_type": "code",
   "execution_count": 30,
   "id": "ca5cf370",
   "metadata": {},
   "outputs": [],
   "source": [
    "from sklearn.metrics import roc_curve, auc"
   ]
  },
  {
   "cell_type": "code",
   "execution_count": 31,
   "id": "e484e5ef",
   "metadata": {},
   "outputs": [],
   "source": [
    "y_train_prob = lr.predict_proba(x_train)[:,1]"
   ]
  },
  {
   "cell_type": "code",
   "execution_count": 32,
   "id": "d1cbfd4e",
   "metadata": {},
   "outputs": [],
   "source": [
    "fpr, tpr, _ = roc_curve(y_train, y_train_prob)"
   ]
  },
  {
   "cell_type": "code",
   "execution_count": 33,
   "id": "ca60d011",
   "metadata": {},
   "outputs": [],
   "source": [
    "roc_auc = auc(fpr, tpr)"
   ]
  },
  {
   "cell_type": "code",
   "execution_count": 34,
   "id": "828b413f",
   "metadata": {},
   "outputs": [
    {
     "data": {
      "text/plain": [
       "<matplotlib.legend.Legend at 0x7fbe888174f0>"
      ]
     },
     "execution_count": 34,
     "metadata": {},
     "output_type": "execute_result"
    },
    {
     "data": {
      "image/png": "[encoded data removed]",
      "text/plain": [
       "<Figure size 432x288 with 1 Axes>"
      ]
     },
     "metadata": {
      "needs_background": "light"
     },
     "output_type": "display_data"
    }
   ],
   "source": [
    "import matplotlib.pyplot as plt\n",
    "plt.plot(fpr, tpr, 'b', label='AUC = %.2f' %roc_auc)\n",
    "plt.plot([0,1],[0,1],'--')\n",
    "plt.ylabel('True Positive Rate')\n",
    "plt.xlabel('False Positive Rate')\n",
    "plt.title('ROC curve')\n",
    "plt.legend(loc='best')"
   ]
  },
  {
   "cell_type": "code",
   "execution_count": 35,
   "id": "1247bcd1",
   "metadata": {},
   "outputs": [
    {
     "data": {
      "text/plain": [
       "0.772093023255814"
      ]
     },
     "execution_count": 35,
     "metadata": {},
     "output_type": "execute_result"
    }
   ],
   "source": [
    "lr.score(x_test, y_test)"
   ]
  },
  {
   "cell_type": "code",
   "execution_count": 36,
   "id": "6464e1aa",
   "metadata": {},
   "outputs": [],
   "source": [
    "y_test_pred=lr.predict(x_test)"
   ]
  },
  {
   "cell_type": "code",
   "execution_count": 37,
   "id": "54382f4a",
   "metadata": {},
   "outputs": [],
   "source": [
    "from sklearn.metrics import confusion_matrix, accuracy_score, classification_report"
   ]
  },
  {
   "cell_type": "code",
   "execution_count": 38,
   "id": "2633507d",
   "metadata": {},
   "outputs": [
    {
     "data": {
      "text/plain": [
       "array([[102,  23],\n",
       "       [ 26,  64]])"
      ]
     },
     "execution_count": 38,
     "metadata": {},
     "output_type": "execute_result"
    }
   ],
   "source": [
    "confusion_matrix(y_test_pred, y_test)"
   ]
  },
  {
   "cell_type": "code",
   "execution_count": 39,
   "id": "83f2db12",
   "metadata": {},
   "outputs": [
    {
     "data": {
      "text/plain": [
       "0.772093023255814"
      ]
     },
     "execution_count": 39,
     "metadata": {},
     "output_type": "execute_result"
    }
   ],
   "source": [
    "accuracy_score(y_test_pred, y_test)"
   ]
  },
  {
   "cell_type": "code",
   "execution_count": 40,
   "id": "45cb1815",
   "metadata": {},
   "outputs": [],
   "source": [
    "lr_report1 = classification_report(y_test, y_test_pred)"
   ]
  },
  {
   "cell_type": "code",
   "execution_count": 41,
   "id": "25caa32e",
   "metadata": {},
   "outputs": [
    {
     "name": "stdout",
     "output_type": "stream",
     "text": [
      "              precision    recall  f1-score   support\n",
      "\n",
      "           0       0.82      0.80      0.81       128\n",
      "           1       0.71      0.74      0.72        87\n",
      "\n",
      "    accuracy                           0.77       215\n",
      "   macro avg       0.76      0.77      0.76       215\n",
      "weighted avg       0.77      0.77      0.77       215\n",
      "\n"
     ]
    }
   ],
   "source": [
    "print(lr_report1)"
   ]
  },
  {
   "cell_type": "markdown",
   "id": "c1843f7f",
   "metadata": {},
   "source": [
    "train set으로 계산한 결과가 \n",
    "alive=0인 경우, precision, recall, f1-score는 각각 0.83, 0.79, 0.81  \n",
    "alive=1인 경우, precision, recall, f1-score는 각각 0.72, 0.77, 0.74\n",
    "\n",
    "test set으로 계산한 결과는\n",
    "alive=0인 경우, precision, recall, f1-score는 각각 0.82, 0.80, 0.81로 나타났고,  \n",
    "alive=1인 경우, precision, recall, f1-score는 각각 0.71, 0.74, 0.72로 나타남.\n",
    "\n",
    "train set과 큰 차이를 보이지 않음."
   ]
  },
  {
   "cell_type": "markdown",
   "id": "514044de",
   "metadata": {},
   "source": [
    "## 3. statsmodels 모듈을 활용한 로지스틱 회귀분석"
   ]
  },
  {
   "cell_type": "markdown",
   "id": "91414bae",
   "metadata": {},
   "source": [
    "sklearn.linear_model 모듈을 사용할 경우,\n",
    "* 회귀계수 확인 O\n",
    "* 모형의 평가지표 확인 O\n",
    "* 입력변수들의 유의성 검정을 위한 p-value 확인 X\n",
    "\n",
    "statsmodels 모듈을 사용하면,\n",
    "* 회귀계수 확인 O\n",
    "* 모형의 평가지표 확인 O\n",
    "* 입력변수들의 유의성 검정을 위한 p-value 확인 O\n",
    "\n",
    "statsmodels 모듈에서 입력변수들의 p-value를 확인하기 위해서는 Logit()함수와 logit()함수를 사용\n",
    "\n",
    "\n",
    "### 3-1. Logit을 이용한 로지스틱 회귀분석\n",
    "\n",
    "모형식에서 절편항이 제거된 상태로 분석이 이루어짐  \n",
    "$\\rightarrow$ 절편항 분석 결과 표시를 위해 입력변수 데이터에 절편항 데이터 추가 필요. \n",
    "\n",
    "> from statsmodels.api import add_constant\n",
    "\n",
    "> add_constant(입력변수)\n",
    "\n",
    "> from statsmodels.api import Logit객체명 = Logit(출력변수, 입력변수).fit()\n",
    "\n",
    "> 모형결과: 객체명.summary()\n",
    "\n",
    "> 오즈비 계산: np.exp(객체명:params)\n",
    "\n",
    "\n",
    "### 3-2. logit을 이용한 회귀분석\n",
    "변수 이름을 이용해 모형식을 직접 입력하여 로지스틱 분석을 수행\n",
    "\n",
    "> from statsmodels.formula.api import logit\n",
    "\n",
    "> 모형식 = '출력변수 ~ 입력변수1 + 입력변수2 + ...'\n",
    "\n",
    "> 객체명 = logit(모형식, data=데이터셋).fit()\n",
    "\n",
    "함수 실행 시 결과가 따로 보여지지 않기 때문에 분석 결과를 객체 할당 후 확인\n",
    "\n",
    "> 모형결과: 객체명.summary()\n",
    "\n",
    "> 회귀계수: 객체명.params\n",
    "\n",
    "> 출력변수 확률값: 객체명.predict(입력변수)\n"
   ]
  },
  {
   "cell_type": "code",
   "execution_count": 42,
   "id": "0bd1d4ec",
   "metadata": {},
   "outputs": [
    {
     "data": {
      "text/html": [
       "<div>\n",
       "<style scoped>\n",
       "    .dataframe tbody tr th:only-of-type {\n",
       "        vertical-align: middle;\n",
       "    }\n",
       "\n",
       "    .dataframe tbody tr th {\n",
       "        vertical-align: top;\n",
       "    }\n",
       "\n",
       "    .dataframe thead th {\n",
       "        text-align: right;\n",
       "    }\n",
       "</style>\n",
       "<table border=\"1\" class=\"dataframe\">\n",
       "  <thead>\n",
       "    <tr style=\"text-align: right;\">\n",
       "      <th></th>\n",
       "      <th>survived</th>\n",
       "      <th>pclass</th>\n",
       "      <th>sex</th>\n",
       "      <th>age</th>\n",
       "      <th>sibsp</th>\n",
       "      <th>parch</th>\n",
       "      <th>fare</th>\n",
       "      <th>embarked</th>\n",
       "      <th>class</th>\n",
       "      <th>who</th>\n",
       "      <th>adult_male</th>\n",
       "      <th>deck</th>\n",
       "      <th>embark_town</th>\n",
       "      <th>alive</th>\n",
       "      <th>alone</th>\n",
       "      <th>alive_1</th>\n",
       "      <th>man</th>\n",
       "      <th>woman</th>\n",
       "    </tr>\n",
       "  </thead>\n",
       "  <tbody>\n",
       "    <tr>\n",
       "      <th>0</th>\n",
       "      <td>0</td>\n",
       "      <td>3</td>\n",
       "      <td>male</td>\n",
       "      <td>22.0</td>\n",
       "      <td>1</td>\n",
       "      <td>0</td>\n",
       "      <td>7.2500</td>\n",
       "      <td>S</td>\n",
       "      <td>Third</td>\n",
       "      <td>man</td>\n",
       "      <td>True</td>\n",
       "      <td>NaN</td>\n",
       "      <td>Southampton</td>\n",
       "      <td>no</td>\n",
       "      <td>False</td>\n",
       "      <td>0</td>\n",
       "      <td>1</td>\n",
       "      <td>0</td>\n",
       "    </tr>\n",
       "    <tr>\n",
       "      <th>1</th>\n",
       "      <td>1</td>\n",
       "      <td>1</td>\n",
       "      <td>female</td>\n",
       "      <td>38.0</td>\n",
       "      <td>1</td>\n",
       "      <td>0</td>\n",
       "      <td>71.2833</td>\n",
       "      <td>C</td>\n",
       "      <td>First</td>\n",
       "      <td>woman</td>\n",
       "      <td>False</td>\n",
       "      <td>C</td>\n",
       "      <td>Cherbourg</td>\n",
       "      <td>yes</td>\n",
       "      <td>False</td>\n",
       "      <td>1</td>\n",
       "      <td>0</td>\n",
       "      <td>1</td>\n",
       "    </tr>\n",
       "    <tr>\n",
       "      <th>2</th>\n",
       "      <td>1</td>\n",
       "      <td>3</td>\n",
       "      <td>female</td>\n",
       "      <td>26.0</td>\n",
       "      <td>0</td>\n",
       "      <td>0</td>\n",
       "      <td>7.9250</td>\n",
       "      <td>S</td>\n",
       "      <td>Third</td>\n",
       "      <td>woman</td>\n",
       "      <td>False</td>\n",
       "      <td>NaN</td>\n",
       "      <td>Southampton</td>\n",
       "      <td>yes</td>\n",
       "      <td>True</td>\n",
       "      <td>1</td>\n",
       "      <td>0</td>\n",
       "      <td>1</td>\n",
       "    </tr>\n",
       "    <tr>\n",
       "      <th>3</th>\n",
       "      <td>1</td>\n",
       "      <td>1</td>\n",
       "      <td>female</td>\n",
       "      <td>35.0</td>\n",
       "      <td>1</td>\n",
       "      <td>0</td>\n",
       "      <td>53.1000</td>\n",
       "      <td>S</td>\n",
       "      <td>First</td>\n",
       "      <td>woman</td>\n",
       "      <td>False</td>\n",
       "      <td>C</td>\n",
       "      <td>Southampton</td>\n",
       "      <td>yes</td>\n",
       "      <td>False</td>\n",
       "      <td>1</td>\n",
       "      <td>0</td>\n",
       "      <td>1</td>\n",
       "    </tr>\n",
       "    <tr>\n",
       "      <th>4</th>\n",
       "      <td>0</td>\n",
       "      <td>3</td>\n",
       "      <td>male</td>\n",
       "      <td>35.0</td>\n",
       "      <td>0</td>\n",
       "      <td>0</td>\n",
       "      <td>8.0500</td>\n",
       "      <td>S</td>\n",
       "      <td>Third</td>\n",
       "      <td>man</td>\n",
       "      <td>True</td>\n",
       "      <td>NaN</td>\n",
       "      <td>Southampton</td>\n",
       "      <td>no</td>\n",
       "      <td>True</td>\n",
       "      <td>0</td>\n",
       "      <td>1</td>\n",
       "      <td>0</td>\n",
       "    </tr>\n",
       "  </tbody>\n",
       "</table>\n",
       "</div>"
      ],
      "text/plain": [
       "   survived  pclass     sex   age  sibsp  parch     fare embarked  class  \\\n",
       "0         0       3    male  22.0      1      0   7.2500        S  Third   \n",
       "1         1       1  female  38.0      1      0  71.2833        C  First   \n",
       "2         1       3  female  26.0      0      0   7.9250        S  Third   \n",
       "3         1       1  female  35.0      1      0  53.1000        S  First   \n",
       "4         0       3    male  35.0      0      0   8.0500        S  Third   \n",
       "\n",
       "     who  adult_male deck  embark_town alive  alone  alive_1  man  woman  \n",
       "0    man        True  NaN  Southampton    no  False        0    1      0  \n",
       "1  woman       False    C    Cherbourg   yes  False        1    0      1  \n",
       "2  woman       False  NaN  Southampton   yes   True        1    0      1  \n",
       "3  woman       False    C  Southampton   yes  False        1    0      1  \n",
       "4    man        True  NaN  Southampton    no   True        0    1      0  "
      ]
     },
     "execution_count": 42,
     "metadata": {},
     "output_type": "execute_result"
    }
   ],
   "source": [
    "df.head()"
   ]
  },
  {
   "cell_type": "code",
   "execution_count": 43,
   "id": "4018d7b2",
   "metadata": {},
   "outputs": [],
   "source": [
    "from statsmodels.api import add_constant"
   ]
  },
  {
   "cell_type": "code",
   "execution_count": 44,
   "id": "e8f304d7",
   "metadata": {},
   "outputs": [],
   "source": [
    "x_train = add_constant(x_train) # 절편항 추가"
   ]
  },
  {
   "cell_type": "code",
   "execution_count": 45,
   "id": "f91e0aed",
   "metadata": {},
   "outputs": [],
   "source": [
    "x_test = add_constant(x_test) # 절편항 추가"
   ]
  },
  {
   "cell_type": "code",
   "execution_count": 46,
   "id": "5f474594",
   "metadata": {},
   "outputs": [
    {
     "data": {
      "text/html": [
       "<div>\n",
       "<style scoped>\n",
       "    .dataframe tbody tr th:only-of-type {\n",
       "        vertical-align: middle;\n",
       "    }\n",
       "\n",
       "    .dataframe tbody tr th {\n",
       "        vertical-align: top;\n",
       "    }\n",
       "\n",
       "    .dataframe thead th {\n",
       "        text-align: right;\n",
       "    }\n",
       "</style>\n",
       "<table border=\"1\" class=\"dataframe\">\n",
       "  <thead>\n",
       "    <tr style=\"text-align: right;\">\n",
       "      <th></th>\n",
       "      <th>const</th>\n",
       "      <th>age</th>\n",
       "      <th>fare</th>\n",
       "      <th>man</th>\n",
       "      <th>woman</th>\n",
       "    </tr>\n",
       "  </thead>\n",
       "  <tbody>\n",
       "    <tr>\n",
       "      <th>741</th>\n",
       "      <td>1.0</td>\n",
       "      <td>36.0</td>\n",
       "      <td>78.8500</td>\n",
       "      <td>1</td>\n",
       "      <td>0</td>\n",
       "    </tr>\n",
       "    <tr>\n",
       "      <th>302</th>\n",
       "      <td>1.0</td>\n",
       "      <td>19.0</td>\n",
       "      <td>0.0000</td>\n",
       "      <td>1</td>\n",
       "      <td>0</td>\n",
       "    </tr>\n",
       "    <tr>\n",
       "      <th>514</th>\n",
       "      <td>1.0</td>\n",
       "      <td>24.0</td>\n",
       "      <td>7.4958</td>\n",
       "      <td>1</td>\n",
       "      <td>0</td>\n",
       "    </tr>\n",
       "    <tr>\n",
       "      <th>113</th>\n",
       "      <td>1.0</td>\n",
       "      <td>20.0</td>\n",
       "      <td>9.8250</td>\n",
       "      <td>0</td>\n",
       "      <td>1</td>\n",
       "    </tr>\n",
       "    <tr>\n",
       "      <th>632</th>\n",
       "      <td>1.0</td>\n",
       "      <td>32.0</td>\n",
       "      <td>30.5000</td>\n",
       "      <td>1</td>\n",
       "      <td>0</td>\n",
       "    </tr>\n",
       "  </tbody>\n",
       "</table>\n",
       "</div>"
      ],
      "text/plain": [
       "     const   age     fare  man  woman\n",
       "741    1.0  36.0  78.8500    1      0\n",
       "302    1.0  19.0   0.0000    1      0\n",
       "514    1.0  24.0   7.4958    1      0\n",
       "113    1.0  20.0   9.8250    0      1\n",
       "632    1.0  32.0  30.5000    1      0"
      ]
     },
     "execution_count": 46,
     "metadata": {},
     "output_type": "execute_result"
    }
   ],
   "source": [
    "x_train.head()"
   ]
  },
  {
   "cell_type": "code",
   "execution_count": 47,
   "id": "64b0b18f",
   "metadata": {},
   "outputs": [
    {
     "data": {
      "text/html": [
       "<div>\n",
       "<style scoped>\n",
       "    .dataframe tbody tr th:only-of-type {\n",
       "        vertical-align: middle;\n",
       "    }\n",
       "\n",
       "    .dataframe tbody tr th {\n",
       "        vertical-align: top;\n",
       "    }\n",
       "\n",
       "    .dataframe thead th {\n",
       "        text-align: right;\n",
       "    }\n",
       "</style>\n",
       "<table border=\"1\" class=\"dataframe\">\n",
       "  <thead>\n",
       "    <tr style=\"text-align: right;\">\n",
       "      <th></th>\n",
       "      <th>const</th>\n",
       "      <th>age</th>\n",
       "      <th>fare</th>\n",
       "      <th>man</th>\n",
       "      <th>woman</th>\n",
       "    </tr>\n",
       "  </thead>\n",
       "  <tbody>\n",
       "    <tr>\n",
       "      <th>337</th>\n",
       "      <td>1.0</td>\n",
       "      <td>41.0</td>\n",
       "      <td>134.5000</td>\n",
       "      <td>0</td>\n",
       "      <td>1</td>\n",
       "    </tr>\n",
       "    <tr>\n",
       "      <th>686</th>\n",
       "      <td>1.0</td>\n",
       "      <td>14.0</td>\n",
       "      <td>39.6875</td>\n",
       "      <td>0</td>\n",
       "      <td>0</td>\n",
       "    </tr>\n",
       "    <tr>\n",
       "      <th>595</th>\n",
       "      <td>1.0</td>\n",
       "      <td>36.0</td>\n",
       "      <td>24.1500</td>\n",
       "      <td>1</td>\n",
       "      <td>0</td>\n",
       "    </tr>\n",
       "    <tr>\n",
       "      <th>8</th>\n",
       "      <td>1.0</td>\n",
       "      <td>27.0</td>\n",
       "      <td>11.1333</td>\n",
       "      <td>0</td>\n",
       "      <td>1</td>\n",
       "    </tr>\n",
       "    <tr>\n",
       "      <th>266</th>\n",
       "      <td>1.0</td>\n",
       "      <td>16.0</td>\n",
       "      <td>39.6875</td>\n",
       "      <td>1</td>\n",
       "      <td>0</td>\n",
       "    </tr>\n",
       "  </tbody>\n",
       "</table>\n",
       "</div>"
      ],
      "text/plain": [
       "     const   age      fare  man  woman\n",
       "337    1.0  41.0  134.5000    0      1\n",
       "686    1.0  14.0   39.6875    0      0\n",
       "595    1.0  36.0   24.1500    1      0\n",
       "8      1.0  27.0   11.1333    0      1\n",
       "266    1.0  16.0   39.6875    1      0"
      ]
     },
     "execution_count": 47,
     "metadata": {},
     "output_type": "execute_result"
    }
   ],
   "source": [
    "x_test.head()"
   ]
  },
  {
   "cell_type": "code",
   "execution_count": 48,
   "id": "9dc4b2d3",
   "metadata": {},
   "outputs": [],
   "source": [
    "from statsmodels.api import Logit"
   ]
  },
  {
   "cell_type": "code",
   "execution_count": 49,
   "id": "f970b1e5",
   "metadata": {},
   "outputs": [
    {
     "name": "stdout",
     "output_type": "stream",
     "text": [
      "Optimization terminated successfully.\n",
      "         Current function value: 0.483677\n",
      "         Iterations 6\n"
     ]
    }
   ],
   "source": [
    "lr_result = Logit(y_train, x_train).fit()"
   ]
  },
  {
   "cell_type": "code",
   "execution_count": 50,
   "id": "df656727",
   "metadata": {},
   "outputs": [
    {
     "data": {
      "text/html": [
       "<table class=\"simpletable\">\n",
       "<caption>Logit Regression Results</caption>\n",
       "<tr>\n",
       "  <th>Dep. Variable:</th>        <td>alive_1</td>     <th>  No. Observations:  </th>  <td>   499</td>  \n",
       "</tr>\n",
       "<tr>\n",
       "  <th>Model:</th>                 <td>Logit</td>      <th>  Df Residuals:      </th>  <td>   494</td>  \n",
       "</tr>\n",
       "<tr>\n",
       "  <th>Method:</th>                 <td>MLE</td>       <th>  Df Model:          </th>  <td>     4</td>  \n",
       "</tr>\n",
       "<tr>\n",
       "  <th>Date:</th>            <td>Mon, 06 Jun 2022</td> <th>  Pseudo R-squ.:     </th>  <td>0.2842</td>  \n",
       "</tr>\n",
       "<tr>\n",
       "  <th>Time:</th>                <td>23:14:15</td>     <th>  Log-Likelihood:    </th> <td> -241.35</td> \n",
       "</tr>\n",
       "<tr>\n",
       "  <th>converged:</th>             <td>True</td>       <th>  LL-Null:           </th> <td> -337.16</td> \n",
       "</tr>\n",
       "<tr>\n",
       "  <th>Covariance Type:</th>     <td>nonrobust</td>    <th>  LLR p-value:       </th> <td>2.381e-40</td>\n",
       "</tr>\n",
       "</table>\n",
       "<table class=\"simpletable\">\n",
       "<tr>\n",
       "    <td></td>       <th>coef</th>     <th>std err</th>      <th>z</th>      <th>P>|z|</th>  <th>[0.025</th>    <th>0.975]</th>  \n",
       "</tr>\n",
       "<tr>\n",
       "  <th>const</th> <td>    0.2120</td> <td>    0.284</td> <td>    0.745</td> <td> 0.456</td> <td>   -0.346</td> <td>    0.769</td>\n",
       "</tr>\n",
       "<tr>\n",
       "  <th>age</th>   <td>   -0.0109</td> <td>    0.010</td> <td>   -1.080</td> <td> 0.280</td> <td>   -0.031</td> <td>    0.009</td>\n",
       "</tr>\n",
       "<tr>\n",
       "  <th>fare</th>  <td>    0.0103</td> <td>    0.003</td> <td>    3.479</td> <td> 0.001</td> <td>    0.004</td> <td>    0.016</td>\n",
       "</tr>\n",
       "<tr>\n",
       "  <th>man</th>   <td>   -1.7651</td> <td>    0.418</td> <td>   -4.218</td> <td> 0.000</td> <td>   -2.585</td> <td>   -0.945</td>\n",
       "</tr>\n",
       "<tr>\n",
       "  <th>woman</th> <td>    0.9735</td> <td>    0.427</td> <td>    2.281</td> <td> 0.023</td> <td>    0.137</td> <td>    1.810</td>\n",
       "</tr>\n",
       "</table>"
      ],
      "text/plain": [
       "<class 'statsmodels.iolib.summary.Summary'>\n",
       "\"\"\"\n",
       "                           Logit Regression Results                           \n",
       "==============================================================================\n",
       "Dep. Variable:                alive_1   No. Observations:                  499\n",
       "Model:                          Logit   Df Residuals:                      494\n",
       "Method:                           MLE   Df Model:                            4\n",
       "Date:                Mon, 06 Jun 2022   Pseudo R-squ.:                  0.2842\n",
       "Time:                        23:14:15   Log-Likelihood:                -241.35\n",
       "converged:                       True   LL-Null:                       -337.16\n",
       "Covariance Type:            nonrobust   LLR p-value:                 2.381e-40\n",
       "==============================================================================\n",
       "                 coef    std err          z      P>|z|      [0.025      0.975]\n",
       "------------------------------------------------------------------------------\n",
       "const          0.2120      0.284      0.745      0.456      -0.346       0.769\n",
       "age           -0.0109      0.010     -1.080      0.280      -0.031       0.009\n",
       "fare           0.0103      0.003      3.479      0.001       0.004       0.016\n",
       "man           -1.7651      0.418     -4.218      0.000      -2.585      -0.945\n",
       "woman          0.9735      0.427      2.281      0.023       0.137       1.810\n",
       "==============================================================================\n",
       "\"\"\""
      ]
     },
     "execution_count": 50,
     "metadata": {},
     "output_type": "execute_result"
    }
   ],
   "source": [
    "lr_result.summary()"
   ]
  },
  {
   "cell_type": "markdown",
   "id": "ebf3105c",
   "metadata": {},
   "source": [
    "P>|z|에서 각 변수의 유의확률을 확인할 수 있음.  \n",
    "p-value < 0.05이어야 통계적으로 유의하다고 볼 수 있으므로 'age'를 제외한 'fare', 'man', 'woman'은 통계적으로 유의한 변수임을 확인할 수 있다.  "
   ]
  },
  {
   "cell_type": "code",
   "execution_count": 51,
   "id": "6589b03b",
   "metadata": {},
   "outputs": [
    {
     "data": {
      "text/plain": [
       "const    0.211968\n",
       "age     -0.010925\n",
       "fare     0.010271\n",
       "man     -1.765051\n",
       "woman    0.973538\n",
       "dtype: float64"
      ]
     },
     "execution_count": 51,
     "metadata": {},
     "output_type": "execute_result"
    }
   ],
   "source": [
    "lr_result.params"
   ]
  },
  {
   "cell_type": "code",
   "execution_count": 52,
   "id": "224fcf25",
   "metadata": {},
   "outputs": [
    {
     "data": {
      "text/plain": [
       "const    1.236109\n",
       "age      0.989135\n",
       "fare     1.010323\n",
       "man      0.171178\n",
       "woman    2.647293\n",
       "dtype: float64"
      ]
     },
     "execution_count": 52,
     "metadata": {},
     "output_type": "execute_result"
    }
   ],
   "source": [
    "exp(lr_result.params) # odds ratio 확인을 위해 exponential"
   ]
  },
  {
   "cell_type": "code",
   "execution_count": 53,
   "id": "5238c986",
   "metadata": {},
   "outputs": [],
   "source": [
    "y_train_prob = lr_result.predict(x_train)"
   ]
  },
  {
   "cell_type": "code",
   "execution_count": 54,
   "id": "ff16a225",
   "metadata": {},
   "outputs": [
    {
     "data": {
      "text/plain": [
       "741    0.242956\n",
       "302    0.146708\n",
       "514    0.149530\n",
       "113    0.744201\n",
       "632    0.169465\n",
       "dtype: float64"
      ]
     },
     "execution_count": 54,
     "metadata": {},
     "output_type": "execute_result"
    }
   ],
   "source": [
    "y_train_prob.head()"
   ]
  },
  {
   "cell_type": "markdown",
   "id": "792c44eb",
   "metadata": {},
   "source": [
    "절단값이 0.5이하이니 경우 numpy.around()적용, 절단값이 0.5외의 경우에는 numpy.where() 적용"
   ]
  },
  {
   "cell_type": "code",
   "execution_count": 55,
   "id": "d2f5b3eb",
   "metadata": {},
   "outputs": [],
   "source": [
    "from numpy import around"
   ]
  },
  {
   "cell_type": "code",
   "execution_count": 56,
   "id": "5b919a43",
   "metadata": {},
   "outputs": [],
   "source": [
    "y_train_pred = around(y_train_prob)"
   ]
  },
  {
   "cell_type": "code",
   "execution_count": 57,
   "id": "85fadf99",
   "metadata": {},
   "outputs": [
    {
     "data": {
      "text/plain": [
       "741    0.0\n",
       "302    0.0\n",
       "514    0.0\n",
       "113    1.0\n",
       "632    0.0\n",
       "dtype: float64"
      ]
     },
     "execution_count": 57,
     "metadata": {},
     "output_type": "execute_result"
    }
   ],
   "source": [
    "y_train_pred.head()"
   ]
  },
  {
   "cell_type": "markdown",
   "id": "884c1202",
   "metadata": {},
   "source": [
    "numpy.around()함수를 이용하여 확인한 결과, 확률값이 0.5이하인 경우는 0, 0.5이상인 경우는 1로 예측한 것을 확인할 수 있음."
   ]
  },
  {
   "cell_type": "code",
   "execution_count": 58,
   "id": "0cca329e",
   "metadata": {},
   "outputs": [],
   "source": [
    "from statsmodels.formula.api import logit"
   ]
  },
  {
   "cell_type": "code",
   "execution_count": 59,
   "id": "a30baf6d",
   "metadata": {},
   "outputs": [
    {
     "name": "stdout",
     "output_type": "stream",
     "text": [
      "Optimization terminated successfully.\n",
      "         Current function value: 0.483677\n",
      "         Iterations 6\n"
     ]
    }
   ],
   "source": [
    "lr_result = logit(formula = 'alive_1 ~ age + fare + man + woman', data = train).fit()"
   ]
  },
  {
   "cell_type": "code",
   "execution_count": 60,
   "id": "04c2d31b",
   "metadata": {},
   "outputs": [
    {
     "data": {
      "text/html": [
       "<table class=\"simpletable\">\n",
       "<caption>Logit Regression Results</caption>\n",
       "<tr>\n",
       "  <th>Dep. Variable:</th>        <td>alive_1</td>     <th>  No. Observations:  </th>  <td>   499</td>  \n",
       "</tr>\n",
       "<tr>\n",
       "  <th>Model:</th>                 <td>Logit</td>      <th>  Df Residuals:      </th>  <td>   494</td>  \n",
       "</tr>\n",
       "<tr>\n",
       "  <th>Method:</th>                 <td>MLE</td>       <th>  Df Model:          </th>  <td>     4</td>  \n",
       "</tr>\n",
       "<tr>\n",
       "  <th>Date:</th>            <td>Mon, 06 Jun 2022</td> <th>  Pseudo R-squ.:     </th>  <td>0.2842</td>  \n",
       "</tr>\n",
       "<tr>\n",
       "  <th>Time:</th>                <td>23:14:15</td>     <th>  Log-Likelihood:    </th> <td> -241.35</td> \n",
       "</tr>\n",
       "<tr>\n",
       "  <th>converged:</th>             <td>True</td>       <th>  LL-Null:           </th> <td> -337.16</td> \n",
       "</tr>\n",
       "<tr>\n",
       "  <th>Covariance Type:</th>     <td>nonrobust</td>    <th>  LLR p-value:       </th> <td>2.381e-40</td>\n",
       "</tr>\n",
       "</table>\n",
       "<table class=\"simpletable\">\n",
       "<tr>\n",
       "      <td></td>         <th>coef</th>     <th>std err</th>      <th>z</th>      <th>P>|z|</th>  <th>[0.025</th>    <th>0.975]</th>  \n",
       "</tr>\n",
       "<tr>\n",
       "  <th>Intercept</th> <td>    0.2120</td> <td>    0.284</td> <td>    0.745</td> <td> 0.456</td> <td>   -0.346</td> <td>    0.769</td>\n",
       "</tr>\n",
       "<tr>\n",
       "  <th>age</th>       <td>   -0.0109</td> <td>    0.010</td> <td>   -1.080</td> <td> 0.280</td> <td>   -0.031</td> <td>    0.009</td>\n",
       "</tr>\n",
       "<tr>\n",
       "  <th>fare</th>      <td>    0.0103</td> <td>    0.003</td> <td>    3.479</td> <td> 0.001</td> <td>    0.004</td> <td>    0.016</td>\n",
       "</tr>\n",
       "<tr>\n",
       "  <th>man</th>       <td>   -1.7651</td> <td>    0.418</td> <td>   -4.218</td> <td> 0.000</td> <td>   -2.585</td> <td>   -0.945</td>\n",
       "</tr>\n",
       "<tr>\n",
       "  <th>woman</th>     <td>    0.9735</td> <td>    0.427</td> <td>    2.281</td> <td> 0.023</td> <td>    0.137</td> <td>    1.810</td>\n",
       "</tr>\n",
       "</table>"
      ],
      "text/plain": [
       "<class 'statsmodels.iolib.summary.Summary'>\n",
       "\"\"\"\n",
       "                           Logit Regression Results                           \n",
       "==============================================================================\n",
       "Dep. Variable:                alive_1   No. Observations:                  499\n",
       "Model:                          Logit   Df Residuals:                      494\n",
       "Method:                           MLE   Df Model:                            4\n",
       "Date:                Mon, 06 Jun 2022   Pseudo R-squ.:                  0.2842\n",
       "Time:                        23:14:15   Log-Likelihood:                -241.35\n",
       "converged:                       True   LL-Null:                       -337.16\n",
       "Covariance Type:            nonrobust   LLR p-value:                 2.381e-40\n",
       "==============================================================================\n",
       "                 coef    std err          z      P>|z|      [0.025      0.975]\n",
       "------------------------------------------------------------------------------\n",
       "Intercept      0.2120      0.284      0.745      0.456      -0.346       0.769\n",
       "age           -0.0109      0.010     -1.080      0.280      -0.031       0.009\n",
       "fare           0.0103      0.003      3.479      0.001       0.004       0.016\n",
       "man           -1.7651      0.418     -4.218      0.000      -2.585      -0.945\n",
       "woman          0.9735      0.427      2.281      0.023       0.137       1.810\n",
       "==============================================================================\n",
       "\"\"\""
      ]
     },
     "execution_count": 60,
     "metadata": {},
     "output_type": "execute_result"
    }
   ],
   "source": [
    "lr_result.summary()"
   ]
  },
  {
   "cell_type": "markdown",
   "id": "c2c66c52",
   "metadata": {},
   "source": [
    "## 실습\n",
    "\n",
    "### [과제10] 성별(sex)을 예측하기 위해 부리길이(bill_length_mm)와 부리두께(bill_depth_mm), 종(species)을 사용해 로지스틱 회귀분석 수행\n",
    "\n",
    "1. 데이터 전처리\n",
    "2. Train 데이터와 Test 데이터로 분할\n",
    "3. LogisticRegression().fit()함수를 이용해 로지스틱 회귀분석 수행\n",
    "4. statsmodels.api모듈의 Logit().fit()함수를 이용한 로지스틱 회귀분석\n",
    "5. statsmodels.formula.api모듈의 logit().fit()함수를 이용해 선형회귀분석"
   ]
  },
  {
   "cell_type": "markdown",
   "id": "00ad6bda",
   "metadata": {},
   "source": [
    "#### 데이터 전처리"
   ]
  },
  {
   "cell_type": "code",
   "execution_count": 61,
   "id": "bc188bce",
   "metadata": {},
   "outputs": [
    {
     "name": "stdout",
     "output_type": "stream",
     "text": [
      "<class 'pandas.core.frame.DataFrame'>\n",
      "RangeIndex: 344 entries, 0 to 343\n",
      "Data columns (total 7 columns):\n",
      " #   Column             Non-Null Count  Dtype  \n",
      "---  ------             --------------  -----  \n",
      " 0   species            344 non-null    object \n",
      " 1   island             344 non-null    object \n",
      " 2   bill_length_mm     342 non-null    float64\n",
      " 3   bill_depth_mm      342 non-null    float64\n",
      " 4   flipper_length_mm  342 non-null    float64\n",
      " 5   body_mass_g        342 non-null    float64\n",
      " 6   sex                333 non-null    object \n",
      "dtypes: float64(4), object(3)\n",
      "memory usage: 18.9+ KB\n"
     ]
    }
   ],
   "source": [
    "df = sns.load_dataset('penguins')\n",
    "df.info()"
   ]
  },
  {
   "cell_type": "code",
   "execution_count": 62,
   "id": "b5f4dac8",
   "metadata": {
    "scrolled": true
   },
   "outputs": [
    {
     "name": "stdout",
     "output_type": "stream",
     "text": [
      "<class 'pandas.core.frame.DataFrame'>\n",
      "Int64Index: 333 entries, 0 to 343\n",
      "Data columns (total 7 columns):\n",
      " #   Column             Non-Null Count  Dtype  \n",
      "---  ------             --------------  -----  \n",
      " 0   species            333 non-null    object \n",
      " 1   island             333 non-null    object \n",
      " 2   bill_length_mm     333 non-null    float64\n",
      " 3   bill_depth_mm      333 non-null    float64\n",
      " 4   flipper_length_mm  333 non-null    float64\n",
      " 5   body_mass_g        333 non-null    float64\n",
      " 6   sex                333 non-null    object \n",
      "dtypes: float64(4), object(3)\n",
      "memory usage: 20.8+ KB\n"
     ]
    }
   ],
   "source": [
    "df = df.dropna(subset = ['sex', 'species', 'bill_length_mm', 'bill_depth_mm'], how='any', axis=0)\n",
    "df.info()"
   ]
  },
  {
   "cell_type": "code",
   "execution_count": 63,
   "id": "e804745e",
   "metadata": {},
   "outputs": [
    {
     "data": {
      "text/plain": [
       "Male      168\n",
       "Female    165\n",
       "Name: sex, dtype: int64"
      ]
     },
     "execution_count": 63,
     "metadata": {},
     "output_type": "execute_result"
    }
   ],
   "source": [
    "df['sex'].value_counts()"
   ]
  },
  {
   "cell_type": "code",
   "execution_count": 64,
   "id": "72e85371",
   "metadata": {},
   "outputs": [
    {
     "data": {
      "text/plain": [
       "Adelie       146\n",
       "Gentoo       119\n",
       "Chinstrap     68\n",
       "Name: species, dtype: int64"
      ]
     },
     "execution_count": 64,
     "metadata": {},
     "output_type": "execute_result"
    }
   ],
   "source": [
    "df['species'].value_counts()"
   ]
  },
  {
   "cell_type": "code",
   "execution_count": 65,
   "id": "355c1d46",
   "metadata": {},
   "outputs": [],
   "source": [
    "df['sex_1'] = LabelEncoder().fit_transform(df['sex'].values)"
   ]
  },
  {
   "cell_type": "code",
   "execution_count": 66,
   "id": "0c10cf55",
   "metadata": {},
   "outputs": [
    {
     "data": {
      "text/html": [
       "<div>\n",
       "<style scoped>\n",
       "    .dataframe tbody tr th:only-of-type {\n",
       "        vertical-align: middle;\n",
       "    }\n",
       "\n",
       "    .dataframe tbody tr th {\n",
       "        vertical-align: top;\n",
       "    }\n",
       "\n",
       "    .dataframe thead th {\n",
       "        text-align: right;\n",
       "    }\n",
       "</style>\n",
       "<table border=\"1\" class=\"dataframe\">\n",
       "  <thead>\n",
       "    <tr style=\"text-align: right;\">\n",
       "      <th></th>\n",
       "      <th>Chinstrap</th>\n",
       "      <th>Gentoo</th>\n",
       "    </tr>\n",
       "  </thead>\n",
       "  <tbody>\n",
       "    <tr>\n",
       "      <th>0</th>\n",
       "      <td>0</td>\n",
       "      <td>0</td>\n",
       "    </tr>\n",
       "    <tr>\n",
       "      <th>1</th>\n",
       "      <td>0</td>\n",
       "      <td>0</td>\n",
       "    </tr>\n",
       "    <tr>\n",
       "      <th>2</th>\n",
       "      <td>0</td>\n",
       "      <td>0</td>\n",
       "    </tr>\n",
       "    <tr>\n",
       "      <th>4</th>\n",
       "      <td>0</td>\n",
       "      <td>0</td>\n",
       "    </tr>\n",
       "    <tr>\n",
       "      <th>5</th>\n",
       "      <td>0</td>\n",
       "      <td>0</td>\n",
       "    </tr>\n",
       "  </tbody>\n",
       "</table>\n",
       "</div>"
      ],
      "text/plain": [
       "   Chinstrap  Gentoo\n",
       "0          0       0\n",
       "1          0       0\n",
       "2          0       0\n",
       "4          0       0\n",
       "5          0       0"
      ]
     },
     "execution_count": 66,
     "metadata": {},
     "output_type": "execute_result"
    }
   ],
   "source": [
    "df1 = pd.get_dummies(df['species'], drop_first=True)\n",
    "df1.head()"
   ]
  },
  {
   "cell_type": "code",
   "execution_count": 67,
   "id": "21b67ffb",
   "metadata": {},
   "outputs": [
    {
     "data": {
      "text/html": [
       "<div>\n",
       "<style scoped>\n",
       "    .dataframe tbody tr th:only-of-type {\n",
       "        vertical-align: middle;\n",
       "    }\n",
       "\n",
       "    .dataframe tbody tr th {\n",
       "        vertical-align: top;\n",
       "    }\n",
       "\n",
       "    .dataframe thead th {\n",
       "        text-align: right;\n",
       "    }\n",
       "</style>\n",
       "<table border=\"1\" class=\"dataframe\">\n",
       "  <thead>\n",
       "    <tr style=\"text-align: right;\">\n",
       "      <th></th>\n",
       "      <th>species</th>\n",
       "      <th>island</th>\n",
       "      <th>bill_length_mm</th>\n",
       "      <th>bill_depth_mm</th>\n",
       "      <th>flipper_length_mm</th>\n",
       "      <th>body_mass_g</th>\n",
       "      <th>sex</th>\n",
       "      <th>sex_1</th>\n",
       "      <th>Chinstrap</th>\n",
       "      <th>Gentoo</th>\n",
       "    </tr>\n",
       "  </thead>\n",
       "  <tbody>\n",
       "    <tr>\n",
       "      <th>0</th>\n",
       "      <td>Adelie</td>\n",
       "      <td>Torgersen</td>\n",
       "      <td>39.1</td>\n",
       "      <td>18.7</td>\n",
       "      <td>181.0</td>\n",
       "      <td>3750.0</td>\n",
       "      <td>Male</td>\n",
       "      <td>1</td>\n",
       "      <td>0</td>\n",
       "      <td>0</td>\n",
       "    </tr>\n",
       "    <tr>\n",
       "      <th>1</th>\n",
       "      <td>Adelie</td>\n",
       "      <td>Torgersen</td>\n",
       "      <td>39.5</td>\n",
       "      <td>17.4</td>\n",
       "      <td>186.0</td>\n",
       "      <td>3800.0</td>\n",
       "      <td>Female</td>\n",
       "      <td>0</td>\n",
       "      <td>0</td>\n",
       "      <td>0</td>\n",
       "    </tr>\n",
       "    <tr>\n",
       "      <th>2</th>\n",
       "      <td>Adelie</td>\n",
       "      <td>Torgersen</td>\n",
       "      <td>40.3</td>\n",
       "      <td>18.0</td>\n",
       "      <td>195.0</td>\n",
       "      <td>3250.0</td>\n",
       "      <td>Female</td>\n",
       "      <td>0</td>\n",
       "      <td>0</td>\n",
       "      <td>0</td>\n",
       "    </tr>\n",
       "    <tr>\n",
       "      <th>4</th>\n",
       "      <td>Adelie</td>\n",
       "      <td>Torgersen</td>\n",
       "      <td>36.7</td>\n",
       "      <td>19.3</td>\n",
       "      <td>193.0</td>\n",
       "      <td>3450.0</td>\n",
       "      <td>Female</td>\n",
       "      <td>0</td>\n",
       "      <td>0</td>\n",
       "      <td>0</td>\n",
       "    </tr>\n",
       "    <tr>\n",
       "      <th>5</th>\n",
       "      <td>Adelie</td>\n",
       "      <td>Torgersen</td>\n",
       "      <td>39.3</td>\n",
       "      <td>20.6</td>\n",
       "      <td>190.0</td>\n",
       "      <td>3650.0</td>\n",
       "      <td>Male</td>\n",
       "      <td>1</td>\n",
       "      <td>0</td>\n",
       "      <td>0</td>\n",
       "    </tr>\n",
       "  </tbody>\n",
       "</table>\n",
       "</div>"
      ],
      "text/plain": [
       "  species     island  bill_length_mm  bill_depth_mm  flipper_length_mm  \\\n",
       "0  Adelie  Torgersen            39.1           18.7              181.0   \n",
       "1  Adelie  Torgersen            39.5           17.4              186.0   \n",
       "2  Adelie  Torgersen            40.3           18.0              195.0   \n",
       "4  Adelie  Torgersen            36.7           19.3              193.0   \n",
       "5  Adelie  Torgersen            39.3           20.6              190.0   \n",
       "\n",
       "   body_mass_g     sex  sex_1  Chinstrap  Gentoo  \n",
       "0       3750.0    Male      1          0       0  \n",
       "1       3800.0  Female      0          0       0  \n",
       "2       3250.0  Female      0          0       0  \n",
       "4       3450.0  Female      0          0       0  \n",
       "5       3650.0    Male      1          0       0  "
      ]
     },
     "execution_count": 67,
     "metadata": {},
     "output_type": "execute_result"
    }
   ],
   "source": [
    "df = pd.concat([df, df1], axis=1)\n",
    "df.head()"
   ]
  },
  {
   "cell_type": "markdown",
   "id": "cf93e990",
   "metadata": {},
   "source": [
    "#### Train 데이터와 Test 데이터로 분할"
   ]
  },
  {
   "cell_type": "code",
   "execution_count": 68,
   "id": "88f4e6f2",
   "metadata": {},
   "outputs": [],
   "source": [
    "train, test = train_test_split(df, test_size=0.3, random_state=1, stratify=df['sex_1'])"
   ]
  },
  {
   "cell_type": "code",
   "execution_count": 69,
   "id": "f29222de",
   "metadata": {},
   "outputs": [
    {
     "data": {
      "text/html": [
       "<div>\n",
       "<style scoped>\n",
       "    .dataframe tbody tr th:only-of-type {\n",
       "        vertical-align: middle;\n",
       "    }\n",
       "\n",
       "    .dataframe tbody tr th {\n",
       "        vertical-align: top;\n",
       "    }\n",
       "\n",
       "    .dataframe thead th {\n",
       "        text-align: right;\n",
       "    }\n",
       "</style>\n",
       "<table border=\"1\" class=\"dataframe\">\n",
       "  <thead>\n",
       "    <tr style=\"text-align: right;\">\n",
       "      <th></th>\n",
       "      <th>species</th>\n",
       "      <th>island</th>\n",
       "      <th>bill_length_mm</th>\n",
       "      <th>bill_depth_mm</th>\n",
       "      <th>flipper_length_mm</th>\n",
       "      <th>body_mass_g</th>\n",
       "      <th>sex</th>\n",
       "      <th>sex_1</th>\n",
       "      <th>Chinstrap</th>\n",
       "      <th>Gentoo</th>\n",
       "    </tr>\n",
       "  </thead>\n",
       "  <tbody>\n",
       "    <tr>\n",
       "      <th>28</th>\n",
       "      <td>Adelie</td>\n",
       "      <td>Biscoe</td>\n",
       "      <td>37.9</td>\n",
       "      <td>18.6</td>\n",
       "      <td>172.0</td>\n",
       "      <td>3150.0</td>\n",
       "      <td>Female</td>\n",
       "      <td>0</td>\n",
       "      <td>0</td>\n",
       "      <td>0</td>\n",
       "    </tr>\n",
       "    <tr>\n",
       "      <th>234</th>\n",
       "      <td>Gentoo</td>\n",
       "      <td>Biscoe</td>\n",
       "      <td>45.8</td>\n",
       "      <td>14.6</td>\n",
       "      <td>210.0</td>\n",
       "      <td>4200.0</td>\n",
       "      <td>Female</td>\n",
       "      <td>0</td>\n",
       "      <td>0</td>\n",
       "      <td>1</td>\n",
       "    </tr>\n",
       "    <tr>\n",
       "      <th>48</th>\n",
       "      <td>Adelie</td>\n",
       "      <td>Dream</td>\n",
       "      <td>36.0</td>\n",
       "      <td>17.9</td>\n",
       "      <td>190.0</td>\n",
       "      <td>3450.0</td>\n",
       "      <td>Female</td>\n",
       "      <td>0</td>\n",
       "      <td>0</td>\n",
       "      <td>0</td>\n",
       "    </tr>\n",
       "    <tr>\n",
       "      <th>199</th>\n",
       "      <td>Chinstrap</td>\n",
       "      <td>Dream</td>\n",
       "      <td>49.0</td>\n",
       "      <td>19.6</td>\n",
       "      <td>212.0</td>\n",
       "      <td>4300.0</td>\n",
       "      <td>Male</td>\n",
       "      <td>1</td>\n",
       "      <td>1</td>\n",
       "      <td>0</td>\n",
       "    </tr>\n",
       "    <tr>\n",
       "      <th>169</th>\n",
       "      <td>Chinstrap</td>\n",
       "      <td>Dream</td>\n",
       "      <td>58.0</td>\n",
       "      <td>17.8</td>\n",
       "      <td>181.0</td>\n",
       "      <td>3700.0</td>\n",
       "      <td>Female</td>\n",
       "      <td>0</td>\n",
       "      <td>1</td>\n",
       "      <td>0</td>\n",
       "    </tr>\n",
       "  </tbody>\n",
       "</table>\n",
       "</div>"
      ],
      "text/plain": [
       "       species  island  bill_length_mm  bill_depth_mm  flipper_length_mm  \\\n",
       "28      Adelie  Biscoe            37.9           18.6              172.0   \n",
       "234     Gentoo  Biscoe            45.8           14.6              210.0   \n",
       "48      Adelie   Dream            36.0           17.9              190.0   \n",
       "199  Chinstrap   Dream            49.0           19.6              212.0   \n",
       "169  Chinstrap   Dream            58.0           17.8              181.0   \n",
       "\n",
       "     body_mass_g     sex  sex_1  Chinstrap  Gentoo  \n",
       "28        3150.0  Female      0          0       0  \n",
       "234       4200.0  Female      0          0       1  \n",
       "48        3450.0  Female      0          0       0  \n",
       "199       4300.0    Male      1          1       0  \n",
       "169       3700.0  Female      0          1       0  "
      ]
     },
     "execution_count": 69,
     "metadata": {},
     "output_type": "execute_result"
    }
   ],
   "source": [
    "train.head()"
   ]
  },
  {
   "cell_type": "code",
   "execution_count": 70,
   "id": "87891e4f",
   "metadata": {},
   "outputs": [
    {
     "data": {
      "text/html": [
       "<div>\n",
       "<style scoped>\n",
       "    .dataframe tbody tr th:only-of-type {\n",
       "        vertical-align: middle;\n",
       "    }\n",
       "\n",
       "    .dataframe tbody tr th {\n",
       "        vertical-align: top;\n",
       "    }\n",
       "\n",
       "    .dataframe thead th {\n",
       "        text-align: right;\n",
       "    }\n",
       "</style>\n",
       "<table border=\"1\" class=\"dataframe\">\n",
       "  <thead>\n",
       "    <tr style=\"text-align: right;\">\n",
       "      <th></th>\n",
       "      <th>species</th>\n",
       "      <th>island</th>\n",
       "      <th>bill_length_mm</th>\n",
       "      <th>bill_depth_mm</th>\n",
       "      <th>flipper_length_mm</th>\n",
       "      <th>body_mass_g</th>\n",
       "      <th>sex</th>\n",
       "      <th>sex_1</th>\n",
       "      <th>Chinstrap</th>\n",
       "      <th>Gentoo</th>\n",
       "    </tr>\n",
       "  </thead>\n",
       "  <tbody>\n",
       "    <tr>\n",
       "      <th>156</th>\n",
       "      <td>Chinstrap</td>\n",
       "      <td>Dream</td>\n",
       "      <td>52.7</td>\n",
       "      <td>19.8</td>\n",
       "      <td>197.0</td>\n",
       "      <td>3725.0</td>\n",
       "      <td>Male</td>\n",
       "      <td>1</td>\n",
       "      <td>1</td>\n",
       "      <td>0</td>\n",
       "    </tr>\n",
       "    <tr>\n",
       "      <th>133</th>\n",
       "      <td>Adelie</td>\n",
       "      <td>Dream</td>\n",
       "      <td>37.5</td>\n",
       "      <td>18.5</td>\n",
       "      <td>199.0</td>\n",
       "      <td>4475.0</td>\n",
       "      <td>Male</td>\n",
       "      <td>1</td>\n",
       "      <td>0</td>\n",
       "      <td>0</td>\n",
       "    </tr>\n",
       "    <tr>\n",
       "      <th>92</th>\n",
       "      <td>Adelie</td>\n",
       "      <td>Dream</td>\n",
       "      <td>34.0</td>\n",
       "      <td>17.1</td>\n",
       "      <td>185.0</td>\n",
       "      <td>3400.0</td>\n",
       "      <td>Female</td>\n",
       "      <td>0</td>\n",
       "      <td>0</td>\n",
       "      <td>0</td>\n",
       "    </tr>\n",
       "    <tr>\n",
       "      <th>267</th>\n",
       "      <td>Gentoo</td>\n",
       "      <td>Biscoe</td>\n",
       "      <td>50.5</td>\n",
       "      <td>15.9</td>\n",
       "      <td>225.0</td>\n",
       "      <td>5400.0</td>\n",
       "      <td>Male</td>\n",
       "      <td>1</td>\n",
       "      <td>0</td>\n",
       "      <td>1</td>\n",
       "    </tr>\n",
       "    <tr>\n",
       "      <th>209</th>\n",
       "      <td>Chinstrap</td>\n",
       "      <td>Dream</td>\n",
       "      <td>49.3</td>\n",
       "      <td>19.9</td>\n",
       "      <td>203.0</td>\n",
       "      <td>4050.0</td>\n",
       "      <td>Male</td>\n",
       "      <td>1</td>\n",
       "      <td>1</td>\n",
       "      <td>0</td>\n",
       "    </tr>\n",
       "  </tbody>\n",
       "</table>\n",
       "</div>"
      ],
      "text/plain": [
       "       species  island  bill_length_mm  bill_depth_mm  flipper_length_mm  \\\n",
       "156  Chinstrap   Dream            52.7           19.8              197.0   \n",
       "133     Adelie   Dream            37.5           18.5              199.0   \n",
       "92      Adelie   Dream            34.0           17.1              185.0   \n",
       "267     Gentoo  Biscoe            50.5           15.9              225.0   \n",
       "209  Chinstrap   Dream            49.3           19.9              203.0   \n",
       "\n",
       "     body_mass_g     sex  sex_1  Chinstrap  Gentoo  \n",
       "156       3725.0    Male      1          1       0  \n",
       "133       4475.0    Male      1          0       0  \n",
       "92        3400.0  Female      0          0       0  \n",
       "267       5400.0    Male      1          0       1  \n",
       "209       4050.0    Male      1          1       0  "
      ]
     },
     "execution_count": 70,
     "metadata": {},
     "output_type": "execute_result"
    }
   ],
   "source": [
    "test.head()"
   ]
  },
  {
   "cell_type": "code",
   "execution_count": 71,
   "id": "e4d8aeb5",
   "metadata": {},
   "outputs": [],
   "source": [
    "x_train = train[['bill_length_mm', 'bill_depth_mm','Chinstrap','Gentoo']]\n",
    "y_train = train['sex_1']\n",
    "\n",
    "x_test = test[['bill_length_mm', 'bill_depth_mm','Chinstrap','Gentoo']]\n",
    "y_test = test['sex_1']"
   ]
  },
  {
   "cell_type": "code",
   "execution_count": 72,
   "id": "b0e29a7e",
   "metadata": {},
   "outputs": [
    {
     "data": {
      "text/html": [
       "<div>\n",
       "<style scoped>\n",
       "    .dataframe tbody tr th:only-of-type {\n",
       "        vertical-align: middle;\n",
       "    }\n",
       "\n",
       "    .dataframe tbody tr th {\n",
       "        vertical-align: top;\n",
       "    }\n",
       "\n",
       "    .dataframe thead th {\n",
       "        text-align: right;\n",
       "    }\n",
       "</style>\n",
       "<table border=\"1\" class=\"dataframe\">\n",
       "  <thead>\n",
       "    <tr style=\"text-align: right;\">\n",
       "      <th></th>\n",
       "      <th>bill_length_mm</th>\n",
       "      <th>bill_depth_mm</th>\n",
       "      <th>Chinstrap</th>\n",
       "      <th>Gentoo</th>\n",
       "    </tr>\n",
       "  </thead>\n",
       "  <tbody>\n",
       "    <tr>\n",
       "      <th>28</th>\n",
       "      <td>37.9</td>\n",
       "      <td>18.6</td>\n",
       "      <td>0</td>\n",
       "      <td>0</td>\n",
       "    </tr>\n",
       "    <tr>\n",
       "      <th>234</th>\n",
       "      <td>45.8</td>\n",
       "      <td>14.6</td>\n",
       "      <td>0</td>\n",
       "      <td>1</td>\n",
       "    </tr>\n",
       "    <tr>\n",
       "      <th>48</th>\n",
       "      <td>36.0</td>\n",
       "      <td>17.9</td>\n",
       "      <td>0</td>\n",
       "      <td>0</td>\n",
       "    </tr>\n",
       "    <tr>\n",
       "      <th>199</th>\n",
       "      <td>49.0</td>\n",
       "      <td>19.6</td>\n",
       "      <td>1</td>\n",
       "      <td>0</td>\n",
       "    </tr>\n",
       "    <tr>\n",
       "      <th>169</th>\n",
       "      <td>58.0</td>\n",
       "      <td>17.8</td>\n",
       "      <td>1</td>\n",
       "      <td>0</td>\n",
       "    </tr>\n",
       "  </tbody>\n",
       "</table>\n",
       "</div>"
      ],
      "text/plain": [
       "     bill_length_mm  bill_depth_mm  Chinstrap  Gentoo\n",
       "28             37.9           18.6          0       0\n",
       "234            45.8           14.6          0       1\n",
       "48             36.0           17.9          0       0\n",
       "199            49.0           19.6          1       0\n",
       "169            58.0           17.8          1       0"
      ]
     },
     "execution_count": 72,
     "metadata": {},
     "output_type": "execute_result"
    }
   ],
   "source": [
    "x_train.head()"
   ]
  },
  {
   "cell_type": "code",
   "execution_count": 73,
   "id": "474662c3",
   "metadata": {},
   "outputs": [
    {
     "data": {
      "text/plain": [
       "28     0\n",
       "234    0\n",
       "48     0\n",
       "199    1\n",
       "169    0\n",
       "Name: sex_1, dtype: int64"
      ]
     },
     "execution_count": 73,
     "metadata": {},
     "output_type": "execute_result"
    }
   ],
   "source": [
    "y_train.head()"
   ]
  },
  {
   "cell_type": "markdown",
   "id": "19c13735",
   "metadata": {},
   "source": [
    "#### LogisticRegression().fit()함수를 이용해 로지스틱 회귀분석 수행"
   ]
  },
  {
   "cell_type": "code",
   "execution_count": 74,
   "id": "88d20ea8",
   "metadata": {},
   "outputs": [],
   "source": [
    "lr1 = LogisticRegression(penalty='none').fit(x_train, y_train)"
   ]
  },
  {
   "cell_type": "code",
   "execution_count": 75,
   "id": "643b0273",
   "metadata": {},
   "outputs": [
    {
     "name": "stdout",
     "output_type": "stream",
     "text": [
      "회귀상수:  [-64.61307383]\n"
     ]
    }
   ],
   "source": [
    "print('회귀상수: ',lr1.intercept_) # y절편"
   ]
  },
  {
   "cell_type": "code",
   "execution_count": 76,
   "id": "2cabb6cc",
   "metadata": {},
   "outputs": [
    {
     "name": "stdout",
     "output_type": "stream",
     "text": [
      "회귀계수 [[ 0.66381094  2.10963611 -7.04917566  1.68654278]]\n"
     ]
    }
   ],
   "source": [
    "print('회귀계수',lr1.coef_) "
   ]
  },
  {
   "cell_type": "code",
   "execution_count": 77,
   "id": "bf7fdc3b",
   "metadata": {},
   "outputs": [
    {
     "name": "stdout",
     "output_type": "stream",
     "text": [
      "오즈비 [[1.94217978e+00 8.24524036e+00 8.68124290e-04 5.40077674e+00]]\n"
     ]
    }
   ],
   "source": [
    "print('오즈비', exp(lr1.coef_))"
   ]
  },
  {
   "cell_type": "code",
   "execution_count": 78,
   "id": "b5da18fe",
   "metadata": {},
   "outputs": [
    {
     "data": {
      "text/plain": [
       "0.8927038626609443"
      ]
     },
     "execution_count": 78,
     "metadata": {},
     "output_type": "execute_result"
    }
   ],
   "source": [
    "lr1.score(x_train, y_train) # Return the mean accuracy on the given test data and labels."
   ]
  },
  {
   "cell_type": "code",
   "execution_count": 79,
   "id": "692e102b",
   "metadata": {},
   "outputs": [],
   "source": [
    "y_train_pred = lr1.predict(x_train)"
   ]
  },
  {
   "cell_type": "code",
   "execution_count": 80,
   "id": "ad379fab",
   "metadata": {},
   "outputs": [
    {
     "data": {
      "text/plain": [
       "array([[102,  12],\n",
       "       [ 13, 106]])"
      ]
     },
     "execution_count": 80,
     "metadata": {},
     "output_type": "execute_result"
    }
   ],
   "source": [
    "confusion_matrix(y_train_pred, y_train)"
   ]
  },
  {
   "cell_type": "markdown",
   "id": "349eca4c",
   "metadata": {},
   "source": [
    "female(0), male(1)을 각각 102, 106개씩 정확하게 분류하였음을 알 수 있음. "
   ]
  },
  {
   "cell_type": "code",
   "execution_count": 81,
   "id": "f6ca1685",
   "metadata": {},
   "outputs": [
    {
     "data": {
      "text/plain": [
       "0.8927038626609443"
      ]
     },
     "execution_count": 81,
     "metadata": {},
     "output_type": "execute_result"
    }
   ],
   "source": [
    "accuracy_score(y_train_pred, y_train)"
   ]
  },
  {
   "cell_type": "code",
   "execution_count": 82,
   "id": "4f962868",
   "metadata": {},
   "outputs": [],
   "source": [
    "lr1_report = classification_report(y_train, y_train_pred)"
   ]
  },
  {
   "cell_type": "code",
   "execution_count": 83,
   "id": "b8404e8e",
   "metadata": {},
   "outputs": [
    {
     "name": "stdout",
     "output_type": "stream",
     "text": [
      "              precision    recall  f1-score   support\n",
      "\n",
      "           0       0.89      0.89      0.89       115\n",
      "           1       0.89      0.90      0.89       118\n",
      "\n",
      "    accuracy                           0.89       233\n",
      "   macro avg       0.89      0.89      0.89       233\n",
      "weighted avg       0.89      0.89      0.89       233\n",
      "\n"
     ]
    }
   ],
   "source": [
    "print(lr1_report)"
   ]
  },
  {
   "cell_type": "code",
   "execution_count": 84,
   "id": "6ac0dba0",
   "metadata": {},
   "outputs": [],
   "source": [
    "y_train_prob = lr1.predict_proba(x_train)[:,1]"
   ]
  },
  {
   "cell_type": "code",
   "execution_count": 85,
   "id": "562c318a",
   "metadata": {},
   "outputs": [],
   "source": [
    "fpr, tpr, _ = roc_curve(y_train, y_train_prob)"
   ]
  },
  {
   "cell_type": "code",
   "execution_count": 86,
   "id": "a1f3711d",
   "metadata": {},
   "outputs": [],
   "source": [
    "roc_auc = auc(fpr, tpr)"
   ]
  },
  {
   "cell_type": "code",
   "execution_count": 87,
   "id": "3de044c5",
   "metadata": {},
   "outputs": [
    {
     "data": {
      "text/plain": [
       "<matplotlib.legend.Legend at 0x7fbea8473c40>"
      ]
     },
     "execution_count": 87,
     "metadata": {},
     "output_type": "execute_result"
    },
    {
     "data": {
      "image/png": "[encoded data removed]",
      "text/plain": [
       "<Figure size 432x288 with 1 Axes>"
      ]
     },
     "metadata": {
      "needs_background": "light"
     },
     "output_type": "display_data"
    }
   ],
   "source": [
    "plt.plot(fpr, tpr, 'b', label='AUC = %.2f'%roc_auc)\n",
    "plt.plot([0,1],[0,1],'--')\n",
    "plt.ylabel('True Positive Rate')\n",
    "plt.xlabel('False Positive Rate')\n",
    "plt.title('ROC curve')\n",
    "plt.legend(loc='best')"
   ]
  },
  {
   "cell_type": "code",
   "execution_count": 88,
   "id": "235e489b",
   "metadata": {},
   "outputs": [
    {
     "data": {
      "text/plain": [
       "0.86"
      ]
     },
     "execution_count": 88,
     "metadata": {},
     "output_type": "execute_result"
    }
   ],
   "source": [
    "lr1.score(x_test, y_test)"
   ]
  },
  {
   "cell_type": "code",
   "execution_count": 89,
   "id": "5bec0310",
   "metadata": {},
   "outputs": [],
   "source": [
    "y_test_pred = lr1.predict(x_test)"
   ]
  },
  {
   "cell_type": "code",
   "execution_count": 90,
   "id": "c517f041",
   "metadata": {},
   "outputs": [
    {
     "data": {
      "text/plain": [
       "array([[45,  9],\n",
       "       [ 5, 41]])"
      ]
     },
     "execution_count": 90,
     "metadata": {},
     "output_type": "execute_result"
    }
   ],
   "source": [
    "confusion_matrix(y_test_pred, y_test)"
   ]
  },
  {
   "cell_type": "markdown",
   "id": "e654894d",
   "metadata": {},
   "source": [
    "test set에서는 female, male을 각각 45, 41개 정확하게 맞추었음"
   ]
  },
  {
   "cell_type": "code",
   "execution_count": 91,
   "id": "5348a1ea",
   "metadata": {},
   "outputs": [
    {
     "data": {
      "text/plain": [
       "0.86"
      ]
     },
     "execution_count": 91,
     "metadata": {},
     "output_type": "execute_result"
    }
   ],
   "source": [
    "accuracy_score(y_test_pred, y_test)"
   ]
  },
  {
   "cell_type": "code",
   "execution_count": 92,
   "id": "5ae9217c",
   "metadata": {},
   "outputs": [],
   "source": [
    "lr1_report1 = classification_report(y_test, y_test_pred)"
   ]
  },
  {
   "cell_type": "code",
   "execution_count": 93,
   "id": "8a343129",
   "metadata": {},
   "outputs": [
    {
     "name": "stdout",
     "output_type": "stream",
     "text": [
      "              precision    recall  f1-score   support\n",
      "\n",
      "           0       0.83      0.90      0.87        50\n",
      "           1       0.89      0.82      0.85        50\n",
      "\n",
      "    accuracy                           0.86       100\n",
      "   macro avg       0.86      0.86      0.86       100\n",
      "weighted avg       0.86      0.86      0.86       100\n",
      "\n"
     ]
    }
   ],
   "source": [
    "print(lr1_report1)"
   ]
  },
  {
   "cell_type": "markdown",
   "id": "1fadcb57",
   "metadata": {},
   "source": [
    "#### statsmodels.api모듈의 Logit().fit()함수를 이용한 로지스틱 회귀분석\n",
    "\n",
    "statsmodels 모듈의 Logit()함수를 사용하기 위해서는 절편항을 추가해주어야 함을 잊지말것!"
   ]
  },
  {
   "cell_type": "code",
   "execution_count": 94,
   "id": "6fb3d85c",
   "metadata": {},
   "outputs": [
    {
     "data": {
      "text/html": [
       "<div>\n",
       "<style scoped>\n",
       "    .dataframe tbody tr th:only-of-type {\n",
       "        vertical-align: middle;\n",
       "    }\n",
       "\n",
       "    .dataframe tbody tr th {\n",
       "        vertical-align: top;\n",
       "    }\n",
       "\n",
       "    .dataframe thead th {\n",
       "        text-align: right;\n",
       "    }\n",
       "</style>\n",
       "<table border=\"1\" class=\"dataframe\">\n",
       "  <thead>\n",
       "    <tr style=\"text-align: right;\">\n",
       "      <th></th>\n",
       "      <th>const</th>\n",
       "      <th>bill_length_mm</th>\n",
       "      <th>bill_depth_mm</th>\n",
       "      <th>Chinstrap</th>\n",
       "      <th>Gentoo</th>\n",
       "    </tr>\n",
       "  </thead>\n",
       "  <tbody>\n",
       "    <tr>\n",
       "      <th>28</th>\n",
       "      <td>1.0</td>\n",
       "      <td>37.9</td>\n",
       "      <td>18.6</td>\n",
       "      <td>0</td>\n",
       "      <td>0</td>\n",
       "    </tr>\n",
       "    <tr>\n",
       "      <th>234</th>\n",
       "      <td>1.0</td>\n",
       "      <td>45.8</td>\n",
       "      <td>14.6</td>\n",
       "      <td>0</td>\n",
       "      <td>1</td>\n",
       "    </tr>\n",
       "    <tr>\n",
       "      <th>48</th>\n",
       "      <td>1.0</td>\n",
       "      <td>36.0</td>\n",
       "      <td>17.9</td>\n",
       "      <td>0</td>\n",
       "      <td>0</td>\n",
       "    </tr>\n",
       "    <tr>\n",
       "      <th>199</th>\n",
       "      <td>1.0</td>\n",
       "      <td>49.0</td>\n",
       "      <td>19.6</td>\n",
       "      <td>1</td>\n",
       "      <td>0</td>\n",
       "    </tr>\n",
       "    <tr>\n",
       "      <th>169</th>\n",
       "      <td>1.0</td>\n",
       "      <td>58.0</td>\n",
       "      <td>17.8</td>\n",
       "      <td>1</td>\n",
       "      <td>0</td>\n",
       "    </tr>\n",
       "  </tbody>\n",
       "</table>\n",
       "</div>"
      ],
      "text/plain": [
       "     const  bill_length_mm  bill_depth_mm  Chinstrap  Gentoo\n",
       "28     1.0            37.9           18.6          0       0\n",
       "234    1.0            45.8           14.6          0       1\n",
       "48     1.0            36.0           17.9          0       0\n",
       "199    1.0            49.0           19.6          1       0\n",
       "169    1.0            58.0           17.8          1       0"
      ]
     },
     "execution_count": 94,
     "metadata": {},
     "output_type": "execute_result"
    }
   ],
   "source": [
    "x_train_ad = add_constant(x_train)\n",
    "x_train_ad.head()"
   ]
  },
  {
   "cell_type": "code",
   "execution_count": 95,
   "id": "71c0ec3c",
   "metadata": {},
   "outputs": [
    {
     "data": {
      "text/html": [
       "<div>\n",
       "<style scoped>\n",
       "    .dataframe tbody tr th:only-of-type {\n",
       "        vertical-align: middle;\n",
       "    }\n",
       "\n",
       "    .dataframe tbody tr th {\n",
       "        vertical-align: top;\n",
       "    }\n",
       "\n",
       "    .dataframe thead th {\n",
       "        text-align: right;\n",
       "    }\n",
       "</style>\n",
       "<table border=\"1\" class=\"dataframe\">\n",
       "  <thead>\n",
       "    <tr style=\"text-align: right;\">\n",
       "      <th></th>\n",
       "      <th>const</th>\n",
       "      <th>bill_length_mm</th>\n",
       "      <th>bill_depth_mm</th>\n",
       "      <th>Chinstrap</th>\n",
       "      <th>Gentoo</th>\n",
       "    </tr>\n",
       "  </thead>\n",
       "  <tbody>\n",
       "    <tr>\n",
       "      <th>156</th>\n",
       "      <td>1.0</td>\n",
       "      <td>52.7</td>\n",
       "      <td>19.8</td>\n",
       "      <td>1</td>\n",
       "      <td>0</td>\n",
       "    </tr>\n",
       "    <tr>\n",
       "      <th>133</th>\n",
       "      <td>1.0</td>\n",
       "      <td>37.5</td>\n",
       "      <td>18.5</td>\n",
       "      <td>0</td>\n",
       "      <td>0</td>\n",
       "    </tr>\n",
       "    <tr>\n",
       "      <th>92</th>\n",
       "      <td>1.0</td>\n",
       "      <td>34.0</td>\n",
       "      <td>17.1</td>\n",
       "      <td>0</td>\n",
       "      <td>0</td>\n",
       "    </tr>\n",
       "    <tr>\n",
       "      <th>267</th>\n",
       "      <td>1.0</td>\n",
       "      <td>50.5</td>\n",
       "      <td>15.9</td>\n",
       "      <td>0</td>\n",
       "      <td>1</td>\n",
       "    </tr>\n",
       "    <tr>\n",
       "      <th>209</th>\n",
       "      <td>1.0</td>\n",
       "      <td>49.3</td>\n",
       "      <td>19.9</td>\n",
       "      <td>1</td>\n",
       "      <td>0</td>\n",
       "    </tr>\n",
       "  </tbody>\n",
       "</table>\n",
       "</div>"
      ],
      "text/plain": [
       "     const  bill_length_mm  bill_depth_mm  Chinstrap  Gentoo\n",
       "156    1.0            52.7           19.8          1       0\n",
       "133    1.0            37.5           18.5          0       0\n",
       "92     1.0            34.0           17.1          0       0\n",
       "267    1.0            50.5           15.9          0       1\n",
       "209    1.0            49.3           19.9          1       0"
      ]
     },
     "execution_count": 95,
     "metadata": {},
     "output_type": "execute_result"
    }
   ],
   "source": [
    "x_test_ad = add_constant(x_test)\n",
    "x_test_ad.head()"
   ]
  },
  {
   "cell_type": "code",
   "execution_count": 96,
   "id": "fa664523",
   "metadata": {
    "scrolled": true
   },
   "outputs": [
    {
     "name": "stdout",
     "output_type": "stream",
     "text": [
      "Optimization terminated successfully.\n",
      "         Current function value: 0.287318\n",
      "         Iterations 8\n"
     ]
    }
   ],
   "source": [
    "lr2_result = Logit(y_train, x_train_ad).fit()"
   ]
  },
  {
   "cell_type": "code",
   "execution_count": 97,
   "id": "8a3fee72",
   "metadata": {},
   "outputs": [
    {
     "data": {
      "text/html": [
       "<table class=\"simpletable\">\n",
       "<caption>Logit Regression Results</caption>\n",
       "<tr>\n",
       "  <th>Dep. Variable:</th>         <td>sex_1</td>      <th>  No. Observations:  </th>  <td>   233</td>  \n",
       "</tr>\n",
       "<tr>\n",
       "  <th>Model:</th>                 <td>Logit</td>      <th>  Df Residuals:      </th>  <td>   228</td>  \n",
       "</tr>\n",
       "<tr>\n",
       "  <th>Method:</th>                 <td>MLE</td>       <th>  Df Model:          </th>  <td>     4</td>  \n",
       "</tr>\n",
       "<tr>\n",
       "  <th>Date:</th>            <td>Mon, 06 Jun 2022</td> <th>  Pseudo R-squ.:     </th>  <td>0.5854</td>  \n",
       "</tr>\n",
       "<tr>\n",
       "  <th>Time:</th>                <td>23:14:15</td>     <th>  Log-Likelihood:    </th> <td> -66.945</td> \n",
       "</tr>\n",
       "<tr>\n",
       "  <th>converged:</th>             <td>True</td>       <th>  LL-Null:           </th> <td> -161.48</td> \n",
       "</tr>\n",
       "<tr>\n",
       "  <th>Covariance Type:</th>     <td>nonrobust</td>    <th>  LLR p-value:       </th> <td>8.365e-40</td>\n",
       "</tr>\n",
       "</table>\n",
       "<table class=\"simpletable\">\n",
       "<tr>\n",
       "         <td></td>           <th>coef</th>     <th>std err</th>      <th>z</th>      <th>P>|z|</th>  <th>[0.025</th>    <th>0.975]</th>  \n",
       "</tr>\n",
       "<tr>\n",
       "  <th>const</th>          <td>  -64.6130</td> <td>    8.583</td> <td>   -7.528</td> <td> 0.000</td> <td>  -81.436</td> <td>  -47.790</td>\n",
       "</tr>\n",
       "<tr>\n",
       "  <th>bill_length_mm</th> <td>    0.6638</td> <td>    0.115</td> <td>    5.748</td> <td> 0.000</td> <td>    0.437</td> <td>    0.890</td>\n",
       "</tr>\n",
       "<tr>\n",
       "  <th>bill_depth_mm</th>  <td>    2.1096</td> <td>    0.339</td> <td>    6.228</td> <td> 0.000</td> <td>    1.446</td> <td>    2.774</td>\n",
       "</tr>\n",
       "<tr>\n",
       "  <th>Chinstrap</th>      <td>   -7.0493</td> <td>    1.365</td> <td>   -5.165</td> <td> 0.000</td> <td>   -9.724</td> <td>   -4.374</td>\n",
       "</tr>\n",
       "<tr>\n",
       "  <th>Gentoo</th>         <td>    1.6866</td> <td>    1.419</td> <td>    1.188</td> <td> 0.235</td> <td>   -1.095</td> <td>    4.468</td>\n",
       "</tr>\n",
       "</table>"
      ],
      "text/plain": [
       "<class 'statsmodels.iolib.summary.Summary'>\n",
       "\"\"\"\n",
       "                           Logit Regression Results                           \n",
       "==============================================================================\n",
       "Dep. Variable:                  sex_1   No. Observations:                  233\n",
       "Model:                          Logit   Df Residuals:                      228\n",
       "Method:                           MLE   Df Model:                            4\n",
       "Date:                Mon, 06 Jun 2022   Pseudo R-squ.:                  0.5854\n",
       "Time:                        23:14:15   Log-Likelihood:                -66.945\n",
       "converged:                       True   LL-Null:                       -161.48\n",
       "Covariance Type:            nonrobust   LLR p-value:                 8.365e-40\n",
       "==================================================================================\n",
       "                     coef    std err          z      P>|z|      [0.025      0.975]\n",
       "----------------------------------------------------------------------------------\n",
       "const            -64.6130      8.583     -7.528      0.000     -81.436     -47.790\n",
       "bill_length_mm     0.6638      0.115      5.748      0.000       0.437       0.890\n",
       "bill_depth_mm      2.1096      0.339      6.228      0.000       1.446       2.774\n",
       "Chinstrap         -7.0493      1.365     -5.165      0.000      -9.724      -4.374\n",
       "Gentoo             1.6866      1.419      1.188      0.235      -1.095       4.468\n",
       "==================================================================================\n",
       "\"\"\""
      ]
     },
     "execution_count": 97,
     "metadata": {},
     "output_type": "execute_result"
    }
   ],
   "source": [
    "lr2_result.summary()"
   ]
  },
  {
   "cell_type": "markdown",
   "id": "b68c6151",
   "metadata": {},
   "source": [
    "각 회귀계수에 대한 유의확률(P>|z|)값이 Gentoo를 제외하고 모두 0.000으로 0.05보다 작기 때문에 Gentoo를 제외한 회귀계수가 유의함(= 출력변수에 영향을 미침)을 알 수 있다.  "
   ]
  },
  {
   "cell_type": "code",
   "execution_count": 98,
   "id": "f1639c55",
   "metadata": {},
   "outputs": [
    {
     "data": {
      "text/plain": [
       "const             8.688037e-29\n",
       "bill_length_mm    1.942196e+00\n",
       "bill_depth_mm     8.245048e+00\n",
       "Chinstrap         8.680313e-04\n",
       "Gentoo            5.400829e+00\n",
       "dtype: float64"
      ]
     },
     "execution_count": 98,
     "metadata": {},
     "output_type": "execute_result"
    }
   ],
   "source": [
    "exp(lr2_result.params) # 오즈비 계산"
   ]
  },
  {
   "cell_type": "markdown",
   "id": "d74252fd",
   "metadata": {},
   "source": [
    "predict()함수를 사용하여 예측값을 계산"
   ]
  },
  {
   "cell_type": "code",
   "execution_count": 99,
   "id": "92904332",
   "metadata": {},
   "outputs": [],
   "source": [
    "y_train_prob = lr2_result.predict(x_train_ad)"
   ]
  },
  {
   "cell_type": "code",
   "execution_count": 100,
   "id": "0c3ba6c3",
   "metadata": {},
   "outputs": [
    {
     "data": {
      "text/plain": [
       "28     0.446340\n",
       "234    0.151460\n",
       "48     0.049573\n",
       "199    0.901433\n",
       "169    0.987755\n",
       "dtype: float64"
      ]
     },
     "execution_count": 100,
     "metadata": {},
     "output_type": "execute_result"
    }
   ],
   "source": [
    "y_train_prob.head()"
   ]
  },
  {
   "cell_type": "markdown",
   "id": "43134f37",
   "metadata": {},
   "source": [
    "Logit()함수에서 predict()함수는 출력변수가 1이 될 확률을 출력해주기 때문에 확률값에 절단값을 지정하여 출력변수의 예측값을 계산해주는 과정이 필요 - 절단값을 0.5로 지정하여 around()함수를 이용"
   ]
  },
  {
   "cell_type": "code",
   "execution_count": 101,
   "id": "d06ddea2",
   "metadata": {},
   "outputs": [],
   "source": [
    "y_train_pred = around(y_train_prob)"
   ]
  },
  {
   "cell_type": "code",
   "execution_count": 102,
   "id": "e76d6eed",
   "metadata": {},
   "outputs": [
    {
     "data": {
      "text/plain": [
       "28     0.0\n",
       "234    0.0\n",
       "48     0.0\n",
       "199    1.0\n",
       "169    1.0\n",
       "dtype: float64"
      ]
     },
     "execution_count": 102,
     "metadata": {},
     "output_type": "execute_result"
    }
   ],
   "source": [
    "y_train_pred.head()"
   ]
  },
  {
   "cell_type": "markdown",
   "id": "6e8c2a78",
   "metadata": {},
   "source": [
    "#### statsmodels.formula.api모듈의 logit().fit()함수를 이용해 선형회귀분석"
   ]
  },
  {
   "cell_type": "code",
   "execution_count": 103,
   "id": "8f95a727",
   "metadata": {},
   "outputs": [
    {
     "name": "stdout",
     "output_type": "stream",
     "text": [
      "Optimization terminated successfully.\n",
      "         Current function value: 0.287318\n",
      "         Iterations 8\n"
     ]
    }
   ],
   "source": [
    "formula = 'sex_1 ~ bill_length_mm + bill_depth_mm + Chinstrap + Gentoo'\n",
    "lr3_result = logit(formula = formula, data = train).fit()"
   ]
  },
  {
   "cell_type": "code",
   "execution_count": 104,
   "id": "b21caad8",
   "metadata": {},
   "outputs": [
    {
     "data": {
      "text/html": [
       "<table class=\"simpletable\">\n",
       "<caption>Logit Regression Results</caption>\n",
       "<tr>\n",
       "  <th>Dep. Variable:</th>         <td>sex_1</td>      <th>  No. Observations:  </th>  <td>   233</td>  \n",
       "</tr>\n",
       "<tr>\n",
       "  <th>Model:</th>                 <td>Logit</td>      <th>  Df Residuals:      </th>  <td>   228</td>  \n",
       "</tr>\n",
       "<tr>\n",
       "  <th>Method:</th>                 <td>MLE</td>       <th>  Df Model:          </th>  <td>     4</td>  \n",
       "</tr>\n",
       "<tr>\n",
       "  <th>Date:</th>            <td>Mon, 06 Jun 2022</td> <th>  Pseudo R-squ.:     </th>  <td>0.5854</td>  \n",
       "</tr>\n",
       "<tr>\n",
       "  <th>Time:</th>                <td>23:14:15</td>     <th>  Log-Likelihood:    </th> <td> -66.945</td> \n",
       "</tr>\n",
       "<tr>\n",
       "  <th>converged:</th>             <td>True</td>       <th>  LL-Null:           </th> <td> -161.48</td> \n",
       "</tr>\n",
       "<tr>\n",
       "  <th>Covariance Type:</th>     <td>nonrobust</td>    <th>  LLR p-value:       </th> <td>8.365e-40</td>\n",
       "</tr>\n",
       "</table>\n",
       "<table class=\"simpletable\">\n",
       "<tr>\n",
       "         <td></td>           <th>coef</th>     <th>std err</th>      <th>z</th>      <th>P>|z|</th>  <th>[0.025</th>    <th>0.975]</th>  \n",
       "</tr>\n",
       "<tr>\n",
       "  <th>Intercept</th>      <td>  -64.6130</td> <td>    8.583</td> <td>   -7.528</td> <td> 0.000</td> <td>  -81.436</td> <td>  -47.790</td>\n",
       "</tr>\n",
       "<tr>\n",
       "  <th>bill_length_mm</th> <td>    0.6638</td> <td>    0.115</td> <td>    5.748</td> <td> 0.000</td> <td>    0.437</td> <td>    0.890</td>\n",
       "</tr>\n",
       "<tr>\n",
       "  <th>bill_depth_mm</th>  <td>    2.1096</td> <td>    0.339</td> <td>    6.228</td> <td> 0.000</td> <td>    1.446</td> <td>    2.774</td>\n",
       "</tr>\n",
       "<tr>\n",
       "  <th>Chinstrap</th>      <td>   -7.0493</td> <td>    1.365</td> <td>   -5.165</td> <td> 0.000</td> <td>   -9.724</td> <td>   -4.374</td>\n",
       "</tr>\n",
       "<tr>\n",
       "  <th>Gentoo</th>         <td>    1.6866</td> <td>    1.419</td> <td>    1.188</td> <td> 0.235</td> <td>   -1.095</td> <td>    4.468</td>\n",
       "</tr>\n",
       "</table>"
      ],
      "text/plain": [
       "<class 'statsmodels.iolib.summary.Summary'>\n",
       "\"\"\"\n",
       "                           Logit Regression Results                           \n",
       "==============================================================================\n",
       "Dep. Variable:                  sex_1   No. Observations:                  233\n",
       "Model:                          Logit   Df Residuals:                      228\n",
       "Method:                           MLE   Df Model:                            4\n",
       "Date:                Mon, 06 Jun 2022   Pseudo R-squ.:                  0.5854\n",
       "Time:                        23:14:15   Log-Likelihood:                -66.945\n",
       "converged:                       True   LL-Null:                       -161.48\n",
       "Covariance Type:            nonrobust   LLR p-value:                 8.365e-40\n",
       "==================================================================================\n",
       "                     coef    std err          z      P>|z|      [0.025      0.975]\n",
       "----------------------------------------------------------------------------------\n",
       "Intercept        -64.6130      8.583     -7.528      0.000     -81.436     -47.790\n",
       "bill_length_mm     0.6638      0.115      5.748      0.000       0.437       0.890\n",
       "bill_depth_mm      2.1096      0.339      6.228      0.000       1.446       2.774\n",
       "Chinstrap         -7.0493      1.365     -5.165      0.000      -9.724      -4.374\n",
       "Gentoo             1.6866      1.419      1.188      0.235      -1.095       4.468\n",
       "==================================================================================\n",
       "\"\"\""
      ]
     },
     "execution_count": 104,
     "metadata": {},
     "output_type": "execute_result"
    }
   ],
   "source": [
    "lr3_result.summary()"
   ]
  }
 ],
 "metadata": {
  "kernelspec": {
   "display_name": "Python 3 (ipykernel)",
   "language": "python",
   "name": "python3"
  },
  "language_info": {
   "codemirror_mode": {
    "name": "ipython",
    "version": 3
   },
   "file_extension": ".py",
   "mimetype": "text/x-python",
   "name": "python",
   "nbconvert_exporter": "python",
   "pygments_lexer": "ipython3",
   "version": "3.9.12"
  }
 },
 "nbformat": 4,
 "nbformat_minor": 5
}
