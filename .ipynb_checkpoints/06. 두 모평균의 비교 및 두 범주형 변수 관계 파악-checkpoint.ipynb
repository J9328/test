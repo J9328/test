{
 "cells": [
  {
   "cell_type": "markdown",
   "id": "f3db6716",
   "metadata": {},
   "source": [
    "# 06. 두 모평균의 비교 및 두 범주형 변수 관계 파악"
   ]
  },
  {
   "cell_type": "markdown",
   "id": "8d571478",
   "metadata": {},
   "source": [
    "* 모집단의 평균값이 서로 다른지 확인하기 위한 방법: t-검정  \n",
    "\n",
    "예) A지역과 B지역의(두 지역의 인구수는 같다고 가정) 평균연령을 조사하기 위하여 두 지역에서 각각 100명씩 조사하여 평균 연령이 41.2세와 40.5세로 나왔다면 두 지역의 전체 인구의 평균연령에는 차이가 있는지 확인하기 위해서는 t-검정을 사용할 수 있다. 각 지역별 100명의 평균연령은 각 개인의 나이와 같은 __연속형 변수__ 로 연속형 변수의 모집단 특성을 확인할 때 t-검정을 사용  \n",
    "\n",
    "* 표본의 관측된 빈도수와 기대빈도의 차이를 바탕으로 두 집단의 동일성 과 독립성을 확인할 수 있는 방법: 카이제곱 검정  \n",
    "\n",
    "예) A지역과 B지역의(두 지역의 인구수는 같다고 가정) 흡연율을 조사하기 위하여 두 지역에서 각각 100명씩 조사하여 평균 흡연률이 21%, 18%로 나왔다면 두 지역 전체 인구의 흡연률에는 차이가 있는지 확인하기 위해서는 카이제곱 검정을 사용할 수 있다. 개인의 흡연여부는 나이와 달리 흡연, 비흡연으로 나눠지는 __범주형 변수__ 이므로 범주형 변수의 모집단 특성을 확인할 때 카이제곱 검정을 사용  \n",
    "\n",
    "> 연속형 변수 --> 모평균 차이 검정   \n",
    "\n",
    "> 범주형 변수 --> 독립성 검정  "
   ]
  },
  {
   "cell_type": "markdown",
   "id": "d8cb4f89",
   "metadata": {},
   "source": [
    "## 1. 독립표본 t-검정 (독립인 두 집단에 대한 모평균 차이비교)"
   ]
  },
  {
   "cell_type": "markdown",
   "id": "3fab971e",
   "metadata": {},
   "source": [
    "### 1-1. 독립표본 t-검정\n",
    "서로 독립인 __2개의 집단의 모평균에 유의미한 차이__ 가 있는지를 확인할 수 있는 통계적 검정 방법  \n",
    "\n",
    "예) 일 평균 스마트폰 사용시간이 성별에 따라 다를까?, 동아리 활동 여부에 따라 학교생활 만족도에 차이가 있을까?  \n",
    "\n",
    "1. 개념\n",
    "독립인 두 정규모집단의 모평균에 차이가 있는지 검정\n",
    "    - 각 모집단으로부터 추출된 독립표본을 이용할 수 있음\n",
    "    - 두 정규모집단은 서로 __독립__ 이라 가정함  \n",
    "\n",
    "예를 들어 서로 다른 종류의 목초를 먹인 소의 우유 생산량에 차이가 있는가? (귀무가설: u1=u2 / 대립가설: u1=/=u2)와 같은 문제를 비교하기 위함  \n"
   ]
  },
  {
   "cell_type": "markdown",
   "id": "b3f78ad5",
   "metadata": {},
   "source": [
    "#### 정규성 검정: shaprio()\n",
    "각 데이터셋의 정규성 확인을 위해 shapiro()함수를 적용\n",
    "\n",
    "> shapiro(data)  \n"
   ]
  },
  {
   "cell_type": "code",
   "execution_count": 1,
   "id": "362dfa19",
   "metadata": {},
   "outputs": [],
   "source": [
    "x1 = [44, 44, 56, 46, 47, 38, 58, 53, 49, 35, 46, 30, 41]\n",
    "x2 = [35, 47, 55, 29, 40, 39, 32, 41, 42, 57, 51, 39]"
   ]
  },
  {
   "cell_type": "code",
   "execution_count": 2,
   "id": "c4732153",
   "metadata": {},
   "outputs": [],
   "source": [
    "from scipy.stats import levene, ttest_ind, shapiro"
   ]
  },
  {
   "cell_type": "markdown",
   "id": "e6c3e2e1",
   "metadata": {},
   "source": [
    "Shapiro 검정 결과 p-value > 0.05이면 정규성(정규분포)을 만족하는 것으로 볼 수 있다.  \n"
   ]
  },
  {
   "cell_type": "code",
   "execution_count": 3,
   "id": "62569aba",
   "metadata": {},
   "outputs": [
    {
     "data": {
      "text/plain": [
       "ShapiroResult(statistic=0.978407084941864, pvalue=0.9708739519119263)"
      ]
     },
     "execution_count": 3,
     "metadata": {},
     "output_type": "execute_result"
    }
   ],
   "source": [
    "shapiro(x1)"
   ]
  },
  {
   "cell_type": "code",
   "execution_count": 4,
   "id": "fd35299f",
   "metadata": {},
   "outputs": [
    {
     "data": {
      "text/plain": [
       "ShapiroResult(statistic=0.9537350535392761, pvalue=0.6920550465583801)"
      ]
     },
     "execution_count": 4,
     "metadata": {},
     "output_type": "execute_result"
    }
   ],
   "source": [
    "shapiro(x2)"
   ]
  },
  {
   "cell_type": "markdown",
   "id": "c6a6d99e",
   "metadata": {},
   "source": [
    "#### 등분산 가정: levene()\n",
    "두 집단 데이터에 대한 등분산 가정을 확인하기 위해 levene()함수 적용\n",
    "\n",
    "> levene(data1, data2)\n"
   ]
  },
  {
   "cell_type": "markdown",
   "id": "f7578356",
   "metadata": {},
   "source": [
    "2표본 t-검정은 두 집단의 평균을 비교할 때 사용하는 검정으로 1)독립표본 t-검정(서로 독립인 두 집단을 비교), 2)대응표본 t-검정(어떤 처리 전후를 비교)로 나눌 수 있다.  \n",
    "\n",
    "이 둘은 두 집단의 등분산 여부에 따라 나눌 수 있는데 levene's test가 기각되면 이분산 가정 t-검정을 수행하고 levene's test가 기각되지 않으면 등분산 가정 t-검정을 수행해야 한다.  \n",
    "\n",
    "t-검정에서는 중심극한정리를 사용하여 정규분포를 가정하기 때문에 표본의 수가 30개 이상이어야 한다.  \n",
    "표본의 수가 30개 미만인 경우에는 정규성 검정을 통해 정규성을 입증해야 한다. (그래서 위에서 shapiro검정을 하였다.). \n",
    "\n",
    "만약 정규성 검정이 기각될 경우 비모수적 방법인 윌콕슨 순위합 검정을 사용해야 한다. 또 샘플사이즈가 너무 작을 경우 정규성 검정을 할 수 없다.  \n",
    "\n",
    "주어진 x1, x2 데이터에 대해 levene's test를 한 결과 p-value > 0.05이므로 등분산을 만족하는 것을 알 수 있다.  "
   ]
  },
  {
   "cell_type": "code",
   "execution_count": 5,
   "id": "12b5e497",
   "metadata": {},
   "outputs": [
    {
     "data": {
      "text/plain": [
       "LeveneResult(statistic=0.09230190178073239, pvalue=0.7640023844571427)"
      ]
     },
     "execution_count": 5,
     "metadata": {},
     "output_type": "execute_result"
    }
   ],
   "source": [
    "levene(x1, x2)"
   ]
  },
  {
   "cell_type": "markdown",
   "id": "6e7462a7",
   "metadata": {},
   "source": [
    "#### 독립표본 t-검정: ttest_ind()\n",
    "\n",
    "> ttest_ind(data1, data2, equal_var=True/False, alternative=\"two-sided\"/\"less\"/\"greater\")\n",
    "\n",
    "앞서 수행한 등분산 검정(levene's test 결과)가 등분산이면 True, 등분산이 아니면 False  \n",
    "alternative는 검정방법에 따라 양측검정(\"two-sided\")가 default이며, 단측검정일 경우 방향에 따라 좌측이면 \"less\", 우측이면 \"right\"를 입력한다. 지금은 차이가 있는 것인지 확인하기 위한 것이기 때문에 기본값인 양측검정을 사용하면 된다.    \n",
    "\n",
    "참고) https://m.blog.naver.com/mykepzzang/220886418140\n"
   ]
  },
  {
   "cell_type": "code",
   "execution_count": 6,
   "id": "4d9488a5",
   "metadata": {},
   "outputs": [],
   "source": [
    "import numpy as np"
   ]
  },
  {
   "cell_type": "code",
   "execution_count": 7,
   "id": "e12d7138",
   "metadata": {},
   "outputs": [
    {
     "name": "stdout",
     "output_type": "stream",
     "text": [
      "one_sample 평균1) 45.15384615384615\n"
     ]
    }
   ],
   "source": [
    "print(\"one_sample 평균1)\", np.mean(x1))"
   ]
  },
  {
   "cell_type": "code",
   "execution_count": 8,
   "id": "eaf94ade",
   "metadata": {},
   "outputs": [
    {
     "name": "stdout",
     "output_type": "stream",
     "text": [
      "one_sample 평균2) 42.25\n"
     ]
    }
   ],
   "source": [
    "print(\"one_sample 평균2)\", np.mean(x2))"
   ]
  },
  {
   "cell_type": "code",
   "execution_count": 9,
   "id": "a60fd948",
   "metadata": {},
   "outputs": [
    {
     "name": "stdout",
     "output_type": "stream",
     "text": [
      "one_sample 표준편차1) 7.6846115346105694\n"
     ]
    }
   ],
   "source": [
    "print(\"one_sample 표준편차1)\", np.std(x1))"
   ]
  },
  {
   "cell_type": "code",
   "execution_count": 10,
   "id": "c8370177",
   "metadata": {},
   "outputs": [
    {
     "name": "stdout",
     "output_type": "stream",
     "text": [
      "one_sample 표준편차2) 8.367845202519781\n"
     ]
    }
   ],
   "source": [
    "print(\"one_sample 표준편차2)\", np.std(x2))"
   ]
  },
  {
   "cell_type": "markdown",
   "id": "ddfdadbb",
   "metadata": {},
   "source": [
    "위 결과를 보면 x1의 평균이 x2보다 크고, x2의 표준편차가 x1보다 큰 것을 알 수 있다.  \n",
    "하지만 이는 표본의 평균과 표준편차간 차이이고, 모집단의 차이를 보기 위해서는 t-test를 수행해야 한다.  \n"
   ]
  },
  {
   "cell_type": "code",
   "execution_count": 11,
   "id": "275608ca",
   "metadata": {},
   "outputs": [
    {
     "data": {
      "text/plain": [
       "Ttest_indResult(statistic=0.8675501422139809, pvalue=0.39460232464127154)"
      ]
     },
     "execution_count": 11,
     "metadata": {},
     "output_type": "execute_result"
    }
   ],
   "source": [
    "result = ttest_ind(x1, x2)\n",
    "result"
   ]
  },
  {
   "cell_type": "code",
   "execution_count": 12,
   "id": "4a74947a",
   "metadata": {},
   "outputs": [
    {
     "name": "stdout",
     "output_type": "stream",
     "text": [
      "t 검정 통계량: 0.86755, p값: 0.39460\n"
     ]
    }
   ],
   "source": [
    "print(\"t 검정 통계량: %.5f, p값: %.5f\"%result)"
   ]
  },
  {
   "cell_type": "markdown",
   "id": "68eee22d",
   "metadata": {},
   "source": [
    "t-test 결과 유의수준(p-value) 0.05 이상으로 귀무가설(H0: u1=u2) 기각 불가.   \n",
    "\n",
    "__귀무가설을 기각할 수 없기 때문에 x1과 x2는 통계적 차이가 없다__"
   ]
  },
  {
   "cell_type": "markdown",
   "id": "4dcbc64b",
   "metadata": {},
   "source": [
    "만약 x1과 x2의 차이가 없다는 양측검정이 아니라 x1이 x2보다 크다는 단측검정을 했다면 "
   ]
  },
  {
   "cell_type": "code",
   "execution_count": 13,
   "id": "6bcbcdd8",
   "metadata": {},
   "outputs": [
    {
     "data": {
      "text/plain": [
       "Ttest_indResult(statistic=0.8675501422139809, pvalue=0.19730116232063577)"
      ]
     },
     "execution_count": 13,
     "metadata": {},
     "output_type": "execute_result"
    }
   ],
   "source": [
    "result_g = ttest_ind(x1, x2, alternative=\"greater\")\n",
    "result_g"
   ]
  },
  {
   "cell_type": "code",
   "execution_count": 14,
   "id": "8ed1a803",
   "metadata": {
    "scrolled": true
   },
   "outputs": [
    {
     "name": "stdout",
     "output_type": "stream",
     "text": [
      "t 검정 통계량: 0.86755, p값: 0.19730\n"
     ]
    }
   ],
   "source": [
    "print(\"t 검정 통계량: %.5f, p값: %.5f\"%result_g)"
   ]
  },
  {
   "cell_type": "markdown",
   "id": "f0d57b6c",
   "metadata": {},
   "source": [
    "t-test 결과 유의수준(p-value) 0.05 이상으로 귀무가설(H0: u1 > u2) 기각 불가.   \n",
    "\n",
    "__귀무가설을 기각할 수 없기 때문에 x1가 x2는 통계적으로 크다고 볼 수 없다__"
   ]
  },
  {
   "cell_type": "markdown",
   "id": "efcf0ba5",
   "metadata": {},
   "source": [
    "## 2. 대응표본 t-검정 (대응되는 두 집단에 대한 평균 차이 비교)"
   ]
  },
  {
   "cell_type": "markdown",
   "id": "d81080c6",
   "metadata": {},
   "source": [
    "#### 대응표본 t-검정\n",
    "두 모평균 비교에 있어서 두 모집단이 서로 독립이 아닌 경우 실험단위를 동질적인 쌍으로 묶은 다음 각 쌍을 임의로 추출하여 통계적으로 비교하는 방법\n",
    "\n",
    "참고) https://m.blog.naver.com/kjihoon0914/221219070454\n",
    "\n",
    "예를 들어 노인우울감 개선 프로그램 효과 측정과 같이 동일한 노인에게 프로그램을 실행하여 전/후를 비교했다면 동일한 대상의 사전, 사후 비교가 되므로 두 데이터가 __독립__ 이 아닌 __대응__ 이 된다는 차이가 있다.  \n",
    "\n",
    "이 경우, 귀무가설은 '프로그램 수행 전과 후의 우울감에 __차이가 없다__'가 되고, 대립가설은 '프로그램 수행 전과 후의 우울감에 __차이가 있다__'가 된다.  \n"
   ]
  },
  {
   "cell_type": "markdown",
   "id": "b0d874f1",
   "metadata": {},
   "source": [
    "#### 정규성 검정: shaprio()\n",
    "각 데이터셋의 정규성 확인을 위해 shapiro()함수를 적용\n",
    "\n",
    "> shapiro(data)  \n"
   ]
  },
  {
   "cell_type": "code",
   "execution_count": 15,
   "id": "e7871b23",
   "metadata": {},
   "outputs": [],
   "source": [
    "x1 = [70, 80, 72, 76, 76, 76, 72, 78, 82, 64, 74, 92, 74, 68, 84]\n",
    "x2 = [68, 72, 62, 70, 58, 66, 68, 52, 64, 72, 74, 60, 74, 72, 74]"
   ]
  },
  {
   "cell_type": "code",
   "execution_count": 16,
   "id": "4785e7b6",
   "metadata": {},
   "outputs": [],
   "source": [
    "from scipy.stats import ttest_rel"
   ]
  },
  {
   "cell_type": "code",
   "execution_count": 17,
   "id": "b7d8f822",
   "metadata": {},
   "outputs": [
    {
     "data": {
      "text/plain": [
       "ShapiroResult(statistic=0.9687387943267822, pvalue=0.8389564752578735)"
      ]
     },
     "execution_count": 17,
     "metadata": {},
     "output_type": "execute_result"
    }
   ],
   "source": [
    "shapiro(x1)"
   ]
  },
  {
   "cell_type": "code",
   "execution_count": 18,
   "id": "e969884d",
   "metadata": {},
   "outputs": [
    {
     "data": {
      "text/plain": [
       "ShapiroResult(statistic=0.900780975818634, pvalue=0.09782424569129944)"
      ]
     },
     "execution_count": 18,
     "metadata": {},
     "output_type": "execute_result"
    }
   ],
   "source": [
    "shapiro(x2)"
   ]
  },
  {
   "cell_type": "markdown",
   "id": "b05d70e3",
   "metadata": {},
   "source": [
    "x1, x2 모두 shapiro 검정 결과 p-value > 0.05이므로 정규성을 만족하는 것을 확인할 수 있다.  "
   ]
  },
  {
   "cell_type": "code",
   "execution_count": 19,
   "id": "0fa210c7",
   "metadata": {},
   "outputs": [
    {
     "name": "stdout",
     "output_type": "stream",
     "text": [
      "one_sample 평균1) 75.86666666666666\n"
     ]
    }
   ],
   "source": [
    "print(\"one_sample 평균1)\", np.mean(x1))"
   ]
  },
  {
   "cell_type": "code",
   "execution_count": 20,
   "id": "d28b74a4",
   "metadata": {},
   "outputs": [
    {
     "name": "stdout",
     "output_type": "stream",
     "text": [
      "one_sample 평균2) 67.06666666666666\n"
     ]
    }
   ],
   "source": [
    "print(\"one_sample 평균2)\", np.mean(x2))"
   ]
  },
  {
   "cell_type": "code",
   "execution_count": 21,
   "id": "9b5e571d",
   "metadata": {},
   "outputs": [
    {
     "name": "stdout",
     "output_type": "stream",
     "text": [
      "one_sample 표준편차1) 6.631909394904474\n"
     ]
    }
   ],
   "source": [
    "print(\"one_sample 표준편차1)\", np.std(x1))"
   ]
  },
  {
   "cell_type": "code",
   "execution_count": 22,
   "id": "d8b48a17",
   "metadata": {},
   "outputs": [
    {
     "name": "stdout",
     "output_type": "stream",
     "text": [
      "one_sample 표준편차2) 6.444291185917105\n"
     ]
    }
   ],
   "source": [
    "print(\"one_sample 표준편차2)\", np.std(x2))"
   ]
  },
  {
   "cell_type": "markdown",
   "id": "39c0eceb",
   "metadata": {},
   "source": [
    "전후 데이터의 평균과 표준편차를 확인한 결과, 프로그램 실행 후(x2)가 평균값과 표준편차가 모두 작아진 것을 확인할 수 있다.  "
   ]
  },
  {
   "cell_type": "raw",
   "id": "6dfbb6e3",
   "metadata": {},
   "source": [
    "#### 대응표본 t-검정: ttest_rel\n",
    "대응인 두 집단의 평균 차이를 검정하기 위한 ttest_rel()함수\n",
    "\n",
    "> ttest_rel(data1, data2, alternative=\"two-sided\"/\"less\"/\"greater\")\n",
    "\n",
    "이 예시의 경우 프로그램 전후 우울감이 감소한다는 것을 확인해야 하므로  \n",
    "귀무가설: x1 - x2 = 0. \n",
    "대립가설: x1 - x2 >0. \n",
    "으로 x1 > x2인 대립가설을 확인하는 것이기 때문에 우측검정(greater)을 수행한다.  \n"
   ]
  },
  {
   "cell_type": "code",
   "execution_count": 23,
   "id": "387ade01",
   "metadata": {},
   "outputs": [
    {
     "data": {
      "text/plain": [
       "Ttest_relResult(statistic=3.105360487466109, pvalue=0.0038747180533270594)"
      ]
     },
     "execution_count": 23,
     "metadata": {},
     "output_type": "execute_result"
    }
   ],
   "source": [
    "result = ttest_rel(x1, x2, alternative=\"greater\")\n",
    "result"
   ]
  },
  {
   "cell_type": "code",
   "execution_count": 24,
   "id": "b6f553da",
   "metadata": {},
   "outputs": [
    {
     "name": "stdout",
     "output_type": "stream",
     "text": [
      "t 검정 통계량: 3.10536, p값: 0.00387\n"
     ]
    }
   ],
   "source": [
    "print(\"t 검정 통계량: %.5f, p값: %.5f\"%result)"
   ]
  },
  {
   "cell_type": "markdown",
   "id": "996d5206",
   "metadata": {},
   "source": [
    "t-test 결과 p-value <= 0.05이므로 귀무가설을 기각하고 대립가설을 수용하므로 프로그램의 효과가 있다는 결론을 내릴 수 있다.  \n"
   ]
  },
  {
   "cell_type": "markdown",
   "id": "485c897a",
   "metadata": {},
   "source": [
    "## 3. 카이제곱 검정 (두 범주형 변수에 대한 독립성 여부 검정)"
   ]
  },
  {
   "cell_type": "markdown",
   "id": "766ea447",
   "metadata": {},
   "source": [
    "### 3-1. 카이제곱 검정\n",
    "두 범주형 변수 간의 상호관련성이 존재하는지 확인하기 위한 검정\n",
    "\n",
    "예) 선호하는 치킨메뉴/부위(=범주형 변수)에 성별간의 차이가 있을까?\n",
    "\n",
    "#### 개념\n",
    "두 범주형 변수 사이에 어떠한 연관관계가 있는지를 검정하는 방법. \n",
    "귀무가설(H0): 두 범주형 변수는 서로 독립이다. (= 관계가 없다.). \n",
    "\n",
    "예) 불면증을 가지고 있는 경우와 우울증을 가지고 있는 경우가 관계가 있을까?  \n",
    "\n",
    "참고) https://velog.io/@rsj9987/카이제곱-검정"
   ]
  },
  {
   "cell_type": "code",
   "execution_count": 25,
   "id": "088f6078",
   "metadata": {},
   "outputs": [],
   "source": [
    "import seaborn as sns"
   ]
  },
  {
   "cell_type": "code",
   "execution_count": 26,
   "id": "147b6053",
   "metadata": {},
   "outputs": [
    {
     "data": {
      "text/html": [
       "<div>\n",
       "<style scoped>\n",
       "    .dataframe tbody tr th:only-of-type {\n",
       "        vertical-align: middle;\n",
       "    }\n",
       "\n",
       "    .dataframe tbody tr th {\n",
       "        vertical-align: top;\n",
       "    }\n",
       "\n",
       "    .dataframe thead th {\n",
       "        text-align: right;\n",
       "    }\n",
       "</style>\n",
       "<table border=\"1\" class=\"dataframe\">\n",
       "  <thead>\n",
       "    <tr style=\"text-align: right;\">\n",
       "      <th></th>\n",
       "      <th>species</th>\n",
       "      <th>island</th>\n",
       "      <th>bill_length_mm</th>\n",
       "      <th>bill_depth_mm</th>\n",
       "      <th>flipper_length_mm</th>\n",
       "      <th>body_mass_g</th>\n",
       "      <th>sex</th>\n",
       "    </tr>\n",
       "  </thead>\n",
       "  <tbody>\n",
       "    <tr>\n",
       "      <th>0</th>\n",
       "      <td>Adelie</td>\n",
       "      <td>Torgersen</td>\n",
       "      <td>39.1</td>\n",
       "      <td>18.7</td>\n",
       "      <td>181.0</td>\n",
       "      <td>3750.0</td>\n",
       "      <td>Male</td>\n",
       "    </tr>\n",
       "    <tr>\n",
       "      <th>1</th>\n",
       "      <td>Adelie</td>\n",
       "      <td>Torgersen</td>\n",
       "      <td>39.5</td>\n",
       "      <td>17.4</td>\n",
       "      <td>186.0</td>\n",
       "      <td>3800.0</td>\n",
       "      <td>Female</td>\n",
       "    </tr>\n",
       "    <tr>\n",
       "      <th>2</th>\n",
       "      <td>Adelie</td>\n",
       "      <td>Torgersen</td>\n",
       "      <td>40.3</td>\n",
       "      <td>18.0</td>\n",
       "      <td>195.0</td>\n",
       "      <td>3250.0</td>\n",
       "      <td>Female</td>\n",
       "    </tr>\n",
       "    <tr>\n",
       "      <th>3</th>\n",
       "      <td>Adelie</td>\n",
       "      <td>Torgersen</td>\n",
       "      <td>NaN</td>\n",
       "      <td>NaN</td>\n",
       "      <td>NaN</td>\n",
       "      <td>NaN</td>\n",
       "      <td>NaN</td>\n",
       "    </tr>\n",
       "    <tr>\n",
       "      <th>4</th>\n",
       "      <td>Adelie</td>\n",
       "      <td>Torgersen</td>\n",
       "      <td>36.7</td>\n",
       "      <td>19.3</td>\n",
       "      <td>193.0</td>\n",
       "      <td>3450.0</td>\n",
       "      <td>Female</td>\n",
       "    </tr>\n",
       "    <tr>\n",
       "      <th>...</th>\n",
       "      <td>...</td>\n",
       "      <td>...</td>\n",
       "      <td>...</td>\n",
       "      <td>...</td>\n",
       "      <td>...</td>\n",
       "      <td>...</td>\n",
       "      <td>...</td>\n",
       "    </tr>\n",
       "    <tr>\n",
       "      <th>339</th>\n",
       "      <td>Gentoo</td>\n",
       "      <td>Biscoe</td>\n",
       "      <td>NaN</td>\n",
       "      <td>NaN</td>\n",
       "      <td>NaN</td>\n",
       "      <td>NaN</td>\n",
       "      <td>NaN</td>\n",
       "    </tr>\n",
       "    <tr>\n",
       "      <th>340</th>\n",
       "      <td>Gentoo</td>\n",
       "      <td>Biscoe</td>\n",
       "      <td>46.8</td>\n",
       "      <td>14.3</td>\n",
       "      <td>215.0</td>\n",
       "      <td>4850.0</td>\n",
       "      <td>Female</td>\n",
       "    </tr>\n",
       "    <tr>\n",
       "      <th>341</th>\n",
       "      <td>Gentoo</td>\n",
       "      <td>Biscoe</td>\n",
       "      <td>50.4</td>\n",
       "      <td>15.7</td>\n",
       "      <td>222.0</td>\n",
       "      <td>5750.0</td>\n",
       "      <td>Male</td>\n",
       "    </tr>\n",
       "    <tr>\n",
       "      <th>342</th>\n",
       "      <td>Gentoo</td>\n",
       "      <td>Biscoe</td>\n",
       "      <td>45.2</td>\n",
       "      <td>14.8</td>\n",
       "      <td>212.0</td>\n",
       "      <td>5200.0</td>\n",
       "      <td>Female</td>\n",
       "    </tr>\n",
       "    <tr>\n",
       "      <th>343</th>\n",
       "      <td>Gentoo</td>\n",
       "      <td>Biscoe</td>\n",
       "      <td>49.9</td>\n",
       "      <td>16.1</td>\n",
       "      <td>213.0</td>\n",
       "      <td>5400.0</td>\n",
       "      <td>Male</td>\n",
       "    </tr>\n",
       "  </tbody>\n",
       "</table>\n",
       "<p>344 rows × 7 columns</p>\n",
       "</div>"
      ],
      "text/plain": [
       "    species     island  bill_length_mm  bill_depth_mm  flipper_length_mm  \\\n",
       "0    Adelie  Torgersen            39.1           18.7              181.0   \n",
       "1    Adelie  Torgersen            39.5           17.4              186.0   \n",
       "2    Adelie  Torgersen            40.3           18.0              195.0   \n",
       "3    Adelie  Torgersen             NaN            NaN                NaN   \n",
       "4    Adelie  Torgersen            36.7           19.3              193.0   \n",
       "..      ...        ...             ...            ...                ...   \n",
       "339  Gentoo     Biscoe             NaN            NaN                NaN   \n",
       "340  Gentoo     Biscoe            46.8           14.3              215.0   \n",
       "341  Gentoo     Biscoe            50.4           15.7              222.0   \n",
       "342  Gentoo     Biscoe            45.2           14.8              212.0   \n",
       "343  Gentoo     Biscoe            49.9           16.1              213.0   \n",
       "\n",
       "     body_mass_g     sex  \n",
       "0         3750.0    Male  \n",
       "1         3800.0  Female  \n",
       "2         3250.0  Female  \n",
       "3            NaN     NaN  \n",
       "4         3450.0  Female  \n",
       "..           ...     ...  \n",
       "339          NaN     NaN  \n",
       "340       4850.0  Female  \n",
       "341       5750.0    Male  \n",
       "342       5200.0  Female  \n",
       "343       5400.0    Male  \n",
       "\n",
       "[344 rows x 7 columns]"
      ]
     },
     "execution_count": 26,
     "metadata": {},
     "output_type": "execute_result"
    }
   ],
   "source": [
    "df = sns.load_dataset('penguins')\n",
    "df"
   ]
  },
  {
   "cell_type": "markdown",
   "id": "0fae5300",
   "metadata": {},
   "source": [
    "펭귄 데이터를 이용하여 아래와 같은 귀무가설과 대립가설을 세운다.  \n",
    "\n",
    "- 귀무가설: 서식지(island)와 펭귄의 종(species)은 관계가 없다.  \n",
    "- 대립가설: 서식지(island)와 펭귄의 종(species)은 관계가 있다.  \n",
    "\n",
    "### 3-2. 이원분할표 만들기\n",
    "빈도표 작성을 위해 pandas 모듈의 crosstab()함수 사용\n",
    "\n",
    "> crosstab(행에 위치시킬 변수, 열에 위치시킬 변수, margins=False/True)"
   ]
  },
  {
   "cell_type": "code",
   "execution_count": 27,
   "id": "44c773c1",
   "metadata": {},
   "outputs": [],
   "source": [
    "import pandas as pd"
   ]
  },
  {
   "cell_type": "code",
   "execution_count": 28,
   "id": "a89305d2",
   "metadata": {},
   "outputs": [
    {
     "data": {
      "text/html": [
       "<div>\n",
       "<style scoped>\n",
       "    .dataframe tbody tr th:only-of-type {\n",
       "        vertical-align: middle;\n",
       "    }\n",
       "\n",
       "    .dataframe tbody tr th {\n",
       "        vertical-align: top;\n",
       "    }\n",
       "\n",
       "    .dataframe thead th {\n",
       "        text-align: right;\n",
       "    }\n",
       "</style>\n",
       "<table border=\"1\" class=\"dataframe\">\n",
       "  <thead>\n",
       "    <tr style=\"text-align: right;\">\n",
       "      <th>island</th>\n",
       "      <th>Biscoe</th>\n",
       "      <th>Dream</th>\n",
       "      <th>Torgersen</th>\n",
       "    </tr>\n",
       "    <tr>\n",
       "      <th>species</th>\n",
       "      <th></th>\n",
       "      <th></th>\n",
       "      <th></th>\n",
       "    </tr>\n",
       "  </thead>\n",
       "  <tbody>\n",
       "    <tr>\n",
       "      <th>Adelie</th>\n",
       "      <td>44</td>\n",
       "      <td>56</td>\n",
       "      <td>52</td>\n",
       "    </tr>\n",
       "    <tr>\n",
       "      <th>Chinstrap</th>\n",
       "      <td>0</td>\n",
       "      <td>68</td>\n",
       "      <td>0</td>\n",
       "    </tr>\n",
       "    <tr>\n",
       "      <th>Gentoo</th>\n",
       "      <td>124</td>\n",
       "      <td>0</td>\n",
       "      <td>0</td>\n",
       "    </tr>\n",
       "  </tbody>\n",
       "</table>\n",
       "</div>"
      ],
      "text/plain": [
       "island     Biscoe  Dream  Torgersen\n",
       "species                            \n",
       "Adelie         44     56         52\n",
       "Chinstrap       0     68          0\n",
       "Gentoo        124      0          0"
      ]
     },
     "execution_count": 28,
     "metadata": {},
     "output_type": "execute_result"
    }
   ],
   "source": [
    "cross_data = pd.crosstab(df.species, df.island)\n",
    "cross_data"
   ]
  },
  {
   "cell_type": "code",
   "execution_count": 29,
   "id": "22e7a2ad",
   "metadata": {},
   "outputs": [
    {
     "data": {
      "text/html": [
       "<div>\n",
       "<style scoped>\n",
       "    .dataframe tbody tr th:only-of-type {\n",
       "        vertical-align: middle;\n",
       "    }\n",
       "\n",
       "    .dataframe tbody tr th {\n",
       "        vertical-align: top;\n",
       "    }\n",
       "\n",
       "    .dataframe thead th {\n",
       "        text-align: right;\n",
       "    }\n",
       "</style>\n",
       "<table border=\"1\" class=\"dataframe\">\n",
       "  <thead>\n",
       "    <tr style=\"text-align: right;\">\n",
       "      <th>island</th>\n",
       "      <th>Biscoe</th>\n",
       "      <th>Dream</th>\n",
       "      <th>Torgersen</th>\n",
       "      <th>All</th>\n",
       "    </tr>\n",
       "    <tr>\n",
       "      <th>species</th>\n",
       "      <th></th>\n",
       "      <th></th>\n",
       "      <th></th>\n",
       "      <th></th>\n",
       "    </tr>\n",
       "  </thead>\n",
       "  <tbody>\n",
       "    <tr>\n",
       "      <th>Adelie</th>\n",
       "      <td>44</td>\n",
       "      <td>56</td>\n",
       "      <td>52</td>\n",
       "      <td>152</td>\n",
       "    </tr>\n",
       "    <tr>\n",
       "      <th>Chinstrap</th>\n",
       "      <td>0</td>\n",
       "      <td>68</td>\n",
       "      <td>0</td>\n",
       "      <td>68</td>\n",
       "    </tr>\n",
       "    <tr>\n",
       "      <th>Gentoo</th>\n",
       "      <td>124</td>\n",
       "      <td>0</td>\n",
       "      <td>0</td>\n",
       "      <td>124</td>\n",
       "    </tr>\n",
       "    <tr>\n",
       "      <th>All</th>\n",
       "      <td>168</td>\n",
       "      <td>124</td>\n",
       "      <td>52</td>\n",
       "      <td>344</td>\n",
       "    </tr>\n",
       "  </tbody>\n",
       "</table>\n",
       "</div>"
      ],
      "text/plain": [
       "island     Biscoe  Dream  Torgersen  All\n",
       "species                                 \n",
       "Adelie         44     56         52  152\n",
       "Chinstrap       0     68          0   68\n",
       "Gentoo        124      0          0  124\n",
       "All           168    124         52  344"
      ]
     },
     "execution_count": 29,
     "metadata": {},
     "output_type": "execute_result"
    }
   ],
   "source": [
    "cross_data1 = pd.crosstab(df.species, df.island, margins=True)\n",
    "cross_data1"
   ]
  },
  {
   "cell_type": "markdown",
   "id": "25f157e8",
   "metadata": {},
   "source": [
    "### 3-3. 카이제곱검정 통계량 구하기\n",
    "chi2_contingency()함수에 이원분할표를 대입하여 카이제곱검정 실시\n",
    "\n",
    "> chi2_contingency(이원분할표)"
   ]
  },
  {
   "cell_type": "code",
   "execution_count": 30,
   "id": "407f6af7",
   "metadata": {},
   "outputs": [],
   "source": [
    "from scipy.stats import chi2_contingency"
   ]
  },
  {
   "cell_type": "code",
   "execution_count": 31,
   "id": "d86e7186",
   "metadata": {},
   "outputs": [
    {
     "data": {
      "text/plain": [
       "(299.55032743148195,\n",
       " 1.3545738297192517e-63,\n",
       " 4,\n",
       " array([[74.23255814, 54.79069767, 22.97674419],\n",
       "        [33.20930233, 24.51162791, 10.27906977],\n",
       "        [60.55813953, 44.69767442, 18.74418605]]))"
      ]
     },
     "execution_count": 31,
     "metadata": {},
     "output_type": "execute_result"
    }
   ],
   "source": [
    "chi2_contingency(cross_data)"
   ]
  },
  {
   "cell_type": "markdown",
   "id": "5cc55346",
   "metadata": {},
   "source": [
    "카이제곱값은 299.550, p-value는 1.35456e-63, 자유도는 4로 나타났는데 p-value가 매우 작은 값이 나타났으므로 귀무가설(= 서식지와 종은 관계가 없다)을 기각하고 대립가설을 채택함. "
   ]
  },
  {
   "cell_type": "code",
   "execution_count": 32,
   "id": "6abaa909",
   "metadata": {},
   "outputs": [],
   "source": [
    "chi2, p, dof, expected = chi2_contingency(cross_data)"
   ]
  },
  {
   "cell_type": "code",
   "execution_count": 33,
   "id": "580a80f4",
   "metadata": {},
   "outputs": [
    {
     "name": "stdout",
     "output_type": "stream",
     "text": [
      "chi2 검정통계량: 299.55033, 자유도: 4, p값: 0.00000\n"
     ]
    }
   ],
   "source": [
    "print(\"chi2 검정통계량: %.5f, 자유도: %d, p값: %.5f\"%(chi2, dof, p))"
   ]
  },
  {
   "cell_type": "code",
   "execution_count": 34,
   "id": "91218a4f",
   "metadata": {},
   "outputs": [
    {
     "data": {
      "text/html": [
       "<div>\n",
       "<style scoped>\n",
       "    .dataframe tbody tr th:only-of-type {\n",
       "        vertical-align: middle;\n",
       "    }\n",
       "\n",
       "    .dataframe tbody tr th {\n",
       "        vertical-align: top;\n",
       "    }\n",
       "\n",
       "    .dataframe thead th {\n",
       "        text-align: right;\n",
       "    }\n",
       "</style>\n",
       "<table border=\"1\" class=\"dataframe\">\n",
       "  <thead>\n",
       "    <tr style=\"text-align: right;\">\n",
       "      <th>island</th>\n",
       "      <th>Biscoe</th>\n",
       "      <th>Dream</th>\n",
       "      <th>Torgersen</th>\n",
       "    </tr>\n",
       "    <tr>\n",
       "      <th>species</th>\n",
       "      <th></th>\n",
       "      <th></th>\n",
       "      <th></th>\n",
       "    </tr>\n",
       "  </thead>\n",
       "  <tbody>\n",
       "    <tr>\n",
       "      <th>Adelie</th>\n",
       "      <td>74.232558</td>\n",
       "      <td>54.790698</td>\n",
       "      <td>22.976744</td>\n",
       "    </tr>\n",
       "    <tr>\n",
       "      <th>Chinstrap</th>\n",
       "      <td>33.209302</td>\n",
       "      <td>24.511628</td>\n",
       "      <td>10.279070</td>\n",
       "    </tr>\n",
       "    <tr>\n",
       "      <th>Gentoo</th>\n",
       "      <td>60.558140</td>\n",
       "      <td>44.697674</td>\n",
       "      <td>18.744186</td>\n",
       "    </tr>\n",
       "  </tbody>\n",
       "</table>\n",
       "</div>"
      ],
      "text/plain": [
       "island        Biscoe      Dream  Torgersen\n",
       "species                                   \n",
       "Adelie     74.232558  54.790698  22.976744\n",
       "Chinstrap  33.209302  24.511628  10.279070\n",
       "Gentoo     60.558140  44.697674  18.744186"
      ]
     },
     "execution_count": 34,
     "metadata": {},
     "output_type": "execute_result"
    }
   ],
   "source": [
    "EX = pd.DataFrame(expected)\n",
    "EX.columns = cross_data.columns\n",
    "EX.index = cross_data.index\n",
    "EX"
   ]
  },
  {
   "cell_type": "markdown",
   "id": "cba55601",
   "metadata": {},
   "source": [
    "## 실습\n",
    "\n",
    "### [과제6-1] 제조국에 따른 가속성능(acceleration) 차이 검정\n",
    "* 분석데이터: seaborn모듈 - mpg데이터\n",
    "* 연구가설: 미국과 일본 자동차의 acceleration의 평균값에 차이가 있다.  \n",
    "    1. 필요한 자료를 추출하여 분석할 데이터셋 구성(origin_US, origin_JAP)\n",
    "    2. 각 데이터에 대한 정규성 및 등분산 검정\n",
    "    3. 평균과 표본편차 확인\n",
    "    4. 독립표본 t-검정 실시 및 결괏값 해석"
   ]
  },
  {
   "cell_type": "code",
   "execution_count": 35,
   "id": "e0446e6e",
   "metadata": {},
   "outputs": [
    {
     "data": {
      "text/html": [
       "<div>\n",
       "<style scoped>\n",
       "    .dataframe tbody tr th:only-of-type {\n",
       "        vertical-align: middle;\n",
       "    }\n",
       "\n",
       "    .dataframe tbody tr th {\n",
       "        vertical-align: top;\n",
       "    }\n",
       "\n",
       "    .dataframe thead th {\n",
       "        text-align: right;\n",
       "    }\n",
       "</style>\n",
       "<table border=\"1\" class=\"dataframe\">\n",
       "  <thead>\n",
       "    <tr style=\"text-align: right;\">\n",
       "      <th></th>\n",
       "      <th>mpg</th>\n",
       "      <th>cylinders</th>\n",
       "      <th>displacement</th>\n",
       "      <th>horsepower</th>\n",
       "      <th>weight</th>\n",
       "      <th>acceleration</th>\n",
       "      <th>model_year</th>\n",
       "      <th>origin</th>\n",
       "      <th>name</th>\n",
       "    </tr>\n",
       "  </thead>\n",
       "  <tbody>\n",
       "    <tr>\n",
       "      <th>0</th>\n",
       "      <td>18.0</td>\n",
       "      <td>8</td>\n",
       "      <td>307.0</td>\n",
       "      <td>130.0</td>\n",
       "      <td>3504</td>\n",
       "      <td>12.0</td>\n",
       "      <td>70</td>\n",
       "      <td>usa</td>\n",
       "      <td>chevrolet chevelle malibu</td>\n",
       "    </tr>\n",
       "    <tr>\n",
       "      <th>1</th>\n",
       "      <td>15.0</td>\n",
       "      <td>8</td>\n",
       "      <td>350.0</td>\n",
       "      <td>165.0</td>\n",
       "      <td>3693</td>\n",
       "      <td>11.5</td>\n",
       "      <td>70</td>\n",
       "      <td>usa</td>\n",
       "      <td>buick skylark 320</td>\n",
       "    </tr>\n",
       "    <tr>\n",
       "      <th>2</th>\n",
       "      <td>18.0</td>\n",
       "      <td>8</td>\n",
       "      <td>318.0</td>\n",
       "      <td>150.0</td>\n",
       "      <td>3436</td>\n",
       "      <td>11.0</td>\n",
       "      <td>70</td>\n",
       "      <td>usa</td>\n",
       "      <td>plymouth satellite</td>\n",
       "    </tr>\n",
       "    <tr>\n",
       "      <th>3</th>\n",
       "      <td>16.0</td>\n",
       "      <td>8</td>\n",
       "      <td>304.0</td>\n",
       "      <td>150.0</td>\n",
       "      <td>3433</td>\n",
       "      <td>12.0</td>\n",
       "      <td>70</td>\n",
       "      <td>usa</td>\n",
       "      <td>amc rebel sst</td>\n",
       "    </tr>\n",
       "    <tr>\n",
       "      <th>4</th>\n",
       "      <td>17.0</td>\n",
       "      <td>8</td>\n",
       "      <td>302.0</td>\n",
       "      <td>140.0</td>\n",
       "      <td>3449</td>\n",
       "      <td>10.5</td>\n",
       "      <td>70</td>\n",
       "      <td>usa</td>\n",
       "      <td>ford torino</td>\n",
       "    </tr>\n",
       "    <tr>\n",
       "      <th>...</th>\n",
       "      <td>...</td>\n",
       "      <td>...</td>\n",
       "      <td>...</td>\n",
       "      <td>...</td>\n",
       "      <td>...</td>\n",
       "      <td>...</td>\n",
       "      <td>...</td>\n",
       "      <td>...</td>\n",
       "      <td>...</td>\n",
       "    </tr>\n",
       "    <tr>\n",
       "      <th>393</th>\n",
       "      <td>27.0</td>\n",
       "      <td>4</td>\n",
       "      <td>140.0</td>\n",
       "      <td>86.0</td>\n",
       "      <td>2790</td>\n",
       "      <td>15.6</td>\n",
       "      <td>82</td>\n",
       "      <td>usa</td>\n",
       "      <td>ford mustang gl</td>\n",
       "    </tr>\n",
       "    <tr>\n",
       "      <th>394</th>\n",
       "      <td>44.0</td>\n",
       "      <td>4</td>\n",
       "      <td>97.0</td>\n",
       "      <td>52.0</td>\n",
       "      <td>2130</td>\n",
       "      <td>24.6</td>\n",
       "      <td>82</td>\n",
       "      <td>europe</td>\n",
       "      <td>vw pickup</td>\n",
       "    </tr>\n",
       "    <tr>\n",
       "      <th>395</th>\n",
       "      <td>32.0</td>\n",
       "      <td>4</td>\n",
       "      <td>135.0</td>\n",
       "      <td>84.0</td>\n",
       "      <td>2295</td>\n",
       "      <td>11.6</td>\n",
       "      <td>82</td>\n",
       "      <td>usa</td>\n",
       "      <td>dodge rampage</td>\n",
       "    </tr>\n",
       "    <tr>\n",
       "      <th>396</th>\n",
       "      <td>28.0</td>\n",
       "      <td>4</td>\n",
       "      <td>120.0</td>\n",
       "      <td>79.0</td>\n",
       "      <td>2625</td>\n",
       "      <td>18.6</td>\n",
       "      <td>82</td>\n",
       "      <td>usa</td>\n",
       "      <td>ford ranger</td>\n",
       "    </tr>\n",
       "    <tr>\n",
       "      <th>397</th>\n",
       "      <td>31.0</td>\n",
       "      <td>4</td>\n",
       "      <td>119.0</td>\n",
       "      <td>82.0</td>\n",
       "      <td>2720</td>\n",
       "      <td>19.4</td>\n",
       "      <td>82</td>\n",
       "      <td>usa</td>\n",
       "      <td>chevy s-10</td>\n",
       "    </tr>\n",
       "  </tbody>\n",
       "</table>\n",
       "<p>398 rows × 9 columns</p>\n",
       "</div>"
      ],
      "text/plain": [
       "      mpg  cylinders  displacement  horsepower  weight  acceleration  \\\n",
       "0    18.0          8         307.0       130.0    3504          12.0   \n",
       "1    15.0          8         350.0       165.0    3693          11.5   \n",
       "2    18.0          8         318.0       150.0    3436          11.0   \n",
       "3    16.0          8         304.0       150.0    3433          12.0   \n",
       "4    17.0          8         302.0       140.0    3449          10.5   \n",
       "..    ...        ...           ...         ...     ...           ...   \n",
       "393  27.0          4         140.0        86.0    2790          15.6   \n",
       "394  44.0          4          97.0        52.0    2130          24.6   \n",
       "395  32.0          4         135.0        84.0    2295          11.6   \n",
       "396  28.0          4         120.0        79.0    2625          18.6   \n",
       "397  31.0          4         119.0        82.0    2720          19.4   \n",
       "\n",
       "     model_year  origin                       name  \n",
       "0            70     usa  chevrolet chevelle malibu  \n",
       "1            70     usa          buick skylark 320  \n",
       "2            70     usa         plymouth satellite  \n",
       "3            70     usa              amc rebel sst  \n",
       "4            70     usa                ford torino  \n",
       "..          ...     ...                        ...  \n",
       "393          82     usa            ford mustang gl  \n",
       "394          82  europe                  vw pickup  \n",
       "395          82     usa              dodge rampage  \n",
       "396          82     usa                ford ranger  \n",
       "397          82     usa                 chevy s-10  \n",
       "\n",
       "[398 rows x 9 columns]"
      ]
     },
     "execution_count": 35,
     "metadata": {},
     "output_type": "execute_result"
    }
   ],
   "source": [
    "df = sns.load_dataset('mpg')\n",
    "df"
   ]
  },
  {
   "cell_type": "markdown",
   "id": "3b4c7d70",
   "metadata": {},
   "source": [
    "##### 필요한 자료를 추출하여 분석할 데이터셋 구성(origin_US, origin_JAP)"
   ]
  },
  {
   "cell_type": "code",
   "execution_count": 36,
   "id": "d1865f30",
   "metadata": {},
   "outputs": [],
   "source": [
    "# 강의안에서는 아래 방식으로 데이터 추출\n",
    "# origin_USA = df.loc[df.origin == 'usa', 'acceleration']\n",
    "# origin_JAP = df.loc[df.origin == 'japan', 'acceleration']"
   ]
  },
  {
   "cell_type": "code",
   "execution_count": 37,
   "id": "bdf3e349",
   "metadata": {},
   "outputs": [
    {
     "data": {
      "text/html": [
       "<div>\n",
       "<style scoped>\n",
       "    .dataframe tbody tr th:only-of-type {\n",
       "        vertical-align: middle;\n",
       "    }\n",
       "\n",
       "    .dataframe tbody tr th {\n",
       "        vertical-align: top;\n",
       "    }\n",
       "\n",
       "    .dataframe thead th {\n",
       "        text-align: right;\n",
       "    }\n",
       "</style>\n",
       "<table border=\"1\" class=\"dataframe\">\n",
       "  <thead>\n",
       "    <tr style=\"text-align: right;\">\n",
       "      <th></th>\n",
       "      <th>mpg</th>\n",
       "      <th>cylinders</th>\n",
       "      <th>displacement</th>\n",
       "      <th>horsepower</th>\n",
       "      <th>weight</th>\n",
       "      <th>acceleration</th>\n",
       "      <th>model_year</th>\n",
       "      <th>origin</th>\n",
       "      <th>name</th>\n",
       "    </tr>\n",
       "  </thead>\n",
       "  <tbody>\n",
       "    <tr>\n",
       "      <th>0</th>\n",
       "      <td>18.0</td>\n",
       "      <td>8</td>\n",
       "      <td>307.0</td>\n",
       "      <td>130.0</td>\n",
       "      <td>3504</td>\n",
       "      <td>12.0</td>\n",
       "      <td>70</td>\n",
       "      <td>usa</td>\n",
       "      <td>chevrolet chevelle malibu</td>\n",
       "    </tr>\n",
       "    <tr>\n",
       "      <th>1</th>\n",
       "      <td>15.0</td>\n",
       "      <td>8</td>\n",
       "      <td>350.0</td>\n",
       "      <td>165.0</td>\n",
       "      <td>3693</td>\n",
       "      <td>11.5</td>\n",
       "      <td>70</td>\n",
       "      <td>usa</td>\n",
       "      <td>buick skylark 320</td>\n",
       "    </tr>\n",
       "    <tr>\n",
       "      <th>2</th>\n",
       "      <td>18.0</td>\n",
       "      <td>8</td>\n",
       "      <td>318.0</td>\n",
       "      <td>150.0</td>\n",
       "      <td>3436</td>\n",
       "      <td>11.0</td>\n",
       "      <td>70</td>\n",
       "      <td>usa</td>\n",
       "      <td>plymouth satellite</td>\n",
       "    </tr>\n",
       "    <tr>\n",
       "      <th>3</th>\n",
       "      <td>16.0</td>\n",
       "      <td>8</td>\n",
       "      <td>304.0</td>\n",
       "      <td>150.0</td>\n",
       "      <td>3433</td>\n",
       "      <td>12.0</td>\n",
       "      <td>70</td>\n",
       "      <td>usa</td>\n",
       "      <td>amc rebel sst</td>\n",
       "    </tr>\n",
       "    <tr>\n",
       "      <th>4</th>\n",
       "      <td>17.0</td>\n",
       "      <td>8</td>\n",
       "      <td>302.0</td>\n",
       "      <td>140.0</td>\n",
       "      <td>3449</td>\n",
       "      <td>10.5</td>\n",
       "      <td>70</td>\n",
       "      <td>usa</td>\n",
       "      <td>ford torino</td>\n",
       "    </tr>\n",
       "    <tr>\n",
       "      <th>...</th>\n",
       "      <td>...</td>\n",
       "      <td>...</td>\n",
       "      <td>...</td>\n",
       "      <td>...</td>\n",
       "      <td>...</td>\n",
       "      <td>...</td>\n",
       "      <td>...</td>\n",
       "      <td>...</td>\n",
       "      <td>...</td>\n",
       "    </tr>\n",
       "    <tr>\n",
       "      <th>392</th>\n",
       "      <td>27.0</td>\n",
       "      <td>4</td>\n",
       "      <td>151.0</td>\n",
       "      <td>90.0</td>\n",
       "      <td>2950</td>\n",
       "      <td>17.3</td>\n",
       "      <td>82</td>\n",
       "      <td>usa</td>\n",
       "      <td>chevrolet camaro</td>\n",
       "    </tr>\n",
       "    <tr>\n",
       "      <th>393</th>\n",
       "      <td>27.0</td>\n",
       "      <td>4</td>\n",
       "      <td>140.0</td>\n",
       "      <td>86.0</td>\n",
       "      <td>2790</td>\n",
       "      <td>15.6</td>\n",
       "      <td>82</td>\n",
       "      <td>usa</td>\n",
       "      <td>ford mustang gl</td>\n",
       "    </tr>\n",
       "    <tr>\n",
       "      <th>395</th>\n",
       "      <td>32.0</td>\n",
       "      <td>4</td>\n",
       "      <td>135.0</td>\n",
       "      <td>84.0</td>\n",
       "      <td>2295</td>\n",
       "      <td>11.6</td>\n",
       "      <td>82</td>\n",
       "      <td>usa</td>\n",
       "      <td>dodge rampage</td>\n",
       "    </tr>\n",
       "    <tr>\n",
       "      <th>396</th>\n",
       "      <td>28.0</td>\n",
       "      <td>4</td>\n",
       "      <td>120.0</td>\n",
       "      <td>79.0</td>\n",
       "      <td>2625</td>\n",
       "      <td>18.6</td>\n",
       "      <td>82</td>\n",
       "      <td>usa</td>\n",
       "      <td>ford ranger</td>\n",
       "    </tr>\n",
       "    <tr>\n",
       "      <th>397</th>\n",
       "      <td>31.0</td>\n",
       "      <td>4</td>\n",
       "      <td>119.0</td>\n",
       "      <td>82.0</td>\n",
       "      <td>2720</td>\n",
       "      <td>19.4</td>\n",
       "      <td>82</td>\n",
       "      <td>usa</td>\n",
       "      <td>chevy s-10</td>\n",
       "    </tr>\n",
       "  </tbody>\n",
       "</table>\n",
       "<p>249 rows × 9 columns</p>\n",
       "</div>"
      ],
      "text/plain": [
       "      mpg  cylinders  displacement  horsepower  weight  acceleration  \\\n",
       "0    18.0          8         307.0       130.0    3504          12.0   \n",
       "1    15.0          8         350.0       165.0    3693          11.5   \n",
       "2    18.0          8         318.0       150.0    3436          11.0   \n",
       "3    16.0          8         304.0       150.0    3433          12.0   \n",
       "4    17.0          8         302.0       140.0    3449          10.5   \n",
       "..    ...        ...           ...         ...     ...           ...   \n",
       "392  27.0          4         151.0        90.0    2950          17.3   \n",
       "393  27.0          4         140.0        86.0    2790          15.6   \n",
       "395  32.0          4         135.0        84.0    2295          11.6   \n",
       "396  28.0          4         120.0        79.0    2625          18.6   \n",
       "397  31.0          4         119.0        82.0    2720          19.4   \n",
       "\n",
       "     model_year origin                       name  \n",
       "0            70    usa  chevrolet chevelle malibu  \n",
       "1            70    usa          buick skylark 320  \n",
       "2            70    usa         plymouth satellite  \n",
       "3            70    usa              amc rebel sst  \n",
       "4            70    usa                ford torino  \n",
       "..          ...    ...                        ...  \n",
       "392          82    usa           chevrolet camaro  \n",
       "393          82    usa            ford mustang gl  \n",
       "395          82    usa              dodge rampage  \n",
       "396          82    usa                ford ranger  \n",
       "397          82    usa                 chevy s-10  \n",
       "\n",
       "[249 rows x 9 columns]"
      ]
     },
     "execution_count": 37,
     "metadata": {},
     "output_type": "execute_result"
    }
   ],
   "source": [
    "origin_US = df.loc[df['origin'] == 'usa']\n",
    "origin_US"
   ]
  },
  {
   "cell_type": "code",
   "execution_count": 38,
   "id": "f48472a3",
   "metadata": {},
   "outputs": [
    {
     "data": {
      "text/html": [
       "<div>\n",
       "<style scoped>\n",
       "    .dataframe tbody tr th:only-of-type {\n",
       "        vertical-align: middle;\n",
       "    }\n",
       "\n",
       "    .dataframe tbody tr th {\n",
       "        vertical-align: top;\n",
       "    }\n",
       "\n",
       "    .dataframe thead th {\n",
       "        text-align: right;\n",
       "    }\n",
       "</style>\n",
       "<table border=\"1\" class=\"dataframe\">\n",
       "  <thead>\n",
       "    <tr style=\"text-align: right;\">\n",
       "      <th></th>\n",
       "      <th>mpg</th>\n",
       "      <th>cylinders</th>\n",
       "      <th>displacement</th>\n",
       "      <th>horsepower</th>\n",
       "      <th>weight</th>\n",
       "      <th>acceleration</th>\n",
       "      <th>model_year</th>\n",
       "      <th>origin</th>\n",
       "      <th>name</th>\n",
       "    </tr>\n",
       "  </thead>\n",
       "  <tbody>\n",
       "    <tr>\n",
       "      <th>14</th>\n",
       "      <td>24.0</td>\n",
       "      <td>4</td>\n",
       "      <td>113.0</td>\n",
       "      <td>95.0</td>\n",
       "      <td>2372</td>\n",
       "      <td>15.0</td>\n",
       "      <td>70</td>\n",
       "      <td>japan</td>\n",
       "      <td>toyota corona mark ii</td>\n",
       "    </tr>\n",
       "    <tr>\n",
       "      <th>18</th>\n",
       "      <td>27.0</td>\n",
       "      <td>4</td>\n",
       "      <td>97.0</td>\n",
       "      <td>88.0</td>\n",
       "      <td>2130</td>\n",
       "      <td>14.5</td>\n",
       "      <td>70</td>\n",
       "      <td>japan</td>\n",
       "      <td>datsun pl510</td>\n",
       "    </tr>\n",
       "    <tr>\n",
       "      <th>29</th>\n",
       "      <td>27.0</td>\n",
       "      <td>4</td>\n",
       "      <td>97.0</td>\n",
       "      <td>88.0</td>\n",
       "      <td>2130</td>\n",
       "      <td>14.5</td>\n",
       "      <td>71</td>\n",
       "      <td>japan</td>\n",
       "      <td>datsun pl510</td>\n",
       "    </tr>\n",
       "    <tr>\n",
       "      <th>31</th>\n",
       "      <td>25.0</td>\n",
       "      <td>4</td>\n",
       "      <td>113.0</td>\n",
       "      <td>95.0</td>\n",
       "      <td>2228</td>\n",
       "      <td>14.0</td>\n",
       "      <td>71</td>\n",
       "      <td>japan</td>\n",
       "      <td>toyota corona</td>\n",
       "    </tr>\n",
       "    <tr>\n",
       "      <th>53</th>\n",
       "      <td>31.0</td>\n",
       "      <td>4</td>\n",
       "      <td>71.0</td>\n",
       "      <td>65.0</td>\n",
       "      <td>1773</td>\n",
       "      <td>19.0</td>\n",
       "      <td>71</td>\n",
       "      <td>japan</td>\n",
       "      <td>toyota corolla 1200</td>\n",
       "    </tr>\n",
       "    <tr>\n",
       "      <th>...</th>\n",
       "      <td>...</td>\n",
       "      <td>...</td>\n",
       "      <td>...</td>\n",
       "      <td>...</td>\n",
       "      <td>...</td>\n",
       "      <td>...</td>\n",
       "      <td>...</td>\n",
       "      <td>...</td>\n",
       "      <td>...</td>\n",
       "    </tr>\n",
       "    <tr>\n",
       "      <th>382</th>\n",
       "      <td>34.0</td>\n",
       "      <td>4</td>\n",
       "      <td>108.0</td>\n",
       "      <td>70.0</td>\n",
       "      <td>2245</td>\n",
       "      <td>16.9</td>\n",
       "      <td>82</td>\n",
       "      <td>japan</td>\n",
       "      <td>toyota corolla</td>\n",
       "    </tr>\n",
       "    <tr>\n",
       "      <th>383</th>\n",
       "      <td>38.0</td>\n",
       "      <td>4</td>\n",
       "      <td>91.0</td>\n",
       "      <td>67.0</td>\n",
       "      <td>1965</td>\n",
       "      <td>15.0</td>\n",
       "      <td>82</td>\n",
       "      <td>japan</td>\n",
       "      <td>honda civic</td>\n",
       "    </tr>\n",
       "    <tr>\n",
       "      <th>384</th>\n",
       "      <td>32.0</td>\n",
       "      <td>4</td>\n",
       "      <td>91.0</td>\n",
       "      <td>67.0</td>\n",
       "      <td>1965</td>\n",
       "      <td>15.7</td>\n",
       "      <td>82</td>\n",
       "      <td>japan</td>\n",
       "      <td>honda civic (auto)</td>\n",
       "    </tr>\n",
       "    <tr>\n",
       "      <th>385</th>\n",
       "      <td>38.0</td>\n",
       "      <td>4</td>\n",
       "      <td>91.0</td>\n",
       "      <td>67.0</td>\n",
       "      <td>1995</td>\n",
       "      <td>16.2</td>\n",
       "      <td>82</td>\n",
       "      <td>japan</td>\n",
       "      <td>datsun 310 gx</td>\n",
       "    </tr>\n",
       "    <tr>\n",
       "      <th>390</th>\n",
       "      <td>32.0</td>\n",
       "      <td>4</td>\n",
       "      <td>144.0</td>\n",
       "      <td>96.0</td>\n",
       "      <td>2665</td>\n",
       "      <td>13.9</td>\n",
       "      <td>82</td>\n",
       "      <td>japan</td>\n",
       "      <td>toyota celica gt</td>\n",
       "    </tr>\n",
       "  </tbody>\n",
       "</table>\n",
       "<p>79 rows × 9 columns</p>\n",
       "</div>"
      ],
      "text/plain": [
       "      mpg  cylinders  displacement  horsepower  weight  acceleration  \\\n",
       "14   24.0          4         113.0        95.0    2372          15.0   \n",
       "18   27.0          4          97.0        88.0    2130          14.5   \n",
       "29   27.0          4          97.0        88.0    2130          14.5   \n",
       "31   25.0          4         113.0        95.0    2228          14.0   \n",
       "53   31.0          4          71.0        65.0    1773          19.0   \n",
       "..    ...        ...           ...         ...     ...           ...   \n",
       "382  34.0          4         108.0        70.0    2245          16.9   \n",
       "383  38.0          4          91.0        67.0    1965          15.0   \n",
       "384  32.0          4          91.0        67.0    1965          15.7   \n",
       "385  38.0          4          91.0        67.0    1995          16.2   \n",
       "390  32.0          4         144.0        96.0    2665          13.9   \n",
       "\n",
       "     model_year origin                   name  \n",
       "14           70  japan  toyota corona mark ii  \n",
       "18           70  japan           datsun pl510  \n",
       "29           71  japan           datsun pl510  \n",
       "31           71  japan          toyota corona  \n",
       "53           71  japan    toyota corolla 1200  \n",
       "..          ...    ...                    ...  \n",
       "382          82  japan         toyota corolla  \n",
       "383          82  japan            honda civic  \n",
       "384          82  japan     honda civic (auto)  \n",
       "385          82  japan          datsun 310 gx  \n",
       "390          82  japan       toyota celica gt  \n",
       "\n",
       "[79 rows x 9 columns]"
      ]
     },
     "execution_count": 38,
     "metadata": {},
     "output_type": "execute_result"
    }
   ],
   "source": [
    "origin_JAP = df.loc[df['origin'] == 'japan']\n",
    "origin_JAP"
   ]
  },
  {
   "cell_type": "markdown",
   "id": "0946d3a5",
   "metadata": {},
   "source": [
    "##### 각 데이터에 대한 정규성 및 등분산 검정"
   ]
  },
  {
   "cell_type": "code",
   "execution_count": 39,
   "id": "82eb940c",
   "metadata": {},
   "outputs": [
    {
     "data": {
      "text/plain": [
       "ShapiroResult(statistic=0.9953622221946716, pvalue=0.6593465805053711)"
      ]
     },
     "execution_count": 39,
     "metadata": {},
     "output_type": "execute_result"
    }
   ],
   "source": [
    "shapiro(origin_US['acceleration'])"
   ]
  },
  {
   "cell_type": "code",
   "execution_count": 40,
   "id": "8f63e063",
   "metadata": {},
   "outputs": [
    {
     "data": {
      "text/plain": [
       "ShapiroResult(statistic=0.9857597947120667, pvalue=0.5289148092269897)"
      ]
     },
     "execution_count": 40,
     "metadata": {},
     "output_type": "execute_result"
    }
   ],
   "source": [
    "shapiro(origin_JAP['acceleration'])"
   ]
  },
  {
   "cell_type": "markdown",
   "id": "6d29f47e",
   "metadata": {},
   "source": [
    "미국차와 일본차 모두 shapiro 검정 결과 p-value가 0.05보다 큰 값이 나왔으므로 acceleration 데이터가 정규성을 가진 것으로 볼 수 있다."
   ]
  },
  {
   "cell_type": "code",
   "execution_count": 41,
   "id": "28140fb4",
   "metadata": {},
   "outputs": [
    {
     "data": {
      "text/plain": [
       "LeveneResult(statistic=8.840152557033464, pvalue=0.0031662912439459037)"
      ]
     },
     "execution_count": 41,
     "metadata": {},
     "output_type": "execute_result"
    }
   ],
   "source": [
    "levene(origin_US['acceleration'], origin_JAP['acceleration'])"
   ]
  },
  {
   "cell_type": "markdown",
   "id": "db72e0da",
   "metadata": {},
   "source": [
    "p-value < 0.05이므로 등분산을 만족하지 못한다. 따라서 이후 t-test를 할 때 등분산이 아니라는 것을 equal_val=False로 입력해 주어야 한다."
   ]
  },
  {
   "cell_type": "markdown",
   "id": "62e2eef6",
   "metadata": {},
   "source": [
    "##### 평균과 표본편차 확인"
   ]
  },
  {
   "cell_type": "code",
   "execution_count": 42,
   "id": "be0ab70a",
   "metadata": {},
   "outputs": [
    {
     "data": {
      "text/plain": [
       "15.033734939759027"
      ]
     },
     "execution_count": 42,
     "metadata": {},
     "output_type": "execute_result"
    }
   ],
   "source": [
    "origin_US['acceleration'].mean()"
   ]
  },
  {
   "cell_type": "code",
   "execution_count": 43,
   "id": "30d69ad2",
   "metadata": {},
   "outputs": [
    {
     "data": {
      "text/plain": [
       "16.172151898734175"
      ]
     },
     "execution_count": 43,
     "metadata": {},
     "output_type": "execute_result"
    }
   ],
   "source": [
    "origin_JAP['acceleration'].mean()"
   ]
  },
  {
   "cell_type": "code",
   "execution_count": 44,
   "id": "2ff49160",
   "metadata": {},
   "outputs": [
    {
     "data": {
      "text/plain": [
       "2.7511116715720174"
      ]
     },
     "execution_count": 44,
     "metadata": {},
     "output_type": "execute_result"
    }
   ],
   "source": [
    "origin_US['acceleration'].std()"
   ]
  },
  {
   "cell_type": "code",
   "execution_count": 45,
   "id": "bbe65d2d",
   "metadata": {},
   "outputs": [
    {
     "data": {
      "text/plain": [
       "1.9549369921554074"
      ]
     },
     "execution_count": 45,
     "metadata": {},
     "output_type": "execute_result"
    }
   ],
   "source": [
    "origin_JAP['acceleration'].std()"
   ]
  },
  {
   "cell_type": "markdown",
   "id": "64611c4a",
   "metadata": {},
   "source": [
    "미국차가 평균값은 더 작게 나타나지만 표준편차는 더 크게 나타나는 것을 확인할 수 있다.  "
   ]
  },
  {
   "cell_type": "markdown",
   "id": "3a514086",
   "metadata": {},
   "source": [
    "##### 독립표본 t-검정 실시 및 결괏값 해석"
   ]
  },
  {
   "cell_type": "code",
   "execution_count": 46,
   "id": "3ff30f11",
   "metadata": {},
   "outputs": [
    {
     "data": {
      "text/plain": [
       "Ttest_indResult(statistic=-4.05613769340231, pvalue=7.362848024465834e-05)"
      ]
     },
     "execution_count": 46,
     "metadata": {},
     "output_type": "execute_result"
    }
   ],
   "source": [
    "ttest_ind(origin_US['acceleration'], origin_JAP['acceleration'], equal_var=False)"
   ]
  },
  {
   "cell_type": "markdown",
   "id": "97fc00d1",
   "metadata": {},
   "source": [
    "t-test결과 p-value < 0.05이므로 귀무가설(미국차와 일본자동차의 acceleration의 평균값 차이는 없다)를 기각하고 차이가 있다는 대립가설을 채택한다.  "
   ]
  },
  {
   "cell_type": "markdown",
   "id": "e6b84d26",
   "metadata": {},
   "source": [
    "### [과제 6-2] 자동차 사고 원인 변수에 대한 차이 검정\n",
    "* 분석데이터: seaborn모듈 - car_crashes 데이터\n",
    "* 연구가설: 'not_distracted'와 'no_previous'변수 간의 평균차이 검증\n",
    "    1. 필요한 자료를 추출하여 분석할 데이터셋 구성('not_distracted','no_previous')\n",
    "    2. 각 데이터에 대한 정규성 검정\n",
    "    3. 평균과 표본편차 확인\n",
    "    4. 대응표본 t-검정 실시 및 결괏값 해석\n",
    "    \n"
   ]
  },
  {
   "cell_type": "code",
   "execution_count": 47,
   "id": "57537128",
   "metadata": {},
   "outputs": [
    {
     "data": {
      "text/html": [
       "<div>\n",
       "<style scoped>\n",
       "    .dataframe tbody tr th:only-of-type {\n",
       "        vertical-align: middle;\n",
       "    }\n",
       "\n",
       "    .dataframe tbody tr th {\n",
       "        vertical-align: top;\n",
       "    }\n",
       "\n",
       "    .dataframe thead th {\n",
       "        text-align: right;\n",
       "    }\n",
       "</style>\n",
       "<table border=\"1\" class=\"dataframe\">\n",
       "  <thead>\n",
       "    <tr style=\"text-align: right;\">\n",
       "      <th></th>\n",
       "      <th>total</th>\n",
       "      <th>speeding</th>\n",
       "      <th>alcohol</th>\n",
       "      <th>not_distracted</th>\n",
       "      <th>no_previous</th>\n",
       "      <th>ins_premium</th>\n",
       "      <th>ins_losses</th>\n",
       "      <th>abbrev</th>\n",
       "    </tr>\n",
       "  </thead>\n",
       "  <tbody>\n",
       "    <tr>\n",
       "      <th>0</th>\n",
       "      <td>18.8</td>\n",
       "      <td>7.332</td>\n",
       "      <td>5.640</td>\n",
       "      <td>18.048</td>\n",
       "      <td>15.040</td>\n",
       "      <td>784.55</td>\n",
       "      <td>145.08</td>\n",
       "      <td>AL</td>\n",
       "    </tr>\n",
       "    <tr>\n",
       "      <th>1</th>\n",
       "      <td>18.1</td>\n",
       "      <td>7.421</td>\n",
       "      <td>4.525</td>\n",
       "      <td>16.290</td>\n",
       "      <td>17.014</td>\n",
       "      <td>1053.48</td>\n",
       "      <td>133.93</td>\n",
       "      <td>AK</td>\n",
       "    </tr>\n",
       "    <tr>\n",
       "      <th>2</th>\n",
       "      <td>18.6</td>\n",
       "      <td>6.510</td>\n",
       "      <td>5.208</td>\n",
       "      <td>15.624</td>\n",
       "      <td>17.856</td>\n",
       "      <td>899.47</td>\n",
       "      <td>110.35</td>\n",
       "      <td>AZ</td>\n",
       "    </tr>\n",
       "    <tr>\n",
       "      <th>3</th>\n",
       "      <td>22.4</td>\n",
       "      <td>4.032</td>\n",
       "      <td>5.824</td>\n",
       "      <td>21.056</td>\n",
       "      <td>21.280</td>\n",
       "      <td>827.34</td>\n",
       "      <td>142.39</td>\n",
       "      <td>AR</td>\n",
       "    </tr>\n",
       "    <tr>\n",
       "      <th>4</th>\n",
       "      <td>12.0</td>\n",
       "      <td>4.200</td>\n",
       "      <td>3.360</td>\n",
       "      <td>10.920</td>\n",
       "      <td>10.680</td>\n",
       "      <td>878.41</td>\n",
       "      <td>165.63</td>\n",
       "      <td>CA</td>\n",
       "    </tr>\n",
       "  </tbody>\n",
       "</table>\n",
       "</div>"
      ],
      "text/plain": [
       "   total  speeding  alcohol  not_distracted  no_previous  ins_premium  \\\n",
       "0   18.8     7.332    5.640          18.048       15.040       784.55   \n",
       "1   18.1     7.421    4.525          16.290       17.014      1053.48   \n",
       "2   18.6     6.510    5.208          15.624       17.856       899.47   \n",
       "3   22.4     4.032    5.824          21.056       21.280       827.34   \n",
       "4   12.0     4.200    3.360          10.920       10.680       878.41   \n",
       "\n",
       "   ins_losses abbrev  \n",
       "0      145.08     AL  \n",
       "1      133.93     AK  \n",
       "2      110.35     AZ  \n",
       "3      142.39     AR  \n",
       "4      165.63     CA  "
      ]
     },
     "execution_count": 47,
     "metadata": {},
     "output_type": "execute_result"
    }
   ],
   "source": [
    "df = sns.load_dataset('car_crashes')\n",
    "df.head()"
   ]
  },
  {
   "cell_type": "markdown",
   "id": "01e464e9",
   "metadata": {},
   "source": [
    "#### 필요한 자료를 추출하여 분석할 데이터셋 구성 ('not_distracted', 'no_previous')"
   ]
  },
  {
   "cell_type": "code",
   "execution_count": 48,
   "id": "c5f713d9",
   "metadata": {},
   "outputs": [
    {
     "data": {
      "text/plain": [
       "0    18.048\n",
       "1    16.290\n",
       "2    15.624\n",
       "3    21.056\n",
       "4    10.920\n",
       "Name: not_distracted, dtype: float64"
      ]
     },
     "execution_count": 48,
     "metadata": {},
     "output_type": "execute_result"
    }
   ],
   "source": [
    "dist = df['not_distracted']\n",
    "dist.head()"
   ]
  },
  {
   "cell_type": "code",
   "execution_count": 49,
   "id": "ad0c5a7e",
   "metadata": {},
   "outputs": [
    {
     "data": {
      "text/plain": [
       "0    15.040\n",
       "1    17.014\n",
       "2    17.856\n",
       "3    21.280\n",
       "4    10.680\n",
       "Name: no_previous, dtype: float64"
      ]
     },
     "execution_count": 49,
     "metadata": {},
     "output_type": "execute_result"
    }
   ],
   "source": [
    "prev = df['no_previous']\n",
    "prev.head()"
   ]
  },
  {
   "cell_type": "markdown",
   "id": "b9df197a",
   "metadata": {},
   "source": [
    "#### 각 데이터에 대한 정규성 검정"
   ]
  },
  {
   "cell_type": "code",
   "execution_count": 50,
   "id": "a6ca3a6e",
   "metadata": {},
   "outputs": [
    {
     "data": {
      "text/plain": [
       "ShapiroResult(statistic=0.9856274127960205, pvalue=0.788989245891571)"
      ]
     },
     "execution_count": 50,
     "metadata": {},
     "output_type": "execute_result"
    }
   ],
   "source": [
    "shapiro(dist)"
   ]
  },
  {
   "cell_type": "code",
   "execution_count": 51,
   "id": "02b435ef",
   "metadata": {},
   "outputs": [
    {
     "data": {
      "text/plain": [
       "ShapiroResult(statistic=0.9862307906150818, pvalue=0.8144702315330505)"
      ]
     },
     "execution_count": 51,
     "metadata": {},
     "output_type": "execute_result"
    }
   ],
   "source": [
    "shapiro(prev)"
   ]
  },
  {
   "cell_type": "markdown",
   "id": "2f79323a",
   "metadata": {},
   "source": [
    "distracted와 previous 모두 p-value > 0.05이므로 정규성을 가진다고 볼 수 있음.\n",
    "\n",
    "shapiro 검정은 오차항이 정규분포를 따르는지 알아보는 검정으로, 회귀분석에서 모든 독립변수에 대해서 종속변수가 정규분포를 따르는지 알아보는 방법이다.\n",
    "\n",
    "귀무가설은 ‘H0:정규분포를 따른다’는 것으로 p-value가 0.05보다 크면 정규성을 가정하게 된다."
   ]
  },
  {
   "cell_type": "markdown",
   "id": "232e83d7",
   "metadata": {},
   "source": [
    "#### 평균과 표본편차 확인"
   ]
  },
  {
   "cell_type": "code",
   "execution_count": 52,
   "id": "58ca2fcc",
   "metadata": {},
   "outputs": [
    {
     "data": {
      "text/plain": [
       "13.573176470588232"
      ]
     },
     "execution_count": 52,
     "metadata": {},
     "output_type": "execute_result"
    }
   ],
   "source": [
    "dist.mean()"
   ]
  },
  {
   "cell_type": "code",
   "execution_count": 53,
   "id": "e8258f22",
   "metadata": {},
   "outputs": [
    {
     "data": {
      "text/plain": [
       "14.004882352941172"
      ]
     },
     "execution_count": 53,
     "metadata": {},
     "output_type": "execute_result"
    }
   ],
   "source": [
    "prev.mean()"
   ]
  },
  {
   "cell_type": "code",
   "execution_count": 54,
   "id": "ab6909c1",
   "metadata": {},
   "outputs": [
    {
     "data": {
      "text/plain": [
       "4.508977084465533"
      ]
     },
     "execution_count": 54,
     "metadata": {},
     "output_type": "execute_result"
    }
   ],
   "source": [
    "dist.std()"
   ]
  },
  {
   "cell_type": "code",
   "execution_count": 55,
   "id": "11b7cabd",
   "metadata": {},
   "outputs": [
    {
     "data": {
      "text/plain": [
       "3.7646718988355885"
      ]
     },
     "execution_count": 55,
     "metadata": {},
     "output_type": "execute_result"
    }
   ],
   "source": [
    "prev.std()"
   ]
  },
  {
   "cell_type": "markdown",
   "id": "a8939fdd",
   "metadata": {},
   "source": [
    "#### 대응표본 t-검정 실시 및 결괏값 해석\n",
    "\n",
    "**주의!!!**  \n",
    "대응표본 t-검정을 해야하기 때문에 ttest_rel()함수를 사용해야 함!"
   ]
  },
  {
   "cell_type": "code",
   "execution_count": 56,
   "id": "d39c160e",
   "metadata": {},
   "outputs": [
    {
     "data": {
      "text/plain": [
       "Ttest_relResult(statistic=-1.0201642224359342, pvalue=0.31256149310001075)"
      ]
     },
     "execution_count": 56,
     "metadata": {},
     "output_type": "execute_result"
    }
   ],
   "source": [
    "ttest_rel(dist, prev)"
   ]
  },
  {
   "cell_type": "markdown",
   "id": "5178aa29",
   "metadata": {},
   "source": [
    "p-value가 0.05보다 크기 때문에 귀무가설(H0:'not_distracted'와 'no_previous'변수 간의 평균차이가 없다)을 채택한다."
   ]
  },
  {
   "cell_type": "code",
   "execution_count": 57,
   "id": "818a86e8",
   "metadata": {},
   "outputs": [
    {
     "data": {
      "text/plain": [
       "Ttest_relResult(statistic=-1.0201642224359342, pvalue=0.15628074655000537)"
      ]
     },
     "execution_count": 57,
     "metadata": {},
     "output_type": "execute_result"
    }
   ],
   "source": [
    "ttest_rel(dist, prev, alternative='less')"
   ]
  },
  {
   "cell_type": "markdown",
   "id": "962568cc",
   "metadata": {},
   "source": [
    "distracted와 previous의 평균값 차이가 있다는 귀무가설로 교차분석을 수행하기 위하여 previous의 평균값이 작다는 귀무가설을 넣어 (alternative='less') 확인한 결과 p-value가 0.05보다 크게 나온다. 즉 귀무가설을 기각할 수 없기 때문에 두 변수의 평균값에는 차이가 없다는 결론을 얻을 수 있다."
   ]
  },
  {
   "cell_type": "markdown",
   "id": "73409167",
   "metadata": {},
   "source": [
    "### [6-3] 성별과 생존여부 간의 독립성 검정\n",
    "* 분석데이터: seaborn 모듈 - titanic 데이터\n",
    "* 연구가설: 'sex'와 'alive'변수 간의 평균차이 검증\n",
    "    1. 데이터 결측값 확인\n",
    "    2. 이원분할표 생성\n",
    "    3. 교차분석 수행 후 결괏값 해석"
   ]
  },
  {
   "cell_type": "code",
   "execution_count": 58,
   "id": "2c8c3d8a",
   "metadata": {},
   "outputs": [
    {
     "data": {
      "text/html": [
       "<div>\n",
       "<style scoped>\n",
       "    .dataframe tbody tr th:only-of-type {\n",
       "        vertical-align: middle;\n",
       "    }\n",
       "\n",
       "    .dataframe tbody tr th {\n",
       "        vertical-align: top;\n",
       "    }\n",
       "\n",
       "    .dataframe thead th {\n",
       "        text-align: right;\n",
       "    }\n",
       "</style>\n",
       "<table border=\"1\" class=\"dataframe\">\n",
       "  <thead>\n",
       "    <tr style=\"text-align: right;\">\n",
       "      <th></th>\n",
       "      <th>survived</th>\n",
       "      <th>pclass</th>\n",
       "      <th>sex</th>\n",
       "      <th>age</th>\n",
       "      <th>sibsp</th>\n",
       "      <th>parch</th>\n",
       "      <th>fare</th>\n",
       "      <th>embarked</th>\n",
       "      <th>class</th>\n",
       "      <th>who</th>\n",
       "      <th>adult_male</th>\n",
       "      <th>deck</th>\n",
       "      <th>embark_town</th>\n",
       "      <th>alive</th>\n",
       "      <th>alone</th>\n",
       "    </tr>\n",
       "  </thead>\n",
       "  <tbody>\n",
       "    <tr>\n",
       "      <th>0</th>\n",
       "      <td>0</td>\n",
       "      <td>3</td>\n",
       "      <td>male</td>\n",
       "      <td>22.0</td>\n",
       "      <td>1</td>\n",
       "      <td>0</td>\n",
       "      <td>7.2500</td>\n",
       "      <td>S</td>\n",
       "      <td>Third</td>\n",
       "      <td>man</td>\n",
       "      <td>True</td>\n",
       "      <td>NaN</td>\n",
       "      <td>Southampton</td>\n",
       "      <td>no</td>\n",
       "      <td>False</td>\n",
       "    </tr>\n",
       "    <tr>\n",
       "      <th>1</th>\n",
       "      <td>1</td>\n",
       "      <td>1</td>\n",
       "      <td>female</td>\n",
       "      <td>38.0</td>\n",
       "      <td>1</td>\n",
       "      <td>0</td>\n",
       "      <td>71.2833</td>\n",
       "      <td>C</td>\n",
       "      <td>First</td>\n",
       "      <td>woman</td>\n",
       "      <td>False</td>\n",
       "      <td>C</td>\n",
       "      <td>Cherbourg</td>\n",
       "      <td>yes</td>\n",
       "      <td>False</td>\n",
       "    </tr>\n",
       "    <tr>\n",
       "      <th>2</th>\n",
       "      <td>1</td>\n",
       "      <td>3</td>\n",
       "      <td>female</td>\n",
       "      <td>26.0</td>\n",
       "      <td>0</td>\n",
       "      <td>0</td>\n",
       "      <td>7.9250</td>\n",
       "      <td>S</td>\n",
       "      <td>Third</td>\n",
       "      <td>woman</td>\n",
       "      <td>False</td>\n",
       "      <td>NaN</td>\n",
       "      <td>Southampton</td>\n",
       "      <td>yes</td>\n",
       "      <td>True</td>\n",
       "    </tr>\n",
       "    <tr>\n",
       "      <th>3</th>\n",
       "      <td>1</td>\n",
       "      <td>1</td>\n",
       "      <td>female</td>\n",
       "      <td>35.0</td>\n",
       "      <td>1</td>\n",
       "      <td>0</td>\n",
       "      <td>53.1000</td>\n",
       "      <td>S</td>\n",
       "      <td>First</td>\n",
       "      <td>woman</td>\n",
       "      <td>False</td>\n",
       "      <td>C</td>\n",
       "      <td>Southampton</td>\n",
       "      <td>yes</td>\n",
       "      <td>False</td>\n",
       "    </tr>\n",
       "    <tr>\n",
       "      <th>4</th>\n",
       "      <td>0</td>\n",
       "      <td>3</td>\n",
       "      <td>male</td>\n",
       "      <td>35.0</td>\n",
       "      <td>0</td>\n",
       "      <td>0</td>\n",
       "      <td>8.0500</td>\n",
       "      <td>S</td>\n",
       "      <td>Third</td>\n",
       "      <td>man</td>\n",
       "      <td>True</td>\n",
       "      <td>NaN</td>\n",
       "      <td>Southampton</td>\n",
       "      <td>no</td>\n",
       "      <td>True</td>\n",
       "    </tr>\n",
       "  </tbody>\n",
       "</table>\n",
       "</div>"
      ],
      "text/plain": [
       "   survived  pclass     sex   age  sibsp  parch     fare embarked  class  \\\n",
       "0         0       3    male  22.0      1      0   7.2500        S  Third   \n",
       "1         1       1  female  38.0      1      0  71.2833        C  First   \n",
       "2         1       3  female  26.0      0      0   7.9250        S  Third   \n",
       "3         1       1  female  35.0      1      0  53.1000        S  First   \n",
       "4         0       3    male  35.0      0      0   8.0500        S  Third   \n",
       "\n",
       "     who  adult_male deck  embark_town alive  alone  \n",
       "0    man        True  NaN  Southampton    no  False  \n",
       "1  woman       False    C    Cherbourg   yes  False  \n",
       "2  woman       False  NaN  Southampton   yes   True  \n",
       "3  woman       False    C  Southampton   yes  False  \n",
       "4    man        True  NaN  Southampton    no   True  "
      ]
     },
     "execution_count": 58,
     "metadata": {},
     "output_type": "execute_result"
    }
   ],
   "source": [
    "df = sns.load_dataset('titanic')\n",
    "df.head()"
   ]
  },
  {
   "cell_type": "markdown",
   "id": "81f20f8d",
   "metadata": {},
   "source": [
    "#### 데이터 결측값 확인"
   ]
  },
  {
   "cell_type": "code",
   "execution_count": 59,
   "id": "1a738206",
   "metadata": {},
   "outputs": [
    {
     "data": {
      "text/plain": [
       "0"
      ]
     },
     "execution_count": 59,
     "metadata": {},
     "output_type": "execute_result"
    }
   ],
   "source": [
    "df.sex.isnull().sum()"
   ]
  },
  {
   "cell_type": "code",
   "execution_count": 60,
   "id": "f3d46592",
   "metadata": {},
   "outputs": [
    {
     "data": {
      "text/plain": [
       "0"
      ]
     },
     "execution_count": 60,
     "metadata": {},
     "output_type": "execute_result"
    }
   ],
   "source": [
    "df.alive.isnull().sum()"
   ]
  },
  {
   "cell_type": "markdown",
   "id": "08fb04d8",
   "metadata": {},
   "source": [
    "#### 이원분할표 생성"
   ]
  },
  {
   "cell_type": "code",
   "execution_count": 61,
   "id": "a7b0d469",
   "metadata": {},
   "outputs": [
    {
     "data": {
      "text/html": [
       "<div>\n",
       "<style scoped>\n",
       "    .dataframe tbody tr th:only-of-type {\n",
       "        vertical-align: middle;\n",
       "    }\n",
       "\n",
       "    .dataframe tbody tr th {\n",
       "        vertical-align: top;\n",
       "    }\n",
       "\n",
       "    .dataframe thead th {\n",
       "        text-align: right;\n",
       "    }\n",
       "</style>\n",
       "<table border=\"1\" class=\"dataframe\">\n",
       "  <thead>\n",
       "    <tr style=\"text-align: right;\">\n",
       "      <th>alive</th>\n",
       "      <th>no</th>\n",
       "      <th>yes</th>\n",
       "    </tr>\n",
       "    <tr>\n",
       "      <th>sex</th>\n",
       "      <th></th>\n",
       "      <th></th>\n",
       "    </tr>\n",
       "  </thead>\n",
       "  <tbody>\n",
       "    <tr>\n",
       "      <th>female</th>\n",
       "      <td>81</td>\n",
       "      <td>233</td>\n",
       "    </tr>\n",
       "    <tr>\n",
       "      <th>male</th>\n",
       "      <td>468</td>\n",
       "      <td>109</td>\n",
       "    </tr>\n",
       "  </tbody>\n",
       "</table>\n",
       "</div>"
      ],
      "text/plain": [
       "alive    no  yes\n",
       "sex             \n",
       "female   81  233\n",
       "male    468  109"
      ]
     },
     "execution_count": 61,
     "metadata": {},
     "output_type": "execute_result"
    }
   ],
   "source": [
    "cross_data1 = pd.crosstab(df.sex, df.alive)\n",
    "cross_data1"
   ]
  },
  {
   "cell_type": "markdown",
   "id": "83de71c1",
   "metadata": {},
   "source": [
    "#### 교차분석 수행 후 결괏값 분석"
   ]
  },
  {
   "cell_type": "code",
   "execution_count": 62,
   "id": "e476226e",
   "metadata": {},
   "outputs": [
    {
     "data": {
      "text/plain": [
       "(260.71702016732104,\n",
       " 1.1973570627755645e-58,\n",
       " 1,\n",
       " array([[193.47474747, 120.52525253],\n",
       "        [355.52525253, 221.47474747]]))"
      ]
     },
     "execution_count": 62,
     "metadata": {},
     "output_type": "execute_result"
    }
   ],
   "source": [
    "chi2_contingency(cross_data1)"
   ]
  },
  {
   "cell_type": "markdown",
   "id": "02721266",
   "metadata": {},
   "source": [
    "카이제곱검정 결과 p-value < 0.05이므로 귀무가설(성별과 생존은 관련이 없다)을 기각하고 대립가설(성별과 생존여부는 관련이 있음)을 채택함.  \n",
    "카이제곱값은 260.717, p-value는 1.197e-58, 자유도는 1 \n"
   ]
  }
 ],
 "metadata": {
  "kernelspec": {
   "display_name": "Python 3 (ipykernel)",
   "language": "python",
   "name": "python3"
  },
  "language_info": {
   "codemirror_mode": {
    "name": "ipython",
    "version": 3
   },
   "file_extension": ".py",
   "mimetype": "text/x-python",
   "name": "python",
   "nbconvert_exporter": "python",
   "pygments_lexer": "ipython3",
   "version": "3.9.12"
  }
 },
 "nbformat": 4,
 "nbformat_minor": 5
}
