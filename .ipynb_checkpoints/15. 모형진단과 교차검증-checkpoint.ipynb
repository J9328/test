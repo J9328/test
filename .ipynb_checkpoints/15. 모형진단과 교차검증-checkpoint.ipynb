{
 "cells": [
  {
   "cell_type": "markdown",
   "id": "c636b165",
   "metadata": {},
   "source": [
    "# 15. 모형진단과 교차검증\n",
    "\n",
    "과대적합: 학습데이터에는 정밀도가 높으나, 시험데이터에는 정밀도가 떨어짐\n",
    "과소적합: 학습데이터의 정밀도가 목표한 정밀도보다 현저하게 낮음  \n",
    "\n"
   ]
  },
  {
   "cell_type": "markdown",
   "id": "c6b40ecc",
   "metadata": {},
   "source": [
    "## 1. 모형진단과 교차검증의 이해\n",
    "\n",
    "### 1-1. 과대적합 과소적합\n",
    "\n",
    "**과대적합**\n",
    "- 학습데이터에는 정밀도가 높으나 시험데이터에는 정밀도가 떨어짐\n",
    "- 표본수를 늘리거나, 초모수 조정 또는 규제화 등으로 해결함\n",
    "\n",
    "**과소적합**\n",
    "- 학습데이터의 정밀도가 목표한 정밀도보다 현저하게 낮음\n",
    "- 입력변수를 틀리거나 다른 모형을 선택하여 해결함\n",
    "\n",
    "### 1-2. 모형진단\n",
    "\n",
    "여러 후보모형 중 가장 좋은 모형을 선택하기 위한 성능비교\n",
    "\n",
    "**학습데이터를 통해 모형 학습**\n",
    "- 검증데이터에 적용하여 최적의 초모수를 선택한 후 성능비교\n",
    "- 학습이나 검증에 이용한 적 없는 시험데이터의 정밀도로 비교 점검\n",
    "\n",
    "Training set = Training set + Validation set 으로 분할\n",
    "\n",
    "### 1-3. 초모수 결정\n",
    "(=hyperparameter tuning)\n",
    "\n",
    "학습데이터를 이용하여 모형을 학습하고 검증데이터를 통해 조절\n",
    "예) SVM에서 결정해야 할 C, 커널함수의 gamma 등\n",
    "\n",
    "$\\rightarrow$ 학습데이터의 성능유지, 검증데이터의 성능도 학습데이터와 근접하게 조절\n",
    "\n",
    "**문제점**: 고정된 자료 분할은 선택된 검증데이터에 크게 의존함. 자료의 크기가 작을 경우 더욱 두드러짐.   \n",
    "\n",
    "### 1-4. k-분할 교차검증\n",
    "(=k-fold cross validation)\n",
    "\n",
    "1. 전체 자료를 학습데이터 + 시험데이터로 나눔\n",
    "2. 학습데이터를 임의의 k개 폴드로 분할함\n",
    "3. 각 분할을 차례대로 검증데이터로 할당함\n",
    "$\\rightarrow$총 k번의 검증데이터의 성능측정이 가능하다는 의미\n",
    "\n",
    "### 1-5. 중첩 교차검증\n",
    "전체 자료를 학습데이터와 시험데이터로 분할 후 다시 학습데이터와 검증데이터로 구분하여 최적의 초모수 선택 및 모형의 최종성능을 계산하는 방법 [참고](https://thebook.io/080223/ch06/04/02/)\n",
    "\n",
    "1. 전체 자료를 학습데이터와 시험데이터를 위한 $k_{1}$분할을 함\n",
    "2. $k_{1}$개의 학습데이터 + 시험데이터 세트가 만들어짐\n",
    "3. 세트 각각에 있는 학습데이터를 다시 동일하게 $k_{2}$분할을 통해 학습데이터와 검증데이터를 만듦\n",
    "\n"
   ]
  },
  {
   "cell_type": "markdown",
   "id": "ebebd2cd",
   "metadata": {},
   "source": [
    "## 2. sklearn 모듈을 활용한 모형진단과 교차검증\n",
    "\n",
    "학습데이터와 검증데이터로 분할하여 분석모델에서 사용하는 초모수들 중 최적의 초모수값 찾기\n",
    "\n",
    "### 2-1. k 분할 교차검증 실시\n",
    "sklearn.model_selection 모듈의 GridSearchCV().fit()함수 이용\n",
    "\n",
    "> from sklearn.model_selection import GridSearchCV\n",
    "\n",
    "> 객체명 = GridSearchCV(estimator=분석모델, param_grid=초모수값들, scoring='accuracy', cv=k분할 교차검증 수).fit(입력변수, 출력변수)\n",
    "\n",
    "**estimator 옵션**\n",
    "- 분석에 사용되는 분석모델의 함수명을 입력함\n",
    "- 의사결정나무 분석이라면 sklearn.tree모듈의 DecisionTreeClassifier()함수를 초모수값 입력없이 사용\n",
    "- SVM 분석이라면 sklearn.svm모듈의 SVC()함수를 초모수값 입력없이 사용\n",
    "\n",
    "**parm_grid 옵션**\n",
    "- 분석모델에서 사용되는 초모수 값들을 딕셔너리 형태로 초모수 옵션 이름과 대입할 값들을 리스트의 형태로 쌍으로 이루어 입력함.  \n",
    "- 예를 들어 의사결정나무의 최대 깊이를 여러 개의 값을 두고 확인한다면 {'max_depth':[1,2,3,4,5]}와 같은 형태로 입력함.  \n",
    "- 만약 초모수의 값들이 여러 개라고 한다면, 이러한 딕셔너리를 리스트 형태로 묶어서 param_grid 옵션에 입력함\n",
    "\n",
    "**scoring 옵션**\n",
    "- 최적의 초모수를 결정함에 있어 사용되는 통계량을 결정함   \n",
    "- 기본적으로 분석모델에서 score()함수를 사용하였을 때 출력되는 값이 사용됨  \n",
    "\n",
    "**cv 옵션**\n",
    "- 몇 개의 폴드로 구분할지 결정\n",
    "\n",
    "> 최적 정분류율: 객체명.best_score_\n",
    "\n",
    "> 최적 초모수: 객체명.best_params_\n",
    "\n",
    "### 2-2. 정분류율 확인\n",
    "k분할 교차검증을 통해 구한 최적의 초모수값을 분석모델에 적용\n",
    "\n",
    "> 객체명2 = 객체명1.best_estimator_.fit(입력변수, 출력변수)\n",
    "\n",
    "**best_estimator_ 함수**\n",
    "- 함수는 GridSearchCV()함수의 estimator옵션에 지정한 분석모델에 초모수 값을 지정한 형태\n",
    "\n",
    "> 최적초모수적용 학습데이터 정분류율: 객체명2.score(입력변수, 출력변수)\n",
    "\n",
    "### 2-3. 중첩 교차검증\n",
    "최적의 초모수를 결정하고 모형을 비교하는 과정\n",
    "\n",
    "> from sklearn.model_selection import StratifiedKFold\n",
    "\n",
    "> inner_cv = StratifiedKFold(n_splits=inner loop횟수, shuffle=True, random_state=초기난수값)\n",
    "\n",
    "> outer_cv = StratifiedKFold(n_splits=outer loop횟수, shuffle=True, random_state=초기난수값)\n",
    "\n",
    "> from sklearn.model_selection import GridSearchCV\n",
    "\n",
    "> 객체명1 = GridSearchCV(estimator=분석모델, param_grid=초모수값들, scoring='accuracy', cv=inner_cv)\n",
    "\n",
    "**주의!**\n",
    "- k분할 교차검증: GridSearchCV()함수에 바로 fit()함수 대입\n",
    "- 중첩 교차검증: GridSearchCV()함수까지만 사용\n",
    "\n",
    "$\\rightarrow$ outer loop에서 데이터를 입력 후 나뉘어진 자료가 초모수 결정에 사용\n",
    "\n",
    "> from sklearn.model_selection import cross_val_score\n",
    "\n",
    "> 객체명2 = cross_val_score(객체명1, 입력변수, 출력변수, scoring='accuracy', cv=outer_cv)\n",
    "\n",
    "$\\rightarrow$ outer loop 마다 최적의 초모수를 결정하고, 이에 따른 정분류율을 계산하여 출력 (예. outer loop가 5회 수행되었다고 하면, 총 5개의 정분류율이 계산되어 출력됨.)\n",
    "\n",
    "### 2-4. 의사결정나무와 SVM의 비교\n",
    "\n"
   ]
  },
  {
   "cell_type": "code",
   "execution_count": 1,
   "id": "06fce8a1",
   "metadata": {},
   "outputs": [],
   "source": [
    "import seaborn as sns"
   ]
  },
  {
   "cell_type": "code",
   "execution_count": 2,
   "id": "1c97ac62",
   "metadata": {},
   "outputs": [],
   "source": [
    "df = sns.load_dataset('iris')"
   ]
  },
  {
   "cell_type": "code",
   "execution_count": 3,
   "id": "9abd095b",
   "metadata": {},
   "outputs": [
    {
     "name": "stdout",
     "output_type": "stream",
     "text": [
      "<class 'pandas.core.frame.DataFrame'>\n",
      "RangeIndex: 150 entries, 0 to 149\n",
      "Data columns (total 5 columns):\n",
      " #   Column        Non-Null Count  Dtype  \n",
      "---  ------        --------------  -----  \n",
      " 0   sepal_length  150 non-null    float64\n",
      " 1   sepal_width   150 non-null    float64\n",
      " 2   petal_length  150 non-null    float64\n",
      " 3   petal_width   150 non-null    float64\n",
      " 4   species       150 non-null    object \n",
      "dtypes: float64(4), object(1)\n",
      "memory usage: 6.0+ KB\n"
     ]
    }
   ],
   "source": [
    "df.info()"
   ]
  },
  {
   "cell_type": "code",
   "execution_count": 4,
   "id": "bf16ec6e",
   "metadata": {},
   "outputs": [],
   "source": [
    "from sklearn.model_selection import train_test_split"
   ]
  },
  {
   "cell_type": "code",
   "execution_count": 5,
   "id": "1ae3ed0d",
   "metadata": {},
   "outputs": [],
   "source": [
    "train, test = train_test_split(df, test_size=0.3, random_state=1, stratify=df['species'])"
   ]
  },
  {
   "cell_type": "code",
   "execution_count": 6,
   "id": "bd64edca",
   "metadata": {},
   "outputs": [],
   "source": [
    "y_train = train['species']\n",
    "X_train = train[['sepal_length','sepal_width','petal_length','petal_width']]\n",
    "\n",
    "y_test = test['species']\n",
    "X_test = test[['sepal_length','sepal_width','petal_length','petal_width']]"
   ]
  },
  {
   "cell_type": "markdown",
   "id": "893cb99b",
   "metadata": {},
   "source": [
    "#### 의사결정나무 모형"
   ]
  },
  {
   "cell_type": "code",
   "execution_count": 7,
   "id": "0c0b499b",
   "metadata": {},
   "outputs": [],
   "source": [
    "from sklearn.model_selection import GridSearchCV\n",
    "from sklearn.tree import DecisionTreeClassifier"
   ]
  },
  {
   "cell_type": "code",
   "execution_count": 8,
   "id": "19e69c49",
   "metadata": {},
   "outputs": [],
   "source": [
    "GS1_1 = GridSearchCV(estimator=DecisionTreeClassifier(random_state=1),\n",
    "                    param_grid=[{'max_depth':[1,2,3,4,5,6,7,None], 'criterion':['gini']},\n",
    "                               {'max_depth':[1,2,3,4,5,6,7,None], 'criterion':['entropy']}],\n",
    "                    scoring='accuracy', cv=5).fit(X_train, y_train)"
   ]
  },
  {
   "cell_type": "code",
   "execution_count": 9,
   "id": "eb6891a2",
   "metadata": {},
   "outputs": [
    {
     "data": {
      "text/plain": [
       "0.9333333333333332"
      ]
     },
     "execution_count": 9,
     "metadata": {},
     "output_type": "execute_result"
    }
   ],
   "source": [
    "GS1_1.best_score_"
   ]
  },
  {
   "cell_type": "code",
   "execution_count": 10,
   "id": "ba67290d",
   "metadata": {},
   "outputs": [
    {
     "data": {
      "text/plain": [
       "{'criterion': 'gini', 'max_depth': 2}"
      ]
     },
     "execution_count": 10,
     "metadata": {},
     "output_type": "execute_result"
    }
   ],
   "source": [
    "GS1_1.best_params_"
   ]
  },
  {
   "cell_type": "code",
   "execution_count": 11,
   "id": "73a5f648",
   "metadata": {},
   "outputs": [],
   "source": [
    "clf1 = GS1_1.best_estimator_.fit(X_train, y_train)"
   ]
  },
  {
   "cell_type": "code",
   "execution_count": 12,
   "id": "64fccbe7",
   "metadata": {},
   "outputs": [
    {
     "data": {
      "text/plain": [
       "0.9523809523809523"
      ]
     },
     "execution_count": 12,
     "metadata": {},
     "output_type": "execute_result"
    }
   ],
   "source": [
    "clf1.score(X_train, y_train)"
   ]
  },
  {
   "cell_type": "code",
   "execution_count": 13,
   "id": "f28f0fb1",
   "metadata": {},
   "outputs": [
    {
     "data": {
      "text/plain": [
       "0.9555555555555556"
      ]
     },
     "execution_count": 13,
     "metadata": {},
     "output_type": "execute_result"
    }
   ],
   "source": [
    "clf1.score(X_test, y_test)"
   ]
  },
  {
   "cell_type": "markdown",
   "id": "66912508",
   "metadata": {},
   "source": [
    "#### SVM 모형"
   ]
  },
  {
   "cell_type": "code",
   "execution_count": 14,
   "id": "8cbf4f1a",
   "metadata": {},
   "outputs": [],
   "source": [
    "from sklearn.model_selection import GridSearchCV\n",
    "from sklearn.svm import SVC"
   ]
  },
  {
   "cell_type": "code",
   "execution_count": 15,
   "id": "dc3dee41",
   "metadata": {},
   "outputs": [],
   "source": [
    "param_range = [0.0001, 0.001, 0.01, 0.1, 1.0, 10.0, 100.0, 1000.0]"
   ]
  },
  {
   "cell_type": "code",
   "execution_count": 16,
   "id": "011864e8",
   "metadata": {},
   "outputs": [],
   "source": [
    "param_grid = [{'C':param_range, 'kernel':['linear']},\n",
    "             {'C': param_range, 'gamma': param_range, 'kernel':['rbf']}]"
   ]
  },
  {
   "cell_type": "code",
   "execution_count": 17,
   "id": "fc5649b8",
   "metadata": {},
   "outputs": [],
   "source": [
    "GS2_1 = GridSearchCV(estimator=SVC(random_state=1), \n",
    "                    param_grid=param_grid,\n",
    "                    scoring='accuracy', cv=5).fit(X_train, y_train)"
   ]
  },
  {
   "cell_type": "code",
   "execution_count": 18,
   "id": "62214506",
   "metadata": {},
   "outputs": [
    {
     "data": {
      "text/plain": [
       "0.9619047619047618"
      ]
     },
     "execution_count": 18,
     "metadata": {},
     "output_type": "execute_result"
    }
   ],
   "source": [
    "GS2_1.best_score_"
   ]
  },
  {
   "cell_type": "code",
   "execution_count": 19,
   "id": "6e1d7732",
   "metadata": {},
   "outputs": [
    {
     "data": {
      "text/plain": [
       "{'C': 1.0, 'gamma': 1.0, 'kernel': 'rbf'}"
      ]
     },
     "execution_count": 19,
     "metadata": {},
     "output_type": "execute_result"
    }
   ],
   "source": [
    "GS2_1.best_params_"
   ]
  },
  {
   "cell_type": "code",
   "execution_count": 20,
   "id": "416305da",
   "metadata": {},
   "outputs": [],
   "source": [
    "clf2 = GS2_1.best_estimator_.fit(X_train, y_train)"
   ]
  },
  {
   "cell_type": "code",
   "execution_count": 21,
   "id": "4065fa3f",
   "metadata": {},
   "outputs": [
    {
     "data": {
      "text/plain": [
       "0.9809523809523809"
      ]
     },
     "execution_count": 21,
     "metadata": {},
     "output_type": "execute_result"
    }
   ],
   "source": [
    "clf2.score(X_train, y_train)"
   ]
  },
  {
   "cell_type": "code",
   "execution_count": 22,
   "id": "622378a0",
   "metadata": {},
   "outputs": [
    {
     "data": {
      "text/plain": [
       "0.9777777777777777"
      ]
     },
     "execution_count": 22,
     "metadata": {},
     "output_type": "execute_result"
    }
   ],
   "source": [
    "clf2.score(X_test, y_test)"
   ]
  },
  {
   "cell_type": "markdown",
   "id": "8c2ee530",
   "metadata": {},
   "source": [
    "SVM의 정분류율이 의사결정나무보다 높게 나타남  \n",
    "\n",
    "다음은 중첩교차검증을 통해 최적의 초모수를 결정하고 모형을 평가하는 예시임.    "
   ]
  },
  {
   "cell_type": "code",
   "execution_count": 23,
   "id": "b18800f0",
   "metadata": {},
   "outputs": [],
   "source": [
    "X=df[['sepal_length','sepal_width','petal_length','petal_width']]\n",
    "y=df['species']"
   ]
  },
  {
   "cell_type": "code",
   "execution_count": 24,
   "id": "60a7c999",
   "metadata": {},
   "outputs": [],
   "source": [
    "from sklearn.model_selection import StratifiedKFold"
   ]
  },
  {
   "cell_type": "code",
   "execution_count": 25,
   "id": "baefd95b",
   "metadata": {},
   "outputs": [],
   "source": [
    "inner_cv = StratifiedKFold(n_splits=3, shuffle=True, random_state=1)"
   ]
  },
  {
   "cell_type": "code",
   "execution_count": 26,
   "id": "3ec8ba2f",
   "metadata": {},
   "outputs": [],
   "source": [
    "outer_cv = StratifiedKFold(n_splits=5, shuffle=True, random_state=1)"
   ]
  },
  {
   "cell_type": "code",
   "execution_count": 27,
   "id": "a18c8f59",
   "metadata": {},
   "outputs": [],
   "source": [
    "GS1_2 = GridSearchCV(estimator=DecisionTreeClassifier(random_state=1),\n",
    "                    param_grid=[{'max_depth':[1,2,3,4,5,6,7,None], 'criterion':['gini']},\n",
    "                               {'max_depth':[1,2,3,4,5,6,7,None], 'criterion':['entropy']}],\n",
    "                    scoring='accuracy', cv=inner_cv)"
   ]
  },
  {
   "cell_type": "code",
   "execution_count": 28,
   "id": "9d0478a1",
   "metadata": {},
   "outputs": [],
   "source": [
    "from sklearn.model_selection import cross_val_score, cross_validate"
   ]
  },
  {
   "cell_type": "code",
   "execution_count": 29,
   "id": "f50768eb",
   "metadata": {},
   "outputs": [],
   "source": [
    "scores = cross_val_score(GS1_2, X, y, scoring='accuracy', cv=outer_cv)"
   ]
  },
  {
   "cell_type": "code",
   "execution_count": 30,
   "id": "88634fae",
   "metadata": {},
   "outputs": [
    {
     "data": {
      "text/plain": [
       "array([0.93333333, 1.        , 0.93333333, 0.96666667, 0.9       ])"
      ]
     },
     "execution_count": 30,
     "metadata": {},
     "output_type": "execute_result"
    }
   ],
   "source": [
    "scores"
   ]
  },
  {
   "cell_type": "code",
   "execution_count": 31,
   "id": "44686fc5",
   "metadata": {},
   "outputs": [],
   "source": [
    "from numpy import mean, std"
   ]
  },
  {
   "cell_type": "code",
   "execution_count": 32,
   "id": "2fef285a",
   "metadata": {},
   "outputs": [
    {
     "name": "stdout",
     "output_type": "stream",
     "text": [
      "CV accuracy: 0.947 +/- 0.034\n"
     ]
    }
   ],
   "source": [
    "print('CV accuracy: %.3f +/- %.3f'%(mean(scores), std(scores)))"
   ]
  },
  {
   "cell_type": "code",
   "execution_count": 33,
   "id": "7bee5f82",
   "metadata": {},
   "outputs": [],
   "source": [
    "GS2_2 = GridSearchCV(estimator=SVC(random_state=1), \n",
    "                    param_grid=param_grid,\n",
    "                    scoring='accuracy', cv=inner_cv)"
   ]
  },
  {
   "cell_type": "code",
   "execution_count": 34,
   "id": "9e0d93a3",
   "metadata": {},
   "outputs": [],
   "source": [
    "scores = cross_val_score(GS2_2, X, y, scoring='accuracy', cv=outer_cv)"
   ]
  },
  {
   "cell_type": "code",
   "execution_count": 35,
   "id": "226daeff",
   "metadata": {},
   "outputs": [
    {
     "name": "stdout",
     "output_type": "stream",
     "text": [
      "[1.         1.         0.93333333 1.         0.93333333]\n"
     ]
    }
   ],
   "source": [
    "print(scores)"
   ]
  },
  {
   "cell_type": "code",
   "execution_count": 36,
   "id": "b4e44db0",
   "metadata": {},
   "outputs": [
    {
     "name": "stdout",
     "output_type": "stream",
     "text": [
      "CV accuracy: 0.973 +/- 0.033\n"
     ]
    }
   ],
   "source": [
    "print('CV accuracy: %.3f +/- %.3f'%(mean(scores), std(scores)))"
   ]
  },
  {
   "cell_type": "markdown",
   "id": "759f934b",
   "metadata": {},
   "source": [
    "SVM의 정분류율이 더 높은 것을 봐서 SVM이 더 정확한 예측을 하는 모형임을 알 수 있음"
   ]
  },
  {
   "cell_type": "markdown",
   "id": "c303a75f",
   "metadata": {},
   "source": [
    "## 실습\n",
    "\n",
    "### [과제15]\n",
    "seaborn 모듈의 penguins 데이터에서 species를 예측하기 위해 bill_length_mm, bill_depth_mm, flipper_length_mm, body_mass_g를 사용하여 k분할 교차검증을 통해 최적의 의사결정나무와 SVM의 모수를 탐색하고 두 모형을 비교할 것"
   ]
  },
  {
   "cell_type": "code",
   "execution_count": 37,
   "id": "fdb19a36",
   "metadata": {},
   "outputs": [],
   "source": [
    "df = sns.load_dataset('penguins')"
   ]
  },
  {
   "cell_type": "code",
   "execution_count": 38,
   "id": "5c2354a8",
   "metadata": {},
   "outputs": [
    {
     "name": "stdout",
     "output_type": "stream",
     "text": [
      "<class 'pandas.core.frame.DataFrame'>\n",
      "RangeIndex: 344 entries, 0 to 343\n",
      "Data columns (total 7 columns):\n",
      " #   Column             Non-Null Count  Dtype  \n",
      "---  ------             --------------  -----  \n",
      " 0   species            344 non-null    object \n",
      " 1   island             344 non-null    object \n",
      " 2   bill_length_mm     342 non-null    float64\n",
      " 3   bill_depth_mm      342 non-null    float64\n",
      " 4   flipper_length_mm  342 non-null    float64\n",
      " 5   body_mass_g        342 non-null    float64\n",
      " 6   sex                333 non-null    object \n",
      "dtypes: float64(4), object(3)\n",
      "memory usage: 18.9+ KB\n"
     ]
    }
   ],
   "source": [
    "df.info()"
   ]
  },
  {
   "cell_type": "code",
   "execution_count": 39,
   "id": "03ce7297",
   "metadata": {},
   "outputs": [],
   "source": [
    "df = df.dropna(subset=['species','bill_length_mm','bill_depth_mm','flipper_length_mm','body_mass_g'], how='any', axis=0)"
   ]
  },
  {
   "cell_type": "code",
   "execution_count": 40,
   "id": "10f8e685",
   "metadata": {},
   "outputs": [
    {
     "name": "stdout",
     "output_type": "stream",
     "text": [
      "<class 'pandas.core.frame.DataFrame'>\n",
      "Int64Index: 342 entries, 0 to 343\n",
      "Data columns (total 7 columns):\n",
      " #   Column             Non-Null Count  Dtype  \n",
      "---  ------             --------------  -----  \n",
      " 0   species            342 non-null    object \n",
      " 1   island             342 non-null    object \n",
      " 2   bill_length_mm     342 non-null    float64\n",
      " 3   bill_depth_mm      342 non-null    float64\n",
      " 4   flipper_length_mm  342 non-null    float64\n",
      " 5   body_mass_g        342 non-null    float64\n",
      " 6   sex                333 non-null    object \n",
      "dtypes: float64(4), object(3)\n",
      "memory usage: 21.4+ KB\n"
     ]
    }
   ],
   "source": [
    "df.info()"
   ]
  },
  {
   "cell_type": "code",
   "execution_count": 41,
   "id": "b66fadbc",
   "metadata": {},
   "outputs": [],
   "source": [
    "train, test = train_test_split(df, test_size=0.3, random_state=123, stratify=df['species'])"
   ]
  },
  {
   "cell_type": "code",
   "execution_count": 42,
   "id": "b7d73147",
   "metadata": {},
   "outputs": [],
   "source": [
    "y_train = train['species']\n",
    "X_train = train[['bill_length_mm','bill_depth_mm','flipper_length_mm','body_mass_g']]\n",
    "\n",
    "y_test = test['species']\n",
    "X_test = test[['bill_length_mm','bill_depth_mm','flipper_length_mm','body_mass_g']]"
   ]
  },
  {
   "cell_type": "code",
   "execution_count": 43,
   "id": "f2341c30",
   "metadata": {},
   "outputs": [],
   "source": [
    "GS1_1 = GridSearchCV(estimator=DecisionTreeClassifier(random_state=1),\n",
    "                    param_grid=[{'max_depth':[1,2,3,4,5,6,7,None], 'criterion':['gini']},\n",
    "                               {'max_depth':[1,2,3,4,5,6,7,None], 'criterion':['entropy']}],\n",
    "                    scoring='accuracy', cv=5).fit(X_train, y_train)"
   ]
  },
  {
   "cell_type": "code",
   "execution_count": 44,
   "id": "7add983b",
   "metadata": {},
   "outputs": [
    {
     "data": {
      "text/plain": [
       "0.9455673758865248"
      ]
     },
     "execution_count": 44,
     "metadata": {},
     "output_type": "execute_result"
    }
   ],
   "source": [
    "GS1_1.best_score_"
   ]
  },
  {
   "cell_type": "code",
   "execution_count": 45,
   "id": "1d088223",
   "metadata": {},
   "outputs": [
    {
     "data": {
      "text/plain": [
       "{'criterion': 'entropy', 'max_depth': 4}"
      ]
     },
     "execution_count": 45,
     "metadata": {},
     "output_type": "execute_result"
    }
   ],
   "source": [
    "GS1_1.best_params_"
   ]
  },
  {
   "cell_type": "code",
   "execution_count": 46,
   "id": "84d1f43f",
   "metadata": {},
   "outputs": [],
   "source": [
    "clf1 = GS1_1.best_estimator_.fit(X_train, y_train)"
   ]
  },
  {
   "cell_type": "code",
   "execution_count": 47,
   "id": "c66ccbad",
   "metadata": {},
   "outputs": [
    {
     "data": {
      "text/plain": [
       "0.9916317991631799"
      ]
     },
     "execution_count": 47,
     "metadata": {},
     "output_type": "execute_result"
    }
   ],
   "source": [
    "clf1.score(X_train, y_train)"
   ]
  },
  {
   "cell_type": "code",
   "execution_count": 48,
   "id": "d30d57da",
   "metadata": {},
   "outputs": [
    {
     "data": {
      "text/plain": [
       "0.9611650485436893"
      ]
     },
     "execution_count": 48,
     "metadata": {},
     "output_type": "execute_result"
    }
   ],
   "source": [
    "clf1.score(X_test, y_test)"
   ]
  },
  {
   "cell_type": "code",
   "execution_count": 49,
   "id": "e408a5b7",
   "metadata": {},
   "outputs": [],
   "source": [
    "param_range = [0.0001, 0.001, 0.01, 0.1, 1.0, 10.0, 100.0, 1000.0]"
   ]
  },
  {
   "cell_type": "code",
   "execution_count": 50,
   "id": "a520f8bf",
   "metadata": {},
   "outputs": [],
   "source": [
    "param_grid = [{'C':param_range, 'kernel':['linear']},\n",
    "             {'C': param_range, 'gamma': param_range, 'kernel':['rbf']}]"
   ]
  },
  {
   "cell_type": "code",
   "execution_count": 51,
   "id": "b32bacc2",
   "metadata": {},
   "outputs": [],
   "source": [
    "GS2_1 = GridSearchCV(estimator=SVC(random_state=1), \n",
    "                    param_grid=param_grid,\n",
    "                    scoring='accuracy', cv=5).fit(X_train, y_train)"
   ]
  },
  {
   "cell_type": "code",
   "execution_count": 52,
   "id": "583dea66",
   "metadata": {},
   "outputs": [
    {
     "data": {
      "text/plain": [
       "0.9875"
      ]
     },
     "execution_count": 52,
     "metadata": {},
     "output_type": "execute_result"
    }
   ],
   "source": [
    "GS2_1.best_score_"
   ]
  },
  {
   "cell_type": "code",
   "execution_count": 53,
   "id": "e6426fa5",
   "metadata": {},
   "outputs": [
    {
     "data": {
      "text/plain": [
       "{'C': 1.0, 'kernel': 'linear'}"
      ]
     },
     "execution_count": 53,
     "metadata": {},
     "output_type": "execute_result"
    }
   ],
   "source": [
    "GS2_1.best_params_"
   ]
  },
  {
   "cell_type": "code",
   "execution_count": 54,
   "id": "603b1fcf",
   "metadata": {},
   "outputs": [],
   "source": [
    "clf2 = GS2_1.best_estimator_.fit(X_train, y_train)"
   ]
  },
  {
   "cell_type": "code",
   "execution_count": 55,
   "id": "8bee7ae7",
   "metadata": {},
   "outputs": [
    {
     "data": {
      "text/plain": [
       "0.99581589958159"
      ]
     },
     "execution_count": 55,
     "metadata": {},
     "output_type": "execute_result"
    }
   ],
   "source": [
    "clf2.score(X_train, y_train)"
   ]
  },
  {
   "cell_type": "code",
   "execution_count": 56,
   "id": "84bc4391",
   "metadata": {},
   "outputs": [
    {
     "data": {
      "text/plain": [
       "1.0"
      ]
     },
     "execution_count": 56,
     "metadata": {},
     "output_type": "execute_result"
    }
   ],
   "source": [
    "clf2.score(X_test, y_test)"
   ]
  },
  {
   "cell_type": "code",
   "execution_count": 57,
   "id": "9498810d",
   "metadata": {},
   "outputs": [],
   "source": [
    "X=df[['bill_length_mm','bill_depth_mm','flipper_length_mm','body_mass_g']]\n",
    "y=df['species']"
   ]
  },
  {
   "cell_type": "code",
   "execution_count": 58,
   "id": "c00feb68",
   "metadata": {},
   "outputs": [],
   "source": [
    "from sklearn.model_selection import StratifiedKFold"
   ]
  },
  {
   "cell_type": "code",
   "execution_count": 59,
   "id": "90405266",
   "metadata": {},
   "outputs": [],
   "source": [
    "inner_cv = StratifiedKFold(n_splits=3, shuffle=True, random_state=1)"
   ]
  },
  {
   "cell_type": "code",
   "execution_count": 60,
   "id": "cc2f02e9",
   "metadata": {},
   "outputs": [],
   "source": [
    "outer_cv = StratifiedKFold(n_splits=5, shuffle=True, random_state=1)"
   ]
  },
  {
   "cell_type": "code",
   "execution_count": 61,
   "id": "5484e552",
   "metadata": {},
   "outputs": [],
   "source": [
    "GS1_2 = GridSearchCV(estimator=DecisionTreeClassifier(random_state=1),\n",
    "                    param_grid=[{'max_depth':[1,2,3,4,5,6,7,None], 'criterion':['gini']},\n",
    "                               {'max_depth':[1,2,3,4,5,6,7,None], 'criterion':['entropy']}],\n",
    "                    scoring='accuracy', cv=inner_cv)"
   ]
  },
  {
   "cell_type": "code",
   "execution_count": 62,
   "id": "54141d51",
   "metadata": {},
   "outputs": [],
   "source": [
    "from sklearn.model_selection import cross_val_score, cross_validate"
   ]
  },
  {
   "cell_type": "code",
   "execution_count": 63,
   "id": "7d45e2ef",
   "metadata": {},
   "outputs": [],
   "source": [
    "scores = cross_val_score(GS1_2, X, y, scoring='accuracy', cv=outer_cv)"
   ]
  },
  {
   "cell_type": "code",
   "execution_count": 64,
   "id": "25dde651",
   "metadata": {},
   "outputs": [
    {
     "data": {
      "text/plain": [
       "array([0.97101449, 0.98550725, 0.98529412, 0.92647059, 0.91176471])"
      ]
     },
     "execution_count": 64,
     "metadata": {},
     "output_type": "execute_result"
    }
   ],
   "source": [
    "scores"
   ]
  },
  {
   "cell_type": "code",
   "execution_count": 65,
   "id": "305bba65",
   "metadata": {},
   "outputs": [],
   "source": [
    "from numpy import mean, std"
   ]
  },
  {
   "cell_type": "code",
   "execution_count": 66,
   "id": "dc19bd12",
   "metadata": {},
   "outputs": [
    {
     "name": "stdout",
     "output_type": "stream",
     "text": [
      "CV accuracy: 0.956 +/- 0.031\n"
     ]
    }
   ],
   "source": [
    "print('CV accuracy: %.3f +/- %.3f'%(mean(scores), std(scores)))"
   ]
  },
  {
   "cell_type": "code",
   "execution_count": 67,
   "id": "040ed8cc",
   "metadata": {},
   "outputs": [],
   "source": [
    "GS2_2 = GridSearchCV(estimator=SVC(random_state=1), \n",
    "                    param_grid=param_grid,\n",
    "                    scoring='accuracy', cv=inner_cv)"
   ]
  },
  {
   "cell_type": "code",
   "execution_count": 68,
   "id": "a3d5b3f7",
   "metadata": {},
   "outputs": [],
   "source": [
    "scores = cross_val_score(GS2_2, X, y, scoring='accuracy', cv=outer_cv)"
   ]
  },
  {
   "cell_type": "code",
   "execution_count": 69,
   "id": "c86c9466",
   "metadata": {},
   "outputs": [
    {
     "name": "stdout",
     "output_type": "stream",
     "text": [
      "[0.97101449 0.98550725 1.         1.         0.97058824]\n"
     ]
    }
   ],
   "source": [
    "print(scores)"
   ]
  },
  {
   "cell_type": "code",
   "execution_count": 70,
   "id": "59120dc5",
   "metadata": {},
   "outputs": [
    {
     "name": "stdout",
     "output_type": "stream",
     "text": [
      "CV accuracy: 0.985 +/- 0.013\n"
     ]
    }
   ],
   "source": [
    "print('CV accuracy: %.3f +/- %.3f'%(mean(scores), std(scores)))"
   ]
  },
  {
   "cell_type": "markdown",
   "id": "1eefa585",
   "metadata": {},
   "source": [
    "SVM의 정분률율이 더 높은 것을 확인"
   ]
  }
 ],
 "metadata": {
  "kernelspec": {
   "display_name": "Python 3 (ipykernel)",
   "language": "python",
   "name": "python3"
  },
  "language_info": {
   "codemirror_mode": {
    "name": "ipython",
    "version": 3
   },
   "file_extension": ".py",
   "mimetype": "text/x-python",
   "name": "python",
   "nbconvert_exporter": "python",
   "pygments_lexer": "ipython3",
   "version": "3.9.12"
  }
 },
 "nbformat": 4,
 "nbformat_minor": 5
}
