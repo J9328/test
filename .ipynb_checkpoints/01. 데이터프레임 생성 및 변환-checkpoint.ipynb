{
 "cells": [
  {
   "cell_type": "markdown",
   "id": "22652d65",
   "metadata": {},
   "source": [
    "# 01. 데이터프레임 생성 및 변환"
   ]
  },
  {
   "cell_type": "markdown",
   "id": "b2472ab3",
   "metadata": {},
   "source": [
    "## 1. Pandas 모듈을 활용한 데이터 프레임 생성"
   ]
  },
  {
   "cell_type": "code",
   "execution_count": 1,
   "id": "179769df",
   "metadata": {},
   "outputs": [],
   "source": [
    "import pandas as pd\n",
    "dict_data = {'c0':[1,2,3], 'c1':[4,5,6], 'c2':[7,8,9],'c3':[10,11,12],'c4':[13,14,15]}\n",
    "df = pd.DataFrame(dict_data)"
   ]
  },
  {
   "cell_type": "code",
   "execution_count": 2,
   "id": "884e6546",
   "metadata": {},
   "outputs": [
    {
     "name": "stdout",
     "output_type": "stream",
     "text": [
      "   c0  c1  c2  c3  c4\n",
      "0   1   4   7  10  13\n",
      "1   2   5   8  11  14\n",
      "2   3   6   9  12  15\n"
     ]
    }
   ],
   "source": [
    "print(df)"
   ]
  },
  {
   "cell_type": "markdown",
   "id": "2f23fc69",
   "metadata": {},
   "source": [
    "2차원 배열 전환 시: 행 인덱스와 열 이름 직접 지정 가능"
   ]
  },
  {
   "cell_type": "markdown",
   "id": "c5273b73",
   "metadata": {},
   "source": [
    "## 2. Pandas 모듈을 활용한 데이터 프레임 변환"
   ]
  },
  {
   "cell_type": "markdown",
   "id": "e14de97e",
   "metadata": {},
   "source": [
    "### 행 인덱스와 열 이름 설정\n",
    "> pandas.DataFrame(2차원 배열,index=행 인덱스 배열,columns=열 이름 배열)"
   ]
  },
  {
   "cell_type": "code",
   "execution_count": 3,
   "id": "04bb0646",
   "metadata": {},
   "outputs": [
    {
     "data": {
      "text/html": [
       "<div>\n",
       "<style scoped>\n",
       "    .dataframe tbody tr th:only-of-type {\n",
       "        vertical-align: middle;\n",
       "    }\n",
       "\n",
       "    .dataframe tbody tr th {\n",
       "        vertical-align: top;\n",
       "    }\n",
       "\n",
       "    .dataframe thead th {\n",
       "        text-align: right;\n",
       "    }\n",
       "</style>\n",
       "<table border=\"1\" class=\"dataframe\">\n",
       "  <thead>\n",
       "    <tr style=\"text-align: right;\">\n",
       "      <th></th>\n",
       "      <th>나이</th>\n",
       "      <th>성별</th>\n",
       "      <th>학교</th>\n",
       "    </tr>\n",
       "  </thead>\n",
       "  <tbody>\n",
       "    <tr>\n",
       "      <th>준서</th>\n",
       "      <td>15</td>\n",
       "      <td>남</td>\n",
       "      <td>덕영중</td>\n",
       "    </tr>\n",
       "    <tr>\n",
       "      <th>예은</th>\n",
       "      <td>17</td>\n",
       "      <td>여</td>\n",
       "      <td>수리중</td>\n",
       "    </tr>\n",
       "  </tbody>\n",
       "</table>\n",
       "</div>"
      ],
      "text/plain": [
       "    나이 성별   학교\n",
       "준서  15  남  덕영중\n",
       "예은  17  여  수리중"
      ]
     },
     "execution_count": 3,
     "metadata": {},
     "output_type": "execute_result"
    }
   ],
   "source": [
    "df = pd.DataFrame([[15, '남', '덕영중'], [17, '여', '수리중']],\n",
    "                 index=['준서', '예은'],\n",
    "                 columns=['나이', '성별', '학교'])\n",
    "df"
   ]
  },
  {
   "cell_type": "markdown",
   "id": "a3177bc4",
   "metadata": {},
   "source": [
    "### 행 인덱스와 열 이름 변경\n",
    "\n",
    "> 행 인덱스 변경: DataFrame객체.index=새로운 행 인덱스 배열   \n",
    "> 행 열 이름 변경: DataFrame객체.columns=새로운열 이름 배열  "
   ]
  },
  {
   "cell_type": "code",
   "execution_count": 4,
   "id": "2d5f9c72",
   "metadata": {},
   "outputs": [
    {
     "data": {
      "text/html": [
       "<div>\n",
       "<style scoped>\n",
       "    .dataframe tbody tr th:only-of-type {\n",
       "        vertical-align: middle;\n",
       "    }\n",
       "\n",
       "    .dataframe tbody tr th {\n",
       "        vertical-align: top;\n",
       "    }\n",
       "\n",
       "    .dataframe thead th {\n",
       "        text-align: right;\n",
       "    }\n",
       "</style>\n",
       "<table border=\"1\" class=\"dataframe\">\n",
       "  <thead>\n",
       "    <tr style=\"text-align: right;\">\n",
       "      <th></th>\n",
       "      <th>연령</th>\n",
       "      <th>남녀</th>\n",
       "      <th>소속</th>\n",
       "    </tr>\n",
       "  </thead>\n",
       "  <tbody>\n",
       "    <tr>\n",
       "      <th>학생1</th>\n",
       "      <td>15</td>\n",
       "      <td>남</td>\n",
       "      <td>덕영중</td>\n",
       "    </tr>\n",
       "    <tr>\n",
       "      <th>학생2</th>\n",
       "      <td>17</td>\n",
       "      <td>여</td>\n",
       "      <td>수리중</td>\n",
       "    </tr>\n",
       "  </tbody>\n",
       "</table>\n",
       "</div>"
      ],
      "text/plain": [
       "     연령 남녀   소속\n",
       "학생1  15  남  덕영중\n",
       "학생2  17  여  수리중"
      ]
     },
     "execution_count": 4,
     "metadata": {},
     "output_type": "execute_result"
    }
   ],
   "source": [
    "df = pd.DataFrame([[15, '남', '덕영중'], [17, '여', '수리중']], \n",
    "                  index=['준서', '예은'],\n",
    "                  columns=['나이', '성별', '학교'])\n",
    "\n",
    "df.index = ['학생1', '학생2']\n",
    "df.columns = ['연령', '남녀', '소속']\n",
    "\n",
    "df"
   ]
  },
  {
   "cell_type": "markdown",
   "id": "584398e8",
   "metadata": {},
   "source": [
    "### 일부 행 인덱스와 열 이름 변경\n",
    "* rename() 함수의 index 및 columns 옵션을 통해 기존의 이름과 변경하고자 하는 이름을 딕셔너리형태로 구성하여 선택한 행 인덱스와 열 이름을 변경할 수 있음.  \n",
    "\n",
    "* rename() 함수의 경우 원본 객체를 직접 수정하는 것이 아니라 새로운 데이터프레임 객체를 반환하는 방식이므로 원본 객체를 변경하고자 한다 면 inplace=True 옵션을 사용하면 됨.  "
   ]
  },
  {
   "cell_type": "code",
   "execution_count": 5,
   "id": "cd443099",
   "metadata": {
    "scrolled": true
   },
   "outputs": [
    {
     "data": {
      "text/html": [
       "<div>\n",
       "<style scoped>\n",
       "    .dataframe tbody tr th:only-of-type {\n",
       "        vertical-align: middle;\n",
       "    }\n",
       "\n",
       "    .dataframe tbody tr th {\n",
       "        vertical-align: top;\n",
       "    }\n",
       "\n",
       "    .dataframe thead th {\n",
       "        text-align: right;\n",
       "    }\n",
       "</style>\n",
       "<table border=\"1\" class=\"dataframe\">\n",
       "  <thead>\n",
       "    <tr style=\"text-align: right;\">\n",
       "      <th></th>\n",
       "      <th>연령</th>\n",
       "      <th>남녀</th>\n",
       "      <th>소속</th>\n",
       "    </tr>\n",
       "  </thead>\n",
       "  <tbody>\n",
       "    <tr>\n",
       "      <th>준서</th>\n",
       "      <td>15</td>\n",
       "      <td>남</td>\n",
       "      <td>덕영중</td>\n",
       "    </tr>\n",
       "    <tr>\n",
       "      <th>예은</th>\n",
       "      <td>17</td>\n",
       "      <td>여</td>\n",
       "      <td>수리중</td>\n",
       "    </tr>\n",
       "  </tbody>\n",
       "</table>\n",
       "</div>"
      ],
      "text/plain": [
       "    연령 남녀   소속\n",
       "준서  15  남  덕영중\n",
       "예은  17  여  수리중"
      ]
     },
     "execution_count": 5,
     "metadata": {},
     "output_type": "execute_result"
    }
   ],
   "source": [
    "df = pd.DataFrame([[15, '남', '덕영중'], [17, '여', '수리중']], \n",
    "                  index=['준서', '예은'],\n",
    "                  columns=['나이', '성별', '학교'])\n",
    "\n",
    "df.rename(columns={'나이':'연령', '성별':'남녀', '학교':'소속'}, inplace=True)\n",
    "df.rename(index={'학생1':'준서', '학생2':'예은'}, inplace=True)\n",
    "\n",
    "df"
   ]
  },
  {
   "cell_type": "markdown",
   "id": "cfdd7506",
   "metadata": {},
   "source": [
    "### 행과 열 삭제\n",
    "* 데이터프레임의 행 또는 열을 삭제하는 명령으로 drop() 함수가 있음.\n",
    "* 행을 삭제하고자 할 때는 축을 지정하는 axis 옵션에 0을 지정하고, 열을 삭제하고자 할 때는 axis 옵션에 1을 지정하면 됨.\n",
    "\n",
    "> 행 삭제: DataFrame객체.drop(행 인덱스 또는 배열, axis=0)  \n",
    "> 열 삭제: DataFrame객체.drop(열 이름 또는 배열, axis=1)  "
   ]
  },
  {
   "cell_type": "code",
   "execution_count": 6,
   "id": "e990f2dd",
   "metadata": {
    "scrolled": true
   },
   "outputs": [
    {
     "data": {
      "text/html": [
       "<div>\n",
       "<style scoped>\n",
       "    .dataframe tbody tr th:only-of-type {\n",
       "        vertical-align: middle;\n",
       "    }\n",
       "\n",
       "    .dataframe tbody tr th {\n",
       "        vertical-align: top;\n",
       "    }\n",
       "\n",
       "    .dataframe thead th {\n",
       "        text-align: right;\n",
       "    }\n",
       "</style>\n",
       "<table border=\"1\" class=\"dataframe\">\n",
       "  <thead>\n",
       "    <tr style=\"text-align: right;\">\n",
       "      <th></th>\n",
       "      <th>수학</th>\n",
       "      <th>영어</th>\n",
       "      <th>음악</th>\n",
       "      <th>체육</th>\n",
       "    </tr>\n",
       "  </thead>\n",
       "  <tbody>\n",
       "    <tr>\n",
       "      <th>서준</th>\n",
       "      <td>90</td>\n",
       "      <td>98</td>\n",
       "      <td>85</td>\n",
       "      <td>100</td>\n",
       "    </tr>\n",
       "    <tr>\n",
       "      <th>우현</th>\n",
       "      <td>80</td>\n",
       "      <td>89</td>\n",
       "      <td>95</td>\n",
       "      <td>90</td>\n",
       "    </tr>\n",
       "    <tr>\n",
       "      <th>인아</th>\n",
       "      <td>70</td>\n",
       "      <td>95</td>\n",
       "      <td>100</td>\n",
       "      <td>90</td>\n",
       "    </tr>\n",
       "  </tbody>\n",
       "</table>\n",
       "</div>"
      ],
      "text/plain": [
       "    수학  영어   음악   체육\n",
       "서준  90  98   85  100\n",
       "우현  80  89   95   90\n",
       "인아  70  95  100   90"
      ]
     },
     "execution_count": 6,
     "metadata": {},
     "output_type": "execute_result"
    }
   ],
   "source": [
    "exam_data = {'수학':[90, 80, 70], '영어':[98, 89,95],\n",
    "            '음악':[85, 95, 100],'체육':[100, 90, 90]}\n",
    "\n",
    "df = pd.DataFrame(exam_data, index=['서준','우현','인아'])\n",
    "\n",
    "df"
   ]
  },
  {
   "cell_type": "code",
   "execution_count": 7,
   "id": "02b3701e",
   "metadata": {},
   "outputs": [
    {
     "data": {
      "text/html": [
       "<div>\n",
       "<style scoped>\n",
       "    .dataframe tbody tr th:only-of-type {\n",
       "        vertical-align: middle;\n",
       "    }\n",
       "\n",
       "    .dataframe tbody tr th {\n",
       "        vertical-align: top;\n",
       "    }\n",
       "\n",
       "    .dataframe thead th {\n",
       "        text-align: right;\n",
       "    }\n",
       "</style>\n",
       "<table border=\"1\" class=\"dataframe\">\n",
       "  <thead>\n",
       "    <tr style=\"text-align: right;\">\n",
       "      <th></th>\n",
       "      <th>수학</th>\n",
       "      <th>영어</th>\n",
       "      <th>음악</th>\n",
       "      <th>체육</th>\n",
       "    </tr>\n",
       "  </thead>\n",
       "  <tbody>\n",
       "    <tr>\n",
       "      <th>서준</th>\n",
       "      <td>90</td>\n",
       "      <td>98</td>\n",
       "      <td>85</td>\n",
       "      <td>100</td>\n",
       "    </tr>\n",
       "    <tr>\n",
       "      <th>인아</th>\n",
       "      <td>70</td>\n",
       "      <td>95</td>\n",
       "      <td>100</td>\n",
       "      <td>90</td>\n",
       "    </tr>\n",
       "  </tbody>\n",
       "</table>\n",
       "</div>"
      ],
      "text/plain": [
       "    수학  영어   음악   체육\n",
       "서준  90  98   85  100\n",
       "인아  70  95  100   90"
      ]
     },
     "execution_count": 7,
     "metadata": {},
     "output_type": "execute_result"
    }
   ],
   "source": [
    "df.drop('우현')"
   ]
  },
  {
   "cell_type": "code",
   "execution_count": 8,
   "id": "4022c539",
   "metadata": {},
   "outputs": [
    {
     "data": {
      "text/html": [
       "<div>\n",
       "<style scoped>\n",
       "    .dataframe tbody tr th:only-of-type {\n",
       "        vertical-align: middle;\n",
       "    }\n",
       "\n",
       "    .dataframe tbody tr th {\n",
       "        vertical-align: top;\n",
       "    }\n",
       "\n",
       "    .dataframe thead th {\n",
       "        text-align: right;\n",
       "    }\n",
       "</style>\n",
       "<table border=\"1\" class=\"dataframe\">\n",
       "  <thead>\n",
       "    <tr style=\"text-align: right;\">\n",
       "      <th></th>\n",
       "      <th>수학</th>\n",
       "      <th>영어</th>\n",
       "      <th>음악</th>\n",
       "      <th>체육</th>\n",
       "    </tr>\n",
       "  </thead>\n",
       "  <tbody>\n",
       "    <tr>\n",
       "      <th>서준</th>\n",
       "      <td>90</td>\n",
       "      <td>98</td>\n",
       "      <td>85</td>\n",
       "      <td>100</td>\n",
       "    </tr>\n",
       "  </tbody>\n",
       "</table>\n",
       "</div>"
      ],
      "text/plain": [
       "    수학  영어  음악   체육\n",
       "서준  90  98  85  100"
      ]
     },
     "execution_count": 8,
     "metadata": {},
     "output_type": "execute_result"
    }
   ],
   "source": [
    "df.drop(['우현', '인아'], axis=0)"
   ]
  },
  {
   "cell_type": "code",
   "execution_count": 9,
   "id": "a014182c",
   "metadata": {},
   "outputs": [
    {
     "data": {
      "text/html": [
       "<div>\n",
       "<style scoped>\n",
       "    .dataframe tbody tr th:only-of-type {\n",
       "        vertical-align: middle;\n",
       "    }\n",
       "\n",
       "    .dataframe tbody tr th {\n",
       "        vertical-align: top;\n",
       "    }\n",
       "\n",
       "    .dataframe thead th {\n",
       "        text-align: right;\n",
       "    }\n",
       "</style>\n",
       "<table border=\"1\" class=\"dataframe\">\n",
       "  <thead>\n",
       "    <tr style=\"text-align: right;\">\n",
       "      <th></th>\n",
       "      <th>영어</th>\n",
       "      <th>음악</th>\n",
       "      <th>체육</th>\n",
       "    </tr>\n",
       "  </thead>\n",
       "  <tbody>\n",
       "    <tr>\n",
       "      <th>서준</th>\n",
       "      <td>98</td>\n",
       "      <td>85</td>\n",
       "      <td>100</td>\n",
       "    </tr>\n",
       "    <tr>\n",
       "      <th>우현</th>\n",
       "      <td>89</td>\n",
       "      <td>95</td>\n",
       "      <td>90</td>\n",
       "    </tr>\n",
       "    <tr>\n",
       "      <th>인아</th>\n",
       "      <td>95</td>\n",
       "      <td>100</td>\n",
       "      <td>90</td>\n",
       "    </tr>\n",
       "  </tbody>\n",
       "</table>\n",
       "</div>"
      ],
      "text/plain": [
       "    영어   음악   체육\n",
       "서준  98   85  100\n",
       "우현  89   95   90\n",
       "인아  95  100   90"
      ]
     },
     "execution_count": 9,
     "metadata": {},
     "output_type": "execute_result"
    }
   ],
   "source": [
    "df.drop('수학', axis=1)"
   ]
  },
  {
   "cell_type": "code",
   "execution_count": 10,
   "id": "093fe222",
   "metadata": {},
   "outputs": [
    {
     "data": {
      "text/html": [
       "<div>\n",
       "<style scoped>\n",
       "    .dataframe tbody tr th:only-of-type {\n",
       "        vertical-align: middle;\n",
       "    }\n",
       "\n",
       "    .dataframe tbody tr th {\n",
       "        vertical-align: top;\n",
       "    }\n",
       "\n",
       "    .dataframe thead th {\n",
       "        text-align: right;\n",
       "    }\n",
       "</style>\n",
       "<table border=\"1\" class=\"dataframe\">\n",
       "  <thead>\n",
       "    <tr style=\"text-align: right;\">\n",
       "      <th></th>\n",
       "      <th>영어</th>\n",
       "      <th>체육</th>\n",
       "    </tr>\n",
       "  </thead>\n",
       "  <tbody>\n",
       "    <tr>\n",
       "      <th>서준</th>\n",
       "      <td>98</td>\n",
       "      <td>100</td>\n",
       "    </tr>\n",
       "    <tr>\n",
       "      <th>우현</th>\n",
       "      <td>89</td>\n",
       "      <td>90</td>\n",
       "    </tr>\n",
       "    <tr>\n",
       "      <th>인아</th>\n",
       "      <td>95</td>\n",
       "      <td>90</td>\n",
       "    </tr>\n",
       "  </tbody>\n",
       "</table>\n",
       "</div>"
      ],
      "text/plain": [
       "    영어   체육\n",
       "서준  98  100\n",
       "우현  89   90\n",
       "인아  95   90"
      ]
     },
     "execution_count": 10,
     "metadata": {},
     "output_type": "execute_result"
    }
   ],
   "source": [
    "df.drop(['수학', '음악'], axis=1)"
   ]
  },
  {
   "cell_type": "markdown",
   "id": "277563a9",
   "metadata": {},
   "source": [
    "### 행, 열, 원소 선택\n",
    "\n",
    "* 인덱스 이름을 기준으로 행을 선택할 때는 loc를 이용하고, 정수형 위치 인덱스를 사용할 때는 iloc를 이용\n",
    "* 2개 이상의 행 인덱스를 리스트 형태로 입력하면 매칭되는 모든 행 데이 터를 동시에 추출할 수 있음\n"
   ]
  },
  {
   "cell_type": "code",
   "execution_count": 11,
   "id": "ce9833a3",
   "metadata": {},
   "outputs": [
    {
     "data": {
      "text/html": [
       "<div>\n",
       "<style scoped>\n",
       "    .dataframe tbody tr th:only-of-type {\n",
       "        vertical-align: middle;\n",
       "    }\n",
       "\n",
       "    .dataframe tbody tr th {\n",
       "        vertical-align: top;\n",
       "    }\n",
       "\n",
       "    .dataframe thead th {\n",
       "        text-align: right;\n",
       "    }\n",
       "</style>\n",
       "<table border=\"1\" class=\"dataframe\">\n",
       "  <thead>\n",
       "    <tr style=\"text-align: right;\">\n",
       "      <th></th>\n",
       "      <th>수학</th>\n",
       "      <th>영어</th>\n",
       "      <th>음악</th>\n",
       "      <th>체육</th>\n",
       "    </tr>\n",
       "  </thead>\n",
       "  <tbody>\n",
       "    <tr>\n",
       "      <th>서준</th>\n",
       "      <td>90</td>\n",
       "      <td>98</td>\n",
       "      <td>85</td>\n",
       "      <td>100</td>\n",
       "    </tr>\n",
       "    <tr>\n",
       "      <th>우현</th>\n",
       "      <td>80</td>\n",
       "      <td>89</td>\n",
       "      <td>95</td>\n",
       "      <td>90</td>\n",
       "    </tr>\n",
       "    <tr>\n",
       "      <th>인아</th>\n",
       "      <td>70</td>\n",
       "      <td>95</td>\n",
       "      <td>100</td>\n",
       "      <td>90</td>\n",
       "    </tr>\n",
       "  </tbody>\n",
       "</table>\n",
       "</div>"
      ],
      "text/plain": [
       "    수학  영어   음악   체육\n",
       "서준  90  98   85  100\n",
       "우현  80  89   95   90\n",
       "인아  70  95  100   90"
      ]
     },
     "execution_count": 11,
     "metadata": {},
     "output_type": "execute_result"
    }
   ],
   "source": [
    "exam_data = {'수학':[90, 80, 70], '영어':[98, 89,95],\n",
    "            '음악':[85, 95, 100],'체육':[100, 90, 90]}\n",
    "\n",
    "df = pd.DataFrame(exam_data, index=['서준','우현','인아'])\n",
    "\n",
    "df"
   ]
  },
  {
   "cell_type": "code",
   "execution_count": 12,
   "id": "775540bb",
   "metadata": {},
   "outputs": [
    {
     "data": {
      "text/plain": [
       "수학     90\n",
       "영어     98\n",
       "음악     85\n",
       "체육    100\n",
       "Name: 서준, dtype: int64"
      ]
     },
     "execution_count": 12,
     "metadata": {},
     "output_type": "execute_result"
    }
   ],
   "source": [
    "df.loc['서준']"
   ]
  },
  {
   "cell_type": "code",
   "execution_count": 13,
   "id": "118aa149",
   "metadata": {},
   "outputs": [
    {
     "data": {
      "text/plain": [
       "수학     90\n",
       "영어     98\n",
       "음악     85\n",
       "체육    100\n",
       "Name: 서준, dtype: int64"
      ]
     },
     "execution_count": 13,
     "metadata": {},
     "output_type": "execute_result"
    }
   ],
   "source": [
    "df.iloc[0]"
   ]
  },
  {
   "cell_type": "code",
   "execution_count": 14,
   "id": "01be631b",
   "metadata": {},
   "outputs": [
    {
     "data": {
      "text/html": [
       "<div>\n",
       "<style scoped>\n",
       "    .dataframe tbody tr th:only-of-type {\n",
       "        vertical-align: middle;\n",
       "    }\n",
       "\n",
       "    .dataframe tbody tr th {\n",
       "        vertical-align: top;\n",
       "    }\n",
       "\n",
       "    .dataframe thead th {\n",
       "        text-align: right;\n",
       "    }\n",
       "</style>\n",
       "<table border=\"1\" class=\"dataframe\">\n",
       "  <thead>\n",
       "    <tr style=\"text-align: right;\">\n",
       "      <th></th>\n",
       "      <th>수학</th>\n",
       "      <th>영어</th>\n",
       "      <th>음악</th>\n",
       "      <th>체육</th>\n",
       "    </tr>\n",
       "  </thead>\n",
       "  <tbody>\n",
       "    <tr>\n",
       "      <th>서준</th>\n",
       "      <td>90</td>\n",
       "      <td>98</td>\n",
       "      <td>85</td>\n",
       "      <td>100</td>\n",
       "    </tr>\n",
       "    <tr>\n",
       "      <th>우현</th>\n",
       "      <td>80</td>\n",
       "      <td>89</td>\n",
       "      <td>95</td>\n",
       "      <td>90</td>\n",
       "    </tr>\n",
       "  </tbody>\n",
       "</table>\n",
       "</div>"
      ],
      "text/plain": [
       "    수학  영어  음악   체육\n",
       "서준  90  98  85  100\n",
       "우현  80  89  95   90"
      ]
     },
     "execution_count": 14,
     "metadata": {},
     "output_type": "execute_result"
    }
   ],
   "source": [
    "df.loc['서준':'우현'] # '서준','우현'으로 리스트를 만들면 에러 발생!"
   ]
  },
  {
   "cell_type": "code",
   "execution_count": 15,
   "id": "c132126e",
   "metadata": {},
   "outputs": [
    {
     "data": {
      "text/html": [
       "<div>\n",
       "<style scoped>\n",
       "    .dataframe tbody tr th:only-of-type {\n",
       "        vertical-align: middle;\n",
       "    }\n",
       "\n",
       "    .dataframe tbody tr th {\n",
       "        vertical-align: top;\n",
       "    }\n",
       "\n",
       "    .dataframe thead th {\n",
       "        text-align: right;\n",
       "    }\n",
       "</style>\n",
       "<table border=\"1\" class=\"dataframe\">\n",
       "  <thead>\n",
       "    <tr style=\"text-align: right;\">\n",
       "      <th></th>\n",
       "      <th>수학</th>\n",
       "      <th>영어</th>\n",
       "      <th>음악</th>\n",
       "      <th>체육</th>\n",
       "    </tr>\n",
       "  </thead>\n",
       "  <tbody>\n",
       "    <tr>\n",
       "      <th>서준</th>\n",
       "      <td>90</td>\n",
       "      <td>98</td>\n",
       "      <td>85</td>\n",
       "      <td>100</td>\n",
       "    </tr>\n",
       "  </tbody>\n",
       "</table>\n",
       "</div>"
      ],
      "text/plain": [
       "    수학  영어  음악   체육\n",
       "서준  90  98  85  100"
      ]
     },
     "execution_count": 15,
     "metadata": {},
     "output_type": "execute_result"
    }
   ],
   "source": [
    "df.iloc[0:1]"
   ]
  },
  {
   "cell_type": "markdown",
   "id": "bd847141",
   "metadata": {},
   "source": [
    "> 각각의 열을 가져오고 싶을 때는 [[ ... , ... ]] 형식의 리스트 입력  \n",
    "> iloc에서는 정수형 위치 인덱스로는 이 방식 사용 불가  "
   ]
  },
  {
   "cell_type": "code",
   "execution_count": 16,
   "id": "19966165",
   "metadata": {},
   "outputs": [
    {
     "ename": "SyntaxError",
     "evalue": "unexpected EOF while parsing (3455418487.py, line 1)",
     "output_type": "error",
     "traceback": [
      "\u001b[0;36m  Input \u001b[0;32mIn [16]\u001b[0;36m\u001b[0m\n\u001b[0;31m    df.loc[['서준', '인아']\u001b[0m\n\u001b[0m                       ^\u001b[0m\n\u001b[0;31mSyntaxError\u001b[0m\u001b[0;31m:\u001b[0m unexpected EOF while parsing\n"
     ]
    }
   ],
   "source": [
    "df.loc[['서준', '인아']"
   ]
  },
  {
   "cell_type": "markdown",
   "id": "30e96483",
   "metadata": {},
   "source": [
    "### 열 선택\n",
    "\n",
    "* 데이터프레임의 열 데이터를 1개만 선택할 때는 대괄호([]) 안에 열 이름을 따옴표(“”)와 함께 입력하거나, 마침표(.) 다음에 열 이름을 입력하는 두 가지 방식을 사용할 수 있음. \n",
    "* 마침표 사용의 경우 반드시 열 이름이 문자열일 경우에만 가능함.\n",
    "\n",
    "> 열 1개 선택: DataFrame객체[“열 이름”] 또는 DataFrame객체.열이름  \n",
    "> 열 n개 선택: DataFrame객체[[열1, 열2, ..., 열n]]  "
   ]
  },
  {
   "cell_type": "code",
   "execution_count": null,
   "id": "9ab6b5be",
   "metadata": {},
   "outputs": [],
   "source": [
    "exam_data = {'수학':[90, 80, 70], '영어':[98, 89,95],\n",
    "            '음악':[85, 95, 100],'체육':[100, 90, 90]}\n",
    "\n",
    "df = pd.DataFrame(exam_data, index=['서준','우현','인아'])\n",
    "\n",
    "df"
   ]
  },
  {
   "cell_type": "code",
   "execution_count": null,
   "id": "e889195d",
   "metadata": {},
   "outputs": [],
   "source": [
    "df['수학']"
   ]
  },
  {
   "cell_type": "code",
   "execution_count": null,
   "id": "7b1f9a49",
   "metadata": {},
   "outputs": [],
   "source": [
    "df.영어 # 열 이름이 문자열일 경우만 사용 가능"
   ]
  },
  {
   "cell_type": "code",
   "execution_count": null,
   "id": "92a294ed",
   "metadata": {},
   "outputs": [],
   "source": [
    "df[['음악','체육']]"
   ]
  },
  {
   "cell_type": "markdown",
   "id": "760b399a",
   "metadata": {},
   "source": [
    "### 원소 선택\n",
    "\n",
    "* 데이터프레임의 행 인덱스와 열 이름을 [행, 열] 형식의 2차원 좌표로 입력하여 원소 위치를 지정하는 방법  \n",
    "* 행 선택 방법과 마찬가지로 행과 열의 이름을 기준으로 행을 선택할 때는 loc를 이용하고, 정수형 위치를 사용할 때는 iloc를 이용함.  \n",
    "\n",
    "> 인덱스 이름: DataFrame객체.loc[행인덱스, 열이름]  \n",
    "> 정수 위치 인덱스: DataFrame객체.iloc[행번호, 열번호]"
   ]
  },
  {
   "cell_type": "code",
   "execution_count": null,
   "id": "c7a100af",
   "metadata": {},
   "outputs": [],
   "source": [
    "exam_data = {'수학':[90, 80, 70], '영어':[98, 89,95],\n",
    "            '음악':[85, 95, 100],'체육':[100, 90, 90]}\n",
    "\n",
    "df = pd.DataFrame(exam_data, index=['서준','우현','인아'])\n",
    "\n",
    "df"
   ]
  },
  {
   "cell_type": "code",
   "execution_count": null,
   "id": "df6f6b76",
   "metadata": {},
   "outputs": [],
   "source": [
    "df.loc['서준', '음악']"
   ]
  },
  {
   "cell_type": "code",
   "execution_count": null,
   "id": "47b4f90d",
   "metadata": {},
   "outputs": [],
   "source": [
    "df.iloc[0, 2]"
   ]
  },
  {
   "cell_type": "code",
   "execution_count": null,
   "id": "16d0e44c",
   "metadata": {},
   "outputs": [],
   "source": [
    "df.loc['서준', ['음악', '체육']]"
   ]
  },
  {
   "cell_type": "code",
   "execution_count": null,
   "id": "75053098",
   "metadata": {},
   "outputs": [],
   "source": [
    "df.iloc[0, [2, 3]]"
   ]
  },
  {
   "cell_type": "markdown",
   "id": "55d52abe",
   "metadata": {},
   "source": [
    "### 행과 열 추가"
   ]
  },
  {
   "cell_type": "markdown",
   "id": "0ebb5f90",
   "metadata": {},
   "source": [
    "#### 행 추가\n",
    "\n",
    "* 추가하려는 행 이름과 데이터 값을 loc 인덱서를 이용하여 입력\n",
    "* 하나의 값만 입력한 경우 행의 모든 원소에 같은 값이 추가  \n",
    "* 새로운 행을 추가할 때는 기존 행 인덱스와 겹치지 않는 새로운 인덱스를 사용하고, 중복되는 경우 기존의 행의 원소값을 변경\n",
    "\n",
    "> DataFrame객체.loc[“새로운행 이름”] = 데이터 값 (또는 배열)  "
   ]
  },
  {
   "cell_type": "markdown",
   "id": "3aa5fe35",
   "metadata": {},
   "source": [
    "#### 열 추가\n",
    "* 대괄호([]) 안에 추가하려는 열 이름을 따옴표(“”)와 함께 입력하고, 데이터값을 할당하는 방법으로 입력\n",
    "* 데이터프레임의 마지막 열에 덧붙이듯 새로운 열이 추가  \n",
    "* 만약 하나의 값만 입력한 경우 모든 행에 동일한 값이 입력  \n",
    "> DataFrame객체[“추가하려는열 이름”] = 데이터 값  "
   ]
  },
  {
   "cell_type": "code",
   "execution_count": null,
   "id": "8d9e4f1c",
   "metadata": {},
   "outputs": [],
   "source": [
    "exam_data = {'수학':[90, 80, 70], '영어':[98, 89,95],\n",
    "            '음악':[85, 95, 100],'체육':[100, 90, 90]}\n",
    "\n",
    "df = pd.DataFrame(exam_data, index=['서준','우현','인아'])\n",
    "\n",
    "df"
   ]
  },
  {
   "cell_type": "code",
   "execution_count": null,
   "id": "8a104718",
   "metadata": {},
   "outputs": [],
   "source": [
    "df['국어'] = 80\n",
    "df"
   ]
  },
  {
   "cell_type": "markdown",
   "id": "f4b988bc",
   "metadata": {},
   "source": [
    "### 원소 값 변경\n",
    "* 데이터프레임의 특정 원소를 선택하고 새로운 데이터값을 지정해주면 원 소값이 변경됨.\n",
    "* 원소 1개를 선택하여 변경할 수도 있고, 여러 개의 원소를 선택하여 한 꺼번에 값을 바꿀 수도 있음.\n",
    "\n",
    "> DataFrame객체의 일부분 또는 원소 선택=새로운 값  "
   ]
  },
  {
   "cell_type": "code",
   "execution_count": null,
   "id": "07cf3b08",
   "metadata": {},
   "outputs": [],
   "source": [
    "exam_data = {'이름': ['서준', '우현', '인아'],\n",
    "             '수학':[90, 80, 70], \n",
    "             '영어':[98, 89,95],\n",
    "             '음악':[85, 95, 100],\n",
    "             '체육':[100, 90, 90]}\n",
    "\n",
    "df = pd.DataFrame(exam_data)\n",
    "df"
   ]
  },
  {
   "cell_type": "code",
   "execution_count": null,
   "id": "c1d9fd82",
   "metadata": {},
   "outputs": [],
   "source": [
    "df.iloc[0, 3] = 1000 # 서준의 음악 점수\n",
    "df"
   ]
  },
  {
   "cell_type": "markdown",
   "id": "4e67346d",
   "metadata": {},
   "source": [
    "### 행과 열 위치 변경\n",
    "* 데이터프레임의 행과 열을 서로 맞바꾸는 방법으로 전치행렬과 같은 개념임.\n",
    "> DataFrame객체.transpose() 또는 DataFrame객체.T  "
   ]
  },
  {
   "cell_type": "code",
   "execution_count": null,
   "id": "521bd4ec",
   "metadata": {},
   "outputs": [],
   "source": [
    "exam_data = {'이름': ['서준', '우현', '인아'],\n",
    "             '수학':[90, 80, 70], \n",
    "             '영어':[98, 89,95],\n",
    "             '음악':[85, 95, 100],\n",
    "             '체육':[100, 90, 90]}\n",
    "\n",
    "df = pd.DataFrame(exam_data)\n",
    "df"
   ]
  },
  {
   "cell_type": "code",
   "execution_count": null,
   "id": "bc659d03",
   "metadata": {},
   "outputs": [],
   "source": [
    "df.transpose()"
   ]
  },
  {
   "cell_type": "markdown",
   "id": "318cafcc",
   "metadata": {},
   "source": [
    "## 데이터프레임 정렬\n",
    "### 행 인덱스를 기준으로 데이터프레임 정렬\n",
    "* sort_index() 함수를 활용하여 행 인덱스를 기준으로 데이터프레임의 값을 정렬할 수 있음. \n",
    "* 여기서 ascending 옵션을 사용하여 오름차순(True) 또는 내림차순 (False)을 설정할 수 있음.\n",
    "\n",
    "> DataFrame객체.sort_index(ascending=True/False)  \n"
   ]
  },
  {
   "cell_type": "code",
   "execution_count": null,
   "id": "714ca0fb",
   "metadata": {},
   "outputs": [],
   "source": [
    "dict_data = {'c0':[1,2,3], 'c1':[4,5,6], 'c2':[7,8,9], 'c3':[10,11,12], 'c4':[13,14,15]}\n",
    "df = pd.DataFrame(dict_data, index=['r0', 'r1', 'r2'])\n",
    "df"
   ]
  },
  {
   "cell_type": "code",
   "execution_count": null,
   "id": "269e5007",
   "metadata": {},
   "outputs": [],
   "source": [
    "df.sort_index(ascending=False)"
   ]
  },
  {
   "cell_type": "markdown",
   "id": "6f45c645",
   "metadata": {},
   "source": [
    "### 특정 열의 데이터 값을 기준으로 데이터프레임 정렬\n",
    "* sort_values() 함수를 활용하여 특정 열을 기준으로 데이터프레임의 값을 정렬할 수 있음.\n",
    "* 여기서 by 옵션을 사용하여 특정 열을 지정할 수 있고, ascending 옵션을 사용하여 오름차순(True) 또는 내림차순(False)을 설정할 수 있음.\n",
    "\n",
    ">DataFrame객체.sort_values(by=기준열이름, ascending=True/False)  "
   ]
  },
  {
   "cell_type": "code",
   "execution_count": null,
   "id": "ab7e0b57",
   "metadata": {},
   "outputs": [],
   "source": [
    "dict_data = {'c0':[1,2,3], 'c1':[4,5,6], 'c2':[7,8,9], 'c3':[10,11,12], 'c4':[13,14,15]}\n",
    "df = pd.DataFrame(dict_data, index=['r0', 'r1', 'r2'])\n",
    "df"
   ]
  },
  {
   "cell_type": "code",
   "execution_count": null,
   "id": "2aacc35a",
   "metadata": {},
   "outputs": [],
   "source": [
    "df.sort_values(by = 'c1', ascending=False)"
   ]
  }
 ],
 "metadata": {
  "kernelspec": {
   "display_name": "Python 3 (ipykernel)",
   "language": "python",
   "name": "python3"
  },
  "language_info": {
   "codemirror_mode": {
    "name": "ipython",
    "version": 3
   },
   "file_extension": ".py",
   "mimetype": "text/x-python",
   "name": "python",
   "nbconvert_exporter": "python",
   "pygments_lexer": "ipython3",
   "version": "3.9.12"
  }
 },
 "nbformat": 4,
 "nbformat_minor": 5
}
