{
 "cells": [
  {
   "cell_type": "markdown",
   "id": "b5d458f1",
   "metadata": {},
   "source": [
    "# 14. 군집분석\n",
    "\n",
    "군집분석은 속성을 분석하여 서로 비슷한 특징을 갖는 관측값끼리 같은 클러스터로 묶는 방법.   \n",
    "어느 클러스터에도 속하지 못하는 관측값을 찾을 수 있기 때문에 특이 데이터를 찾는데 활용하기도 함.   \n",
    "\n",
    "**분류분석과의 비교** \n",
    "- 유사점: 관측값을 몇 개의 집단으로 나눈다는 점\n",
    "- 차이점: 정답이 없는 상태에서 데이터 자체의 유사성만을 기준으로 판단한다는 점\n",
    "\n",
    "## 1. 군집분석의 이해\n",
    "\n",
    "### 1-1. 군집분석의 특징\n",
    "\n",
    "1. 군집분석 = 비지도 학습법\n",
    "2. 모집단 또는 범주에 대한 **사전정보가 없는 경우**에 사용 (분류분석은 범주에 대한 사전 정보가 주어짐)\n",
    "3. 각 군집내의 각 개체들은 다른 군집에 속하는 개체들보다 서로 더 유사하도록 주어진 개체들을 여러 군집들로 나누는 것이 목적\n",
    "4. 각 군집별 특성을 파악함으로써 전체 자료 구조의 이해를 도움\n",
    "5. 특이값을 갖는 개체의 발견이나 결측값의 보정 등에도 활용\n",
    "\n",
    "### 1-2. 거리\n",
    "\n",
    "1. 측도: 관측값들이 서로 얼마나 유사한지 또는 유사하지 않은지를 측정하는 측도가 필요\n",
    "2. **보통 유사성보다는 비유사성을 이용하여 군집화를 진행**\n",
    "3. 변수들이 연속형인 경우, 유클리드 거리, 민콥스키 거리, 맨해튼 거리를 사용 [참고](https://medium.com/h-document/클러스터링-군집-분석-계층적-군집-a7cac74beb6c)\n",
    "\n",
    "### 1-3. 계층적 군집분석\n",
    "\n",
    "1. 병합방법: 순차적으로 가까운 관측값들끼리 묶어주는 방법 (주로 사용)\n",
    "2. 분할방법: 먼 관측값들을 나누어가는 방법\n",
    "3. 군집들간의 거리측정방법\n",
    "    - 최단연결법: 두 군집 사이의 거리를 각 군집에서 하나씩 관측값을 뽑았을 때 나타날 수 있는 모든 거리의 조합을 최소값을 측정하는 방법 (고립된 군집을 찾는데 중점을 둔 방법, 군비이 고리형태로 연결되어 있는 경우에는 부적절한 결과를 줄 수도 있음)\n",
    "    - 최장연결법:두 군집 사이의 거리를 각 군집에서 하나씩 관측값을 뽑았을 때 나타날 수 있는 거리의 최대값으로 측정\n",
    "    - 평균연결법: 한 군집안에 속해 있는 모든 대상과 다른 군집에 속해있는 모든 대상이 쌍집합에 대한 거리를 평균 계산 측정\n",
    "    \n",
    "### 1-4. K 평균 군집방법\n",
    "\n",
    "1. 주어진 군집수 k에 대해서 군집내 거리 제곱합의 합을 최소화 함\n",
    "2. 사전에 결정된 군집수 k가 주어지면 **유클리드 거리**를 이용하여 전체 자료를 상대적으로 유사한 k개의 군집으로 나눔\n",
    "3. 계층적 군집방법에 비하여 계산량이 적고 대용량 데이터를 빠르게 처리할 수 있음\n",
    "\n",
    "**k평균 군집방법의 실시방법**\n",
    "1. 특성변수의 자료타입에 따라 자료를 변환한 후 특성변수를 표준화 함\n",
    "2. 군집수 $k$가 주어지면 랜덤하게 초기 군집의 **중심값**을 $\\mu_{1}, \\dots, \\mu_{k}$로 놓음 ($k$의 중심값이 나쁠 경우 군집의 결과가 나쁘게 나타날 수 있음 $\\rightarrow$ k-means++로 해결)\n",
    "3. 유클리디안 거리를 기준으로 각 관측치를 가장 가까운 $\\mu_{1}$군집에 편입함\n",
    "4. 각 군집의 평균을 구해 이들을 새로운 군집의 중심값 $\\mu_{1}$로 놓은 후 3단계를 실행함\n",
    "5. 각 군집의 소속이 변하지 않을 때까지, 또는 미리 정해진 최대 반복횟수에 도달할 때가지 단계 4)를 반복함. \n",
    "\n",
    "\n",
    "**k-means++ 초기 중심점을 구하는 방법**\n",
    "1. $n$개의 표본으로 구성된 학습데이터로부터 1개의 임의 표본을 뽑고 이를 초기 중심값 $\\mu_{1}$으로 함.   \n",
    "2. 나머지 $n-1$개의 자료에 대해 $\\mu_{1}$으로부터의 유클리디안 거리를 구하고 이 거리에 비례한 확률을 $n-1$개의 자료 각각에 부여한 후, 이 확률에 비례하여 1개의 임의 표본을 뽑아 이를 두번째 초기 중심값 $\\mu_{2}$로 함.   \n",
    "3. 이와 같은 방법으로 최종 $\\mu_{k}$를 구할 때까지 반복함.   \n"
   ]
  },
  {
   "cell_type": "markdown",
   "id": "df605167",
   "metadata": {},
   "source": [
    "## 2. scipy 및 sklearn 모듈을 활용한 군집분석\n",
    "\n",
    "군집분석은 거리를 측정하여 데이터간 인접성을 판단하기 때문에 데이터의 단위가 매우 중요함.   \n",
    "$\\rightarrow$ 단위의 크기가 매우 상이하다면 좋은 분석결과가 나타나지 않을 수 있음.   \n",
    "\n",
    "\n",
    "### 2-1. 입력변수의 표준화\n",
    "sklearn.preprocessing 모듈의 StandardScaler().fit()함수 이용\n",
    "\n",
    "> from sklearn.preprocessing import StandardScaler\n",
    "\n",
    "> 객체명 = StandardScaler().fit(데이터)\n",
    "\n",
    "함수 분석에 사용되는 데이터를 입력하여 각 데이터의 입력변수별 표준화를 위한 평균과 표준편차를 구함\n",
    "\n",
    "> 데이터 표준화: 객체명.transform(데이터)\n",
    "\n",
    "표준화된 데이터를 이용하여 데이터간 거리행렬 및 계층적 군집분석 실시\n",
    "\n",
    "\n",
    "### 2-2. 데이터간 거리행렬\n",
    "scipy.spatial.distance 모듈의 pdist()함수 및 squareform()함수 이용\n",
    "\n",
    "> from scipy.spartial.distance import pdist, squareform\n",
    "\n",
    "> 데이터간 거리 측정: pdist(데이터, metric='euclidean'/'minkowski'/...)\n",
    "\n",
    "유클리디안 거리가 기본값으로 설정되어 있음. pdist()함수를 통해 데이터간의 거리를 리스트 형태로 출력.      \n",
    "\n",
    "> 데이터간 거리 2차원 배열.squareform(거리데이터)\n",
    "\n",
    "리스트 형태의 자료를 2차원 배열 자료의 형태로 나타내기 위해 squareform()을 사용. 2차원 형태로 배열되어 있지만 데이터 번호가 나타나있지 않아 알아보기 힘들어 pandas 모듈의 DataFrame()함수를 이용하여 데이터프레임 형태로 변환.    \n",
    "\n",
    "### 2-3. 계층적 군집분석\n",
    "scipy.cluster.hierarchy 모듈의 linkage()함수 이용\n",
    "\n",
    "> from scipy.cluster.hierarchy import linkage\n",
    "\n",
    "> linkage(데이터, method='complete'/'single'/'average', metric='euclidean'/'minkowski'/...)\n",
    "\n",
    "linkage()함수에 계층적 군집분석에 사용되는 데이터를 입력하고 군집간 거리 측정 방법을 정함.  \n",
    "- complete: 최장연결법\n",
    "- single: 최단연결법\n",
    "- average: 평균연결법\n",
    "\n",
    "linkage()함수 결과는 4개의 열을 가지는 2차원 배열의 자료를 반환하는데 \n",
    "- 0번째와 1번째 열: 데이터 행 인덱스 출력\n",
    "- 2번째 열: 행 인덱스에 따른 데이터간 거리 출력\n",
    "- 마지막열: 군집이 이루어지는 순서\n",
    "\n",
    "### 2-4. 덴드로그램\n",
    "scipy.cluster.hierarchy 모듈의 dendrogram()함수 이용\n",
    "\n",
    "> from scipy.cluster.hierarchy import dendrogram\n",
    "\n",
    "> dendrogram(군집분석 과정 데이터, leaf_rotation=행 인덱스 회전 출력, leaf_font_size=행 인덱스 출력 크기)\n",
    "\n",
    "계층적 군집분석 과정 데이터 입력하여 matplotlib.pyplot 모듈의 함수를 적절하게 이용하여 시각화  \n",
    "\n",
    "### 2-5. 군집번호 할당\n",
    "scipy.cluster.hierarchy 모듈의 fcluster()함수 이용\n",
    "\n",
    "> from scipy.cluster.hierarchy import fcluster\n",
    "\n",
    "> fcluster(군집분석 과정 데이터, t=군집 구분 거리, criterion='distance')\n",
    "\n",
    "### 2-6. k평균 군집분석\n",
    "sklearn.cluster 모듈의 KMeans()함수 이용\n",
    "\n",
    "> from sklearn.cluster import KMeans\n",
    "\n",
    "> KMeans(n_cluster=군집수, init='k-means++'/'random').fit(데이터)\n",
    "\n",
    "* n_cluster: 구하고자 하는 군집의 수인 k를 입력\n",
    "* init='k-means++': 초기 군집값 문제를 보완한 k-means++를 활용한 k평균 군집분석 방법을 수행\n",
    "* init='random': 일반적인 k평균 군집분석 방법을 수행\n",
    "\n",
    "KMeans()함수의 결과 확인  \n",
    "\n",
    "> 군집 중심값: KMeans객체.cluster_centers_\n",
    "\n",
    "> 군집 분류값: KMeans객체.predict(데이터)\n"
   ]
  },
  {
   "cell_type": "code",
   "execution_count": 1,
   "id": "8d2d3010",
   "metadata": {},
   "outputs": [],
   "source": [
    "import seaborn as sns"
   ]
  },
  {
   "cell_type": "code",
   "execution_count": 2,
   "id": "a2f99726",
   "metadata": {},
   "outputs": [],
   "source": [
    "df = sns.load_dataset('iris')"
   ]
  },
  {
   "cell_type": "code",
   "execution_count": 3,
   "id": "d46d0436",
   "metadata": {},
   "outputs": [
    {
     "name": "stdout",
     "output_type": "stream",
     "text": [
      "<class 'pandas.core.frame.DataFrame'>\n",
      "RangeIndex: 150 entries, 0 to 149\n",
      "Data columns (total 5 columns):\n",
      " #   Column        Non-Null Count  Dtype  \n",
      "---  ------        --------------  -----  \n",
      " 0   sepal_length  150 non-null    float64\n",
      " 1   sepal_width   150 non-null    float64\n",
      " 2   petal_length  150 non-null    float64\n",
      " 3   petal_width   150 non-null    float64\n",
      " 4   species       150 non-null    object \n",
      "dtypes: float64(4), object(1)\n",
      "memory usage: 6.0+ KB\n"
     ]
    }
   ],
   "source": [
    "df.info()"
   ]
  },
  {
   "cell_type": "markdown",
   "id": "cb7723b2",
   "metadata": {},
   "source": [
    "데이터를 표준화하기 위한 과정이 필요"
   ]
  },
  {
   "cell_type": "code",
   "execution_count": 4,
   "id": "26f44026",
   "metadata": {},
   "outputs": [],
   "source": [
    "X = df[['sepal_length','sepal_width','petal_length','petal_width']]"
   ]
  },
  {
   "cell_type": "code",
   "execution_count": 5,
   "id": "2bb5f2b4",
   "metadata": {},
   "outputs": [],
   "source": [
    "from sklearn.preprocessing import StandardScaler"
   ]
  },
  {
   "cell_type": "code",
   "execution_count": 6,
   "id": "4d0053a1",
   "metadata": {},
   "outputs": [],
   "source": [
    "sc = StandardScaler().fit(X) # 표준화를 위한 평균과 표준편차를 계산"
   ]
  },
  {
   "cell_type": "code",
   "execution_count": 7,
   "id": "b98426ef",
   "metadata": {},
   "outputs": [],
   "source": [
    "X_std = sc.transform(X)"
   ]
  },
  {
   "cell_type": "code",
   "execution_count": 8,
   "id": "4a190c46",
   "metadata": {},
   "outputs": [
    {
     "name": "stdout",
     "output_type": "stream",
     "text": [
      "[[-0.90068117  1.01900435 -1.34022653 -1.3154443 ]\n",
      " [-1.14301691 -0.13197948 -1.34022653 -1.3154443 ]\n",
      " [-1.38535265  0.32841405 -1.39706395 -1.3154443 ]\n",
      " [-1.50652052  0.09821729 -1.2833891  -1.3154443 ]\n",
      " [-1.02184904  1.24920112 -1.34022653 -1.3154443 ]]\n"
     ]
    }
   ],
   "source": [
    "print(X_std[:5])"
   ]
  },
  {
   "cell_type": "code",
   "execution_count": 9,
   "id": "c60463cc",
   "metadata": {},
   "outputs": [],
   "source": [
    "import pandas as pd"
   ]
  },
  {
   "cell_type": "code",
   "execution_count": 10,
   "id": "458221c5",
   "metadata": {},
   "outputs": [],
   "source": [
    "from scipy.spatial.distance import pdist, squareform"
   ]
  },
  {
   "cell_type": "code",
   "execution_count": 11,
   "id": "4477a517",
   "metadata": {},
   "outputs": [],
   "source": [
    "row_dist = pd.DataFrame(squareform(pdist(X_std, metric='euclidean')))"
   ]
  },
  {
   "cell_type": "code",
   "execution_count": 12,
   "id": "509b4ba1",
   "metadata": {},
   "outputs": [
    {
     "name": "stdout",
     "output_type": "stream",
     "text": [
      "          0         1         2         3         4         5         6    \\\n",
      "0    0.000000  1.176219  0.845607  1.103685  0.260139  1.038444  0.661331   \n",
      "1    1.176219  0.000000  0.523373  0.434000  1.386485  2.181206  0.998654   \n",
      "2    0.845607  0.523373  0.000000  0.283891  0.991572  1.853897  0.497194   \n",
      "3    1.103685  0.434000  0.283891  0.000000  1.250160  2.100774  0.705317   \n",
      "4    0.260139  1.386485  0.991572  1.250160  0.000000  0.900113  0.681319   \n",
      "..        ...       ...       ...       ...       ...       ...       ...   \n",
      "145  4.170050  4.130727  4.317340  4.311771  4.296127  4.121389  4.349495   \n",
      "146  4.075223  3.660136  3.973046  3.887869  4.252915  4.357976  4.142182   \n",
      "147  3.805412  3.746638  3.936541  3.922954  3.935711  3.802866  3.977470   \n",
      "148  3.826157  4.017345  4.072716  4.097587  3.890518  3.597498  3.982224   \n",
      "149  3.335064  3.213476  3.380336  3.340154  3.457620  3.433631  3.413235   \n",
      "\n",
      "          7         8         9    ...       140       141       142  \\\n",
      "0    0.266276  1.620821  0.962877  ...  4.323335  4.203388  3.679790   \n",
      "1    0.930463  0.648099  0.271197  ...  4.346806  4.241393  3.331094   \n",
      "2    0.597511  0.782483  0.376784  ...  4.503900  4.411912  3.574016   \n",
      "3    0.843695  0.523373  0.386603  ...  4.504592  4.426571  3.486580   \n",
      "4    0.463889  1.767789  1.166192  ...  4.433129  4.323032  3.829088   \n",
      "..        ...       ...       ...  ...       ...       ...       ...   \n",
      "145  4.141813  4.486161  4.197460  ...  0.349293  0.339039  1.395203   \n",
      "146  3.967153  3.916907  3.789007  ...  1.640744  1.648230  0.763043   \n",
      "147  3.766660  4.099560  3.806455  ...  0.663805  0.668634  1.103120   \n",
      "148  3.830008  4.346450  4.032118  ...  0.934989  1.106974  1.771370   \n",
      "149  3.264889  3.494943  3.273437  ...  1.302748  1.397974  0.713389   \n",
      "\n",
      "          143       144       145       146       147       148       149  \n",
      "0    4.347745  4.371458  4.170050  4.075223  3.805412  3.826157  3.335064  \n",
      "1    4.437906  4.513641  4.130727  3.660136  3.746638  4.017345  3.213476  \n",
      "2    4.577287  4.620161  4.317340  3.973046  3.936541  4.072716  3.380336  \n",
      "3    4.588504  4.642323  4.311771  3.887869  3.922954  4.097587  3.340154  \n",
      "4    4.448334  4.456354  4.296127  4.252915  3.935711  3.890518  3.457620  \n",
      "..        ...       ...       ...       ...       ...       ...       ...  \n",
      "145  0.620434  0.791824  0.000000  1.360083  0.463325  1.108067  1.173044  \n",
      "146  1.871492  2.099612  1.360083  0.000000  1.189008  2.153099  1.257071  \n",
      "147  0.811378  1.024490  0.463325  1.189008  0.000000  1.071844  0.775292  \n",
      "148  0.906236  0.720010  1.108067  2.153099  1.071844  0.000000  1.200930  \n",
      "149  1.428672  1.543329  1.173044  1.257071  0.775292  1.200930  0.000000  \n",
      "\n",
      "[150 rows x 150 columns]\n"
     ]
    }
   ],
   "source": [
    "print(row_dist)"
   ]
  },
  {
   "cell_type": "code",
   "execution_count": 13,
   "id": "ae565c00",
   "metadata": {},
   "outputs": [],
   "source": [
    "from scipy.cluster.hierarchy import linkage"
   ]
  },
  {
   "cell_type": "code",
   "execution_count": 14,
   "id": "7d36595d",
   "metadata": {},
   "outputs": [],
   "source": [
    "clusters = linkage(y=X_std, method='complete', metric='euclidean') # 'complete' = 최장연결법"
   ]
  },
  {
   "cell_type": "code",
   "execution_count": 15,
   "id": "35f408eb",
   "metadata": {},
   "outputs": [
    {
     "data": {
      "text/plain": [
       "array([[1.01000000e+02, 1.42000000e+02, 0.00000000e+00, 2.00000000e+00],\n",
       "       [7.00000000e+00, 3.90000000e+01, 1.21167870e-01, 2.00000000e+00],\n",
       "       [1.00000000e+01, 4.80000000e+01, 1.21167870e-01, 2.00000000e+00],\n",
       "       [9.00000000e+00, 3.40000000e+01, 1.31632184e-01, 2.00000000e+00],\n",
       "       [0.00000000e+00, 1.70000000e+01, 1.31632184e-01, 2.00000000e+00]])"
      ]
     },
     "execution_count": 15,
     "metadata": {},
     "output_type": "execute_result"
    }
   ],
   "source": [
    "clusters[:5]"
   ]
  },
  {
   "cell_type": "code",
   "execution_count": 16,
   "id": "e6a915f8",
   "metadata": {},
   "outputs": [],
   "source": [
    "from scipy.cluster.hierarchy import dendrogram"
   ]
  },
  {
   "cell_type": "code",
   "execution_count": 17,
   "id": "1fe35684",
   "metadata": {},
   "outputs": [],
   "source": [
    "import matplotlib.pyplot as plt"
   ]
  },
  {
   "cell_type": "code",
   "execution_count": 18,
   "id": "784d8177",
   "metadata": {},
   "outputs": [
    {
     "data": {
      "image/png": "[encoded data removed]",
      "text/plain": [
       "<Figure size 1080x432 with 1 Axes>"
      ]
     },
     "metadata": {
      "needs_background": "light"
     },
     "output_type": "display_data"
    }
   ],
   "source": [
    "plt.figure(figsize = (15,6))\n",
    "dendrogram(clusters, leaf_rotation=90, leaf_font_size=12)\n",
    "plt.tight_layout()\n",
    "plt.ylabel('Euclidean distance')\n",
    "plt.show()"
   ]
  },
  {
   "cell_type": "markdown",
   "id": "0c136b03",
   "metadata": {},
   "source": [
    "dendrogram으로 확인해보면 거리 5를 기준으로 3개의 군집으로 나눠짐을 알 수 있다.  "
   ]
  },
  {
   "cell_type": "code",
   "execution_count": 19,
   "id": "ed03376a",
   "metadata": {},
   "outputs": [],
   "source": [
    "from scipy.cluster.hierarchy import fcluster"
   ]
  },
  {
   "cell_type": "code",
   "execution_count": 20,
   "id": "097f192d",
   "metadata": {},
   "outputs": [],
   "source": [
    "cut_tree = fcluster(clusters, t=5, criterion='distance')"
   ]
  },
  {
   "cell_type": "code",
   "execution_count": 21,
   "id": "6b9daf72",
   "metadata": {},
   "outputs": [
    {
     "name": "stdout",
     "output_type": "stream",
     "text": [
      "[3 3 3 3 3 3 3 3 3 3 3 3 3 3 3 3 3 3 3 3 3 3 3 3 3 3 3 3 3 3 3 3 3 3 3 3 3\n",
      " 3 3 3 3 2 3 3 3 3 3 3 3 3 1 1 1 2 1 2 1 2 1 2 2 1 2 1 1 1 1 2 2 2 1 1 1 1\n",
      " 1 1 1 1 1 2 2 2 2 1 1 1 1 2 1 2 2 1 2 2 2 1 1 1 2 2 1 1 1 1 1 1 2 1 1 1 1\n",
      " 1 1 1 1 1 1 1 1 2 1 1 1 1 1 1 1 1 1 1 1 1 1 1 1 1 1 1 1 1 1 1 1 1 1 1 1 1\n",
      " 1 1]\n"
     ]
    }
   ],
   "source": [
    "print(cut_tree)"
   ]
  },
  {
   "cell_type": "code",
   "execution_count": 22,
   "id": "84deac14",
   "metadata": {},
   "outputs": [],
   "source": [
    "from scipy.cluster.hierarchy import linkage"
   ]
  },
  {
   "cell_type": "code",
   "execution_count": 23,
   "id": "9bc347bd",
   "metadata": {},
   "outputs": [],
   "source": [
    "clusters1 = linkage(y=X_std, method='single', metric='euclidean') # 'single'=최단연결법"
   ]
  },
  {
   "cell_type": "code",
   "execution_count": 24,
   "id": "c760f85f",
   "metadata": {},
   "outputs": [
    {
     "data": {
      "text/plain": [
       "array([[1.01000000e+02, 1.42000000e+02, 0.00000000e+00, 2.00000000e+00],\n",
       "       [7.00000000e+00, 3.90000000e+01, 1.21167870e-01, 2.00000000e+00],\n",
       "       [1.00000000e+01, 4.80000000e+01, 1.21167870e-01, 2.00000000e+00],\n",
       "       [9.00000000e+00, 3.40000000e+01, 1.31632184e-01, 2.00000000e+00],\n",
       "       [0.00000000e+00, 1.70000000e+01, 1.31632184e-01, 2.00000000e+00]])"
      ]
     },
     "execution_count": 24,
     "metadata": {},
     "output_type": "execute_result"
    }
   ],
   "source": [
    "clusters1[:5]"
   ]
  },
  {
   "cell_type": "code",
   "execution_count": 25,
   "id": "7e7c261a",
   "metadata": {},
   "outputs": [
    {
     "data": {
      "image/png": "[encoded data removed]",
      "text/plain": [
       "<Figure size 1080x432 with 1 Axes>"
      ]
     },
     "metadata": {
      "needs_background": "light"
     },
     "output_type": "display_data"
    }
   ],
   "source": [
    "plt.figure(figsize = (15,6))\n",
    "dendrogram(clusters1, leaf_rotation=90, leaf_font_size=12)\n",
    "plt.tight_layout()\n",
    "plt.ylabel('Euclidean distance')\n",
    "plt.show()"
   ]
  },
  {
   "cell_type": "markdown",
   "id": "3c4cf044",
   "metadata": {},
   "source": [
    "최단연결법으로 군집분석을 하면 거리 1.2 정도에서 3개의 군집으로 나누어짐을 알 수 있음.    "
   ]
  },
  {
   "cell_type": "code",
   "execution_count": 26,
   "id": "beea3a1b",
   "metadata": {},
   "outputs": [],
   "source": [
    "cut_tree1 = fcluster(clusters1, t=1.2, criterion='distance')"
   ]
  },
  {
   "cell_type": "code",
   "execution_count": 27,
   "id": "b9f4a8a1",
   "metadata": {},
   "outputs": [
    {
     "name": "stdout",
     "output_type": "stream",
     "text": [
      "[2 2 2 2 2 2 2 2 2 2 2 2 2 2 2 2 2 2 2 2 2 2 2 2 2 2 2 2 2 2 2 2 2 2 2 2 2\n",
      " 2 2 2 2 3 2 2 2 2 2 2 2 2 1 1 1 1 1 1 1 1 1 1 1 1 1 1 1 1 1 1 1 1 1 1 1 1\n",
      " 1 1 1 1 1 1 1 1 1 1 1 1 1 1 1 1 1 1 1 1 1 1 1 1 1 1 1 1 1 1 1 1 1 1 1 1 1\n",
      " 1 1 1 1 1 1 1 1 1 1 1 1 1 1 1 1 1 1 1 1 1 1 1 1 1 1 1 1 1 1 1 1 1 1 1 1 1\n",
      " 1 1]\n"
     ]
    }
   ],
   "source": [
    "print(cut_tree1)"
   ]
  },
  {
   "cell_type": "markdown",
   "id": "d0134393",
   "metadata": {},
   "source": [
    "결과를 보면 41번째 자료에서 하나만 3번째 군집으로 나눠지는 것이 있음을 확인할 수 있다. (위 덴드로그램에서도 확인가능) 즉 41번째 자료는 이상점이라고 볼 수 있다.   "
   ]
  },
  {
   "cell_type": "code",
   "execution_count": 28,
   "id": "e8d45dbe",
   "metadata": {},
   "outputs": [],
   "source": [
    "clusters2 = linkage(y=X_std, method='average', metric='euclidean') # 'average'=평균연결법"
   ]
  },
  {
   "cell_type": "code",
   "execution_count": 29,
   "id": "09cdac7b",
   "metadata": {},
   "outputs": [
    {
     "data": {
      "text/plain": [
       "array([[1.01000000e+02, 1.42000000e+02, 0.00000000e+00, 2.00000000e+00],\n",
       "       [7.00000000e+00, 3.90000000e+01, 1.21167870e-01, 2.00000000e+00],\n",
       "       [1.00000000e+01, 4.80000000e+01, 1.21167870e-01, 2.00000000e+00],\n",
       "       [9.00000000e+00, 3.40000000e+01, 1.31632184e-01, 2.00000000e+00],\n",
       "       [0.00000000e+00, 1.70000000e+01, 1.31632184e-01, 2.00000000e+00]])"
      ]
     },
     "execution_count": 29,
     "metadata": {},
     "output_type": "execute_result"
    }
   ],
   "source": [
    "clusters2[:5]"
   ]
  },
  {
   "cell_type": "code",
   "execution_count": 30,
   "id": "549e04d6",
   "metadata": {},
   "outputs": [
    {
     "data": {
      "image/png": "[encoded data removed]",
      "text/plain": [
       "<Figure size 1080x432 with 1 Axes>"
      ]
     },
     "metadata": {
      "needs_background": "light"
     },
     "output_type": "display_data"
    }
   ],
   "source": [
    "plt.figure(figsize = (15,6))\n",
    "dendrogram(clusters2, leaf_rotation=90, leaf_font_size=12)\n",
    "plt.tight_layout()\n",
    "plt.ylabel('Euclidean distance')\n",
    "plt.show()"
   ]
  },
  {
   "cell_type": "markdown",
   "id": "a0a0d5a5",
   "metadata": {},
   "source": [
    "평균연결법으로 군집분석을 하면 거리 2.8정도에서 3개의 군집으로 나눠짐을 알 수 있음.  "
   ]
  },
  {
   "cell_type": "code",
   "execution_count": 31,
   "id": "6692bcef",
   "metadata": {},
   "outputs": [],
   "source": [
    "cut_tree2 = fcluster(clusters2, t=2.8, criterion='distance')"
   ]
  },
  {
   "cell_type": "code",
   "execution_count": 32,
   "id": "9bd2052f",
   "metadata": {},
   "outputs": [
    {
     "name": "stdout",
     "output_type": "stream",
     "text": [
      "[1 1 1 1 1 1 1 1 1 1 1 1 1 1 1 1 1 1 1 1 1 1 1 1 1 1 1 1 1 1 1 1 1 1 1 1 1\n",
      " 1 1 1 1 1 1 1 1 1 1 1 1 1 3 3 3 3 3 3 3 3 3 3 3 3 3 3 3 3 3 3 3 3 3 3 3 3\n",
      " 3 3 3 3 3 3 3 3 3 3 3 3 3 3 3 3 3 3 3 3 3 3 3 3 3 3 3 3 3 3 3 3 3 3 3 2 3\n",
      " 3 3 3 3 3 3 2 3 3 3 3 3 3 3 3 3 3 3 3 3 2 3 3 3 3 3 3 3 3 3 3 3 3 3 3 3 3\n",
      " 3 3]\n"
     ]
    }
   ],
   "source": [
    "print(cut_tree2)"
   ]
  },
  {
   "cell_type": "markdown",
   "id": "564ab335",
   "metadata": {},
   "source": [
    "K평균 군집 분석"
   ]
  },
  {
   "cell_type": "code",
   "execution_count": 33,
   "id": "a4510d62",
   "metadata": {},
   "outputs": [],
   "source": [
    "from sklearn.cluster import KMeans"
   ]
  },
  {
   "cell_type": "code",
   "execution_count": 34,
   "id": "b4d86fcf",
   "metadata": {},
   "outputs": [],
   "source": [
    "model = KMeans(n_clusters=3, random_state=123, init='random').fit(X_std)"
   ]
  },
  {
   "cell_type": "code",
   "execution_count": 35,
   "id": "03fbc334",
   "metadata": {},
   "outputs": [],
   "source": [
    "centers = model.cluster_centers_ # 군집의 중심위치 확인"
   ]
  },
  {
   "cell_type": "code",
   "execution_count": 36,
   "id": "e8c2c502",
   "metadata": {},
   "outputs": [
    {
     "name": "stdout",
     "output_type": "stream",
     "text": [
      "[[ 1.13140499  0.07903422  0.98537152  0.99908828]\n",
      " [-0.06881714 -0.89339955  0.34522179  0.28439302]\n",
      " [-1.01457897  0.85326268 -1.30498732 -1.25489349]]\n"
     ]
    }
   ],
   "source": [
    "print(centers)"
   ]
  },
  {
   "cell_type": "code",
   "execution_count": 37,
   "id": "1ff6fe3d",
   "metadata": {},
   "outputs": [],
   "source": [
    "pred = model.predict(X_std)"
   ]
  },
  {
   "cell_type": "code",
   "execution_count": 38,
   "id": "b33e1b7c",
   "metadata": {},
   "outputs": [
    {
     "name": "stdout",
     "output_type": "stream",
     "text": [
      "[2 2 2 2 2 2 2 2 2 2 2 2 2 2 2 2 2 2 2 2 2 2 2 2 2 2 2 2 2 2 2 2 2 2 2 2 2\n",
      " 2 2 2 2 2 2 2 2 2 2 2 2 2 0 0 0 1 1 1 0 1 0 1 1 1 1 1 1 0 1 1 1 1 0 1 1 1\n",
      " 1 0 0 0 1 1 1 1 1 1 1 0 0 1 1 1 1 1 1 1 1 1 1 1 1 1 0 1 0 0 0 0 1 0 0 0 0\n",
      " 0 0 1 1 0 0 0 0 1 0 1 0 1 0 0 1 0 0 0 0 0 0 1 1 0 0 0 1 0 0 0 1 0 0 0 1 0\n",
      " 0 1]\n"
     ]
    }
   ],
   "source": [
    "print(pred)"
   ]
  },
  {
   "cell_type": "code",
   "execution_count": 39,
   "id": "99ac2bc4",
   "metadata": {},
   "outputs": [],
   "source": [
    "model1 = KMeans(n_clusters=3, random_state=2345, init='k-means++').fit(X_std)"
   ]
  },
  {
   "cell_type": "code",
   "execution_count": 40,
   "id": "bacff013",
   "metadata": {},
   "outputs": [],
   "source": [
    "centers1 = model1.cluster_centers_"
   ]
  },
  {
   "cell_type": "code",
   "execution_count": 41,
   "id": "676bb4bc",
   "metadata": {},
   "outputs": [
    {
     "name": "stdout",
     "output_type": "stream",
     "text": [
      "[[ 1.13140499  0.07903422  0.98537152  0.99908828]\n",
      " [-0.06881714 -0.89339955  0.34522179  0.28439302]\n",
      " [-1.01457897  0.85326268 -1.30498732 -1.25489349]]\n"
     ]
    }
   ],
   "source": [
    "print(centers)"
   ]
  },
  {
   "cell_type": "code",
   "execution_count": 42,
   "id": "bc4caf50",
   "metadata": {},
   "outputs": [],
   "source": [
    "pred1 = model1.predict(X_std)"
   ]
  },
  {
   "cell_type": "code",
   "execution_count": 43,
   "id": "09e09b0b",
   "metadata": {},
   "outputs": [
    {
     "name": "stdout",
     "output_type": "stream",
     "text": [
      "[2 2 2 2 2 2 2 2 2 2 2 2 2 2 2 2 2 2 2 2 2 2 2 2 2 2 2 2 2 2 2 2 2 2 2 2 2\n",
      " 2 2 2 2 2 2 2 2 2 2 2 2 2 0 0 0 1 1 1 0 1 1 1 1 1 1 1 1 0 1 1 1 1 0 1 1 1\n",
      " 1 0 0 0 1 1 1 1 1 1 1 0 0 1 1 1 1 1 1 1 1 1 1 1 1 1 0 1 0 0 0 0 1 0 0 0 0\n",
      " 0 0 1 1 0 0 0 0 1 0 1 0 1 0 0 1 0 0 0 0 0 0 1 1 0 0 0 1 0 0 0 1 0 0 0 1 0\n",
      " 0 1]\n"
     ]
    }
   ],
   "source": [
    "print(pred1)"
   ]
  },
  {
   "cell_type": "markdown",
   "id": "f45dfecf",
   "metadata": {},
   "source": [
    "## 실습\n",
    "\n",
    "### [과제14]\n",
    "seaborn 모듈의 penguins 데이터에서 species를 예측하기 위해 bill_length_mm, bill_depth_mm, flipper_length_mm, body_mass_g를 사용한 의사결정나무분석을 실시"
   ]
  },
  {
   "cell_type": "code",
   "execution_count": 44,
   "id": "e0d0850b",
   "metadata": {},
   "outputs": [],
   "source": [
    "import seaborn as sns"
   ]
  },
  {
   "cell_type": "code",
   "execution_count": 45,
   "id": "8b18dd53",
   "metadata": {},
   "outputs": [],
   "source": [
    "df = sns.load_dataset('penguins')"
   ]
  },
  {
   "cell_type": "code",
   "execution_count": 46,
   "id": "589456d5",
   "metadata": {},
   "outputs": [
    {
     "name": "stdout",
     "output_type": "stream",
     "text": [
      "<class 'pandas.core.frame.DataFrame'>\n",
      "RangeIndex: 344 entries, 0 to 343\n",
      "Data columns (total 7 columns):\n",
      " #   Column             Non-Null Count  Dtype  \n",
      "---  ------             --------------  -----  \n",
      " 0   species            344 non-null    object \n",
      " 1   island             344 non-null    object \n",
      " 2   bill_length_mm     342 non-null    float64\n",
      " 3   bill_depth_mm      342 non-null    float64\n",
      " 4   flipper_length_mm  342 non-null    float64\n",
      " 5   body_mass_g        342 non-null    float64\n",
      " 6   sex                333 non-null    object \n",
      "dtypes: float64(4), object(3)\n",
      "memory usage: 18.9+ KB\n"
     ]
    }
   ],
   "source": [
    "df.info()"
   ]
  },
  {
   "cell_type": "code",
   "execution_count": 47,
   "id": "2c6589d6",
   "metadata": {},
   "outputs": [],
   "source": [
    "df = df.dropna(subset=['species','bill_length_mm','bill_depth_mm','flipper_length_mm','body_mass_g'], how='any', axis=0)"
   ]
  },
  {
   "cell_type": "code",
   "execution_count": 48,
   "id": "801c31e5",
   "metadata": {},
   "outputs": [
    {
     "name": "stdout",
     "output_type": "stream",
     "text": [
      "<class 'pandas.core.frame.DataFrame'>\n",
      "Int64Index: 342 entries, 0 to 343\n",
      "Data columns (total 7 columns):\n",
      " #   Column             Non-Null Count  Dtype  \n",
      "---  ------             --------------  -----  \n",
      " 0   species            342 non-null    object \n",
      " 1   island             342 non-null    object \n",
      " 2   bill_length_mm     342 non-null    float64\n",
      " 3   bill_depth_mm      342 non-null    float64\n",
      " 4   flipper_length_mm  342 non-null    float64\n",
      " 5   body_mass_g        342 non-null    float64\n",
      " 6   sex                333 non-null    object \n",
      "dtypes: float64(4), object(3)\n",
      "memory usage: 21.4+ KB\n"
     ]
    }
   ],
   "source": [
    "df.info()"
   ]
  },
  {
   "cell_type": "code",
   "execution_count": 49,
   "id": "70623c4a",
   "metadata": {},
   "outputs": [],
   "source": [
    "X = df[['bill_length_mm','bill_depth_mm','flipper_length_mm','body_mass_g']]"
   ]
  },
  {
   "cell_type": "code",
   "execution_count": 50,
   "id": "d56f9116",
   "metadata": {},
   "outputs": [],
   "source": [
    "sc = StandardScaler().fit(X) # fit: Compute the mean and std to be used for later scaling."
   ]
  },
  {
   "cell_type": "code",
   "execution_count": 51,
   "id": "a72b37eb",
   "metadata": {},
   "outputs": [
    {
     "name": "stdout",
     "output_type": "stream",
     "text": [
      "   bill_length_mm  bill_depth_mm  flipper_length_mm  body_mass_g\n",
      "0            39.1           18.7              181.0       3750.0\n",
      "1            39.5           17.4              186.0       3800.0\n",
      "2            40.3           18.0              195.0       3250.0\n",
      "4            36.7           19.3              193.0       3450.0\n",
      "5            39.3           20.6              190.0       3650.0\n"
     ]
    }
   ],
   "source": [
    "print(X[:5])"
   ]
  },
  {
   "cell_type": "code",
   "execution_count": 52,
   "id": "51197efb",
   "metadata": {},
   "outputs": [
    {
     "data": {
      "text/plain": [
       "sklearn.preprocessing._data.StandardScaler"
      ]
     },
     "execution_count": 52,
     "metadata": {},
     "output_type": "execute_result"
    }
   ],
   "source": [
    "type(sc)"
   ]
  },
  {
   "cell_type": "code",
   "execution_count": 53,
   "id": "841be8f2",
   "metadata": {},
   "outputs": [],
   "source": [
    "X_std = sc.transform(X) # transform: Perform standardization by centering and scaling."
   ]
  },
  {
   "cell_type": "code",
   "execution_count": 54,
   "id": "0a24f2b3",
   "metadata": {},
   "outputs": [
    {
     "name": "stdout",
     "output_type": "stream",
     "text": [
      "[[-0.88449874  0.78544923 -1.41834665 -0.56414208]\n",
      " [-0.81112573  0.1261879  -1.06225022 -0.50170305]\n",
      " [-0.66437972  0.43046236 -0.42127665 -1.18853234]\n",
      " [-1.32473679  1.08972369 -0.56371522 -0.93877623]\n",
      " [-0.84781224  1.74898502 -0.77737308 -0.68902013]]\n"
     ]
    }
   ],
   "source": [
    "print(X_std[:5])"
   ]
  },
  {
   "cell_type": "markdown",
   "id": "48681cf9",
   "metadata": {},
   "source": [
    "pdist()함수를 이용하여 거리를 구함"
   ]
  },
  {
   "cell_type": "code",
   "execution_count": 55,
   "id": "418abccb",
   "metadata": {},
   "outputs": [],
   "source": [
    "dist = pdist(X_std, metric='euclidean')"
   ]
  },
  {
   "cell_type": "code",
   "execution_count": 56,
   "id": "26b27c9a",
   "metadata": {},
   "outputs": [
    {
     "data": {
      "text/plain": [
       "array([0.75545509, 1.2483909 , 1.07570354, ..., 1.44813428, 0.80711829,\n",
       "       1.11595199])"
      ]
     },
     "execution_count": 56,
     "metadata": {},
     "output_type": "execute_result"
    }
   ],
   "source": [
    "dist"
   ]
  },
  {
   "cell_type": "markdown",
   "id": "6d5bd384",
   "metadata": {},
   "source": [
    "리스트 형태의 자료를 2차원 배열 자료의 형태로 나타내기 위해 squareform()을 사용."
   ]
  },
  {
   "cell_type": "code",
   "execution_count": 57,
   "id": "69747d19",
   "metadata": {},
   "outputs": [],
   "source": [
    "squ = squareform(dist)"
   ]
  },
  {
   "cell_type": "code",
   "execution_count": 58,
   "id": "4d601b72",
   "metadata": {},
   "outputs": [
    {
     "data": {
      "text/plain": [
       "array([[0.        , 0.75545509, 1.2483909 , ..., 4.62332981, 3.64921546,\n",
       "        3.88621596],\n",
       "       [0.75545509, 0.        , 0.9983481 , ..., 4.15262166, 3.05238179,\n",
       "        3.42983399],\n",
       "       [1.2483909 , 0.9983481 , 0.        , ..., 4.27048468, 3.29196414,\n",
       "        3.58905459],\n",
       "       ...,\n",
       "       [4.62332981, 4.15262166, 4.27048468, ..., 0.        , 1.44813428,\n",
       "        0.80711829],\n",
       "       [3.64921546, 3.05238179, 3.29196414, ..., 1.44813428, 0.        ,\n",
       "        1.11595199],\n",
       "       [3.88621596, 3.42983399, 3.58905459, ..., 0.80711829, 1.11595199,\n",
       "        0.        ]])"
      ]
     },
     "execution_count": 58,
     "metadata": {},
     "output_type": "execute_result"
    }
   ],
   "source": [
    "squ"
   ]
  },
  {
   "cell_type": "markdown",
   "id": "f9186e9b",
   "metadata": {},
   "source": [
    "보기쉽게 DataFrame으로 변환"
   ]
  },
  {
   "cell_type": "code",
   "execution_count": 59,
   "id": "c35d4f22",
   "metadata": {},
   "outputs": [],
   "source": [
    "row_dist = pd.DataFrame(squ)"
   ]
  },
  {
   "cell_type": "code",
   "execution_count": 60,
   "id": "e5fbbc9d",
   "metadata": {},
   "outputs": [
    {
     "data": {
      "text/html": [
       "<div>\n",
       "<style scoped>\n",
       "    .dataframe tbody tr th:only-of-type {\n",
       "        vertical-align: middle;\n",
       "    }\n",
       "\n",
       "    .dataframe tbody tr th {\n",
       "        vertical-align: top;\n",
       "    }\n",
       "\n",
       "    .dataframe thead th {\n",
       "        text-align: right;\n",
       "    }\n",
       "</style>\n",
       "<table border=\"1\" class=\"dataframe\">\n",
       "  <thead>\n",
       "    <tr style=\"text-align: right;\">\n",
       "      <th></th>\n",
       "      <th>0</th>\n",
       "      <th>1</th>\n",
       "      <th>2</th>\n",
       "      <th>3</th>\n",
       "      <th>4</th>\n",
       "      <th>5</th>\n",
       "      <th>6</th>\n",
       "      <th>7</th>\n",
       "      <th>8</th>\n",
       "      <th>9</th>\n",
       "      <th>...</th>\n",
       "      <th>332</th>\n",
       "      <th>333</th>\n",
       "      <th>334</th>\n",
       "      <th>335</th>\n",
       "      <th>336</th>\n",
       "      <th>337</th>\n",
       "      <th>338</th>\n",
       "      <th>339</th>\n",
       "      <th>340</th>\n",
       "      <th>341</th>\n",
       "    </tr>\n",
       "  </thead>\n",
       "  <tbody>\n",
       "    <tr>\n",
       "      <th>0</th>\n",
       "      <td>0.000000</td>\n",
       "      <td>0.755455</td>\n",
       "      <td>1.248391</td>\n",
       "      <td>1.075704</td>\n",
       "      <td>1.164555</td>\n",
       "      <td>0.483760</td>\n",
       "      <td>1.592829</td>\n",
       "      <td>1.334953</td>\n",
       "      <td>1.289313</td>\n",
       "      <td>1.076023</td>\n",
       "      <td>...</td>\n",
       "      <td>4.858921</td>\n",
       "      <td>3.784271</td>\n",
       "      <td>5.435446</td>\n",
       "      <td>3.441362</td>\n",
       "      <td>4.603728</td>\n",
       "      <td>4.039011</td>\n",
       "      <td>3.837219</td>\n",
       "      <td>4.623330</td>\n",
       "      <td>3.649215</td>\n",
       "      <td>3.886216</td>\n",
       "    </tr>\n",
       "    <tr>\n",
       "      <th>1</th>\n",
       "      <td>0.755455</td>\n",
       "      <td>0.000000</td>\n",
       "      <td>0.998348</td>\n",
       "      <td>1.277407</td>\n",
       "      <td>1.658632</td>\n",
       "      <td>0.477309</td>\n",
       "      <td>1.688952</td>\n",
       "      <td>1.233058</td>\n",
       "      <td>1.619720</td>\n",
       "      <td>0.714318</td>\n",
       "      <td>...</td>\n",
       "      <td>4.413954</td>\n",
       "      <td>3.114649</td>\n",
       "      <td>5.006583</td>\n",
       "      <td>2.874185</td>\n",
       "      <td>4.171547</td>\n",
       "      <td>3.386142</td>\n",
       "      <td>3.201489</td>\n",
       "      <td>4.152622</td>\n",
       "      <td>3.052382</td>\n",
       "      <td>3.429834</td>\n",
       "    </tr>\n",
       "    <tr>\n",
       "      <th>2</th>\n",
       "      <td>1.248391</td>\n",
       "      <td>0.998348</td>\n",
       "      <td>0.000000</td>\n",
       "      <td>0.976404</td>\n",
       "      <td>1.465765</td>\n",
       "      <td>1.135642</td>\n",
       "      <td>1.966150</td>\n",
       "      <td>1.181193</td>\n",
       "      <td>1.740180</td>\n",
       "      <td>0.912882</td>\n",
       "      <td>...</td>\n",
       "      <td>4.367166</td>\n",
       "      <td>3.084075</td>\n",
       "      <td>5.015394</td>\n",
       "      <td>2.920080</td>\n",
       "      <td>4.330735</td>\n",
       "      <td>3.544491</td>\n",
       "      <td>3.311103</td>\n",
       "      <td>4.270485</td>\n",
       "      <td>3.291964</td>\n",
       "      <td>3.589055</td>\n",
       "    </tr>\n",
       "    <tr>\n",
       "      <th>3</th>\n",
       "      <td>1.075704</td>\n",
       "      <td>1.277407</td>\n",
       "      <td>0.976404</td>\n",
       "      <td>0.000000</td>\n",
       "      <td>0.877559</td>\n",
       "      <td>1.232741</td>\n",
       "      <td>1.610554</td>\n",
       "      <td>0.773798</td>\n",
       "      <td>1.482285</td>\n",
       "      <td>1.252623</td>\n",
       "      <td>...</td>\n",
       "      <td>4.814784</td>\n",
       "      <td>3.774464</td>\n",
       "      <td>5.488042</td>\n",
       "      <td>3.386494</td>\n",
       "      <td>4.669457</td>\n",
       "      <td>4.171841</td>\n",
       "      <td>3.920869</td>\n",
       "      <td>4.707812</td>\n",
       "      <td>3.774348</td>\n",
       "      <td>4.056464</td>\n",
       "    </tr>\n",
       "    <tr>\n",
       "      <th>4</th>\n",
       "      <td>1.164555</td>\n",
       "      <td>1.658632</td>\n",
       "      <td>1.465765</td>\n",
       "      <td>0.877559</td>\n",
       "      <td>0.000000</td>\n",
       "      <td>1.559954</td>\n",
       "      <td>1.422222</td>\n",
       "      <td>1.615729</td>\n",
       "      <td>0.920783</td>\n",
       "      <td>1.870371</td>\n",
       "      <td>...</td>\n",
       "      <td>4.818297</td>\n",
       "      <td>4.121275</td>\n",
       "      <td>5.431835</td>\n",
       "      <td>3.622482</td>\n",
       "      <td>4.671358</td>\n",
       "      <td>4.449798</td>\n",
       "      <td>4.185173</td>\n",
       "      <td>4.731974</td>\n",
       "      <td>4.003018</td>\n",
       "      <td>4.055544</td>\n",
       "    </tr>\n",
       "  </tbody>\n",
       "</table>\n",
       "<p>5 rows × 342 columns</p>\n",
       "</div>"
      ],
      "text/plain": [
       "        0         1         2         3         4         5         6    \\\n",
       "0  0.000000  0.755455  1.248391  1.075704  1.164555  0.483760  1.592829   \n",
       "1  0.755455  0.000000  0.998348  1.277407  1.658632  0.477309  1.688952   \n",
       "2  1.248391  0.998348  0.000000  0.976404  1.465765  1.135642  1.966150   \n",
       "3  1.075704  1.277407  0.976404  0.000000  0.877559  1.232741  1.610554   \n",
       "4  1.164555  1.658632  1.465765  0.877559  0.000000  1.559954  1.422222   \n",
       "\n",
       "        7         8         9    ...       332       333       334       335  \\\n",
       "0  1.334953  1.289313  1.076023  ...  4.858921  3.784271  5.435446  3.441362   \n",
       "1  1.233058  1.619720  0.714318  ...  4.413954  3.114649  5.006583  2.874185   \n",
       "2  1.181193  1.740180  0.912882  ...  4.367166  3.084075  5.015394  2.920080   \n",
       "3  0.773798  1.482285  1.252623  ...  4.814784  3.774464  5.488042  3.386494   \n",
       "4  1.615729  0.920783  1.870371  ...  4.818297  4.121275  5.431835  3.622482   \n",
       "\n",
       "        336       337       338       339       340       341  \n",
       "0  4.603728  4.039011  3.837219  4.623330  3.649215  3.886216  \n",
       "1  4.171547  3.386142  3.201489  4.152622  3.052382  3.429834  \n",
       "2  4.330735  3.544491  3.311103  4.270485  3.291964  3.589055  \n",
       "3  4.669457  4.171841  3.920869  4.707812  3.774348  4.056464  \n",
       "4  4.671358  4.449798  4.185173  4.731974  4.003018  4.055544  \n",
       "\n",
       "[5 rows x 342 columns]"
      ]
     },
     "execution_count": 60,
     "metadata": {},
     "output_type": "execute_result"
    }
   ],
   "source": [
    "row_dist.head()"
   ]
  },
  {
   "cell_type": "markdown",
   "id": "9f17a663",
   "metadata": {},
   "source": [
    "linkage()함수를 사용하여 계층적 군집분석"
   ]
  },
  {
   "cell_type": "code",
   "execution_count": 61,
   "id": "69b41ca2",
   "metadata": {},
   "outputs": [],
   "source": [
    "clustersA = linkage(X_std, method='complete', metric='euclidean')"
   ]
  },
  {
   "cell_type": "code",
   "execution_count": 62,
   "id": "49036d9d",
   "metadata": {},
   "outputs": [
    {
     "name": "stdout",
     "output_type": "stream",
     "text": [
      "[[2.25000000e+02 3.11000000e+02 1.08991018e-01 2.00000000e+00]\n",
      " [2.60000000e+02 3.12000000e+02 1.08991018e-01 2.00000000e+00]\n",
      " [3.50000000e+01 1.06000000e+02 1.26537458e-01 2.00000000e+00]\n",
      " [2.66000000e+02 3.02000000e+02 1.31843434e-01 2.00000000e+00]\n",
      " [7.50000000e+01 1.42000000e+02 1.32965177e-01 2.00000000e+00]]\n"
     ]
    }
   ],
   "source": [
    "print(clustersA[:5])"
   ]
  },
  {
   "cell_type": "code",
   "execution_count": 63,
   "id": "5fa61152",
   "metadata": {},
   "outputs": [
    {
     "data": {
      "image/png": "[encoded data removed]",
      "text/plain": [
       "<Figure size 1080x432 with 1 Axes>"
      ]
     },
     "metadata": {
      "needs_background": "light"
     },
     "output_type": "display_data"
    }
   ],
   "source": [
    "plt.figure(figsize = (15,6))\n",
    "dendrogram(clustersA, leaf_rotation=90, leaf_font_size=12)\n",
    "plt.tight_layout()\n",
    "plt.ylabel('Euclidean distance')\n",
    "plt.show()"
   ]
  },
  {
   "cell_type": "markdown",
   "id": "2424a5c5",
   "metadata": {},
   "source": [
    "최장연결법으로 군집분석을 했을 때 거리가 약 4.9정도에서 3개의 군집으로 나눠짐을 확인할 수 있음.   "
   ]
  },
  {
   "cell_type": "code",
   "execution_count": 64,
   "id": "5172ab69",
   "metadata": {},
   "outputs": [],
   "source": [
    "cut_treeA = fcluster(clustersA, t=4.9, criterion='distance')"
   ]
  },
  {
   "cell_type": "code",
   "execution_count": 65,
   "id": "529fee97",
   "metadata": {},
   "outputs": [
    {
     "name": "stdout",
     "output_type": "stream",
     "text": [
      "[3 3 3 3 3 3 3 3 3 3 3 3 3 3 3 3 3 3 3 3 3 3 3 3 3 3 3 3 3 3 3 3 3 3 3 3 3\n",
      " 3 3 3 3 3 3 3 3 3 3 3 3 3 3 3 3 3 3 3 3 3 3 3 3 3 3 3 3 3 3 3 3 3 3 3 3 3\n",
      " 3 3 3 3 3 3 3 3 3 3 3 3 3 3 3 3 3 3 3 3 3 3 3 3 3 3 3 3 3 3 3 3 3 3 3 3 3\n",
      " 3 3 3 3 3 3 3 3 3 3 3 3 3 3 3 3 3 3 3 3 3 3 3 3 3 3 3 3 3 3 3 3 3 3 3 3 3\n",
      " 3 3 3 2 2 2 3 2 3 2 2 3 2 3 2 2 2 2 2 2 2 3 2 3 2 3 2 2 2 2 2 3 2 3 2 3 2\n",
      " 2 2 3 2 2 2 2 2 2 2 2 2 2 2 2 2 2 2 2 2 3 2 2 2 2 3 2 2 2 2 3 2 2 2 1 1 1\n",
      " 1 1 1 1 1 1 1 1 1 1 1 1 1 1 1 1 1 1 1 1 1 1 1 1 1 1 1 1 1 1 1 1 1 1 1 1 1\n",
      " 1 1 1 1 1 1 1 1 1 1 1 1 1 1 1 1 1 1 1 1 1 1 1 1 1 1 1 1 1 1 1 1 1 1 1 1 1\n",
      " 1 1 1 1 1 1 1 1 1 1 1 1 1 1 1 1 1 1 1 1 1 1 1 1 1 1 1 1 1 1 1 1 1 1 1 1 1\n",
      " 1 1 1 1 1 1 1 1 1]\n"
     ]
    }
   ],
   "source": [
    "print(cut_treeA)"
   ]
  },
  {
   "cell_type": "code",
   "execution_count": 66,
   "id": "0a4ef99b",
   "metadata": {},
   "outputs": [],
   "source": [
    "clustersB = linkage(X_std, method='single', metric='euclidean')"
   ]
  },
  {
   "cell_type": "code",
   "execution_count": 67,
   "id": "2ddbe891",
   "metadata": {},
   "outputs": [
    {
     "data": {
      "text/plain": [
       "array([[2.25000000e+02, 3.11000000e+02, 1.08991018e-01, 2.00000000e+00],\n",
       "       [2.60000000e+02, 3.12000000e+02, 1.08991018e-01, 2.00000000e+00],\n",
       "       [3.50000000e+01, 1.06000000e+02, 1.26537458e-01, 2.00000000e+00],\n",
       "       [2.66000000e+02, 3.02000000e+02, 1.31843434e-01, 2.00000000e+00],\n",
       "       [7.50000000e+01, 1.42000000e+02, 1.32965177e-01, 2.00000000e+00]])"
      ]
     },
     "execution_count": 67,
     "metadata": {},
     "output_type": "execute_result"
    }
   ],
   "source": [
    "clustersB[:5]"
   ]
  },
  {
   "cell_type": "code",
   "execution_count": 68,
   "id": "43bcd8f8",
   "metadata": {},
   "outputs": [
    {
     "data": {
      "image/png": "[encoded data removed]",
      "text/plain": [
       "<Figure size 1080x432 with 1 Axes>"
      ]
     },
     "metadata": {
      "needs_background": "light"
     },
     "output_type": "display_data"
    }
   ],
   "source": [
    "plt.figure(figsize = (15,6))\n",
    "dendrogram(clustersB, leaf_rotation=90, leaf_font_size=12)\n",
    "plt.tight_layout()\n",
    "plt.ylabel('Euclidean distance')\n",
    "plt.show()"
   ]
  },
  {
   "cell_type": "markdown",
   "id": "b669f7a5",
   "metadata": {},
   "source": [
    "최소연결법으로 군집분석을 하면 거리가 약 1.0에서 2개의 군집으로 나눠짐을 확인할 수 있음"
   ]
  },
  {
   "cell_type": "code",
   "execution_count": 69,
   "id": "f41f2aac",
   "metadata": {},
   "outputs": [],
   "source": [
    "cut_treeB = fcluster(clustersB, t=1.0, criterion='distance')"
   ]
  },
  {
   "cell_type": "code",
   "execution_count": 70,
   "id": "14e80ea6",
   "metadata": {},
   "outputs": [
    {
     "name": "stdout",
     "output_type": "stream",
     "text": [
      "[2 2 2 2 2 2 2 2 2 2 2 2 2 2 2 2 2 2 2 2 2 2 2 2 2 2 2 2 2 2 2 2 2 2 2 2 2\n",
      " 2 2 2 2 2 2 2 2 2 2 2 2 2 2 2 2 2 2 2 2 2 2 2 2 2 2 2 2 2 2 2 2 2 2 2 2 2\n",
      " 2 2 2 2 2 2 2 2 2 2 2 2 2 2 2 2 2 2 2 2 2 2 2 2 2 2 2 2 2 2 2 2 2 2 2 2 2\n",
      " 2 2 2 2 2 2 2 2 2 2 2 2 2 2 2 2 2 2 2 2 2 2 2 2 2 2 2 2 2 2 2 2 2 2 2 2 2\n",
      " 2 2 2 2 2 2 2 2 2 2 2 2 2 2 2 2 2 2 2 2 3 2 2 2 2 2 2 2 2 2 2 2 2 2 2 2 2\n",
      " 2 2 2 2 2 2 2 2 2 2 2 2 2 2 2 2 2 2 2 2 2 2 2 2 2 2 2 2 2 2 2 2 2 2 1 1 1\n",
      " 1 1 1 1 1 1 1 1 1 1 1 1 1 1 1 1 1 1 1 1 1 1 1 1 1 1 1 1 1 1 1 1 1 1 1 1 1\n",
      " 1 1 1 1 1 1 1 1 1 1 1 1 1 1 1 1 1 1 1 1 1 1 1 1 1 1 1 1 1 1 1 1 1 1 1 1 1\n",
      " 1 1 1 1 1 1 1 1 1 1 1 1 1 1 1 1 1 1 1 1 1 1 1 1 1 1 1 1 1 1 1 1 1 1 1 1 1\n",
      " 1 1 1 1 1 1 1 1 1]\n"
     ]
    }
   ],
   "source": [
    "print(cut_treeB)"
   ]
  },
  {
   "cell_type": "code",
   "execution_count": 71,
   "id": "68154e6d",
   "metadata": {},
   "outputs": [],
   "source": [
    "clustersC = linkage(X_std, method='average', metric='euclidean')"
   ]
  },
  {
   "cell_type": "code",
   "execution_count": 72,
   "id": "157eda2c",
   "metadata": {},
   "outputs": [
    {
     "data": {
      "text/plain": [
       "array([[2.25000000e+02, 3.11000000e+02, 1.08991018e-01, 2.00000000e+00],\n",
       "       [2.60000000e+02, 3.12000000e+02, 1.08991018e-01, 2.00000000e+00],\n",
       "       [3.50000000e+01, 1.06000000e+02, 1.26537458e-01, 2.00000000e+00],\n",
       "       [2.66000000e+02, 3.02000000e+02, 1.31843434e-01, 2.00000000e+00],\n",
       "       [7.50000000e+01, 1.42000000e+02, 1.32965177e-01, 2.00000000e+00]])"
      ]
     },
     "execution_count": 72,
     "metadata": {},
     "output_type": "execute_result"
    }
   ],
   "source": [
    "clustersC[:5]"
   ]
  },
  {
   "cell_type": "code",
   "execution_count": 73,
   "id": "1fbb9fde",
   "metadata": {},
   "outputs": [
    {
     "data": {
      "image/png": "[encoded data removed]",
      "text/plain": [
       "<Figure size 1080x432 with 1 Axes>"
      ]
     },
     "metadata": {
      "needs_background": "light"
     },
     "output_type": "display_data"
    }
   ],
   "source": [
    "plt.figure(figsize = (15,6))\n",
    "dendrogram(clustersC, leaf_rotation=90, leaf_font_size=12)\n",
    "plt.tight_layout()\n",
    "plt.ylabel('Euclidean distance')\n",
    "plt.show()"
   ]
  },
  {
   "cell_type": "markdown",
   "id": "dac66353",
   "metadata": {},
   "source": [
    "평균연결법으로 군집분석을 하면 거리가 약 2.5에서 2개의 군집으로 나눠짐을 확인할 수 있음.   "
   ]
  },
  {
   "cell_type": "code",
   "execution_count": 74,
   "id": "a85ccb07",
   "metadata": {},
   "outputs": [],
   "source": [
    "cut_treeC = fcluster(clustersC, t=2.5, criterion='distance')"
   ]
  },
  {
   "cell_type": "code",
   "execution_count": 75,
   "id": "e8757567",
   "metadata": {},
   "outputs": [
    {
     "name": "stdout",
     "output_type": "stream",
     "text": [
      "[1 1 1 1 1 1 1 1 1 1 1 1 1 1 1 1 1 1 1 1 1 1 1 1 1 1 1 1 1 1 1 1 1 1 1 1 1\n",
      " 1 1 1 1 1 1 1 1 1 1 1 1 1 1 1 1 1 1 1 1 1 1 1 1 1 1 1 1 1 1 1 1 1 1 1 1 1\n",
      " 1 1 1 1 1 1 1 1 1 1 1 1 1 1 1 1 1 1 1 1 1 1 1 1 1 1 1 1 1 1 1 1 1 1 1 1 1\n",
      " 1 1 1 1 1 1 1 1 1 1 1 1 1 1 1 1 1 1 1 1 1 1 1 1 1 1 1 1 1 1 1 1 1 1 1 1 1\n",
      " 1 1 1 1 1 1 1 1 1 1 1 1 1 1 1 1 1 1 1 1 1 1 1 1 1 1 1 1 1 1 1 1 1 1 1 1 1\n",
      " 1 1 1 1 1 1 1 1 1 1 1 1 1 1 1 1 1 1 1 1 1 1 1 1 1 1 1 1 1 1 1 1 1 1 2 2 2\n",
      " 2 2 2 2 2 2 2 2 2 2 2 2 2 2 2 2 2 2 2 2 2 2 2 2 2 2 2 2 2 2 2 2 2 2 2 2 2\n",
      " 2 2 2 2 2 2 2 2 2 2 2 2 2 2 2 2 2 2 2 2 2 2 2 2 2 2 2 2 2 2 2 2 2 2 2 2 2\n",
      " 2 2 2 2 2 2 2 2 2 2 2 2 2 2 2 2 2 2 2 2 2 2 2 2 2 2 2 2 2 2 2 2 2 2 2 2 2\n",
      " 2 2 2 2 2 2 2 2 2]\n"
     ]
    }
   ],
   "source": [
    "print(cut_treeC)"
   ]
  },
  {
   "cell_type": "markdown",
   "id": "9b2d5d5a",
   "metadata": {},
   "source": [
    "K-means 군집분석"
   ]
  },
  {
   "cell_type": "code",
   "execution_count": 76,
   "id": "e69582fc",
   "metadata": {},
   "outputs": [],
   "source": [
    "modelA = KMeans(n_clusters=3, random_state=1234, init='random').fit(X_std)"
   ]
  },
  {
   "cell_type": "code",
   "execution_count": 77,
   "id": "280fb61d",
   "metadata": {},
   "outputs": [],
   "source": [
    "centerA = modelA.cluster_centers_"
   ]
  },
  {
   "cell_type": "code",
   "execution_count": 78,
   "id": "a6127678",
   "metadata": {},
   "outputs": [
    {
     "data": {
      "text/plain": [
       "array([[ 0.66097295,  0.8169259 , -0.28620559, -0.37431308],\n",
       "       [ 0.65722922, -1.09998045,  1.15886506,  1.0917612 ],\n",
       "       [-1.04805941,  0.48655336, -0.89121603, -0.77061658]])"
      ]
     },
     "execution_count": 78,
     "metadata": {},
     "output_type": "execute_result"
    }
   ],
   "source": [
    "centerA"
   ]
  },
  {
   "cell_type": "code",
   "execution_count": 79,
   "id": "218725bb",
   "metadata": {},
   "outputs": [],
   "source": [
    "predA = modelA.predict(X_std)"
   ]
  },
  {
   "cell_type": "code",
   "execution_count": 80,
   "id": "87edc21b",
   "metadata": {},
   "outputs": [
    {
     "name": "stdout",
     "output_type": "stream",
     "text": [
      "[2 2 2 2 2 2 2 2 0 2 2 2 2 2 2 2 0 2 0 2 2 2 2 2 2 2 2 2 2 2 2 2 2 2 2 2 2\n",
      " 2 2 2 2 2 0 2 2 2 2 2 0 2 2 2 0 2 2 2 2 2 2 2 0 2 2 2 2 2 2 2 0 2 2 2 0 2\n",
      " 0 2 2 2 0 2 0 2 2 2 2 2 2 2 2 2 0 2 2 2 0 2 2 2 0 2 0 2 2 2 2 2 2 2 0 2 0\n",
      " 2 0 2 0 2 2 2 2 2 2 2 0 2 2 2 2 2 0 2 0 2 2 2 2 2 2 2 2 2 2 2 2 2 2 2 2 2\n",
      " 2 2 0 0 0 0 0 0 0 0 0 0 0 0 0 0 0 0 0 0 0 0 0 2 0 2 0 0 0 0 0 0 0 2 0 2 0\n",
      " 0 0 0 0 0 0 0 0 0 0 0 0 0 0 0 0 0 0 0 0 2 0 0 0 0 0 0 0 0 0 0 0 0 0 1 1 1\n",
      " 1 1 1 1 1 1 1 1 1 1 1 1 1 1 1 1 1 1 1 1 1 1 1 1 1 1 1 1 1 1 1 1 1 1 1 1 1\n",
      " 1 1 1 1 1 1 1 1 1 1 1 1 1 1 1 1 1 1 1 1 1 1 1 1 1 1 1 1 1 1 1 1 1 1 1 1 1\n",
      " 1 1 1 1 1 1 1 1 1 1 1 1 1 1 1 1 1 1 1 1 1 1 1 1 1 1 1 1 1 1 1 1 1 1 1 1 1\n",
      " 1 1 1 1 1 1 1 1 1]\n"
     ]
    }
   ],
   "source": [
    "print(predA)"
   ]
  },
  {
   "cell_type": "code",
   "execution_count": 81,
   "id": "9b658414",
   "metadata": {},
   "outputs": [],
   "source": [
    "modelB = KMeans(n_clusters=3, random_state=2345, init='k-means++').fit(X_std)"
   ]
  },
  {
   "cell_type": "code",
   "execution_count": 82,
   "id": "405d0d4e",
   "metadata": {},
   "outputs": [],
   "source": [
    "centerB = modelB.cluster_centers_"
   ]
  },
  {
   "cell_type": "code",
   "execution_count": 83,
   "id": "5963a18b",
   "metadata": {},
   "outputs": [
    {
     "data": {
      "text/plain": [
       "array([[ 0.66097295,  0.8169259 , -0.28620559, -0.37431308],\n",
       "       [-1.04805941,  0.48655336, -0.89121603, -0.77061658],\n",
       "       [ 0.65722922, -1.09998045,  1.15886506,  1.0917612 ]])"
      ]
     },
     "execution_count": 83,
     "metadata": {},
     "output_type": "execute_result"
    }
   ],
   "source": [
    "centerB"
   ]
  },
  {
   "cell_type": "code",
   "execution_count": 84,
   "id": "bc78e1ef",
   "metadata": {},
   "outputs": [],
   "source": [
    "predB = modelB.predict(X_std)"
   ]
  },
  {
   "cell_type": "code",
   "execution_count": 85,
   "id": "8fc2bce7",
   "metadata": {},
   "outputs": [
    {
     "name": "stdout",
     "output_type": "stream",
     "text": [
      "[1 1 1 1 1 1 1 1 0 1 1 1 1 1 1 1 0 1 0 1 1 1 1 1 1 1 1 1 1 1 1 1 1 1 1 1 1\n",
      " 1 1 1 1 1 0 1 1 1 1 1 0 1 1 1 0 1 1 1 1 1 1 1 0 1 1 1 1 1 1 1 0 1 1 1 0 1\n",
      " 0 1 1 1 0 1 0 1 1 1 1 1 1 1 1 1 0 1 1 1 0 1 1 1 0 1 0 1 1 1 1 1 1 1 0 1 0\n",
      " 1 0 1 0 1 1 1 1 1 1 1 0 1 1 1 1 1 0 1 0 1 1 1 1 1 1 1 1 1 1 1 1 1 1 1 1 1\n",
      " 1 1 0 0 0 0 0 0 0 0 0 0 0 0 0 0 0 0 0 0 0 0 0 1 0 1 0 0 0 0 0 0 0 1 0 1 0\n",
      " 0 0 0 0 0 0 0 0 0 0 0 0 0 0 0 0 0 0 0 0 1 0 0 0 0 0 0 0 0 0 0 0 0 0 2 2 2\n",
      " 2 2 2 2 2 2 2 2 2 2 2 2 2 2 2 2 2 2 2 2 2 2 2 2 2 2 2 2 2 2 2 2 2 2 2 2 2\n",
      " 2 2 2 2 2 2 2 2 2 2 2 2 2 2 2 2 2 2 2 2 2 2 2 2 2 2 2 2 2 2 2 2 2 2 2 2 2\n",
      " 2 2 2 2 2 2 2 2 2 2 2 2 2 2 2 2 2 2 2 2 2 2 2 2 2 2 2 2 2 2 2 2 2 2 2 2 2\n",
      " 2 2 2 2 2 2 2 2 2]\n"
     ]
    }
   ],
   "source": [
    "print(predB)"
   ]
  }
 ],
 "metadata": {
  "kernelspec": {
   "display_name": "Python 3 (ipykernel)",
   "language": "python",
   "name": "python3"
  },
  "language_info": {
   "codemirror_mode": {
    "name": "ipython",
    "version": 3
   },
   "file_extension": ".py",
   "mimetype": "text/x-python",
   "name": "python",
   "nbconvert_exporter": "python",
   "pygments_lexer": "ipython3",
   "version": "3.9.12"
  }
 },
 "nbformat": 4,
 "nbformat_minor": 5
}
