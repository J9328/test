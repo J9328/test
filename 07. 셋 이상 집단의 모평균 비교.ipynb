{
 "cells": [
  {
   "cell_type": "markdown",
   "id": "1a56e037",
   "metadata": {},
   "source": [
    "# 07. 셋 이상 집단의 모평균 비교"
   ]
  },
  {
   "cell_type": "markdown",
   "id": "c98f93bc",
   "metadata": {},
   "source": [
    "t-검정은 2개의 서로 다른 모집단의 평균 차이를 검정할 때 사용할 수 있는 방법. \n",
    "집단이 3개 이상일 경우의 모평균 비교에는 t-검정 사용 불가. \n",
    "이러한 경우 **분산분석(Analysis of Variance)** 을 사용 - 관측값들이 달라지는 것을 여러 요인으로 나누어 각 요인들이 얼마나 변화의 정도에 기여하였는가를 분석하는 방법  \n",
    "\n",
    "하나의 요인이라면 **일원배치 분산분석** , 두 요인이라면 **이원배치 분산분석** 이라 한다.  "
   ]
  },
  {
   "cell_type": "markdown",
   "id": "f3e7b704",
   "metadata": {},
   "source": [
    "## 1. 일원배치 분산분석"
   ]
  },
  {
   "cell_type": "markdown",
   "id": "7eee68ce",
   "metadata": {},
   "source": [
    "### 1-1. 일원배치 분산분석(One-way ANOAVA)\n",
    "셋 이상의 집단의 모평균이 동일한지 검정할 수 있는 방법.   \n",
    "요인이 1개인 경우 일원배치 분산분석이라고 함. \n",
    "\n",
    "* 분산분석(Analysis of Variance)\n",
    "    1. 여러 모집단에서의 관측자료를 효과적으로 분석하고 해석하게 해 주는 분석 방법\n",
    "    2. 관측값이 달라지는 것을 여러 요인으로 나눠서 각 요인들이 얼마나 변화의 정도에 기여하였는가를 분석함  \n",
    "    \n",
    "참고) https://ysyblog.tistory.com/174 / https://digital-play.tistory.com/80\n",
    "\n",
    "일원배치 분산분석을 위해 관측값을 분해해야 하는데, **관측값 = 총평균 + 처리에 의한 편차 + 잔차** 로 구성된다.  \n",
    "\n",
    "\n",
    "\n",
    "* 가설검정방법\n",
    "    1. 귀무가설: H0, 모집단의 평균들이 모두 동일 (u1 = u2 = ... = ul)\n",
    "    2. 대립가설: H1, 모든 Hi가 동일한 것은 아니다.  \n",
    "    3. 평균처리제곱(MST)의 크고 작음에 따라 귀무가설의 기각여부를 결정한느데 그 기준으로 공통분산의 추정값인 평균오차제곱(MSE)를 사용함.   \n",
    "\n",
    "\n",
    "\n",
    "    \n",
    "    \n",
    "* 사후 분석이 필요한 이유\n",
    "    1. 검정통계량에 의해 귀무가설이 기각되었을 경우 어떤 집단간 평균이 유의미하게 차이가 나는지 확인할 필요가 있음 (사후 분석)\n",
    "    2. Turkey's HSD 검정, 본페로니 검정 등의 방법이 있음. \n",
    "    3. 집단별로 사례수가 동일하면 Turkey's HSD 검정을 사용하고, 동일하지 않다면 본페로니 검정을 사용. \n",
    "    \n",
    "    \n",
    "빵을 만들 때 넣는 첨가물의 종류(A, B, C)에 따른 빵의 밀도 변화를 측정한 자료를 바탕으로   \n",
    "- 귀무가설: 첨가물의 종류에 따른 빵의 평균 밀도에는 차이가 없다.  \n",
    "- 대립가설: 적어도 1가지 첨가물을 넣은 빵의 평균 밀도가 다른 첨가물을 넣은 빵의 평균밀도와 차이가 있다.  "
   ]
  },
  {
   "cell_type": "code",
   "execution_count": 1,
   "id": "b9b9f1ad",
   "metadata": {},
   "outputs": [
    {
     "data": {
      "text/plain": [
       "{'x': [0.95,\n",
       "  0.86,\n",
       "  0.71,\n",
       "  0.72,\n",
       "  0.74,\n",
       "  0.71,\n",
       "  0.85,\n",
       "  0.62,\n",
       "  0.72,\n",
       "  0.64,\n",
       "  0.69,\n",
       "  0.68,\n",
       "  0.51,\n",
       "  0.63,\n",
       "  0.44],\n",
       " 'group': [1, 1, 1, 1, 1, 2, 2, 2, 2, 2, 3, 3, 3, 3, 3]}"
      ]
     },
     "execution_count": 1,
     "metadata": {},
     "output_type": "execute_result"
    }
   ],
   "source": [
    "data = {'x':[0.95, 0.86, 0.71, 0.72, 0.74,\n",
    "            0.71, 0.85, 0.62, 0.72, 0.64,\n",
    "            0.69, 0.68, 0.51, 0.63, 0.44],\n",
    "       'group': [1, 1, 1, 1, 1, 2, 2, 2, 2, 2, 3, 3, 3, 3, 3]}\n",
    "data"
   ]
  },
  {
   "cell_type": "code",
   "execution_count": 2,
   "id": "c562fd78",
   "metadata": {},
   "outputs": [
    {
     "data": {
      "text/html": [
       "<div>\n",
       "<style scoped>\n",
       "    .dataframe tbody tr th:only-of-type {\n",
       "        vertical-align: middle;\n",
       "    }\n",
       "\n",
       "    .dataframe tbody tr th {\n",
       "        vertical-align: top;\n",
       "    }\n",
       "\n",
       "    .dataframe thead th {\n",
       "        text-align: right;\n",
       "    }\n",
       "</style>\n",
       "<table border=\"1\" class=\"dataframe\">\n",
       "  <thead>\n",
       "    <tr style=\"text-align: right;\">\n",
       "      <th></th>\n",
       "      <th>x</th>\n",
       "      <th>group</th>\n",
       "    </tr>\n",
       "  </thead>\n",
       "  <tbody>\n",
       "    <tr>\n",
       "      <th>0</th>\n",
       "      <td>0.95</td>\n",
       "      <td>1</td>\n",
       "    </tr>\n",
       "    <tr>\n",
       "      <th>1</th>\n",
       "      <td>0.86</td>\n",
       "      <td>1</td>\n",
       "    </tr>\n",
       "    <tr>\n",
       "      <th>2</th>\n",
       "      <td>0.71</td>\n",
       "      <td>1</td>\n",
       "    </tr>\n",
       "    <tr>\n",
       "      <th>3</th>\n",
       "      <td>0.72</td>\n",
       "      <td>1</td>\n",
       "    </tr>\n",
       "    <tr>\n",
       "      <th>4</th>\n",
       "      <td>0.74</td>\n",
       "      <td>1</td>\n",
       "    </tr>\n",
       "    <tr>\n",
       "      <th>5</th>\n",
       "      <td>0.71</td>\n",
       "      <td>2</td>\n",
       "    </tr>\n",
       "    <tr>\n",
       "      <th>6</th>\n",
       "      <td>0.85</td>\n",
       "      <td>2</td>\n",
       "    </tr>\n",
       "    <tr>\n",
       "      <th>7</th>\n",
       "      <td>0.62</td>\n",
       "      <td>2</td>\n",
       "    </tr>\n",
       "    <tr>\n",
       "      <th>8</th>\n",
       "      <td>0.72</td>\n",
       "      <td>2</td>\n",
       "    </tr>\n",
       "    <tr>\n",
       "      <th>9</th>\n",
       "      <td>0.64</td>\n",
       "      <td>2</td>\n",
       "    </tr>\n",
       "    <tr>\n",
       "      <th>10</th>\n",
       "      <td>0.69</td>\n",
       "      <td>3</td>\n",
       "    </tr>\n",
       "    <tr>\n",
       "      <th>11</th>\n",
       "      <td>0.68</td>\n",
       "      <td>3</td>\n",
       "    </tr>\n",
       "    <tr>\n",
       "      <th>12</th>\n",
       "      <td>0.51</td>\n",
       "      <td>3</td>\n",
       "    </tr>\n",
       "    <tr>\n",
       "      <th>13</th>\n",
       "      <td>0.63</td>\n",
       "      <td>3</td>\n",
       "    </tr>\n",
       "    <tr>\n",
       "      <th>14</th>\n",
       "      <td>0.44</td>\n",
       "      <td>3</td>\n",
       "    </tr>\n",
       "  </tbody>\n",
       "</table>\n",
       "</div>"
      ],
      "text/plain": [
       "       x  group\n",
       "0   0.95      1\n",
       "1   0.86      1\n",
       "2   0.71      1\n",
       "3   0.72      1\n",
       "4   0.74      1\n",
       "5   0.71      2\n",
       "6   0.85      2\n",
       "7   0.62      2\n",
       "8   0.72      2\n",
       "9   0.64      2\n",
       "10  0.69      3\n",
       "11  0.68      3\n",
       "12  0.51      3\n",
       "13  0.63      3\n",
       "14  0.44      3"
      ]
     },
     "execution_count": 2,
     "metadata": {},
     "output_type": "execute_result"
    }
   ],
   "source": [
    "import pandas as pd\n",
    "Data = pd.DataFrame(data)\n",
    "Data"
   ]
  },
  {
   "cell_type": "code",
   "execution_count": 3,
   "id": "677e4daf",
   "metadata": {},
   "outputs": [],
   "source": [
    "X1 = Data.loc[Data.group==1, 'x']\n",
    "X2 = Data.loc[Data.group==2, 'x']\n",
    "X3 = Data.loc[Data.group==3, 'x']"
   ]
  },
  {
   "cell_type": "markdown",
   "id": "eebd3de5",
   "metadata": {},
   "source": [
    "### 1-2. 정규성 확인\n",
    "일원분산분석을 할 때도 정규성 확인이 필요"
   ]
  },
  {
   "cell_type": "code",
   "execution_count": 4,
   "id": "8aa184ee",
   "metadata": {},
   "outputs": [],
   "source": [
    "from scipy.stats import shapiro, levene, bartlett"
   ]
  },
  {
   "cell_type": "code",
   "execution_count": 5,
   "id": "310516a1",
   "metadata": {},
   "outputs": [
    {
     "data": {
      "text/plain": [
       "ShapiroResult(statistic=0.8469260334968567, pvalue=0.18499600887298584)"
      ]
     },
     "execution_count": 5,
     "metadata": {},
     "output_type": "execute_result"
    }
   ],
   "source": [
    "shapiro(X1)"
   ]
  },
  {
   "cell_type": "code",
   "execution_count": 6,
   "id": "3b11376c",
   "metadata": {},
   "outputs": [
    {
     "data": {
      "text/plain": [
       "ShapiroResult(statistic=0.9071149826049805, pvalue=0.4504486918449402)"
      ]
     },
     "execution_count": 6,
     "metadata": {},
     "output_type": "execute_result"
    }
   ],
   "source": [
    "shapiro(X2)"
   ]
  },
  {
   "cell_type": "code",
   "execution_count": 7,
   "id": "f647720d",
   "metadata": {},
   "outputs": [
    {
     "data": {
      "text/plain": [
       "ShapiroResult(statistic=0.8832945823669434, pvalue=0.32450810074806213)"
      ]
     },
     "execution_count": 7,
     "metadata": {},
     "output_type": "execute_result"
    }
   ],
   "source": [
    "shapiro(X3)"
   ]
  },
  {
   "cell_type": "markdown",
   "id": "f1e5805b",
   "metadata": {},
   "source": [
    "X1, X2, X3 모두 p-value > 0.05로 정규성을 만족하는 것으로 확인됨.  \n",
    "\n",
    "### 1-3. 등분산 확인\n",
    "\n",
    "다음으로 등분산검정을 수행해야 하는데 levene()함수 또는 bartlett()함수를 사용하여 확인해야 함.  \n",
    "\n",
    "> levene(data1, data2, data3)  \n",
    "\n",
    "> bartlett(data1, data2, data3)"
   ]
  },
  {
   "cell_type": "code",
   "execution_count": 8,
   "id": "95357d16",
   "metadata": {},
   "outputs": [
    {
     "data": {
      "text/plain": [
       "LeveneResult(statistic=0.11320754716981142, pvalue=0.8939076596969161)"
      ]
     },
     "execution_count": 8,
     "metadata": {},
     "output_type": "execute_result"
    }
   ],
   "source": [
    "levene(X1, X2, X3)"
   ]
  },
  {
   "cell_type": "markdown",
   "id": "be625256",
   "metadata": {},
   "source": [
    "levene's test 결과 p-value > 0.05로 등분산이 만족함을 알 수 있다.  "
   ]
  },
  {
   "cell_type": "code",
   "execution_count": 9,
   "id": "0ef21c3c",
   "metadata": {},
   "outputs": [
    {
     "data": {
      "text/plain": [
       "BartlettResult(statistic=0.14900048391088347, pvalue=0.9282072494741611)"
      ]
     },
     "execution_count": 9,
     "metadata": {},
     "output_type": "execute_result"
    }
   ],
   "source": [
    "bartlett(X1, X2, X3)"
   ]
  },
  {
   "cell_type": "markdown",
   "id": "80f04a97",
   "metadata": {},
   "source": [
    "Bartlett's test 결과도 p-value > 0.05로 등분산성이 있는 것으로 확인되었음\n",
    "\n",
    "참고) https://ruahneuma.tistory.com/entry/R로-등분산-검정Levene-Bartlett"
   ]
  },
  {
   "cell_type": "markdown",
   "id": "b06aed90",
   "metadata": {},
   "source": [
    "### 1-4. ANOVA분석: f-oneway()\n",
    "\n",
    "세 집단 이상의 평균차이를 검정하기 위해 f_oneway() 함수 사용\n",
    "\n",
    "> f_oneway(data1, data2, data3)"
   ]
  },
  {
   "cell_type": "code",
   "execution_count": 10,
   "id": "48c6e9b1",
   "metadata": {},
   "outputs": [],
   "source": [
    "import numpy as np"
   ]
  },
  {
   "cell_type": "code",
   "execution_count": 11,
   "id": "b81777e3",
   "metadata": {},
   "outputs": [
    {
     "data": {
      "text/plain": [
       "0.796"
      ]
     },
     "execution_count": 11,
     "metadata": {},
     "output_type": "execute_result"
    }
   ],
   "source": [
    "np.mean(X1)"
   ]
  },
  {
   "cell_type": "code",
   "execution_count": 12,
   "id": "abfdbd05",
   "metadata": {},
   "outputs": [
    {
     "data": {
      "text/plain": [
       "0.7080000000000001"
      ]
     },
     "execution_count": 12,
     "metadata": {},
     "output_type": "execute_result"
    }
   ],
   "source": [
    "np.mean(X2)"
   ]
  },
  {
   "cell_type": "code",
   "execution_count": 13,
   "id": "3a5f955d",
   "metadata": {},
   "outputs": [
    {
     "data": {
      "text/plain": [
       "0.5900000000000001"
      ]
     },
     "execution_count": 13,
     "metadata": {},
     "output_type": "execute_result"
    }
   ],
   "source": [
    "np.mean(X3)"
   ]
  },
  {
   "cell_type": "code",
   "execution_count": 14,
   "id": "0ab16129",
   "metadata": {},
   "outputs": [
    {
     "data": {
      "text/plain": [
       "0.09393614852653902"
      ]
     },
     "execution_count": 14,
     "metadata": {},
     "output_type": "execute_result"
    }
   ],
   "source": [
    "np.std(X1)"
   ]
  },
  {
   "cell_type": "code",
   "execution_count": 15,
   "id": "d647e252",
   "metadata": {},
   "outputs": [
    {
     "data": {
      "text/plain": [
       "0.08084553172563094"
      ]
     },
     "execution_count": 15,
     "metadata": {},
     "output_type": "execute_result"
    }
   ],
   "source": [
    "np.std(X2)"
   ]
  },
  {
   "cell_type": "code",
   "execution_count": 16,
   "id": "aa79515f",
   "metadata": {},
   "outputs": [
    {
     "data": {
      "text/plain": [
       "0.0985900603509299"
      ]
     },
     "execution_count": 16,
     "metadata": {},
     "output_type": "execute_result"
    }
   ],
   "source": [
    "np.std(X3)"
   ]
  },
  {
   "cell_type": "markdown",
   "id": "73ce46e4",
   "metadata": {},
   "source": [
    "분산분석을 하기 전 각 데이터의 평균과 표준편차를 확인함.  "
   ]
  },
  {
   "cell_type": "code",
   "execution_count": 17,
   "id": "ce41e7e1",
   "metadata": {},
   "outputs": [],
   "source": [
    "from scipy.stats import f_oneway"
   ]
  },
  {
   "cell_type": "code",
   "execution_count": 18,
   "id": "b6f3db65",
   "metadata": {},
   "outputs": [
    {
     "data": {
      "text/plain": [
       "F_onewayResult(statistic=5.11196172248804, pvalue=0.024783525296823965)"
      ]
     },
     "execution_count": 18,
     "metadata": {},
     "output_type": "execute_result"
    }
   ],
   "source": [
    "result = f_oneway(X1, X2, X3)\n",
    "result"
   ]
  },
  {
   "cell_type": "markdown",
   "id": "262dd6d4",
   "metadata": {},
   "source": [
    "일원분산분석 결과 F검정 통계량은 5.11196, p-value는 0.02478로 p-value < 0.05로 귀무가설이 기각되고 대립가설이 채택되어 빵을 만들 때 넣는 첨가물의 종류에 따라 적어도 1가지는 빵의 평균 밀도에 통계적으로 유의한 차이가 있다는 것을 의미한다.  "
   ]
  },
  {
   "cell_type": "markdown",
   "id": "7d6317a7",
   "metadata": {},
   "source": [
    "## 2. 사후분석"
   ]
  },
  {
   "cell_type": "markdown",
   "id": "bdfdfa09",
   "metadata": {},
   "source": [
    "f_oneway() 함수를 이용한 ANOVA분석은 각 집단별로 차이가 있는지 여부만 확인할 수 있을 뿐, 어떤 집단과 어떤 집단에 차이가 있는지 확인 불가\n",
    "\n",
    "statsmodels.formula.api 모듈을 활용하면 연수형 변수인 반응변수와 그룹변수인 요인을 활용한 **회귀모형을 생성** 하여 이 모형을 이용한 분산분석표 및 가설검정을 확인하기 위한 함수에 적용하는 방식으로 분석을 수행할 수 있다.  \n",
    "\n",
    "### 2-1. 회귀모형 생성\n",
    "ols().fit()함수를 이용해 회귀모형 생성\n",
    "\n",
    "> from statsmodels.formula.api import ols\n",
    "\n",
    "> 객체명 = ols('반응변수 ~ 인자', data=DataFrame객체).fit()\n",
    "\n",
    "> 객체명.summary()\n",
    "\n",
    "**주의!!! 그룹 변수명이 문자형이 아닌 경우 입력시 유의사항**    \n",
    "그룹 변수명이 연속형이거나 이산형인 경우 c()에 변수명을 넣어서 그룹변수가 범주형 자료로 인식하도록 변경시켜주어야 함.  \n"
   ]
  },
  {
   "cell_type": "code",
   "execution_count": 19,
   "id": "b6057fab",
   "metadata": {},
   "outputs": [],
   "source": [
    "from statsmodels.formula.api import ols"
   ]
  },
  {
   "cell_type": "code",
   "execution_count": 20,
   "id": "67eb8b52",
   "metadata": {},
   "outputs": [],
   "source": [
    "lmFit = ols('x~C(group)', data=Data).fit()"
   ]
  },
  {
   "cell_type": "code",
   "execution_count": 21,
   "id": "7399f594",
   "metadata": {},
   "outputs": [
    {
     "name": "stderr",
     "output_type": "stream",
     "text": [
      "/Users/junhoahn/opt/anaconda3/lib/python3.9/site-packages/scipy/stats/stats.py:1541: UserWarning: kurtosistest only valid for n>=20 ... continuing anyway, n=15\n",
      "  warnings.warn(\"kurtosistest only valid for n>=20 ... continuing \"\n"
     ]
    },
    {
     "data": {
      "text/html": [
       "<table class=\"simpletable\">\n",
       "<caption>OLS Regression Results</caption>\n",
       "<tr>\n",
       "  <th>Dep. Variable:</th>            <td>x</td>        <th>  R-squared:         </th> <td>   0.460</td>\n",
       "</tr>\n",
       "<tr>\n",
       "  <th>Model:</th>                   <td>OLS</td>       <th>  Adj. R-squared:    </th> <td>   0.370</td>\n",
       "</tr>\n",
       "<tr>\n",
       "  <th>Method:</th>             <td>Least Squares</td>  <th>  F-statistic:       </th> <td>   5.112</td>\n",
       "</tr>\n",
       "<tr>\n",
       "  <th>Date:</th>             <td>Mon, 30 May 2022</td> <th>  Prob (F-statistic):</th>  <td>0.0248</td> \n",
       "</tr>\n",
       "<tr>\n",
       "  <th>Time:</th>                 <td>20:59:29</td>     <th>  Log-Likelihood:    </th> <td>  14.598</td>\n",
       "</tr>\n",
       "<tr>\n",
       "  <th>No. Observations:</th>      <td>    15</td>      <th>  AIC:               </th> <td>  -23.20</td>\n",
       "</tr>\n",
       "<tr>\n",
       "  <th>Df Residuals:</th>          <td>    12</td>      <th>  BIC:               </th> <td>  -21.07</td>\n",
       "</tr>\n",
       "<tr>\n",
       "  <th>Df Model:</th>              <td>     2</td>      <th>                     </th>     <td> </td>   \n",
       "</tr>\n",
       "<tr>\n",
       "  <th>Covariance Type:</th>      <td>nonrobust</td>    <th>                     </th>     <td> </td>   \n",
       "</tr>\n",
       "</table>\n",
       "<table class=\"simpletable\">\n",
       "<tr>\n",
       "        <td></td>           <th>coef</th>     <th>std err</th>      <th>t</th>      <th>P>|t|</th>  <th>[0.025</th>    <th>0.975]</th>  \n",
       "</tr>\n",
       "<tr>\n",
       "  <th>Intercept</th>     <td>    0.7960</td> <td>    0.046</td> <td>   17.412</td> <td> 0.000</td> <td>    0.696</td> <td>    0.896</td>\n",
       "</tr>\n",
       "<tr>\n",
       "  <th>C(group)[T.2]</th> <td>   -0.0880</td> <td>    0.065</td> <td>   -1.361</td> <td> 0.198</td> <td>   -0.229</td> <td>    0.053</td>\n",
       "</tr>\n",
       "<tr>\n",
       "  <th>C(group)[T.3]</th> <td>   -0.2060</td> <td>    0.065</td> <td>   -3.186</td> <td> 0.008</td> <td>   -0.347</td> <td>   -0.065</td>\n",
       "</tr>\n",
       "</table>\n",
       "<table class=\"simpletable\">\n",
       "<tr>\n",
       "  <th>Omnibus:</th>       <td> 2.016</td> <th>  Durbin-Watson:     </th> <td>   1.843</td>\n",
       "</tr>\n",
       "<tr>\n",
       "  <th>Prob(Omnibus):</th> <td> 0.365</td> <th>  Jarque-Bera (JB):  </th> <td>   1.023</td>\n",
       "</tr>\n",
       "<tr>\n",
       "  <th>Skew:</th>          <td> 0.213</td> <th>  Prob(JB):          </th> <td>   0.600</td>\n",
       "</tr>\n",
       "<tr>\n",
       "  <th>Kurtosis:</th>      <td> 1.794</td> <th>  Cond. No.          </th> <td>    3.73</td>\n",
       "</tr>\n",
       "</table><br/><br/>Notes:<br/>[1] Standard Errors assume that the covariance matrix of the errors is correctly specified."
      ],
      "text/plain": [
       "<class 'statsmodels.iolib.summary.Summary'>\n",
       "\"\"\"\n",
       "                            OLS Regression Results                            \n",
       "==============================================================================\n",
       "Dep. Variable:                      x   R-squared:                       0.460\n",
       "Model:                            OLS   Adj. R-squared:                  0.370\n",
       "Method:                 Least Squares   F-statistic:                     5.112\n",
       "Date:                Mon, 30 May 2022   Prob (F-statistic):             0.0248\n",
       "Time:                        20:59:29   Log-Likelihood:                 14.598\n",
       "No. Observations:                  15   AIC:                            -23.20\n",
       "Df Residuals:                      12   BIC:                            -21.07\n",
       "Df Model:                           2                                         \n",
       "Covariance Type:            nonrobust                                         \n",
       "=================================================================================\n",
       "                    coef    std err          t      P>|t|      [0.025      0.975]\n",
       "---------------------------------------------------------------------------------\n",
       "Intercept         0.7960      0.046     17.412      0.000       0.696       0.896\n",
       "C(group)[T.2]    -0.0880      0.065     -1.361      0.198      -0.229       0.053\n",
       "C(group)[T.3]    -0.2060      0.065     -3.186      0.008      -0.347      -0.065\n",
       "==============================================================================\n",
       "Omnibus:                        2.016   Durbin-Watson:                   1.843\n",
       "Prob(Omnibus):                  0.365   Jarque-Bera (JB):                1.023\n",
       "Skew:                           0.213   Prob(JB):                        0.600\n",
       "Kurtosis:                       1.794   Cond. No.                         3.73\n",
       "==============================================================================\n",
       "\n",
       "Notes:\n",
       "[1] Standard Errors assume that the covariance matrix of the errors is correctly specified.\n",
       "\"\"\""
      ]
     },
     "execution_count": 21,
     "metadata": {},
     "output_type": "execute_result"
    }
   ],
   "source": [
    "lmFit.summary()"
   ]
  },
  {
   "cell_type": "markdown",
   "id": "60106233",
   "metadata": {},
   "source": [
    "만약 C()를 통하여 group변수를 범주형으로 변환하지 않으면 아래와 같이 하나의 group에 대한 coef만 얻을 수 있다. (값에 따라 구분되어 있지 않음)"
   ]
  },
  {
   "cell_type": "code",
   "execution_count": 22,
   "id": "c2a2a51b",
   "metadata": {},
   "outputs": [
    {
     "name": "stderr",
     "output_type": "stream",
     "text": [
      "/Users/junhoahn/opt/anaconda3/lib/python3.9/site-packages/scipy/stats/stats.py:1541: UserWarning: kurtosistest only valid for n>=20 ... continuing anyway, n=15\n",
      "  warnings.warn(\"kurtosistest only valid for n>=20 ... continuing \"\n"
     ]
    },
    {
     "data": {
      "text/html": [
       "<table class=\"simpletable\">\n",
       "<caption>OLS Regression Results</caption>\n",
       "<tr>\n",
       "  <th>Dep. Variable:</th>            <td>x</td>        <th>  R-squared:         </th> <td>   0.457</td>\n",
       "</tr>\n",
       "<tr>\n",
       "  <th>Model:</th>                   <td>OLS</td>       <th>  Adj. R-squared:    </th> <td>   0.415</td>\n",
       "</tr>\n",
       "<tr>\n",
       "  <th>Method:</th>             <td>Least Squares</td>  <th>  F-statistic:       </th> <td>   10.93</td>\n",
       "</tr>\n",
       "<tr>\n",
       "  <th>Date:</th>             <td>Mon, 30 May 2022</td> <th>  Prob (F-statistic):</th>  <td>0.00568</td>\n",
       "</tr>\n",
       "<tr>\n",
       "  <th>Time:</th>                 <td>20:59:29</td>     <th>  Log-Likelihood:    </th> <td>  14.553</td>\n",
       "</tr>\n",
       "<tr>\n",
       "  <th>No. Observations:</th>      <td>    15</td>      <th>  AIC:               </th> <td>  -25.11</td>\n",
       "</tr>\n",
       "<tr>\n",
       "  <th>Df Residuals:</th>          <td>    13</td>      <th>  BIC:               </th> <td>  -23.69</td>\n",
       "</tr>\n",
       "<tr>\n",
       "  <th>Df Model:</th>              <td>     1</td>      <th>                     </th>     <td> </td>   \n",
       "</tr>\n",
       "<tr>\n",
       "  <th>Covariance Type:</th>      <td>nonrobust</td>    <th>                     </th>     <td> </td>   \n",
       "</tr>\n",
       "</table>\n",
       "<table class=\"simpletable\">\n",
       "<tr>\n",
       "      <td></td>         <th>coef</th>     <th>std err</th>      <th>t</th>      <th>P>|t|</th>  <th>[0.025</th>    <th>0.975]</th>  \n",
       "</tr>\n",
       "<tr>\n",
       "  <th>Intercept</th> <td>    0.9040</td> <td>    0.067</td> <td>   13.434</td> <td> 0.000</td> <td>    0.759</td> <td>    1.049</td>\n",
       "</tr>\n",
       "<tr>\n",
       "  <th>group</th>     <td>   -0.1030</td> <td>    0.031</td> <td>   -3.306</td> <td> 0.006</td> <td>   -0.170</td> <td>   -0.036</td>\n",
       "</tr>\n",
       "</table>\n",
       "<table class=\"simpletable\">\n",
       "<tr>\n",
       "  <th>Omnibus:</th>       <td> 1.504</td> <th>  Durbin-Watson:     </th> <td>   1.809</td>\n",
       "</tr>\n",
       "<tr>\n",
       "  <th>Prob(Omnibus):</th> <td> 0.471</td> <th>  Jarque-Bera (JB):  </th> <td>   0.884</td>\n",
       "</tr>\n",
       "<tr>\n",
       "  <th>Skew:</th>          <td> 0.176</td> <th>  Prob(JB):          </th> <td>   0.643</td>\n",
       "</tr>\n",
       "<tr>\n",
       "  <th>Kurtosis:</th>      <td> 1.864</td> <th>  Cond. No.          </th> <td>    6.79</td>\n",
       "</tr>\n",
       "</table><br/><br/>Notes:<br/>[1] Standard Errors assume that the covariance matrix of the errors is correctly specified."
      ],
      "text/plain": [
       "<class 'statsmodels.iolib.summary.Summary'>\n",
       "\"\"\"\n",
       "                            OLS Regression Results                            \n",
       "==============================================================================\n",
       "Dep. Variable:                      x   R-squared:                       0.457\n",
       "Model:                            OLS   Adj. R-squared:                  0.415\n",
       "Method:                 Least Squares   F-statistic:                     10.93\n",
       "Date:                Mon, 30 May 2022   Prob (F-statistic):            0.00568\n",
       "Time:                        20:59:29   Log-Likelihood:                 14.553\n",
       "No. Observations:                  15   AIC:                            -25.11\n",
       "Df Residuals:                      13   BIC:                            -23.69\n",
       "Df Model:                           1                                         \n",
       "Covariance Type:            nonrobust                                         \n",
       "==============================================================================\n",
       "                 coef    std err          t      P>|t|      [0.025      0.975]\n",
       "------------------------------------------------------------------------------\n",
       "Intercept      0.9040      0.067     13.434      0.000       0.759       1.049\n",
       "group         -0.1030      0.031     -3.306      0.006      -0.170      -0.036\n",
       "==============================================================================\n",
       "Omnibus:                        1.504   Durbin-Watson:                   1.809\n",
       "Prob(Omnibus):                  0.471   Jarque-Bera (JB):                0.884\n",
       "Skew:                           0.176   Prob(JB):                        0.643\n",
       "Kurtosis:                       1.864   Cond. No.                         6.79\n",
       "==============================================================================\n",
       "\n",
       "Notes:\n",
       "[1] Standard Errors assume that the covariance matrix of the errors is correctly specified.\n",
       "\"\"\""
      ]
     },
     "execution_count": 22,
     "metadata": {},
     "output_type": "execute_result"
    }
   ],
   "source": [
    "wrongFit = ols('x~group', data=Data).fit()\n",
    "wrongFit.summary()"
   ]
  },
  {
   "cell_type": "markdown",
   "id": "e442ac90",
   "metadata": {},
   "source": [
    "### 2-2. 분산분석표 생성\n",
    "생성된 ols객체에 anova_lm()함수를 적용\n",
    "\n",
    "> from statsmodels.stats.anova import anova_lm(ols객체)"
   ]
  },
  {
   "cell_type": "code",
   "execution_count": 23,
   "id": "ff169767",
   "metadata": {},
   "outputs": [],
   "source": [
    "from statsmodels.stats.anova import anova_lm"
   ]
  },
  {
   "cell_type": "code",
   "execution_count": 24,
   "id": "6e5bb0c8",
   "metadata": {},
   "outputs": [
    {
     "data": {
      "text/html": [
       "<div>\n",
       "<style scoped>\n",
       "    .dataframe tbody tr th:only-of-type {\n",
       "        vertical-align: middle;\n",
       "    }\n",
       "\n",
       "    .dataframe tbody tr th {\n",
       "        vertical-align: top;\n",
       "    }\n",
       "\n",
       "    .dataframe thead th {\n",
       "        text-align: right;\n",
       "    }\n",
       "</style>\n",
       "<table border=\"1\" class=\"dataframe\">\n",
       "  <thead>\n",
       "    <tr style=\"text-align: right;\">\n",
       "      <th></th>\n",
       "      <th>df</th>\n",
       "      <th>sum_sq</th>\n",
       "      <th>mean_sq</th>\n",
       "      <th>F</th>\n",
       "      <th>PR(&gt;F)</th>\n",
       "    </tr>\n",
       "  </thead>\n",
       "  <tbody>\n",
       "    <tr>\n",
       "      <th>C(group)</th>\n",
       "      <td>2.0</td>\n",
       "      <td>0.10684</td>\n",
       "      <td>0.05342</td>\n",
       "      <td>5.111962</td>\n",
       "      <td>0.024784</td>\n",
       "    </tr>\n",
       "    <tr>\n",
       "      <th>Residual</th>\n",
       "      <td>12.0</td>\n",
       "      <td>0.12540</td>\n",
       "      <td>0.01045</td>\n",
       "      <td>NaN</td>\n",
       "      <td>NaN</td>\n",
       "    </tr>\n",
       "  </tbody>\n",
       "</table>\n",
       "</div>"
      ],
      "text/plain": [
       "            df   sum_sq  mean_sq         F    PR(>F)\n",
       "C(group)   2.0  0.10684  0.05342  5.111962  0.024784\n",
       "Residual  12.0  0.12540  0.01045       NaN       NaN"
      ]
     },
     "execution_count": 24,
     "metadata": {},
     "output_type": "execute_result"
    }
   ],
   "source": [
    "table = anova_lm(lmFit)\n",
    "table"
   ]
  },
  {
   "cell_type": "markdown",
   "id": "eaf3a346",
   "metadata": {},
   "source": [
    "그룹의 요인이 3개이므로 자유도(df)가 3으로 나오고, 제곱합(sum_sq)이 0.10684여서 평균제곱합(mean_sq)가 0.05342로 나오는 것을 알 수 있다.  \n",
    "검정통계량(F)의 값은 5.11962이며, p값은 0.024784로 f_oneway()함수를 사용했을 때와 동일한 값을 얻었음을 확인할 수 있다.  "
   ]
  },
  {
   "cell_type": "markdown",
   "id": "d3b8fb27",
   "metadata": {},
   "source": [
    "### 2-3. 사후분석: 본페로니 방법\n",
    "statmodels.sandbox.statsmulticomp모듈의 MultiComparison()함수 및 allpairtest()함수를 이용\n",
    "\n",
    "> from statsmodels.sandbox.stats.multicomp import MultiComparison\n",
    "\n",
    "> 객체명1 = MultiComparison(반응변수, 인자)  \n",
    "\n",
    "> from scipy.stats import ttest_ind\n",
    "\n",
    "> 객체명2 = 객체명1.allpairtest(ttest_ind, method='bonf')\n",
    "\n",
    "> print(객체명2[0])\n"
   ]
  },
  {
   "cell_type": "code",
   "execution_count": 25,
   "id": "3e89021f",
   "metadata": {},
   "outputs": [],
   "source": [
    "from statsmodels.sandbox.stats.multicomp import MultiComparison"
   ]
  },
  {
   "cell_type": "code",
   "execution_count": 26,
   "id": "422851b8",
   "metadata": {},
   "outputs": [],
   "source": [
    "comp = MultiComparison(Data.x, Data.group)"
   ]
  },
  {
   "cell_type": "code",
   "execution_count": 27,
   "id": "45e203ac",
   "metadata": {},
   "outputs": [],
   "source": [
    "from scipy.stats import ttest_ind"
   ]
  },
  {
   "cell_type": "code",
   "execution_count": 28,
   "id": "0d0ef5a3",
   "metadata": {},
   "outputs": [
    {
     "data": {
      "text/plain": [
       "(<class 'statsmodels.iolib.table.SimpleTable'>,\n",
       " (array([[1.42009389, 0.19335562],\n",
       "         [3.0254885 , 0.01642174],\n",
       "         [1.85099463, 0.10132186]]),\n",
       "  array([False,  True, False]),\n",
       "  array([0.58006686, 0.04926523, 0.30396558]),\n",
       "  0.016952427508441503,\n",
       "  0.016666666666666666),\n",
       " array([(1, 2, 1.4201, 0.1934, 0.5801, False),\n",
       "        (1, 3, 3.0255, 0.0164, 0.0493,  True),\n",
       "        (2, 3, 1.851 , 0.1013, 0.304 , False)],\n",
       "       dtype=[('group1', 'O'), ('group2', 'O'), ('stat', '<f8'), ('pval', '<f8'), ('pval_corr', '<f8'), ('reject', '?')]))"
      ]
     },
     "execution_count": 28,
     "metadata": {},
     "output_type": "execute_result"
    }
   ],
   "source": [
    "result = comp.allpairtest(ttest_ind, method='bonf')\n",
    "result"
   ]
  },
  {
   "cell_type": "code",
   "execution_count": 29,
   "id": "aaeb9d2f",
   "metadata": {},
   "outputs": [
    {
     "data": {
      "text/html": [
       "<table class=\"simpletable\">\n",
       "<caption>Test Multiple Comparison ttest_ind \n",
       "FWER=0.05 method=bonf\n",
       "alphacSidak=0.02, alphacBonf=0.017</caption>\n",
       "<tr>\n",
       "  <th>group1</th> <th>group2</th>  <th>stat</th>   <th>pval</th>  <th>pval_corr</th> <th>reject</th>\n",
       "</tr>\n",
       "<tr>\n",
       "     <td>1</td>      <td>2</td>   <td>1.4201</td> <td>0.1934</td>  <td>0.5801</td>    <td>False</td>\n",
       "</tr>\n",
       "<tr>\n",
       "     <td>1</td>      <td>3</td>   <td>3.0255</td> <td>0.0164</td>  <td>0.0493</td>    <td>True</td> \n",
       "</tr>\n",
       "<tr>\n",
       "     <td>2</td>      <td>3</td>    <td>1.851</td> <td>0.1013</td>   <td>0.304</td>    <td>False</td>\n",
       "</tr>\n",
       "</table>"
      ],
      "text/plain": [
       "<class 'statsmodels.iolib.table.SimpleTable'>"
      ]
     },
     "execution_count": 29,
     "metadata": {},
     "output_type": "execute_result"
    }
   ],
   "source": [
    "result[0]"
   ]
  },
  {
   "cell_type": "markdown",
   "id": "569419e2",
   "metadata": {},
   "source": [
    "결과를 확인하면 그룹1 - 그룹2, 그룹2 - 그룹3은 p-value > 0.05로 첨가물 종류에 따른 빵의 밀도 차이가 없다는 것을 알 수 있다.   \n",
    "하지만 그룹1 - 그룹3은 p-value < 0.05로 귀무가설을 기각하고 대립가설(첨가물 종류에 따른 빵의 밀도차이가 있다.)을 채택한다.  \n",
    "\n",
    "따라서 그룹1-그룹3으로 인해 3종류의 첨가물에 따른 빵의 밀도차이가 없다는 귀무가설이 기각되었음을 알 수 있다.  "
   ]
  },
  {
   "cell_type": "markdown",
   "id": "db078e66",
   "metadata": {},
   "source": [
    "### 2-4 사후분석: Tukey HSD 방법\n",
    "statsmodels.stats.multicomp 모듈의 pairwise_tukeyhsd()함수 이용\n",
    "\n",
    "> from statsmodels.stats.multicomp import pairwise_tukeyhsd\n",
    "\n",
    "> 객체명1 = pairwise_tukeyhsd(반응변수, 인자, alpha = 유의수준)\n",
    "\n",
    "> print(객체명1)\n",
    "\n",
    "> print(객체명1.plot_simultaneous())"
   ]
  },
  {
   "cell_type": "code",
   "execution_count": 30,
   "id": "9e5ab5af",
   "metadata": {},
   "outputs": [],
   "source": [
    "from statsmodels.stats.multicomp import pairwise_tukeyhsd"
   ]
  },
  {
   "cell_type": "code",
   "execution_count": 31,
   "id": "ce85f85a",
   "metadata": {},
   "outputs": [
    {
     "data": {
      "text/plain": [
       "<statsmodels.sandbox.stats.multicomp.TukeyHSDResults at 0x7f7e708bd790>"
      ]
     },
     "execution_count": 31,
     "metadata": {},
     "output_type": "execute_result"
    }
   ],
   "source": [
    "posthoc1 = pairwise_tukeyhsd(Data.x, Data.group, alpha=0.05)\n",
    "posthoc1"
   ]
  },
  {
   "cell_type": "code",
   "execution_count": 32,
   "id": "e621f474",
   "metadata": {},
   "outputs": [
    {
     "name": "stdout",
     "output_type": "stream",
     "text": [
      "Multiple Comparison of Means - Tukey HSD, FWER=0.05 \n",
      "====================================================\n",
      "group1 group2 meandiff p-adj   lower   upper  reject\n",
      "----------------------------------------------------\n",
      "     1      2   -0.088 0.3907 -0.2605  0.0845  False\n",
      "     1      3   -0.206 0.0199 -0.3785 -0.0335   True\n",
      "     2      3   -0.118 0.2032 -0.2905  0.0545  False\n",
      "----------------------------------------------------\n"
     ]
    }
   ],
   "source": [
    "print(posthoc1)"
   ]
  },
  {
   "cell_type": "markdown",
   "id": "4a1ac428",
   "metadata": {},
   "source": [
    "본페로니 방법으로 사후검정한 결과와 동일하게 그룹1-그룹2, 그룹2-그룹3의 평균차이는 존재하지 않으나, 그룹1-그룹3의 평균차이는 존재하는 것으로 확인됨.  \n"
   ]
  },
  {
   "cell_type": "code",
   "execution_count": 33,
   "id": "e4aee963",
   "metadata": {},
   "outputs": [
    {
     "name": "stdout",
     "output_type": "stream",
     "text": [
      "Figure(720x432)\n"
     ]
    },
    {
     "data": {
      "image/png": "[encoded data removed]",
      "text/plain": [
       "<Figure size 720x432 with 1 Axes>"
      ]
     },
     "metadata": {
      "needs_background": "light"
     },
     "output_type": "display_data"
    }
   ],
   "source": [
    "print(posthoc1.plot_simultaneous())"
   ]
  },
  {
   "cell_type": "markdown",
   "id": "1ceaa922",
   "metadata": {},
   "source": [
    "그룹1과 그룹3은 겹치는 X축 구간이 없음을 알 수 있다. 즉 두 그룹사이에 차이가 있음을 확인할 수 있다.  "
   ]
  },
  {
   "cell_type": "markdown",
   "id": "6b71058b",
   "metadata": {},
   "source": [
    "## 실습\n",
    "\n",
    "### [과제7-1] f_oneway()함수를 이용한 가설검정\n",
    "* 연구가설: 붓꽃 종류(species)에 따라 꽃받침 너비(sepal_width)의 평균값에 차이가 있다. \n",
    "    1. 데이터 구성 및 결측값 확인\n",
    "    2. 데이터 정규성 및 등분산 확인\n",
    "    3. 평균과 표본편차 확인\n",
    "    4. f_oneway()함수를 이용한 가설검정"
   ]
  },
  {
   "cell_type": "markdown",
   "id": "e32bf6e5",
   "metadata": {},
   "source": [
    "#### 데이터 구성 및 결측값 확인"
   ]
  },
  {
   "cell_type": "code",
   "execution_count": 34,
   "id": "bc25ba2a",
   "metadata": {},
   "outputs": [],
   "source": [
    "import seaborn as sns"
   ]
  },
  {
   "cell_type": "code",
   "execution_count": 35,
   "id": "cf48ea64",
   "metadata": {},
   "outputs": [
    {
     "data": {
      "text/html": [
       "<div>\n",
       "<style scoped>\n",
       "    .dataframe tbody tr th:only-of-type {\n",
       "        vertical-align: middle;\n",
       "    }\n",
       "\n",
       "    .dataframe tbody tr th {\n",
       "        vertical-align: top;\n",
       "    }\n",
       "\n",
       "    .dataframe thead th {\n",
       "        text-align: right;\n",
       "    }\n",
       "</style>\n",
       "<table border=\"1\" class=\"dataframe\">\n",
       "  <thead>\n",
       "    <tr style=\"text-align: right;\">\n",
       "      <th></th>\n",
       "      <th>sepal_length</th>\n",
       "      <th>sepal_width</th>\n",
       "      <th>petal_length</th>\n",
       "      <th>petal_width</th>\n",
       "      <th>species</th>\n",
       "    </tr>\n",
       "  </thead>\n",
       "  <tbody>\n",
       "    <tr>\n",
       "      <th>0</th>\n",
       "      <td>5.1</td>\n",
       "      <td>3.5</td>\n",
       "      <td>1.4</td>\n",
       "      <td>0.2</td>\n",
       "      <td>setosa</td>\n",
       "    </tr>\n",
       "    <tr>\n",
       "      <th>1</th>\n",
       "      <td>4.9</td>\n",
       "      <td>3.0</td>\n",
       "      <td>1.4</td>\n",
       "      <td>0.2</td>\n",
       "      <td>setosa</td>\n",
       "    </tr>\n",
       "    <tr>\n",
       "      <th>2</th>\n",
       "      <td>4.7</td>\n",
       "      <td>3.2</td>\n",
       "      <td>1.3</td>\n",
       "      <td>0.2</td>\n",
       "      <td>setosa</td>\n",
       "    </tr>\n",
       "    <tr>\n",
       "      <th>3</th>\n",
       "      <td>4.6</td>\n",
       "      <td>3.1</td>\n",
       "      <td>1.5</td>\n",
       "      <td>0.2</td>\n",
       "      <td>setosa</td>\n",
       "    </tr>\n",
       "    <tr>\n",
       "      <th>4</th>\n",
       "      <td>5.0</td>\n",
       "      <td>3.6</td>\n",
       "      <td>1.4</td>\n",
       "      <td>0.2</td>\n",
       "      <td>setosa</td>\n",
       "    </tr>\n",
       "  </tbody>\n",
       "</table>\n",
       "</div>"
      ],
      "text/plain": [
       "   sepal_length  sepal_width  petal_length  petal_width species\n",
       "0           5.1          3.5           1.4          0.2  setosa\n",
       "1           4.9          3.0           1.4          0.2  setosa\n",
       "2           4.7          3.2           1.3          0.2  setosa\n",
       "3           4.6          3.1           1.5          0.2  setosa\n",
       "4           5.0          3.6           1.4          0.2  setosa"
      ]
     },
     "execution_count": 35,
     "metadata": {},
     "output_type": "execute_result"
    }
   ],
   "source": [
    "df = sns.load_dataset('iris')\n",
    "df.head()"
   ]
  },
  {
   "cell_type": "code",
   "execution_count": 36,
   "id": "fd81af35",
   "metadata": {},
   "outputs": [
    {
     "name": "stdout",
     "output_type": "stream",
     "text": [
      "<class 'pandas.core.frame.DataFrame'>\n",
      "RangeIndex: 150 entries, 0 to 149\n",
      "Data columns (total 5 columns):\n",
      " #   Column        Non-Null Count  Dtype  \n",
      "---  ------        --------------  -----  \n",
      " 0   sepal_length  150 non-null    float64\n",
      " 1   sepal_width   150 non-null    float64\n",
      " 2   petal_length  150 non-null    float64\n",
      " 3   petal_width   150 non-null    float64\n",
      " 4   species       150 non-null    object \n",
      "dtypes: float64(4), object(1)\n",
      "memory usage: 6.0+ KB\n"
     ]
    }
   ],
   "source": [
    "df.info()"
   ]
  },
  {
   "cell_type": "markdown",
   "id": "a0d45781",
   "metadata": {},
   "source": [
    "결측값이 없음을 확인\n",
    "\n",
    "#### 데이터 정규성 및 등분산 확인\n",
    "\n",
    "종별로 3개의 데이터셋을 만들어 모평균을 비교"
   ]
  },
  {
   "cell_type": "code",
   "execution_count": 37,
   "id": "ec684aa9",
   "metadata": {},
   "outputs": [
    {
     "data": {
      "text/plain": [
       "0    3.5\n",
       "1    3.0\n",
       "2    3.2\n",
       "3    3.1\n",
       "4    3.6\n",
       "Name: sepal_width, dtype: float64"
      ]
     },
     "execution_count": 37,
     "metadata": {},
     "output_type": "execute_result"
    }
   ],
   "source": [
    "Sepcies_Set = df.loc[df.species == 'setosa', 'sepal_width']\n",
    "Sepcies_Set.head()"
   ]
  },
  {
   "cell_type": "code",
   "execution_count": 38,
   "id": "a8360932",
   "metadata": {},
   "outputs": [
    {
     "data": {
      "text/plain": [
       "50    3.2\n",
       "51    3.2\n",
       "52    3.1\n",
       "53    2.3\n",
       "54    2.8\n",
       "Name: sepal_width, dtype: float64"
      ]
     },
     "execution_count": 38,
     "metadata": {},
     "output_type": "execute_result"
    }
   ],
   "source": [
    "Sepcies_Ver = df.loc[df.species == 'versicolor', 'sepal_width']\n",
    "Sepcies_Ver.head()"
   ]
  },
  {
   "cell_type": "code",
   "execution_count": 39,
   "id": "13156ba9",
   "metadata": {},
   "outputs": [
    {
     "data": {
      "text/plain": [
       "100    3.3\n",
       "101    2.7\n",
       "102    3.0\n",
       "103    2.9\n",
       "104    3.0\n",
       "Name: sepal_width, dtype: float64"
      ]
     },
     "execution_count": 39,
     "metadata": {},
     "output_type": "execute_result"
    }
   ],
   "source": [
    "Sepcies_Vir = df.loc[df.species == 'virginica', 'sepal_width']\n",
    "Sepcies_Vir.head()"
   ]
  },
  {
   "cell_type": "code",
   "execution_count": 40,
   "id": "7098283e",
   "metadata": {},
   "outputs": [
    {
     "data": {
      "text/plain": [
       "ShapiroResult(statistic=0.97171950340271, pvalue=0.2715264856815338)"
      ]
     },
     "execution_count": 40,
     "metadata": {},
     "output_type": "execute_result"
    }
   ],
   "source": [
    "shapiro(Sepcies_Set)"
   ]
  },
  {
   "cell_type": "code",
   "execution_count": 41,
   "id": "7e5611ae",
   "metadata": {},
   "outputs": [
    {
     "data": {
      "text/plain": [
       "ShapiroResult(statistic=0.9741330742835999, pvalue=0.33798879384994507)"
      ]
     },
     "execution_count": 41,
     "metadata": {},
     "output_type": "execute_result"
    }
   ],
   "source": [
    "shapiro(Sepcies_Ver)"
   ]
  },
  {
   "cell_type": "code",
   "execution_count": 42,
   "id": "0c579c77",
   "metadata": {},
   "outputs": [
    {
     "data": {
      "text/plain": [
       "ShapiroResult(statistic=0.9673910140991211, pvalue=0.1809043288230896)"
      ]
     },
     "execution_count": 42,
     "metadata": {},
     "output_type": "execute_result"
    }
   ],
   "source": [
    "shapiro(Sepcies_Vir)"
   ]
  },
  {
   "cell_type": "markdown",
   "id": "a70176a3",
   "metadata": {},
   "source": [
    "shapiro 검정결과 모두 p-value > 0.05로 정규성을 가진다는 귀무가설을 채택.   \n",
    "즉 모든 데이터셋은 정규성을 가지고 있음.  \n"
   ]
  },
  {
   "cell_type": "code",
   "execution_count": 43,
   "id": "3c0ba96d",
   "metadata": {},
   "outputs": [
    {
     "data": {
      "text/plain": [
       "LeveneResult(statistic=0.5902115655853319, pvalue=0.5555178984739075)"
      ]
     },
     "execution_count": 43,
     "metadata": {},
     "output_type": "execute_result"
    }
   ],
   "source": [
    "levene(Sepcies_Set, Sepcies_Ver, Sepcies_Vir)"
   ]
  },
  {
   "cell_type": "markdown",
   "id": "0135bf15",
   "metadata": {},
   "source": [
    "levene's test 결과 p-value > 0.05로 분산이 동질성을 가진다는 귀무가설을 채택.   \n",
    "즉 모든 데이터셋은 등분산임.  "
   ]
  },
  {
   "cell_type": "code",
   "execution_count": 44,
   "id": "09188cbe",
   "metadata": {},
   "outputs": [
    {
     "data": {
      "text/plain": [
       "BartlettResult(statistic=2.0910752014391774, pvalue=0.35150280041581317)"
      ]
     },
     "execution_count": 44,
     "metadata": {},
     "output_type": "execute_result"
    }
   ],
   "source": [
    "bartlett(Sepcies_Set, Sepcies_Ver, Sepcies_Vir)"
   ]
  },
  {
   "cell_type": "markdown",
   "id": "84238d93",
   "metadata": {},
   "source": [
    "Bartlett'test 결과도 Levene's test 결과와 동일하게 p-value > 0.05로 분산이 동질성을 가진다는 귀무가설을 채택.   \n",
    "즉 모든 데이터셋은 등분산임을 재확인.   "
   ]
  },
  {
   "cell_type": "markdown",
   "id": "c8c2e69a",
   "metadata": {},
   "source": [
    "#### 평균과 표본편차 확인"
   ]
  },
  {
   "cell_type": "code",
   "execution_count": 45,
   "id": "0fb17bff",
   "metadata": {},
   "outputs": [
    {
     "data": {
      "text/plain": [
       "3.428000000000001"
      ]
     },
     "execution_count": 45,
     "metadata": {},
     "output_type": "execute_result"
    }
   ],
   "source": [
    "np.mean(Sepcies_Set)"
   ]
  },
  {
   "cell_type": "code",
   "execution_count": 46,
   "id": "59b6b2f3",
   "metadata": {},
   "outputs": [
    {
     "data": {
      "text/plain": [
       "2.7700000000000005"
      ]
     },
     "execution_count": 46,
     "metadata": {},
     "output_type": "execute_result"
    }
   ],
   "source": [
    "np.mean(Sepcies_Ver)"
   ]
  },
  {
   "cell_type": "code",
   "execution_count": 47,
   "id": "31cb3d5f",
   "metadata": {},
   "outputs": [
    {
     "data": {
      "text/plain": [
       "2.9739999999999998"
      ]
     },
     "execution_count": 47,
     "metadata": {},
     "output_type": "execute_result"
    }
   ],
   "source": [
    "np.mean(Sepcies_Vir)"
   ]
  },
  {
   "cell_type": "code",
   "execution_count": 48,
   "id": "d4ad754f",
   "metadata": {},
   "outputs": [
    {
     "data": {
      "text/plain": [
       "0.3752545802518604"
      ]
     },
     "execution_count": 48,
     "metadata": {},
     "output_type": "execute_result"
    }
   ],
   "source": [
    "np.std(Sepcies_Set)"
   ]
  },
  {
   "cell_type": "code",
   "execution_count": 49,
   "id": "4ebb65a4",
   "metadata": {},
   "outputs": [
    {
     "data": {
      "text/plain": [
       "0.31064449134018135"
      ]
     },
     "execution_count": 49,
     "metadata": {},
     "output_type": "execute_result"
    }
   ],
   "source": [
    "np.std(Sepcies_Ver)"
   ]
  },
  {
   "cell_type": "code",
   "execution_count": 50,
   "id": "5750b63f",
   "metadata": {},
   "outputs": [
    {
     "data": {
      "text/plain": [
       "0.319255383666431"
      ]
     },
     "execution_count": 50,
     "metadata": {},
     "output_type": "execute_result"
    }
   ],
   "source": [
    "np.std(Sepcies_Vir)"
   ]
  },
  {
   "cell_type": "markdown",
   "id": "12716b65",
   "metadata": {},
   "source": [
    "#### f_oneway()함수를 이용한 가설검정"
   ]
  },
  {
   "cell_type": "code",
   "execution_count": 51,
   "id": "c1dcdad3",
   "metadata": {},
   "outputs": [
    {
     "data": {
      "text/plain": [
       "F_onewayResult(statistic=49.160040089612075, pvalue=4.492017133309115e-17)"
      ]
     },
     "execution_count": 51,
     "metadata": {},
     "output_type": "execute_result"
    }
   ],
   "source": [
    "result = f_oneway(Sepcies_Set, Sepcies_Ver, Sepcies_Vir)\n",
    "result"
   ]
  },
  {
   "cell_type": "markdown",
   "id": "d7e8f6ae",
   "metadata": {},
   "source": [
    "One-way ANOVA 결과 p-value < 0.05로 귀무가설을 기각하고 대립가설(H1: 종별로 꽃받침 너비 평균에 차이가 있다.)를 채택한다.   \n"
   ]
  },
  {
   "cell_type": "markdown",
   "id": "9d7b0fb8",
   "metadata": {},
   "source": [
    "### [과제7-2] statsmodel 모듈을 활용한 가설검정 및 사후 분석\n",
    "\n",
    "1. 회귀모형적합\n",
    "2. 분산분석표 작성\n",
    "3. 사후분석: Bonferoni 방법 or TukeyHSD 방법\n",
    "4. 그래프를 통한 사후 분석 결과 확인"
   ]
  },
  {
   "cell_type": "markdown",
   "id": "38811cf0",
   "metadata": {},
   "source": [
    "#### 회귀모형적합"
   ]
  },
  {
   "cell_type": "code",
   "execution_count": 52,
   "id": "053531e0",
   "metadata": {},
   "outputs": [
    {
     "data": {
      "text/plain": [
       "<statsmodels.regression.linear_model.RegressionResultsWrapper at 0x7f7e939ec310>"
      ]
     },
     "execution_count": 52,
     "metadata": {},
     "output_type": "execute_result"
    }
   ],
   "source": [
    "lmFit = ols('sepal_width~C(species)', data=df).fit()\n",
    "lmFit"
   ]
  },
  {
   "cell_type": "code",
   "execution_count": 53,
   "id": "67e9e734",
   "metadata": {},
   "outputs": [
    {
     "data": {
      "text/html": [
       "<table class=\"simpletable\">\n",
       "<caption>OLS Regression Results</caption>\n",
       "<tr>\n",
       "  <th>Dep. Variable:</th>       <td>sepal_width</td>   <th>  R-squared:         </th> <td>   0.401</td>\n",
       "</tr>\n",
       "<tr>\n",
       "  <th>Model:</th>                   <td>OLS</td>       <th>  Adj. R-squared:    </th> <td>   0.393</td>\n",
       "</tr>\n",
       "<tr>\n",
       "  <th>Method:</th>             <td>Least Squares</td>  <th>  F-statistic:       </th> <td>   49.16</td>\n",
       "</tr>\n",
       "<tr>\n",
       "  <th>Date:</th>             <td>Mon, 30 May 2022</td> <th>  Prob (F-statistic):</th> <td>4.49e-17</td>\n",
       "</tr>\n",
       "<tr>\n",
       "  <th>Time:</th>                 <td>20:59:30</td>     <th>  Log-Likelihood:    </th> <td> -49.366</td>\n",
       "</tr>\n",
       "<tr>\n",
       "  <th>No. Observations:</th>      <td>   150</td>      <th>  AIC:               </th> <td>   104.7</td>\n",
       "</tr>\n",
       "<tr>\n",
       "  <th>Df Residuals:</th>          <td>   147</td>      <th>  BIC:               </th> <td>   113.8</td>\n",
       "</tr>\n",
       "<tr>\n",
       "  <th>Df Model:</th>              <td>     2</td>      <th>                     </th>     <td> </td>   \n",
       "</tr>\n",
       "<tr>\n",
       "  <th>Covariance Type:</th>      <td>nonrobust</td>    <th>                     </th>     <td> </td>   \n",
       "</tr>\n",
       "</table>\n",
       "<table class=\"simpletable\">\n",
       "<tr>\n",
       "              <td></td>                <th>coef</th>     <th>std err</th>      <th>t</th>      <th>P>|t|</th>  <th>[0.025</th>    <th>0.975]</th>  \n",
       "</tr>\n",
       "<tr>\n",
       "  <th>Intercept</th>                <td>    3.4280</td> <td>    0.048</td> <td>   71.359</td> <td> 0.000</td> <td>    3.333</td> <td>    3.523</td>\n",
       "</tr>\n",
       "<tr>\n",
       "  <th>C(species)[T.versicolor]</th> <td>   -0.6580</td> <td>    0.068</td> <td>   -9.685</td> <td> 0.000</td> <td>   -0.792</td> <td>   -0.524</td>\n",
       "</tr>\n",
       "<tr>\n",
       "  <th>C(species)[T.virginica]</th>  <td>   -0.4540</td> <td>    0.068</td> <td>   -6.683</td> <td> 0.000</td> <td>   -0.588</td> <td>   -0.320</td>\n",
       "</tr>\n",
       "</table>\n",
       "<table class=\"simpletable\">\n",
       "<tr>\n",
       "  <th>Omnibus:</th>       <td> 1.920</td> <th>  Durbin-Watson:     </th> <td>   1.879</td>\n",
       "</tr>\n",
       "<tr>\n",
       "  <th>Prob(Omnibus):</th> <td> 0.383</td> <th>  Jarque-Bera (JB):  </th> <td>   1.632</td>\n",
       "</tr>\n",
       "<tr>\n",
       "  <th>Skew:</th>          <td> 0.027</td> <th>  Prob(JB):          </th> <td>   0.442</td>\n",
       "</tr>\n",
       "<tr>\n",
       "  <th>Kurtosis:</th>      <td> 3.508</td> <th>  Cond. No.          </th> <td>    3.73</td>\n",
       "</tr>\n",
       "</table><br/><br/>Notes:<br/>[1] Standard Errors assume that the covariance matrix of the errors is correctly specified."
      ],
      "text/plain": [
       "<class 'statsmodels.iolib.summary.Summary'>\n",
       "\"\"\"\n",
       "                            OLS Regression Results                            \n",
       "==============================================================================\n",
       "Dep. Variable:            sepal_width   R-squared:                       0.401\n",
       "Model:                            OLS   Adj. R-squared:                  0.393\n",
       "Method:                 Least Squares   F-statistic:                     49.16\n",
       "Date:                Mon, 30 May 2022   Prob (F-statistic):           4.49e-17\n",
       "Time:                        20:59:30   Log-Likelihood:                -49.366\n",
       "No. Observations:                 150   AIC:                             104.7\n",
       "Df Residuals:                     147   BIC:                             113.8\n",
       "Df Model:                           2                                         \n",
       "Covariance Type:            nonrobust                                         \n",
       "============================================================================================\n",
       "                               coef    std err          t      P>|t|      [0.025      0.975]\n",
       "--------------------------------------------------------------------------------------------\n",
       "Intercept                    3.4280      0.048     71.359      0.000       3.333       3.523\n",
       "C(species)[T.versicolor]    -0.6580      0.068     -9.685      0.000      -0.792      -0.524\n",
       "C(species)[T.virginica]     -0.4540      0.068     -6.683      0.000      -0.588      -0.320\n",
       "==============================================================================\n",
       "Omnibus:                        1.920   Durbin-Watson:                   1.879\n",
       "Prob(Omnibus):                  0.383   Jarque-Bera (JB):                1.632\n",
       "Skew:                           0.027   Prob(JB):                        0.442\n",
       "Kurtosis:                       3.508   Cond. No.                         3.73\n",
       "==============================================================================\n",
       "\n",
       "Notes:\n",
       "[1] Standard Errors assume that the covariance matrix of the errors is correctly specified.\n",
       "\"\"\""
      ]
     },
     "execution_count": 53,
     "metadata": {},
     "output_type": "execute_result"
    }
   ],
   "source": [
    "lmFit.summary()"
   ]
  },
  {
   "cell_type": "markdown",
   "id": "02c90be5",
   "metadata": {},
   "source": [
    "#### 분산분석표 작성"
   ]
  },
  {
   "cell_type": "code",
   "execution_count": 54,
   "id": "5de9f4a6",
   "metadata": {},
   "outputs": [
    {
     "data": {
      "text/html": [
       "<div>\n",
       "<style scoped>\n",
       "    .dataframe tbody tr th:only-of-type {\n",
       "        vertical-align: middle;\n",
       "    }\n",
       "\n",
       "    .dataframe tbody tr th {\n",
       "        vertical-align: top;\n",
       "    }\n",
       "\n",
       "    .dataframe thead th {\n",
       "        text-align: right;\n",
       "    }\n",
       "</style>\n",
       "<table border=\"1\" class=\"dataframe\">\n",
       "  <thead>\n",
       "    <tr style=\"text-align: right;\">\n",
       "      <th></th>\n",
       "      <th>df</th>\n",
       "      <th>sum_sq</th>\n",
       "      <th>mean_sq</th>\n",
       "      <th>F</th>\n",
       "      <th>PR(&gt;F)</th>\n",
       "    </tr>\n",
       "  </thead>\n",
       "  <tbody>\n",
       "    <tr>\n",
       "      <th>C(species)</th>\n",
       "      <td>2.0</td>\n",
       "      <td>11.344933</td>\n",
       "      <td>5.672467</td>\n",
       "      <td>49.16004</td>\n",
       "      <td>4.492017e-17</td>\n",
       "    </tr>\n",
       "    <tr>\n",
       "      <th>Residual</th>\n",
       "      <td>147.0</td>\n",
       "      <td>16.962000</td>\n",
       "      <td>0.115388</td>\n",
       "      <td>NaN</td>\n",
       "      <td>NaN</td>\n",
       "    </tr>\n",
       "  </tbody>\n",
       "</table>\n",
       "</div>"
      ],
      "text/plain": [
       "               df     sum_sq   mean_sq         F        PR(>F)\n",
       "C(species)    2.0  11.344933  5.672467  49.16004  4.492017e-17\n",
       "Residual    147.0  16.962000  0.115388       NaN           NaN"
      ]
     },
     "execution_count": 54,
     "metadata": {},
     "output_type": "execute_result"
    }
   ],
   "source": [
    "table = anova_lm(lmFit)\n",
    "table"
   ]
  },
  {
   "cell_type": "markdown",
   "id": "ac227338",
   "metadata": {},
   "source": [
    "검정통계량(F)의 값은 49.16004이며, p값은 4.49e-17로 f_oneway()함수를 사용했을 때와 동일한 값을 얻었음을 확인할 수 있다."
   ]
  },
  {
   "cell_type": "markdown",
   "id": "12f26bfa",
   "metadata": {},
   "source": [
    "#### 사후분석: Bonferoni 방법 or TukeyHSD 방법"
   ]
  },
  {
   "cell_type": "code",
   "execution_count": 55,
   "id": "28de3b16",
   "metadata": {},
   "outputs": [],
   "source": [
    "comp = MultiComparison(df.sepal_width, df.species)"
   ]
  },
  {
   "cell_type": "code",
   "execution_count": 56,
   "id": "7ed4e893",
   "metadata": {},
   "outputs": [
    {
     "data": {
      "text/plain": [
       "(<class 'statsmodels.iolib.table.SimpleTable'>,\n",
       " (array([[ 9.45497585e+00,  1.84525995e-15],\n",
       "         [ 6.45034909e+00,  4.24635538e-09],\n",
       "         [-3.20576075e+00,  1.81910042e-03]]),\n",
       "  array([ True,  True,  True]),\n",
       "  array([5.53577984e-15, 1.27390661e-08, 5.45730127e-03]),\n",
       "  0.016952427508441503,\n",
       "  0.016666666666666666),\n",
       " array([('setosa', 'versicolor',  9.455 , 0.    , 0.    ,  True),\n",
       "        ('setosa', 'virginica',  6.4503, 0.    , 0.    ,  True),\n",
       "        ('versicolor', 'virginica', -3.2058, 0.0018, 0.0055,  True)],\n",
       "       dtype=[('group1', 'O'), ('group2', 'O'), ('stat', '<f8'), ('pval', '<f8'), ('pval_corr', '<f8'), ('reject', '?')]))"
      ]
     },
     "execution_count": 56,
     "metadata": {},
     "output_type": "execute_result"
    }
   ],
   "source": [
    "result = comp.allpairtest(ttest_ind, method='bonf')\n",
    "result"
   ]
  },
  {
   "cell_type": "code",
   "execution_count": 57,
   "id": "ade0225a",
   "metadata": {},
   "outputs": [
    {
     "data": {
      "text/html": [
       "<table class=\"simpletable\">\n",
       "<caption>Test Multiple Comparison ttest_ind \n",
       "FWER=0.05 method=bonf\n",
       "alphacSidak=0.02, alphacBonf=0.017</caption>\n",
       "<tr>\n",
       "    <th>group1</th>     <th>group2</th>    <th>stat</th>    <th>pval</th>  <th>pval_corr</th> <th>reject</th>\n",
       "</tr>\n",
       "<tr>\n",
       "    <td>setosa</td>   <td>versicolor</td>  <td>9.455</td>    <td>0.0</td>     <td>0.0</td>     <td>True</td> \n",
       "</tr>\n",
       "<tr>\n",
       "    <td>setosa</td>    <td>virginica</td> <td>6.4503</td>    <td>0.0</td>     <td>0.0</td>     <td>True</td> \n",
       "</tr>\n",
       "<tr>\n",
       "  <td>versicolor</td>  <td>virginica</td> <td>-3.2058</td> <td>0.0018</td>  <td>0.0055</td>    <td>True</td> \n",
       "</tr>\n",
       "</table>"
      ],
      "text/plain": [
       "<class 'statsmodels.iolib.table.SimpleTable'>"
      ]
     },
     "execution_count": 57,
     "metadata": {},
     "output_type": "execute_result"
    }
   ],
   "source": [
    "result[0]"
   ]
  },
  {
   "cell_type": "markdown",
   "id": "6be22b16",
   "metadata": {},
   "source": [
    "Bonferoni 방법으로 확인한 결과 모든 그룹간 꽃받침 너비의 평균은 차이를 가지는 것으로 확인되었다.  \n"
   ]
  },
  {
   "cell_type": "code",
   "execution_count": 58,
   "id": "f3b24af3",
   "metadata": {},
   "outputs": [
    {
     "data": {
      "text/plain": [
       "<statsmodels.sandbox.stats.multicomp.TukeyHSDResults at 0x7f7e93a05bb0>"
      ]
     },
     "execution_count": 58,
     "metadata": {},
     "output_type": "execute_result"
    }
   ],
   "source": [
    "posthoc2 = pairwise_tukeyhsd(df.sepal_width, df.species, alpha=0.05)\n",
    "posthoc2"
   ]
  },
  {
   "cell_type": "code",
   "execution_count": 59,
   "id": "acdf4aba",
   "metadata": {},
   "outputs": [
    {
     "name": "stdout",
     "output_type": "stream",
     "text": [
      "    Multiple Comparison of Means - Tukey HSD, FWER=0.05     \n",
      "============================================================\n",
      "  group1     group2   meandiff p-adj   lower   upper  reject\n",
      "------------------------------------------------------------\n",
      "    setosa versicolor   -0.658    0.0 -0.8189 -0.4971   True\n",
      "    setosa  virginica   -0.454    0.0 -0.6149 -0.2931   True\n",
      "versicolor  virginica    0.204 0.0088  0.0431  0.3649   True\n",
      "------------------------------------------------------------\n"
     ]
    }
   ],
   "source": [
    "print(posthoc2)"
   ]
  },
  {
   "cell_type": "markdown",
   "id": "8b9ad540",
   "metadata": {},
   "source": [
    "TukeyHSD 방법으로 확인한 결과도 Bonferoni 방법으로 확인한 결과와 동일하게 모든 그룹간 p-value가 0.05 미만으로 귀무가설을 기각하여 모평균간 차이가 있다는 대립가설을 채택하게 된다.   "
   ]
  },
  {
   "cell_type": "markdown",
   "id": "3f0a002f",
   "metadata": {},
   "source": [
    "#### 그래프를 통한 사후 분석 결과 확인"
   ]
  },
  {
   "cell_type": "code",
   "execution_count": 60,
   "id": "e13fb6ef",
   "metadata": {},
   "outputs": [
    {
     "name": "stdout",
     "output_type": "stream",
     "text": [
      "Figure(720x432)\n"
     ]
    },
    {
     "data": {
      "image/png": "[encoded data removed]",
      "text/plain": [
       "<Figure size 720x432 with 1 Axes>"
      ]
     },
     "metadata": {
      "needs_background": "light"
     },
     "output_type": "display_data"
    }
   ],
   "source": [
    "print(posthoc2.plot_simultaneous())"
   ]
  },
  {
   "cell_type": "markdown",
   "id": "38a2cfda",
   "metadata": {},
   "source": [
    "모든 그룹이 겹치는 sepal_width(X축)이 없기 때문에 종별 꽃받침 너비의 평균은 차이가 있다는 결론을 재확인할 수 있다.  "
   ]
  }
 ],
 "metadata": {
  "kernelspec": {
   "display_name": "Python 3 (ipykernel)",
   "language": "python",
   "name": "python3"
  },
  "language_info": {
   "codemirror_mode": {
    "name": "ipython",
    "version": 3
   },
   "file_extension": ".py",
   "mimetype": "text/x-python",
   "name": "python",
   "nbconvert_exporter": "python",
   "pygments_lexer": "ipython3",
   "version": "3.9.12"
  }
 },
 "nbformat": 4,
 "nbformat_minor": 5
}
